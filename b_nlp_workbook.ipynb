{
 "cells": [
  {
   "cell_type": "markdown",
   "metadata": {},
   "source": [
    "# Natural Language Processing Project\n",
    "\n",
    ">Goals:\n",
    "- Build a dataset of 100 Github repositories' readme text\n",
    "- Explore the text of the readme's and find connections to programming language\n",
    "- Build a classification ML model that predicts the programming language used in a repo based on readme content. "
   ]
  },
  {
   "cell_type": "code",
   "execution_count": 68,
   "metadata": {},
   "outputs": [],
   "source": [
    "import numpy as np\n",
    "import pandas as pd\n",
    "import warnings\n",
    "warnings.filterwarnings(\"ignore\")\n",
    "\n",
    "# acquire\n",
    "from requests import get\n",
    "from bs4 import BeautifulSoup\n",
    "from time import sleep\n",
    "import os\n",
    "\n",
    "# prepare\n",
    "import unicodedata\n",
    "import re\n",
    "import json\n",
    "import nltk\n",
    "from nltk.tokenize.toktok import ToktokTokenizer\n",
    "from nltk.corpus import stopwords\n",
    "\n",
    "# explore\n",
    "from sklearn.model_selection import train_test_split\n",
    "%matplotlib inline\n",
    "import matplotlib.pyplot as plt\n",
    "import seaborn as sns\n",
    "from wordcloud import WordCloud\n",
    "\n",
    "# model\n",
    "from pprint import pprint\n",
    "from sklearn.feature_extraction.text import CountVectorizer\n",
    "from sklearn.feature_extraction.text import TfidfVectorizer\n",
    "from sklearn.linear_model import LogisticRegression\n",
    "from sklearn.metrics import confusion_matrix, classification_report"
   ]
  },
  {
   "cell_type": "markdown",
   "metadata": {},
   "source": [
    "---\n",
    "## Acquire"
   ]
  },
  {
   "cell_type": "code",
   "execution_count": 2,
   "metadata": {},
   "outputs": [],
   "source": [
    "def make_soup(url):\n",
    "    '''\n",
    "    This helper function takes in a url and requests and parses HTML\n",
    "    returning a soup object.\n",
    "    '''\n",
    "    headers = {'User-Agent': 'Sir Galahad'} \n",
    "    response = get(url, headers=headers)    \n",
    "    soup = BeautifulSoup(response.text, 'html.parser')\n",
    "    return soup"
   ]
  },
  {
   "cell_type": "code",
   "execution_count": 3,
   "metadata": {},
   "outputs": [],
   "source": [
    "def get_language_urls():\n",
    "    '''\n",
    "    This function scrapes all of the Codeup blog urls from\n",
    "    the main Codeup blog page and returns a list of urls.\n",
    "    '''\n",
    "    \n",
    "    urls = []\n",
    "    \n",
    "    languages = ['JavaScript', 'Python', 'Java', 'HTML']\n",
    "    \n",
    "    for language in languages:\n",
    "        for i in range(1,11):\n",
    "            # first page for most starred repos on GH\n",
    "            url = f'https://github.com/search?l={language}&p={i}&q=stars%3A%3E0&s=stars&type=Repositories'\n",
    "\n",
    "            urls.append(url)\n",
    "    return urls"
   ]
  },
  {
   "cell_type": "code",
   "execution_count": 4,
   "metadata": {},
   "outputs": [],
   "source": [
    "urls = get_language_urls()"
   ]
  },
  {
   "cell_type": "code",
   "execution_count": 5,
   "metadata": {},
   "outputs": [
    {
     "data": {
      "text/plain": [
       "['https://github.com/search?l=JavaScript&p=1&q=stars%3A%3E0&s=stars&type=Repositories',\n",
       " 'https://github.com/search?l=JavaScript&p=2&q=stars%3A%3E0&s=stars&type=Repositories',\n",
       " 'https://github.com/search?l=JavaScript&p=3&q=stars%3A%3E0&s=stars&type=Repositories',\n",
       " 'https://github.com/search?l=JavaScript&p=4&q=stars%3A%3E0&s=stars&type=Repositories',\n",
       " 'https://github.com/search?l=JavaScript&p=5&q=stars%3A%3E0&s=stars&type=Repositories',\n",
       " 'https://github.com/search?l=JavaScript&p=6&q=stars%3A%3E0&s=stars&type=Repositories',\n",
       " 'https://github.com/search?l=JavaScript&p=7&q=stars%3A%3E0&s=stars&type=Repositories',\n",
       " 'https://github.com/search?l=JavaScript&p=8&q=stars%3A%3E0&s=stars&type=Repositories',\n",
       " 'https://github.com/search?l=JavaScript&p=9&q=stars%3A%3E0&s=stars&type=Repositories',\n",
       " 'https://github.com/search?l=JavaScript&p=10&q=stars%3A%3E0&s=stars&type=Repositories',\n",
       " 'https://github.com/search?l=Python&p=1&q=stars%3A%3E0&s=stars&type=Repositories',\n",
       " 'https://github.com/search?l=Python&p=2&q=stars%3A%3E0&s=stars&type=Repositories',\n",
       " 'https://github.com/search?l=Python&p=3&q=stars%3A%3E0&s=stars&type=Repositories',\n",
       " 'https://github.com/search?l=Python&p=4&q=stars%3A%3E0&s=stars&type=Repositories',\n",
       " 'https://github.com/search?l=Python&p=5&q=stars%3A%3E0&s=stars&type=Repositories',\n",
       " 'https://github.com/search?l=Python&p=6&q=stars%3A%3E0&s=stars&type=Repositories',\n",
       " 'https://github.com/search?l=Python&p=7&q=stars%3A%3E0&s=stars&type=Repositories',\n",
       " 'https://github.com/search?l=Python&p=8&q=stars%3A%3E0&s=stars&type=Repositories',\n",
       " 'https://github.com/search?l=Python&p=9&q=stars%3A%3E0&s=stars&type=Repositories',\n",
       " 'https://github.com/search?l=Python&p=10&q=stars%3A%3E0&s=stars&type=Repositories',\n",
       " 'https://github.com/search?l=Java&p=1&q=stars%3A%3E0&s=stars&type=Repositories',\n",
       " 'https://github.com/search?l=Java&p=2&q=stars%3A%3E0&s=stars&type=Repositories',\n",
       " 'https://github.com/search?l=Java&p=3&q=stars%3A%3E0&s=stars&type=Repositories',\n",
       " 'https://github.com/search?l=Java&p=4&q=stars%3A%3E0&s=stars&type=Repositories',\n",
       " 'https://github.com/search?l=Java&p=5&q=stars%3A%3E0&s=stars&type=Repositories',\n",
       " 'https://github.com/search?l=Java&p=6&q=stars%3A%3E0&s=stars&type=Repositories',\n",
       " 'https://github.com/search?l=Java&p=7&q=stars%3A%3E0&s=stars&type=Repositories',\n",
       " 'https://github.com/search?l=Java&p=8&q=stars%3A%3E0&s=stars&type=Repositories',\n",
       " 'https://github.com/search?l=Java&p=9&q=stars%3A%3E0&s=stars&type=Repositories',\n",
       " 'https://github.com/search?l=Java&p=10&q=stars%3A%3E0&s=stars&type=Repositories',\n",
       " 'https://github.com/search?l=HTML&p=1&q=stars%3A%3E0&s=stars&type=Repositories',\n",
       " 'https://github.com/search?l=HTML&p=2&q=stars%3A%3E0&s=stars&type=Repositories',\n",
       " 'https://github.com/search?l=HTML&p=3&q=stars%3A%3E0&s=stars&type=Repositories',\n",
       " 'https://github.com/search?l=HTML&p=4&q=stars%3A%3E0&s=stars&type=Repositories',\n",
       " 'https://github.com/search?l=HTML&p=5&q=stars%3A%3E0&s=stars&type=Repositories',\n",
       " 'https://github.com/search?l=HTML&p=6&q=stars%3A%3E0&s=stars&type=Repositories',\n",
       " 'https://github.com/search?l=HTML&p=7&q=stars%3A%3E0&s=stars&type=Repositories',\n",
       " 'https://github.com/search?l=HTML&p=8&q=stars%3A%3E0&s=stars&type=Repositories',\n",
       " 'https://github.com/search?l=HTML&p=9&q=stars%3A%3E0&s=stars&type=Repositories',\n",
       " 'https://github.com/search?l=HTML&p=10&q=stars%3A%3E0&s=stars&type=Repositories']"
      ]
     },
     "execution_count": 5,
     "metadata": {},
     "output_type": "execute_result"
    }
   ],
   "source": [
    "urls"
   ]
  },
  {
   "cell_type": "code",
   "execution_count": 6,
   "metadata": {},
   "outputs": [],
   "source": [
    "def get_all_urls(urls):\n",
    "    '''\n",
    "    This function scrapes all of the Codeup blog urls from\n",
    "    the main Codeup blog page and returns a list of urls.\n",
    "    '''\n",
    "    \n",
    "    repo_urls = []\n",
    "    \n",
    "    for url in urls:\n",
    "        # Make request and soup object using helper\n",
    "        soup = make_soup(url)\n",
    "        sleep(1)\n",
    "        # Create a list of the anchor elements that hold the urls.\n",
    "        urls_list = soup.find_all('a', class_='v-align-middle')\n",
    "    \n",
    "        # I'm using a set comprehension to return only unique urls.\n",
    "        urls_set = {'https://github.com' + link.get('href') for link in urls_list}\n",
    "        urls_set = list(urls_set)\n",
    "        repo_urls.extend(urls_set)\n",
    "\n",
    "    # I'm converting my set to a list of urls.\n",
    "    # urls = list(urls) \n",
    "        \n",
    "    return repo_urls"
   ]
  },
  {
   "cell_type": "code",
   "execution_count": 7,
   "metadata": {},
   "outputs": [],
   "source": [
    "def get_all_urls(urls):\n",
    "    '''\n",
    "    This function scrapes all of the urls from\n",
    "    the list of github search result urls and returns a list of urls.\n",
    "    '''\n",
    "    \n",
    "    repo_urls = []\n",
    "    n = 0\n",
    "    for url in urls:\n",
    "        # Make request and soup object using helper\n",
    "        soup = make_soup(url)\n",
    "        sleep(3)\n",
    "        n = n + 1\n",
    "        print(f\"Scraping loop number {n}\")\n",
    "        # Create a list of the anchor elements that hold the urls.\n",
    "        urls_list = soup.find_all('a', class_='v-align-middle')\n",
    "    \n",
    "        # I'm using a set comprehension to return only unique urls.\n",
    "        urls_set = {'https://github.com' + link.get('href') for link in urls_list}\n",
    "        urls_set = list(urls_set)\n",
    "        repo_urls.extend(urls_set)\n",
    "    # I'm converting my set to a list of urls.\n",
    "    # urls = list(urls) \n",
    "        \n",
    "    return repo_urls"
   ]
  },
  {
   "cell_type": "code",
   "execution_count": 8,
   "metadata": {},
   "outputs": [],
   "source": [
    "#all_urls = get_all_urls(urls)"
   ]
  },
  {
   "cell_type": "code",
   "execution_count": 9,
   "metadata": {},
   "outputs": [],
   "source": [
    "#len(all_urls)"
   ]
  },
  {
   "cell_type": "code",
   "execution_count": 10,
   "metadata": {},
   "outputs": [],
   "source": [
    "def get_blog_articles(urls, cached=False):\n",
    "    '''\n",
    "    This function takes in a list of Codeup Blog urls and a parameter\n",
    "    with default cached == False which scrapes the title and text for each url, \n",
    "    creates a list of dictionaries with the title and text for each blog, \n",
    "    converts list to df, and returns df.\n",
    "    If cached == True, the function returns a df from a json file.\n",
    "    '''\n",
    "    if cached == True:\n",
    "        df = pd.read_json('github_repos.json')\n",
    "        \n",
    "    # cached == False completes a fresh scrape for df     \n",
    "    else:\n",
    "\n",
    "        # Create an empty list to hold dictionaries\n",
    "        articles = []\n",
    "\n",
    "        # Loop through each url in our list of urls\n",
    "        for url in urls:\n",
    "\n",
    "            # Make request and soup object using helper\n",
    "            soup = make_soup(url)\n",
    "\n",
    "            # Save the programming language of each repo in variable language\n",
    "            language = soup.find('span', class_='text-gray-dark text-bold mr-1').text\n",
    "\n",
    "            # Save the text in each repo to variable content\n",
    "            content = soup.find('article', class_=\"markdown-body entry-content container-lg\").text\n",
    "\n",
    "            # Create a dictionary holding the title and content for each blog\n",
    "            article = {'language': language, 'content': content}\n",
    "\n",
    "            # Add each dictionary to the articles list of dictionaries\n",
    "            articles.append(article)\n",
    "            \n",
    "        # convert our list of dictionaries to a df\n",
    "        df = pd.DataFrame(articles)\n",
    "\n",
    "        # Write df to a json file for faster access\n",
    "        df.to_json('github_repos.json')\n",
    "    \n",
    "    return df"
   ]
  },
  {
   "cell_type": "code",
   "execution_count": 11,
   "metadata": {},
   "outputs": [],
   "source": [
    "#df = get_blog_articles(all_urls)"
   ]
  },
  {
   "cell_type": "code",
   "execution_count": 12,
   "metadata": {},
   "outputs": [],
   "source": [
    "df = pd.read_json('github_repos.json')"
   ]
  },
  {
   "cell_type": "code",
   "execution_count": 13,
   "metadata": {
    "scrolled": true
   },
   "outputs": [
    {
     "data": {
      "text/html": [
       "<div>\n",
       "<style scoped>\n",
       "    .dataframe tbody tr th:only-of-type {\n",
       "        vertical-align: middle;\n",
       "    }\n",
       "\n",
       "    .dataframe tbody tr th {\n",
       "        vertical-align: top;\n",
       "    }\n",
       "\n",
       "    .dataframe thead th {\n",
       "        text-align: right;\n",
       "    }\n",
       "</style>\n",
       "<table border=\"1\" class=\"dataframe\">\n",
       "  <thead>\n",
       "    <tr style=\"text-align: right;\">\n",
       "      <th></th>\n",
       "      <th>language</th>\n",
       "      <th>content</th>\n",
       "    </tr>\n",
       "  </thead>\n",
       "  <tbody>\n",
       "    <tr>\n",
       "      <th>0</th>\n",
       "      <td>JavaScript</td>\n",
       "      <td>\\n\\n\\n\\n\\nBootstrap\\n\\n  Sleek, intuitive, and...</td>\n",
       "    </tr>\n",
       "    <tr>\n",
       "      <th>1</th>\n",
       "      <td>JavaScript</td>\n",
       "      <td>\\n\\n\\n\\n\\n\\n\\n\\n\\n\\n\\nSupporting Vue.js\\nVue.j...</td>\n",
       "    </tr>\n",
       "    <tr>\n",
       "      <th>2</th>\n",
       "      <td>JavaScript</td>\n",
       "      <td>\\n\\n\\n\\n\\nfreeCodeCamp.org's open-source codeb...</td>\n",
       "    </tr>\n",
       "    <tr>\n",
       "      <th>3</th>\n",
       "      <td>JavaScript</td>\n",
       "      <td>Airbnb JavaScript Style Guide() {\\nA mostly re...</td>\n",
       "    </tr>\n",
       "    <tr>\n",
       "      <th>4</th>\n",
       "      <td>JavaScript</td>\n",
       "      <td>Create React App  \\n\\nCreate React apps with n...</td>\n",
       "    </tr>\n",
       "  </tbody>\n",
       "</table>\n",
       "</div>"
      ],
      "text/plain": [
       "     language                                            content\n",
       "0  JavaScript  \\n\\n\\n\\n\\nBootstrap\\n\\n  Sleek, intuitive, and...\n",
       "1  JavaScript  \\n\\n\\n\\n\\n\\n\\n\\n\\n\\n\\nSupporting Vue.js\\nVue.j...\n",
       "2  JavaScript  \\n\\n\\n\\n\\nfreeCodeCamp.org's open-source codeb...\n",
       "3  JavaScript  Airbnb JavaScript Style Guide() {\\nA mostly re...\n",
       "4  JavaScript  Create React App  \\n\\nCreate React apps with n..."
      ]
     },
     "execution_count": 13,
     "metadata": {},
     "output_type": "execute_result"
    }
   ],
   "source": [
    "df.head()"
   ]
  },
  {
   "cell_type": "code",
   "execution_count": 14,
   "metadata": {
    "scrolled": true
   },
   "outputs": [
    {
     "data": {
      "text/plain": [
       "JavaScript    70\n",
       "Java          50\n",
       "Python        40\n",
       "Name: language, dtype: int64"
      ]
     },
     "execution_count": 14,
     "metadata": {},
     "output_type": "execute_result"
    }
   ],
   "source": [
    "df.language.value_counts()"
   ]
  },
  {
   "cell_type": "markdown",
   "metadata": {},
   "source": [
    "---\n",
    "## Acquire: Second Run Thorugh"
   ]
  },
  {
   "cell_type": "code",
   "execution_count": 15,
   "metadata": {},
   "outputs": [],
   "source": [
    "# 25 search results pages for javascript and python\n",
    "search_urls = get_language_urls()"
   ]
  },
  {
   "cell_type": "code",
   "execution_count": 16,
   "metadata": {},
   "outputs": [],
   "source": [
    "# 5 second fetch timer\n",
    "#repo_urls = get_all_urls(search_urls)"
   ]
  },
  {
   "cell_type": "code",
   "execution_count": 17,
   "metadata": {},
   "outputs": [],
   "source": [
    "#repo_urls"
   ]
  },
  {
   "cell_type": "code",
   "execution_count": 18,
   "metadata": {},
   "outputs": [
    {
     "data": {
      "text/plain": [
       "list"
      ]
     },
     "execution_count": 18,
     "metadata": {},
     "output_type": "execute_result"
    }
   ],
   "source": [
    "# open repo_urls list\n",
    "with open(\"repo_urls.txt\", \"r\") as fp:\n",
    "    repo_urls = json.load(fp)\n",
    "type(repo_urls)"
   ]
  },
  {
   "cell_type": "code",
   "execution_count": 19,
   "metadata": {},
   "outputs": [
    {
     "data": {
      "text/plain": [
       "300"
      ]
     },
     "execution_count": 19,
     "metadata": {},
     "output_type": "execute_result"
    }
   ],
   "source": [
    "len(repo_urls)"
   ]
  },
  {
   "cell_type": "code",
   "execution_count": 20,
   "metadata": {},
   "outputs": [],
   "source": [
    "# scrap, won't let me access any more than 149\n",
    "#df = get_repo_content(repo_urls)"
   ]
  },
  {
   "cell_type": "code",
   "execution_count": 21,
   "metadata": {},
   "outputs": [
    {
     "data": {
      "text/html": [
       "<div>\n",
       "<style scoped>\n",
       "    .dataframe tbody tr th:only-of-type {\n",
       "        vertical-align: middle;\n",
       "    }\n",
       "\n",
       "    .dataframe tbody tr th {\n",
       "        vertical-align: top;\n",
       "    }\n",
       "\n",
       "    .dataframe thead th {\n",
       "        text-align: right;\n",
       "    }\n",
       "</style>\n",
       "<table border=\"1\" class=\"dataframe\">\n",
       "  <thead>\n",
       "    <tr style=\"text-align: right;\">\n",
       "      <th></th>\n",
       "      <th>language</th>\n",
       "      <th>content</th>\n",
       "    </tr>\n",
       "  </thead>\n",
       "  <tbody>\n",
       "    <tr>\n",
       "      <th>0</th>\n",
       "      <td>JavaScript</td>\n",
       "      <td>\\n\\n\\n\\n\\nBootstrap\\n\\n  Sleek, intuitive, and...</td>\n",
       "    </tr>\n",
       "    <tr>\n",
       "      <th>1</th>\n",
       "      <td>JavaScript</td>\n",
       "      <td>\\n\\n\\n\\n\\n\\n\\n\\n\\n\\n\\nSupporting Vue.js\\nVue.j...</td>\n",
       "    </tr>\n",
       "    <tr>\n",
       "      <th>2</th>\n",
       "      <td>JavaScript</td>\n",
       "      <td>\\n\\n\\n\\n\\nfreeCodeCamp.org's open-source codeb...</td>\n",
       "    </tr>\n",
       "    <tr>\n",
       "      <th>3</th>\n",
       "      <td>JavaScript</td>\n",
       "      <td>Airbnb JavaScript Style Guide() {\\nA mostly re...</td>\n",
       "    </tr>\n",
       "    <tr>\n",
       "      <th>4</th>\n",
       "      <td>JavaScript</td>\n",
       "      <td>Create React App  \\n\\nCreate React apps with n...</td>\n",
       "    </tr>\n",
       "  </tbody>\n",
       "</table>\n",
       "</div>"
      ],
      "text/plain": [
       "     language                                            content\n",
       "0  JavaScript  \\n\\n\\n\\n\\nBootstrap\\n\\n  Sleek, intuitive, and...\n",
       "1  JavaScript  \\n\\n\\n\\n\\n\\n\\n\\n\\n\\n\\nSupporting Vue.js\\nVue.j...\n",
       "2  JavaScript  \\n\\n\\n\\n\\nfreeCodeCamp.org's open-source codeb...\n",
       "3  JavaScript  Airbnb JavaScript Style Guide() {\\nA mostly re...\n",
       "4  JavaScript  Create React App  \\n\\nCreate React apps with n..."
      ]
     },
     "execution_count": 21,
     "metadata": {},
     "output_type": "execute_result"
    }
   ],
   "source": [
    "df.head()"
   ]
  },
  {
   "cell_type": "code",
   "execution_count": 22,
   "metadata": {},
   "outputs": [],
   "source": [
    "# write repo_urls to a txt file in local drive\n",
    "\n",
    "#with open(\"repo_urls.txt\", \"w\") as fp:\n",
    "#    json.dump(repo_urls, fp)"
   ]
  },
  {
   "cell_type": "markdown",
   "metadata": {},
   "source": [
    "---\n",
    "## Prepare"
   ]
  },
  {
   "cell_type": "code",
   "execution_count": 23,
   "metadata": {},
   "outputs": [],
   "source": [
    "# functions\n",
    "def basic_clean(string):\n",
    "    '''\n",
    "    This function takes in a string and\n",
    "    returns the string normalized.\n",
    "    '''\n",
    "    string = unicodedata.normalize('NFKC', string)\\\n",
    "             .encode('ascii', 'ignore')\\\n",
    "             .decode('utf-8', 'ignore')\n",
    "    string = re.sub(r'[^\\w\\s]', '', string).lower()\n",
    "    return string\n",
    "\n",
    "##############################\n",
    "\n",
    "def tokenize(string):\n",
    "    '''\n",
    "    This function takes in a string and\n",
    "    returns a tokenized string.\n",
    "    '''\n",
    "    # Create tokenizer.\n",
    "    tokenizer = nltk.tokenize.ToktokTokenizer()\n",
    "    \n",
    "    # Use tokenizer\n",
    "    string = tokenizer.tokenize(string, return_str=True)\n",
    "    \n",
    "    return string\n",
    "\n",
    "#############################\n",
    "\n",
    "def stem(string):\n",
    "    '''\n",
    "    This function takes in a string and\n",
    "    returns a string with words stemmed.\n",
    "    '''\n",
    "    # Create porter stemmer.\n",
    "    ps = nltk.porter.PorterStemmer()\n",
    "    \n",
    "    # Use the stemmer to stem each word in the list of words we created by using split.\n",
    "    stems = [ps.stem(word) for word in string.split()]\n",
    "    \n",
    "    # Join our lists of words into a string again and assign to a variable.\n",
    "    string = ' '.join(stems)\n",
    "    \n",
    "    return string\n",
    "\n",
    "#############################\n",
    "\n",
    "\n",
    "def lemmatize(string):\n",
    "    '''\n",
    "    This function takes in string for and\n",
    "    returns a string with words lemmatized.\n",
    "    '''\n",
    "    # Create the lemmatizer.\n",
    "    wnl = nltk.stem.WordNetLemmatizer()\n",
    "    \n",
    "    # Use the lemmatizer on each word in the list of words we created by using split.\n",
    "    lemmas = [wnl.lemmatize(word) for word in string.split()]\n",
    "    \n",
    "    # Join our list of words into a string again and assign to a variable.\n",
    "    string = ' '.join(lemmas)\n",
    "    \n",
    "    return string\n",
    "\n",
    "#############################\n",
    "\n",
    "\n",
    "def remove_stopwords(string, extra_words=[], exclude_words=[]):\n",
    "    '''\n",
    "    This function takes in a string, optional extra_words and exclude_words parameters\n",
    "    with default empty lists and returns a string.\n",
    "    '''\n",
    "    # Create stopword_list.\n",
    "    stopword_list = stopwords.words('english')\n",
    "    \n",
    "    # Remove 'exclude_words' from stopword_list to keep these in my text.\n",
    "    stopword_list = set(stopword_list) - set(exclude_words)\n",
    "\n",
    "    # Add in 'extra_words' to stopword_list.\n",
    "    stopword_list = stopword_list.union(set(extra_words))\n",
    "    \n",
    "    # Split words in string.\n",
    "    words = string.split()\n",
    "    \n",
    "    # Create a list of words from my string with stopwords removed and assign to variable.\n",
    "    filtered_words = [word for word in words if word not in stopword_list]\n",
    "    \n",
    "    # Join words in the list back into strings and assign to a variable.\n",
    "    string_without_stopwords = ' '.join(filtered_words)\n",
    "    \n",
    "    return string_without_stopwords\n",
    "\n",
    "###############################\n",
    "\n",
    "\n",
    "def prep_repo_data(df, column, extra_words=[], exclude_words=[]):\n",
    "    '''\n",
    "    This function take in a df and the string name for a text column with \n",
    "    option to pass lists for extra_words and exclude_words and\n",
    "    returns a df with the text article title, original text, stemmed text,\n",
    "    lemmatized text, cleaned, tokenized, & lemmatized text with stopwords removed.\n",
    "    '''\n",
    "    df['clean'] = df[column].apply(basic_clean)\\\n",
    "                            .apply(tokenize)\\\n",
    "                            .apply(remove_stopwords, \n",
    "                                   extra_words=extra_words, \n",
    "                                   exclude_words=exclude_words)\\\n",
    "                            .apply(lemmatize)\n",
    "    \n",
    "    df['stemmed'] = df[column].apply(basic_clean).apply(stem)\n",
    "    \n",
    "    df['lemmatized'] = df[column].apply(basic_clean).apply(lemmatize)\n",
    "    \n",
    "    return df[['language', column, 'stemmed', 'lemmatized', 'clean']]"
   ]
  },
  {
   "cell_type": "code",
   "execution_count": 24,
   "metadata": {},
   "outputs": [],
   "source": [
    "df = prep_repo_data(df, 'content')"
   ]
  },
  {
   "cell_type": "code",
   "execution_count": 25,
   "metadata": {},
   "outputs": [],
   "source": [
    "df = df[df.language != 'Java']"
   ]
  },
  {
   "cell_type": "code",
   "execution_count": 26,
   "metadata": {},
   "outputs": [
    {
     "data": {
      "text/html": [
       "<div>\n",
       "<style scoped>\n",
       "    .dataframe tbody tr th:only-of-type {\n",
       "        vertical-align: middle;\n",
       "    }\n",
       "\n",
       "    .dataframe tbody tr th {\n",
       "        vertical-align: top;\n",
       "    }\n",
       "\n",
       "    .dataframe thead th {\n",
       "        text-align: right;\n",
       "    }\n",
       "</style>\n",
       "<table border=\"1\" class=\"dataframe\">\n",
       "  <thead>\n",
       "    <tr style=\"text-align: right;\">\n",
       "      <th></th>\n",
       "      <th>language</th>\n",
       "      <th>content</th>\n",
       "      <th>stemmed</th>\n",
       "      <th>lemmatized</th>\n",
       "      <th>clean</th>\n",
       "    </tr>\n",
       "  </thead>\n",
       "  <tbody>\n",
       "    <tr>\n",
       "      <th>0</th>\n",
       "      <td>JavaScript</td>\n",
       "      <td>\\n\\n\\n\\n\\nBootstrap\\n\\n  Sleek, intuitive, and...</td>\n",
       "      <td>bootstrap sleek intuit and power frontend fram...</td>\n",
       "      <td>bootstrap sleek intuitive and powerful fronten...</td>\n",
       "      <td>bootstrap sleek intuitive powerful frontend fr...</td>\n",
       "    </tr>\n",
       "    <tr>\n",
       "      <th>1</th>\n",
       "      <td>JavaScript</td>\n",
       "      <td>\\n\\n\\n\\n\\n\\n\\n\\n\\n\\n\\nSupporting Vue.js\\nVue.j...</td>\n",
       "      <td>support vuej vuej is an mitlicens open sourc p...</td>\n",
       "      <td>supporting vuejs vuejs is an mitlicensed open ...</td>\n",
       "      <td>supporting vuejs vuejs mitlicensed open source...</td>\n",
       "    </tr>\n",
       "    <tr>\n",
       "      <th>2</th>\n",
       "      <td>JavaScript</td>\n",
       "      <td>\\n\\n\\n\\n\\nfreeCodeCamp.org's open-source codeb...</td>\n",
       "      <td>freecodecamporg opensourc codebas and curricul...</td>\n",
       "      <td>freecodecamporgs opensource codebase and curri...</td>\n",
       "      <td>freecodecamporgs opensource codebase curriculu...</td>\n",
       "    </tr>\n",
       "    <tr>\n",
       "      <th>3</th>\n",
       "      <td>JavaScript</td>\n",
       "      <td>Airbnb JavaScript Style Guide() {\\nA mostly re...</td>\n",
       "      <td>airbnb javascript style guid a mostli reason a...</td>\n",
       "      <td>airbnb javascript style guide a mostly reasona...</td>\n",
       "      <td>airbnb javascript style guide mostly reasonabl...</td>\n",
       "    </tr>\n",
       "    <tr>\n",
       "      <th>4</th>\n",
       "      <td>JavaScript</td>\n",
       "      <td>Create React App  \\n\\nCreate React apps with n...</td>\n",
       "      <td>creat react app creat react app with no build ...</td>\n",
       "      <td>create react app create react apps with no bui...</td>\n",
       "      <td>create react app create react apps build confi...</td>\n",
       "    </tr>\n",
       "  </tbody>\n",
       "</table>\n",
       "</div>"
      ],
      "text/plain": [
       "     language                                            content  \\\n",
       "0  JavaScript  \\n\\n\\n\\n\\nBootstrap\\n\\n  Sleek, intuitive, and...   \n",
       "1  JavaScript  \\n\\n\\n\\n\\n\\n\\n\\n\\n\\n\\nSupporting Vue.js\\nVue.j...   \n",
       "2  JavaScript  \\n\\n\\n\\n\\nfreeCodeCamp.org's open-source codeb...   \n",
       "3  JavaScript  Airbnb JavaScript Style Guide() {\\nA mostly re...   \n",
       "4  JavaScript  Create React App  \\n\\nCreate React apps with n...   \n",
       "\n",
       "                                             stemmed  \\\n",
       "0  bootstrap sleek intuit and power frontend fram...   \n",
       "1  support vuej vuej is an mitlicens open sourc p...   \n",
       "2  freecodecamporg opensourc codebas and curricul...   \n",
       "3  airbnb javascript style guid a mostli reason a...   \n",
       "4  creat react app creat react app with no build ...   \n",
       "\n",
       "                                          lemmatized  \\\n",
       "0  bootstrap sleek intuitive and powerful fronten...   \n",
       "1  supporting vuejs vuejs is an mitlicensed open ...   \n",
       "2  freecodecamporgs opensource codebase and curri...   \n",
       "3  airbnb javascript style guide a mostly reasona...   \n",
       "4  create react app create react apps with no bui...   \n",
       "\n",
       "                                               clean  \n",
       "0  bootstrap sleek intuitive powerful frontend fr...  \n",
       "1  supporting vuejs vuejs mitlicensed open source...  \n",
       "2  freecodecamporgs opensource codebase curriculu...  \n",
       "3  airbnb javascript style guide mostly reasonabl...  \n",
       "4  create react app create react apps build confi...  "
      ]
     },
     "execution_count": 26,
     "metadata": {},
     "output_type": "execute_result"
    }
   ],
   "source": [
    "df.head()"
   ]
  },
  {
   "cell_type": "markdown",
   "metadata": {},
   "source": [
    "### Prepare: for explore"
   ]
  },
  {
   "cell_type": "code",
   "execution_count": 27,
   "metadata": {},
   "outputs": [],
   "source": [
    "# add a column that is a list of each word for each repo --> PREPARE.PY\n",
    "words = [re.sub(r'([^a-z0-9\\s]|\\s.\\s)', '', doc).split() for doc in df.clean] \n",
    "\n",
    "# column name will be words, and the column will contain lists of the words in each doc\n",
    "df = pd.concat([df, pd.DataFrame({'words': words})], axis=1)"
   ]
  },
  {
   "cell_type": "code",
   "execution_count": 28,
   "metadata": {},
   "outputs": [],
   "source": [
    "# add a column that shows the length --> PREPARE.PY\n",
    "df['doc_length'] = [len(wordlist) for wordlist in df.words]"
   ]
  },
  {
   "cell_type": "markdown",
   "metadata": {},
   "source": [
    "#### Split the Data"
   ]
  },
  {
   "cell_type": "code",
   "execution_count": 29,
   "metadata": {},
   "outputs": [],
   "source": [
    "# split the data --> PREPARE.PY\n",
    "from sklearn.model_selection import train_test_split\n",
    "\n",
    "train_validate, test = train_test_split(df[['language', 'clean', 'words', 'doc_length']], \n",
    "                                        stratify=df.language, \n",
    "                                        test_size=.2, \n",
    "                                        random_state=123)\n",
    "\n",
    "train, validate = train_test_split(train_validate, \n",
    "                                   stratify=train_validate.language, \n",
    "                                   test_size=.25,\n",
    "                                   random_state=123)"
   ]
  },
  {
   "cell_type": "code",
   "execution_count": 30,
   "metadata": {},
   "outputs": [
    {
     "name": "stdout",
     "output_type": "stream",
     "text": [
      "JavaScript    42\n",
      "Python        24\n",
      "Name: language, dtype: int64\n",
      "JavaScript    14\n",
      "Python         8\n",
      "Name: language, dtype: int64\n",
      "JavaScript    14\n",
      "Python         8\n",
      "Name: language, dtype: int64\n"
     ]
    },
    {
     "data": {
      "text/html": [
       "<div>\n",
       "<style scoped>\n",
       "    .dataframe tbody tr th:only-of-type {\n",
       "        vertical-align: middle;\n",
       "    }\n",
       "\n",
       "    .dataframe tbody tr th {\n",
       "        vertical-align: top;\n",
       "    }\n",
       "\n",
       "    .dataframe thead th {\n",
       "        text-align: right;\n",
       "    }\n",
       "</style>\n",
       "<table border=\"1\" class=\"dataframe\">\n",
       "  <thead>\n",
       "    <tr style=\"text-align: right;\">\n",
       "      <th></th>\n",
       "      <th>language</th>\n",
       "      <th>clean</th>\n",
       "      <th>words</th>\n",
       "      <th>doc_length</th>\n",
       "    </tr>\n",
       "  </thead>\n",
       "  <tbody>\n",
       "    <tr>\n",
       "      <th>77</th>\n",
       "      <td>Python</td>\n",
       "      <td>payload thing list useful payload bypass web a...</td>\n",
       "      <td>[payload, thing, list, useful, payload, bypass...</td>\n",
       "      <td>117</td>\n",
       "    </tr>\n",
       "    <tr>\n",
       "      <th>84</th>\n",
       "      <td>Python</td>\n",
       "      <td>tracking progress natural language processing ...</td>\n",
       "      <td>[tracking, progress, natural, language, proces...</td>\n",
       "      <td>482</td>\n",
       "    </tr>\n",
       "    <tr>\n",
       "      <th>54</th>\n",
       "      <td>JavaScript</td>\n",
       "      <td>impressjs presentation framework based power c...</td>\n",
       "      <td>[impressjs, presentation, framework, based, po...</td>\n",
       "      <td>511</td>\n",
       "    </tr>\n",
       "    <tr>\n",
       "      <th>45</th>\n",
       "      <td>JavaScript</td>\n",
       "      <td>english hacker script based true story xxx ok ...</td>\n",
       "      <td>[english, hacker, script, based, true, story, ...</td>\n",
       "      <td>265</td>\n",
       "    </tr>\n",
       "    <tr>\n",
       "      <th>20</th>\n",
       "      <td>JavaScript</td>\n",
       "      <td>simple yet flexible javascript charting design...</td>\n",
       "      <td>[simple, yet, flexible, javascript, charting, ...</td>\n",
       "      <td>50</td>\n",
       "    </tr>\n",
       "  </tbody>\n",
       "</table>\n",
       "</div>"
      ],
      "text/plain": [
       "      language                                              clean  \\\n",
       "77      Python  payload thing list useful payload bypass web a...   \n",
       "84      Python  tracking progress natural language processing ...   \n",
       "54  JavaScript  impressjs presentation framework based power c...   \n",
       "45  JavaScript  english hacker script based true story xxx ok ...   \n",
       "20  JavaScript  simple yet flexible javascript charting design...   \n",
       "\n",
       "                                                words  doc_length  \n",
       "77  [payload, thing, list, useful, payload, bypass...         117  \n",
       "84  [tracking, progress, natural, language, proces...         482  \n",
       "54  [impressjs, presentation, framework, based, po...         511  \n",
       "45  [english, hacker, script, based, true, story, ...         265  \n",
       "20  [simple, yet, flexible, javascript, charting, ...          50  "
      ]
     },
     "execution_count": 30,
     "metadata": {},
     "output_type": "execute_result"
    }
   ],
   "source": [
    "print(train.language.value_counts())\n",
    "print(validate.language.value_counts())\n",
    "print(test.language.value_counts())\n",
    "train.head()"
   ]
  },
  {
   "cell_type": "markdown",
   "metadata": {},
   "source": [
    "---\n",
    "## Explore"
   ]
  },
  {
   "cell_type": "markdown",
   "metadata": {},
   "source": [
    "> **What's the proportion of each language in our data?**"
   ]
  },
  {
   "cell_type": "code",
   "execution_count": 31,
   "metadata": {
    "scrolled": true
   },
   "outputs": [
    {
     "data": {
      "text/html": [
       "<div>\n",
       "<style scoped>\n",
       "    .dataframe tbody tr th:only-of-type {\n",
       "        vertical-align: middle;\n",
       "    }\n",
       "\n",
       "    .dataframe tbody tr th {\n",
       "        vertical-align: top;\n",
       "    }\n",
       "\n",
       "    .dataframe thead th {\n",
       "        text-align: right;\n",
       "    }\n",
       "</style>\n",
       "<table border=\"1\" class=\"dataframe\">\n",
       "  <thead>\n",
       "    <tr style=\"text-align: right;\">\n",
       "      <th></th>\n",
       "      <th>n</th>\n",
       "      <th>percent</th>\n",
       "    </tr>\n",
       "  </thead>\n",
       "  <tbody>\n",
       "    <tr>\n",
       "      <th>JavaScript</th>\n",
       "      <td>42</td>\n",
       "      <td>0.636364</td>\n",
       "    </tr>\n",
       "    <tr>\n",
       "      <th>Python</th>\n",
       "      <td>24</td>\n",
       "      <td>0.363636</td>\n",
       "    </tr>\n",
       "  </tbody>\n",
       "</table>\n",
       "</div>"
      ],
      "text/plain": [
       "             n   percent\n",
       "JavaScript  42  0.636364\n",
       "Python      24  0.363636"
      ]
     },
     "execution_count": 31,
     "metadata": {},
     "output_type": "execute_result"
    }
   ],
   "source": [
    "labels = pd.concat([train.language.value_counts(), # get total counts of each language\n",
    "                    train.language.value_counts(normalize=True)], axis=1) # getting the prop of each language\n",
    "labels.columns = ['n', 'percent']\n",
    "labels"
   ]
  },
  {
   "cell_type": "markdown",
   "metadata": {},
   "source": [
    "> **What are the most common words in READMEs?**"
   ]
  },
  {
   "cell_type": "code",
   "execution_count": 32,
   "metadata": {},
   "outputs": [],
   "source": [
    "# create variables to hold words that appear in each type of repo as a single string\n",
    "js_words = ' '.join(train[train.language=='JavaScript'].clean)\n",
    "py_words = ' '.join(train[train.language=='Python'].clean)\n",
    "all_words = ' '.join(train.clean)\n",
    "\n",
    "js_words = re.sub(r'\\s.\\s', '', js_words)\n",
    "py_words = re.sub(r'\\s.\\s', '', py_words)\n",
    "all_words = re.sub(r'\\s.\\s', '', all_words)\n",
    "\n",
    "# how frequently each word appears\n",
    "js_freq = pd.Series(js_words.split()).value_counts()\n",
    "py_freq = pd.Series(py_words.split()).value_counts()\n",
    "all_words_freq = pd.Series(all_words.split()).value_counts()"
   ]
  },
  {
   "cell_type": "code",
   "execution_count": 33,
   "metadata": {},
   "outputs": [],
   "source": [
    "# word frequency dataframe\n",
    "word_counts = (pd.concat([js_freq, py_freq], axis=1, sort=True)\n",
    "               .set_axis(['js', 'py'], axis=1, inplace=False)\n",
    "               .fillna(0)\n",
    "               .apply(lambda s: s.astype(int))\n",
    "              )\n",
    "# all counts of the word\n",
    "word_counts['all'] = word_counts['js'] + word_counts['py']\n",
    "# proportion of each string that is javascript\n",
    "word_counts['prop_js'] = word_counts['js']/word_counts['all']"
   ]
  },
  {
   "cell_type": "code",
   "execution_count": 34,
   "metadata": {},
   "outputs": [
    {
     "name": "stdout",
     "output_type": "stream",
     "text": [
      "Most Common Words\n"
     ]
    },
    {
     "data": {
      "text/html": [
       "<div>\n",
       "<style scoped>\n",
       "    .dataframe tbody tr th:only-of-type {\n",
       "        vertical-align: middle;\n",
       "    }\n",
       "\n",
       "    .dataframe tbody tr th {\n",
       "        vertical-align: top;\n",
       "    }\n",
       "\n",
       "    .dataframe thead th {\n",
       "        text-align: right;\n",
       "    }\n",
       "</style>\n",
       "<table border=\"1\" class=\"dataframe\">\n",
       "  <thead>\n",
       "    <tr style=\"text-align: right;\">\n",
       "      <th></th>\n",
       "      <th>js</th>\n",
       "      <th>py</th>\n",
       "      <th>all</th>\n",
       "      <th>prop_js</th>\n",
       "    </tr>\n",
       "  </thead>\n",
       "  <tbody>\n",
       "    <tr>\n",
       "      <th>code</th>\n",
       "      <td>922</td>\n",
       "      <td>153</td>\n",
       "      <td>1075</td>\n",
       "      <td>0.857674</td>\n",
       "    </tr>\n",
       "    <tr>\n",
       "      <th>source</th>\n",
       "      <td>912</td>\n",
       "      <td>76</td>\n",
       "      <td>988</td>\n",
       "      <td>0.923077</td>\n",
       "    </tr>\n",
       "    <tr>\n",
       "      <th>javascript</th>\n",
       "      <td>583</td>\n",
       "      <td>10</td>\n",
       "      <td>593</td>\n",
       "      <td>0.983137</td>\n",
       "    </tr>\n",
       "    <tr>\n",
       "      <th>function</th>\n",
       "      <td>489</td>\n",
       "      <td>57</td>\n",
       "      <td>546</td>\n",
       "      <td>0.895604</td>\n",
       "    </tr>\n",
       "    <tr>\n",
       "      <th>file</th>\n",
       "      <td>302</td>\n",
       "      <td>244</td>\n",
       "      <td>546</td>\n",
       "      <td>0.553114</td>\n",
       "    </tr>\n",
       "    <tr>\n",
       "      <th>use</th>\n",
       "      <td>296</td>\n",
       "      <td>237</td>\n",
       "      <td>533</td>\n",
       "      <td>0.555347</td>\n",
       "    </tr>\n",
       "    <tr>\n",
       "      <th>const</th>\n",
       "      <td>419</td>\n",
       "      <td>0</td>\n",
       "      <td>419</td>\n",
       "      <td>1.000000</td>\n",
       "    </tr>\n",
       "    <tr>\n",
       "      <th>return</th>\n",
       "      <td>208</td>\n",
       "      <td>185</td>\n",
       "      <td>393</td>\n",
       "      <td>0.529262</td>\n",
       "    </tr>\n",
       "    <tr>\n",
       "      <th>using</th>\n",
       "      <td>201</td>\n",
       "      <td>157</td>\n",
       "      <td>358</td>\n",
       "      <td>0.561453</td>\n",
       "    </tr>\n",
       "    <tr>\n",
       "      <th>mit</th>\n",
       "      <td>346</td>\n",
       "      <td>5</td>\n",
       "      <td>351</td>\n",
       "      <td>0.985755</td>\n",
       "    </tr>\n",
       "    <tr>\n",
       "      <th>system</th>\n",
       "      <td>163</td>\n",
       "      <td>157</td>\n",
       "      <td>320</td>\n",
       "      <td>0.509375</td>\n",
       "    </tr>\n",
       "    <tr>\n",
       "      <th>demo</th>\n",
       "      <td>318</td>\n",
       "      <td>1</td>\n",
       "      <td>319</td>\n",
       "      <td>0.996865</td>\n",
       "    </tr>\n",
       "    <tr>\n",
       "      <th>web</th>\n",
       "      <td>230</td>\n",
       "      <td>85</td>\n",
       "      <td>315</td>\n",
       "      <td>0.730159</td>\n",
       "    </tr>\n",
       "    <tr>\n",
       "      <th>php</th>\n",
       "      <td>313</td>\n",
       "      <td>1</td>\n",
       "      <td>314</td>\n",
       "      <td>0.996815</td>\n",
       "    </tr>\n",
       "    <tr>\n",
       "      <th>also</th>\n",
       "      <td>121</td>\n",
       "      <td>164</td>\n",
       "      <td>285</td>\n",
       "      <td>0.424561</td>\n",
       "    </tr>\n",
       "    <tr>\n",
       "      <th>open</th>\n",
       "      <td>209</td>\n",
       "      <td>68</td>\n",
       "      <td>277</td>\n",
       "      <td>0.754513</td>\n",
       "    </tr>\n",
       "    <tr>\n",
       "      <th>server</th>\n",
       "      <td>243</td>\n",
       "      <td>34</td>\n",
       "      <td>277</td>\n",
       "      <td>0.877256</td>\n",
       "    </tr>\n",
       "    <tr>\n",
       "      <th>python</th>\n",
       "      <td>160</td>\n",
       "      <td>113</td>\n",
       "      <td>273</td>\n",
       "      <td>0.586081</td>\n",
       "    </tr>\n",
       "    <tr>\n",
       "      <th>good</th>\n",
       "      <td>229</td>\n",
       "      <td>42</td>\n",
       "      <td>271</td>\n",
       "      <td>0.845018</td>\n",
       "    </tr>\n",
       "    <tr>\n",
       "      <th>application</th>\n",
       "      <td>180</td>\n",
       "      <td>91</td>\n",
       "      <td>271</td>\n",
       "      <td>0.664207</td>\n",
       "    </tr>\n",
       "  </tbody>\n",
       "</table>\n",
       "</div>"
      ],
      "text/plain": [
       "              js   py   all   prop_js\n",
       "code         922  153  1075  0.857674\n",
       "source       912   76   988  0.923077\n",
       "javascript   583   10   593  0.983137\n",
       "function     489   57   546  0.895604\n",
       "file         302  244   546  0.553114\n",
       "use          296  237   533  0.555347\n",
       "const        419    0   419  1.000000\n",
       "return       208  185   393  0.529262\n",
       "using        201  157   358  0.561453\n",
       "mit          346    5   351  0.985755\n",
       "system       163  157   320  0.509375\n",
       "demo         318    1   319  0.996865\n",
       "web          230   85   315  0.730159\n",
       "php          313    1   314  0.996815\n",
       "also         121  164   285  0.424561\n",
       "open         209   68   277  0.754513\n",
       "server       243   34   277  0.877256\n",
       "python       160  113   273  0.586081\n",
       "good         229   42   271  0.845018\n",
       "application  180   91   271  0.664207"
      ]
     },
     "execution_count": 34,
     "metadata": {},
     "output_type": "execute_result"
    }
   ],
   "source": [
    "print('Most Common Words')\n",
    "word_counts.sort_values(by='all', ascending=False).head(20)"
   ]
  },
  {
   "cell_type": "markdown",
   "metadata": {},
   "source": [
    "> **What does the distribution of IDFs look like for the most common words?**"
   ]
  },
  {
   "cell_type": "code",
   "execution_count": 35,
   "metadata": {},
   "outputs": [
    {
     "data": {
      "text/plain": [
       "(66, 4)"
      ]
     },
     "execution_count": 35,
     "metadata": {},
     "output_type": "execute_result"
    }
   ],
   "source": [
    "train.shape"
   ]
  },
  {
   "cell_type": "markdown",
   "metadata": {},
   "source": [
    "> **Does the length of the README vary by programming language?**"
   ]
  },
  {
   "cell_type": "code",
   "execution_count": 36,
   "metadata": {},
   "outputs": [
    {
     "data": {
      "text/html": [
       "<div>\n",
       "<style scoped>\n",
       "    .dataframe tbody tr th:only-of-type {\n",
       "        vertical-align: middle;\n",
       "    }\n",
       "\n",
       "    .dataframe tbody tr th {\n",
       "        vertical-align: top;\n",
       "    }\n",
       "\n",
       "    .dataframe thead th {\n",
       "        text-align: right;\n",
       "    }\n",
       "</style>\n",
       "<table border=\"1\" class=\"dataframe\">\n",
       "  <thead>\n",
       "    <tr style=\"text-align: right;\">\n",
       "      <th></th>\n",
       "      <th>count</th>\n",
       "      <th>mean</th>\n",
       "      <th>std</th>\n",
       "      <th>min</th>\n",
       "      <th>25%</th>\n",
       "      <th>50%</th>\n",
       "      <th>75%</th>\n",
       "      <th>max</th>\n",
       "    </tr>\n",
       "    <tr>\n",
       "      <th>language</th>\n",
       "      <th></th>\n",
       "      <th></th>\n",
       "      <th></th>\n",
       "      <th></th>\n",
       "      <th></th>\n",
       "      <th></th>\n",
       "      <th></th>\n",
       "      <th></th>\n",
       "    </tr>\n",
       "  </thead>\n",
       "  <tbody>\n",
       "    <tr>\n",
       "      <th>JavaScript</th>\n",
       "      <td>42.0</td>\n",
       "      <td>1302.952381</td>\n",
       "      <td>2713.601980</td>\n",
       "      <td>40.0</td>\n",
       "      <td>151.75</td>\n",
       "      <td>357.5</td>\n",
       "      <td>968.5</td>\n",
       "      <td>15478.0</td>\n",
       "    </tr>\n",
       "    <tr>\n",
       "      <th>Python</th>\n",
       "      <td>24.0</td>\n",
       "      <td>1443.250000</td>\n",
       "      <td>2616.380345</td>\n",
       "      <td>9.0</td>\n",
       "      <td>204.75</td>\n",
       "      <td>430.0</td>\n",
       "      <td>827.5</td>\n",
       "      <td>10581.0</td>\n",
       "    </tr>\n",
       "  </tbody>\n",
       "</table>\n",
       "</div>"
      ],
      "text/plain": [
       "            count         mean          std   min     25%    50%    75%  \\\n",
       "language                                                                  \n",
       "JavaScript   42.0  1302.952381  2713.601980  40.0  151.75  357.5  968.5   \n",
       "Python       24.0  1443.250000  2616.380345   9.0  204.75  430.0  827.5   \n",
       "\n",
       "                max  \n",
       "language             \n",
       "JavaScript  15478.0  \n",
       "Python      10581.0  "
      ]
     },
     "execution_count": 36,
     "metadata": {},
     "output_type": "execute_result"
    }
   ],
   "source": [
    "train.groupby('language').doc_length.describe()"
   ]
  },
  {
   "cell_type": "code",
   "execution_count": 37,
   "metadata": {},
   "outputs": [
    {
     "data": {
      "text/plain": [
       "(0, 1750)"
      ]
     },
     "execution_count": 37,
     "metadata": {},
     "output_type": "execute_result"
    },
    {
     "data": {
      "image/png": "[encoded data removed]",
      "text/plain": [
       "<Figure size 432x288 with 1 Axes>"
      ]
     },
     "metadata": {
      "needs_background": "light"
     },
     "output_type": "display_data"
    }
   ],
   "source": [
    "sns.boxplot(y=train.language, x=train.doc_length, orient=\"h\")\n",
    "plt.xlim(0, 1750)"
   ]
  },
  {
   "cell_type": "markdown",
   "metadata": {},
   "source": [
    "> **Do different programming languages use a different number of unique words?**"
   ]
  },
  {
   "cell_type": "code",
   "execution_count": 38,
   "metadata": {},
   "outputs": [
    {
     "name": "stdout",
     "output_type": "stream",
     "text": [
      "The number of words that occur n times: \n"
     ]
    },
    {
     "data": {
      "text/plain": [
       "1     10955\n",
       "2      2579\n",
       "3      1002\n",
       "4       564\n",
       "5       393\n",
       "6       318\n",
       "7       250\n",
       "8       169\n",
       "9       150\n",
       "10      111\n",
       "11      100\n",
       "12       81\n",
       "13       77\n",
       "14       74\n",
       "15       60\n",
       "16       57\n",
       "17       47\n",
       "18       44\n",
       "19       38\n",
       "25       32\n",
       "23       30\n",
       "21       29\n",
       "20       27\n",
       "26       27\n",
       "29       27\n",
       "24       23\n",
       "22       23\n",
       "27       22\n",
       "31       21\n",
       "37       20\n",
       "Name: all, dtype: int64"
      ]
     },
     "execution_count": 38,
     "metadata": {},
     "output_type": "execute_result"
    }
   ],
   "source": [
    "print(\"The number of words that occur n times: \")\n",
    "word_counts['all'].value_counts().head(30)"
   ]
  },
  {
   "cell_type": "code",
   "execution_count": 39,
   "metadata": {},
   "outputs": [
    {
     "name": "stdout",
     "output_type": "stream",
     "text": [
      "<class 'pandas.core.frame.DataFrame'>\n",
      "Index: 520 entries, 10 to youre\n",
      "Data columns (total 4 columns):\n",
      " #   Column   Non-Null Count  Dtype  \n",
      "---  ------   --------------  -----  \n",
      " 0   js       520 non-null    int64  \n",
      " 1   py       520 non-null    int64  \n",
      " 2   all      520 non-null    int64  \n",
      " 3   prop_js  520 non-null    float64\n",
      "dtypes: float64(1), int64(3)\n",
      "memory usage: 20.3+ KB\n"
     ]
    }
   ],
   "source": [
    "# filtering words that occur less than 30 times\n",
    "word_counts = word_counts[word_counts['all'] >= 30]\n",
    "word_counts.info()"
   ]
  },
  {
   "cell_type": "code",
   "execution_count": 40,
   "metadata": {
    "scrolled": true
   },
   "outputs": [
    {
     "data": {
      "text/html": [
       "<div>\n",
       "<style scoped>\n",
       "    .dataframe tbody tr th:only-of-type {\n",
       "        vertical-align: middle;\n",
       "    }\n",
       "\n",
       "    .dataframe tbody tr th {\n",
       "        vertical-align: top;\n",
       "    }\n",
       "\n",
       "    .dataframe thead th {\n",
       "        text-align: right;\n",
       "    }\n",
       "</style>\n",
       "<table border=\"1\" class=\"dataframe\">\n",
       "  <thead>\n",
       "    <tr style=\"text-align: right;\">\n",
       "      <th></th>\n",
       "      <th>js</th>\n",
       "      <th>py</th>\n",
       "      <th>all</th>\n",
       "      <th>prop_js</th>\n",
       "    </tr>\n",
       "  </thead>\n",
       "  <tbody>\n",
       "    <tr>\n",
       "      <th>const</th>\n",
       "      <td>419</td>\n",
       "      <td>0</td>\n",
       "      <td>419</td>\n",
       "      <td>1.0</td>\n",
       "    </tr>\n",
       "    <tr>\n",
       "      <th>gpl30</th>\n",
       "      <td>166</td>\n",
       "      <td>0</td>\n",
       "      <td>166</td>\n",
       "      <td>1.0</td>\n",
       "    </tr>\n",
       "    <tr>\n",
       "      <th>agpl30</th>\n",
       "      <td>131</td>\n",
       "      <td>0</td>\n",
       "      <td>131</td>\n",
       "      <td>1.0</td>\n",
       "    </tr>\n",
       "    <tr>\n",
       "      <th>apache20</th>\n",
       "      <td>98</td>\n",
       "      <td>0</td>\n",
       "      <td>98</td>\n",
       "      <td>1.0</td>\n",
       "    </tr>\n",
       "    <tr>\n",
       "      <th>eslint</th>\n",
       "      <td>97</td>\n",
       "      <td>0</td>\n",
       "      <td>97</td>\n",
       "      <td>1.0</td>\n",
       "    </tr>\n",
       "    <tr>\n",
       "      <th>gpl20</th>\n",
       "      <td>90</td>\n",
       "      <td>0</td>\n",
       "      <td>90</td>\n",
       "      <td>1.0</td>\n",
       "    </tr>\n",
       "    <tr>\n",
       "      <th>npm</th>\n",
       "      <td>86</td>\n",
       "      <td>0</td>\n",
       "      <td>86</td>\n",
       "      <td>1.0</td>\n",
       "    </tr>\n",
       "    <tr>\n",
       "      <th>parcel</th>\n",
       "      <td>86</td>\n",
       "      <td>0</td>\n",
       "      <td>86</td>\n",
       "      <td>1.0</td>\n",
       "    </tr>\n",
       "    <tr>\n",
       "      <th>asset</th>\n",
       "      <td>70</td>\n",
       "      <td>0</td>\n",
       "      <td>70</td>\n",
       "      <td>1.0</td>\n",
       "    </tr>\n",
       "    <tr>\n",
       "      <th>es6</th>\n",
       "      <td>68</td>\n",
       "      <td>0</td>\n",
       "      <td>68</td>\n",
       "      <td>1.0</td>\n",
       "    </tr>\n",
       "    <tr>\n",
       "      <th>promise</th>\n",
       "      <td>66</td>\n",
       "      <td>0</td>\n",
       "      <td>66</td>\n",
       "      <td>1.0</td>\n",
       "    </tr>\n",
       "    <tr>\n",
       "      <th>webpack</th>\n",
       "      <td>50</td>\n",
       "      <td>0</td>\n",
       "      <td>50</td>\n",
       "      <td>1.0</td>\n",
       "    </tr>\n",
       "    <tr>\n",
       "      <th>selfhosted</th>\n",
       "      <td>48</td>\n",
       "      <td>0</td>\n",
       "      <td>48</td>\n",
       "      <td>1.0</td>\n",
       "    </tr>\n",
       "    <tr>\n",
       "      <th>yarn</th>\n",
       "      <td>43</td>\n",
       "      <td>0</td>\n",
       "      <td>43</td>\n",
       "      <td>1.0</td>\n",
       "    </tr>\n",
       "    <tr>\n",
       "      <th>cm</th>\n",
       "      <td>42</td>\n",
       "      <td>0</td>\n",
       "      <td>42</td>\n",
       "      <td>1.0</td>\n",
       "    </tr>\n",
       "    <tr>\n",
       "      <th>bsd3clause</th>\n",
       "      <td>41</td>\n",
       "      <td>0</td>\n",
       "      <td>41</td>\n",
       "      <td>1.0</td>\n",
       "    </tr>\n",
       "    <tr>\n",
       "      <th>prototype</th>\n",
       "      <td>33</td>\n",
       "      <td>0</td>\n",
       "      <td>33</td>\n",
       "      <td>1.0</td>\n",
       "    </tr>\n",
       "    <tr>\n",
       "      <th>atom</th>\n",
       "      <td>31</td>\n",
       "      <td>0</td>\n",
       "      <td>31</td>\n",
       "      <td>1.0</td>\n",
       "    </tr>\n",
       "  </tbody>\n",
       "</table>\n",
       "</div>"
      ],
      "text/plain": [
       "             js  py  all  prop_js\n",
       "const       419   0  419      1.0\n",
       "gpl30       166   0  166      1.0\n",
       "agpl30      131   0  131      1.0\n",
       "apache20     98   0   98      1.0\n",
       "eslint       97   0   97      1.0\n",
       "gpl20        90   0   90      1.0\n",
       "npm          86   0   86      1.0\n",
       "parcel       86   0   86      1.0\n",
       "asset        70   0   70      1.0\n",
       "es6          68   0   68      1.0\n",
       "promise      66   0   66      1.0\n",
       "webpack      50   0   50      1.0\n",
       "selfhosted   48   0   48      1.0\n",
       "yarn         43   0   43      1.0\n",
       "cm           42   0   42      1.0\n",
       "bsd3clause   41   0   41      1.0\n",
       "prototype    33   0   33      1.0\n",
       "atom         31   0   31      1.0"
      ]
     },
     "execution_count": 40,
     "metadata": {},
     "output_type": "execute_result"
    }
   ],
   "source": [
    "# JavaScript Heavy Words\n",
    "word_counts[word_counts.prop_js == 1.0].sort_values(by='js', ascending=False)"
   ]
  },
  {
   "cell_type": "code",
   "execution_count": 41,
   "metadata": {
    "scrolled": true
   },
   "outputs": [
    {
     "data": {
      "text/html": [
       "<div>\n",
       "<style scoped>\n",
       "    .dataframe tbody tr th:only-of-type {\n",
       "        vertical-align: middle;\n",
       "    }\n",
       "\n",
       "    .dataframe tbody tr th {\n",
       "        vertical-align: top;\n",
       "    }\n",
       "\n",
       "    .dataframe thead th {\n",
       "        text-align: right;\n",
       "    }\n",
       "</style>\n",
       "<table border=\"1\" class=\"dataframe\">\n",
       "  <thead>\n",
       "    <tr style=\"text-align: right;\">\n",
       "      <th></th>\n",
       "      <th>js</th>\n",
       "      <th>py</th>\n",
       "      <th>all</th>\n",
       "      <th>prop_js</th>\n",
       "    </tr>\n",
       "  </thead>\n",
       "  <tbody>\n",
       "    <tr>\n",
       "      <th>airflow</th>\n",
       "      <td>0</td>\n",
       "      <td>47</td>\n",
       "      <td>47</td>\n",
       "      <td>0.000000</td>\n",
       "    </tr>\n",
       "    <tr>\n",
       "      <th>str</th>\n",
       "      <td>0</td>\n",
       "      <td>60</td>\n",
       "      <td>60</td>\n",
       "      <td>0.000000</td>\n",
       "    </tr>\n",
       "    <tr>\n",
       "      <th>tqdm</th>\n",
       "      <td>0</td>\n",
       "      <td>97</td>\n",
       "      <td>97</td>\n",
       "      <td>0.000000</td>\n",
       "    </tr>\n",
       "    <tr>\n",
       "      <th>def</th>\n",
       "      <td>0</td>\n",
       "      <td>162</td>\n",
       "      <td>162</td>\n",
       "      <td>0.000000</td>\n",
       "    </tr>\n",
       "    <tr>\n",
       "      <th>int</th>\n",
       "      <td>1</td>\n",
       "      <td>54</td>\n",
       "      <td>55</td>\n",
       "      <td>0.018182</td>\n",
       "    </tr>\n",
       "    <tr>\n",
       "      <th>sudo</th>\n",
       "      <td>2</td>\n",
       "      <td>103</td>\n",
       "      <td>105</td>\n",
       "      <td>0.019048</td>\n",
       "    </tr>\n",
       "    <tr>\n",
       "      <th>byte</th>\n",
       "      <td>2</td>\n",
       "      <td>61</td>\n",
       "      <td>63</td>\n",
       "      <td>0.031746</td>\n",
       "    </tr>\n",
       "    <tr>\n",
       "      <th>glance</th>\n",
       "      <td>3</td>\n",
       "      <td>47</td>\n",
       "      <td>50</td>\n",
       "      <td>0.060000</td>\n",
       "    </tr>\n",
       "    <tr>\n",
       "      <th>black</th>\n",
       "      <td>5</td>\n",
       "      <td>65</td>\n",
       "      <td>70</td>\n",
       "      <td>0.071429</td>\n",
       "    </tr>\n",
       "    <tr>\n",
       "      <th>yes</th>\n",
       "      <td>4</td>\n",
       "      <td>49</td>\n",
       "      <td>53</td>\n",
       "      <td>0.075472</td>\n",
       "    </tr>\n",
       "    <tr>\n",
       "      <th>optional</th>\n",
       "      <td>6</td>\n",
       "      <td>66</td>\n",
       "      <td>72</td>\n",
       "      <td>0.083333</td>\n",
       "    </tr>\n",
       "    <tr>\n",
       "      <th>apple</th>\n",
       "      <td>9</td>\n",
       "      <td>70</td>\n",
       "      <td>79</td>\n",
       "      <td>0.113924</td>\n",
       "    </tr>\n",
       "    <tr>\n",
       "      <th>security</th>\n",
       "      <td>26</td>\n",
       "      <td>80</td>\n",
       "      <td>106</td>\n",
       "      <td>0.245283</td>\n",
       "    </tr>\n",
       "    <tr>\n",
       "      <th>mode</th>\n",
       "      <td>18</td>\n",
       "      <td>48</td>\n",
       "      <td>66</td>\n",
       "      <td>0.272727</td>\n",
       "    </tr>\n",
       "    <tr>\n",
       "      <th>information</th>\n",
       "      <td>35</td>\n",
       "      <td>81</td>\n",
       "      <td>116</td>\n",
       "      <td>0.301724</td>\n",
       "    </tr>\n",
       "    <tr>\n",
       "      <th>following</th>\n",
       "      <td>23</td>\n",
       "      <td>53</td>\n",
       "      <td>76</td>\n",
       "      <td>0.302632</td>\n",
       "    </tr>\n",
       "    <tr>\n",
       "      <th>key</th>\n",
       "      <td>33</td>\n",
       "      <td>66</td>\n",
       "      <td>99</td>\n",
       "      <td>0.333333</td>\n",
       "    </tr>\n",
       "    <tr>\n",
       "      <th>may</th>\n",
       "      <td>43</td>\n",
       "      <td>83</td>\n",
       "      <td>126</td>\n",
       "      <td>0.341270</td>\n",
       "    </tr>\n",
       "    <tr>\n",
       "      <th>first</th>\n",
       "      <td>34</td>\n",
       "      <td>61</td>\n",
       "      <td>95</td>\n",
       "      <td>0.357895</td>\n",
       "    </tr>\n",
       "    <tr>\n",
       "      <th>write</th>\n",
       "      <td>31</td>\n",
       "      <td>55</td>\n",
       "      <td>86</td>\n",
       "      <td>0.360465</td>\n",
       "    </tr>\n",
       "    <tr>\n",
       "      <th>macos</th>\n",
       "      <td>49</td>\n",
       "      <td>84</td>\n",
       "      <td>133</td>\n",
       "      <td>0.368421</td>\n",
       "    </tr>\n",
       "    <tr>\n",
       "      <th>argument</th>\n",
       "      <td>28</td>\n",
       "      <td>47</td>\n",
       "      <td>75</td>\n",
       "      <td>0.373333</td>\n",
       "    </tr>\n",
       "    <tr>\n",
       "      <th>network</th>\n",
       "      <td>42</td>\n",
       "      <td>70</td>\n",
       "      <td>112</td>\n",
       "      <td>0.375000</td>\n",
       "    </tr>\n",
       "    <tr>\n",
       "      <th>import</th>\n",
       "      <td>103</td>\n",
       "      <td>162</td>\n",
       "      <td>265</td>\n",
       "      <td>0.388679</td>\n",
       "    </tr>\n",
       "  </tbody>\n",
       "</table>\n",
       "</div>"
      ],
      "text/plain": [
       "              js   py  all   prop_js\n",
       "airflow        0   47   47  0.000000\n",
       "str            0   60   60  0.000000\n",
       "tqdm           0   97   97  0.000000\n",
       "def            0  162  162  0.000000\n",
       "int            1   54   55  0.018182\n",
       "sudo           2  103  105  0.019048\n",
       "byte           2   61   63  0.031746\n",
       "glance         3   47   50  0.060000\n",
       "black          5   65   70  0.071429\n",
       "yes            4   49   53  0.075472\n",
       "optional       6   66   72  0.083333\n",
       "apple          9   70   79  0.113924\n",
       "security      26   80  106  0.245283\n",
       "mode          18   48   66  0.272727\n",
       "information   35   81  116  0.301724\n",
       "following     23   53   76  0.302632\n",
       "key           33   66   99  0.333333\n",
       "may           43   83  126  0.341270\n",
       "first         34   61   95  0.357895\n",
       "write         31   55   86  0.360465\n",
       "macos         49   84  133  0.368421\n",
       "argument      28   47   75  0.373333\n",
       "network       42   70  112  0.375000\n",
       "import       103  162  265  0.388679"
      ]
     },
     "execution_count": 41,
     "metadata": {},
     "output_type": "execute_result"
    }
   ],
   "source": [
    "# Python Heavy Words\n",
    "word_counts[(word_counts.prop_js < .40) & (word_counts.py > 45)].sort_values(by=['prop_js', 'py'])"
   ]
  },
  {
   "cell_type": "markdown",
   "metadata": {},
   "source": [
    "<div class=\"alert alert-block alert-info\">\n",
    "    \n",
    "**Takeaways:** \n",
    "- there are plenty of distinct words that only appear in JS and PY, those can be almost sure fire words to assign a language given the word exists in a readme.\n",
    "- we can assign a bigger vector in a model to these words depending on their rank in these lists\n",
    "</div>"
   ]
  },
  {
   "cell_type": "code",
   "execution_count": 42,
   "metadata": {},
   "outputs": [
    {
     "data": {
      "image/png": "[encoded data removed]",
      "text/plain": [
       "<Figure size 720x720 with 2 Axes>"
      ]
     },
     "metadata": {
      "needs_background": "light"
     },
     "output_type": "display_data"
    }
   ],
   "source": [
    "js_cloud = WordCloud(background_color='lightgray', \n",
    "                      height=800, width=800).generate(js_words)\n",
    "\n",
    "py_cloud = WordCloud(background_color='lightgray', \n",
    "                      height=800, width=800).generate(py_words)\n",
    "\n",
    "plt.figure(figsize=(10,10))\n",
    "axs = [plt.axes([.25, 1, .5, .5]), plt.axes([.8, 1, .5, .5])]\n",
    "\n",
    "# imshow => display data as an image\n",
    "axs[0].imshow(js_cloud)\n",
    "axs[1].imshow(py_cloud)\n",
    "\n",
    "axs[0].set_title('JS')\n",
    "axs[1].set_title('Py')\n",
    "\n",
    "for ax in axs: ax.axis('off')"
   ]
  },
  {
   "cell_type": "code",
   "execution_count": 43,
   "metadata": {},
   "outputs": [],
   "source": [
    "js_bigrams = pd.Series(list(nltk.ngrams(js_words.split(), 2))).value_counts()\n",
    "py_bigrams = pd.Series(list(nltk.ngrams(py_words.split(), 2))).value_counts()\n",
    "\n",
    "js_trigrams = pd.Series(list(nltk.ngrams(js_words.split(), 3))).value_counts()\n",
    "py_trigrams = pd.Series(list(nltk.ngrams(py_words.split(), 3))).value_counts()"
   ]
  },
  {
   "cell_type": "code",
   "execution_count": 44,
   "metadata": {},
   "outputs": [
    {
     "data": {
      "text/plain": [
       "(demo, source, code)                   211\n",
       "(source, code, mit)                    168\n",
       "(source, code, gpl30)                  105\n",
       "(source, code, agpl30)                  95\n",
       "(source, code, gpl20)                   77\n",
       "                                      ... \n",
       "(abstraction, higher, computer)          1\n",
       "(p5js, tutorial, coding)                 1\n",
       "(statement, automatically, applied)      1\n",
       "(const, objecttsssss, const)             1\n",
       "(instanceof, human, throw)               1\n",
       "Length: 50161, dtype: int64"
      ]
     },
     "execution_count": 44,
     "metadata": {},
     "output_type": "execute_result"
    }
   ],
   "source": [
    "js_trigrams"
   ]
  },
  {
   "cell_type": "code",
   "execution_count": 45,
   "metadata": {},
   "outputs": [
    {
     "data": {
      "text/plain": [
       "(yes, yes, yes)                                                              15\n",
       "(rm, rfv, getconf)                                                           14\n",
       "(sudo, rm, rfv)                                                              13\n",
       "(sudo, default, delete)                                                      10\n",
       "(tqdm, import, tqdm)                                                         10\n",
       "                                                                             ..\n",
       "(class, userviewsetviewsetsmodelviewset, queryset)                            1\n",
       "(start, conversation, someone)                                                1\n",
       "(rm, rfv, documentrevisionsv100)                                              1\n",
       "(librarypreferencescomapplebluetoothplist, scoaudiodevices, varspoolcups)     1\n",
       "(spd, facing_left, frame_cyclesplit)                                          1\n",
       "Length: 33317, dtype: int64"
      ]
     },
     "execution_count": 45,
     "metadata": {},
     "output_type": "execute_result"
    }
   ],
   "source": [
    "py_trigrams"
   ]
  },
  {
   "cell_type": "code",
   "execution_count": 48,
   "metadata": {},
   "outputs": [
    {
     "data": {
      "image/png": "[encoded data removed]",
      "text/plain": [
       "<Figure size 720x720 with 4 Axes>"
      ]
     },
     "metadata": {
      "needs_background": "light"
     },
     "output_type": "display_data"
    }
   ],
   "source": [
    "plt.subplot(221)\n",
    "js_bigrams.head(20).plot.barh(color='red', width=.9, figsize=(10, 10), alpha=.8)\n",
    "plt.title('20 most frequently occurring js bigrams')\n",
    "plt.ylabel('Bigram')\n",
    "plt.xlabel('Frequency')\n",
    "\n",
    "plt.subplot(222)\n",
    "py_bigrams.head(20).plot.barh(color='green', width=.9, figsize=(10, 10), alpha=.3)\n",
    "plt.title('20 most frequently occurring py bigrams')\n",
    "plt.ylabel('Bigram')\n",
    "plt.xlabel('Frequency')\n",
    "\n",
    "plt.subplot(223)\n",
    "js_trigrams.head(20).plot.barh(color='orange', width=.9, figsize=(10, 10), alpha=.3)\n",
    "plt.title('20 most frequently occurring js trigrams')\n",
    "plt.ylabel('Trigram')\n",
    "plt.xlabel('Frequency')\n",
    "\n",
    "plt.subplot(224)\n",
    "py_trigrams.head(20).plot.barh(color='navy', width=.9, figsize=(10, 10), alpha=.3)\n",
    "plt.title('20 most frequently occurring py trigrams')\n",
    "plt.ylabel('Trigram')\n",
    "plt.xlabel('Frequency')\n",
    "plt.tight_layout()\n",
    "plt.show()"
   ]
  },
  {
   "cell_type": "markdown",
   "metadata": {},
   "source": [
    "---\n",
    "## Model"
   ]
  },
  {
   "cell_type": "code",
   "execution_count": 82,
   "metadata": {},
   "outputs": [],
   "source": [
    "# bag of words model\n",
    "vectorizer = CountVectorizer(stop_words='english', \n",
    "                             min_df=30, \n",
    "                             ngram_range=(1,2), \n",
    "                             binary=True)\n",
    "\n",
    "# Learn vocabulary in sentences. \n",
    "vectorizer.fit(train.clean)\n",
    "\n",
    "# Get dictionary. \n",
    "vectorizer.get_feature_names()\n",
    "\n",
    "# Transform each sentences in vector space.\n",
    "bow = vectorizer.transform(train.clean)\n",
    "\n",
    "# this is just to see the array of 0's and 1's\n",
    "bow_array = bow.toarray()\n",
    "\n",
    "X_bow = bow"
   ]
  },
  {
   "cell_type": "code",
   "execution_count": 78,
   "metadata": {},
   "outputs": [],
   "source": [
    "# TF-IDF\n",
    "tfidf = TfidfVectorizer(stop_words='english', \n",
    "                        min_df=30, \n",
    "                        ngram_range=(1,2), \n",
    "                        binary=True)\n",
    "\n",
    "tfidf_sparse_matrix = tfidf.fit_transform(train.clean)\n",
    "\n",
    "# Get vocabularies.\n",
    "tfidf.vocabulary_\n",
    "\n",
    "# Transform to document-term matrix\n",
    "vector_spaces = tfidf.transform(train.clean)\n",
    "vector_spaces.toarray()\n",
    "\n",
    "X_tfidf = tfidf_sparse_matrix"
   ]
  },
  {
   "cell_type": "code",
   "execution_count": 66,
   "metadata": {},
   "outputs": [],
   "source": [
    "# create our y dataset\n",
    "y = train['language']"
   ]
  },
  {
   "cell_type": "code",
   "execution_count": 79,
   "metadata": {},
   "outputs": [],
   "source": [
    "# BOW Log Reg Model\n",
    "lm = LogisticRegression().fit(X_bow, y)\n",
    "train['predict_bow'] = lm.predict(X_bow)\n",
    "\n",
    "# TF-IDF Log Reg Model\n",
    "lm_tfidf = LogisticRegression().fit(X_tfidf, y)\n",
    "train['pred_tfidf'] = lm_tfidf.predict(X_tfidf)"
   ]
  },
  {
   "cell_type": "markdown",
   "metadata": {},
   "source": [
    "### Evaluate"
   ]
  },
  {
   "cell_type": "code",
   "execution_count": 80,
   "metadata": {},
   "outputs": [
    {
     "name": "stdout",
     "output_type": "stream",
     "text": [
      "Bag of Words Model \n",
      "               precision    recall  f1-score   support\n",
      "\n",
      "  JavaScript       1.00      1.00      1.00        42\n",
      "      Python       1.00      1.00      1.00        24\n",
      "\n",
      "    accuracy                           1.00        66\n",
      "   macro avg       1.00      1.00      1.00        66\n",
      "weighted avg       1.00      1.00      1.00        66\n",
      "\n"
     ]
    },
    {
     "data": {
      "text/html": [
       "<div>\n",
       "<style scoped>\n",
       "    .dataframe tbody tr th:only-of-type {\n",
       "        vertical-align: middle;\n",
       "    }\n",
       "\n",
       "    .dataframe tbody tr th {\n",
       "        vertical-align: top;\n",
       "    }\n",
       "\n",
       "    .dataframe thead th {\n",
       "        text-align: right;\n",
       "    }\n",
       "</style>\n",
       "<table border=\"1\" class=\"dataframe\">\n",
       "  <thead>\n",
       "    <tr style=\"text-align: right;\">\n",
       "      <th>predict_bow</th>\n",
       "      <th>JavaScript</th>\n",
       "      <th>Python</th>\n",
       "    </tr>\n",
       "    <tr>\n",
       "      <th>language</th>\n",
       "      <th></th>\n",
       "      <th></th>\n",
       "    </tr>\n",
       "  </thead>\n",
       "  <tbody>\n",
       "    <tr>\n",
       "      <th>JavaScript</th>\n",
       "      <td>42</td>\n",
       "      <td>0</td>\n",
       "    </tr>\n",
       "    <tr>\n",
       "      <th>Python</th>\n",
       "      <td>0</td>\n",
       "      <td>24</td>\n",
       "    </tr>\n",
       "  </tbody>\n",
       "</table>\n",
       "</div>"
      ],
      "text/plain": [
       "predict_bow  JavaScript  Python\n",
       "language                       \n",
       "JavaScript           42       0\n",
       "Python                0      24"
      ]
     },
     "execution_count": 80,
     "metadata": {},
     "output_type": "execute_result"
    }
   ],
   "source": [
    "print('Bag of Words Model \\n', classification_report(train.language, train.predict_bow))\n",
    "pd.crosstab(train.language, train.predict_bow)"
   ]
  },
  {
   "cell_type": "code",
   "execution_count": 81,
   "metadata": {},
   "outputs": [
    {
     "name": "stdout",
     "output_type": "stream",
     "text": [
      "TF-IDF Model \n",
      "               precision    recall  f1-score   support\n",
      "\n",
      "  JavaScript       0.71      1.00      0.83        42\n",
      "      Python       1.00      0.29      0.45        24\n",
      "\n",
      "    accuracy                           0.74        66\n",
      "   macro avg       0.86      0.65      0.64        66\n",
      "weighted avg       0.82      0.74      0.69        66\n",
      "\n"
     ]
    },
    {
     "data": {
      "text/html": [
       "<div>\n",
       "<style scoped>\n",
       "    .dataframe tbody tr th:only-of-type {\n",
       "        vertical-align: middle;\n",
       "    }\n",
       "\n",
       "    .dataframe tbody tr th {\n",
       "        vertical-align: top;\n",
       "    }\n",
       "\n",
       "    .dataframe thead th {\n",
       "        text-align: right;\n",
       "    }\n",
       "</style>\n",
       "<table border=\"1\" class=\"dataframe\">\n",
       "  <thead>\n",
       "    <tr style=\"text-align: right;\">\n",
       "      <th>pred_tfidf</th>\n",
       "      <th>JavaScript</th>\n",
       "      <th>Python</th>\n",
       "    </tr>\n",
       "    <tr>\n",
       "      <th>language</th>\n",
       "      <th></th>\n",
       "      <th></th>\n",
       "    </tr>\n",
       "  </thead>\n",
       "  <tbody>\n",
       "    <tr>\n",
       "      <th>JavaScript</th>\n",
       "      <td>42</td>\n",
       "      <td>0</td>\n",
       "    </tr>\n",
       "    <tr>\n",
       "      <th>Python</th>\n",
       "      <td>17</td>\n",
       "      <td>7</td>\n",
       "    </tr>\n",
       "  </tbody>\n",
       "</table>\n",
       "</div>"
      ],
      "text/plain": [
       "pred_tfidf  JavaScript  Python\n",
       "language                      \n",
       "JavaScript          42       0\n",
       "Python              17       7"
      ]
     },
     "execution_count": 81,
     "metadata": {},
     "output_type": "execute_result"
    }
   ],
   "source": [
    "print('TF-IDF Model \\n', classification_report(train.language, train.pred_tfidf))\n",
    "pd.crosstab(train.language, train.pred_tfidf)"
   ]
  },
  {
   "cell_type": "code",
   "execution_count": null,
   "metadata": {},
   "outputs": [],
   "source": [
    "pd.DataFrame()"
   ]
  },
  {
   "cell_type": "markdown",
   "metadata": {},
   "source": [
    "---\n",
    "## Conclusion"
   ]
  },
  {
   "cell_type": "code",
   "execution_count": null,
   "metadata": {},
   "outputs": [],
   "source": []
  }
 ],
 "metadata": {
  "kernelspec": {
   "display_name": "Python 3",
   "language": "python",
   "name": "python3"
  },
  "language_info": {
   "codemirror_mode": {
    "name": "ipython",
    "version": 3
   },
   "file_extension": ".py",
   "mimetype": "text/x-python",
   "name": "python",
   "nbconvert_exporter": "python",
   "pygments_lexer": "ipython3",
   "version": "3.7.6"
  }
 },
 "nbformat": 4,
 "nbformat_minor": 4
}
