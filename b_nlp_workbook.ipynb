{
 "cells": [
  {
   "cell_type": "markdown",
   "metadata": {},
   "source": [
    "# Natural Language Processing Project\n",
    "\n",
    ">Goals:\n",
    "- Build a dataset of 100 Github repositories' readme text\n",
    "- Explore the text of the readme's and find connections to programming language\n",
    "- Build a classification ML model that predicts the programming language used in a repo based on readme content. "
   ]
  },
  {
   "cell_type": "code",
   "execution_count": 14,
   "metadata": {},
   "outputs": [],
   "source": [
    "import numpy as np\n",
    "import pandas as pd\n",
    "\n",
    "# acquire\n",
    "from requests import get\n",
    "from bs4 import BeautifulSoup\n",
    "from time import sleep\n",
    "import os\n",
    "\n",
    "# prepare\n",
    "import unicodedata\n",
    "import re\n",
    "import json\n",
    "import nltk\n",
    "from nltk.tokenize.toktok import ToktokTokenizer\n",
    "from nltk.corpus import stopwords\n",
    "\n",
    "# explore\n",
    "from sklearn.model_selection import train_test_split\n",
    "%matplotlib inline\n",
    "import matplotlib.pyplot as plt\n",
    "import seaborn as sns\n",
    "from wordcloud import WordCloud\n",
    "\n",
    "# model\n",
    "from pprint import pprint\n",
    "from sklearn.feature_extraction.text import CountVectorizer\n",
    "from sklearn.feature_extraction.text import TfidfVectorizer\n",
    "from sklearn.metrics import confusion_matrix, classification_report"
   ]
  },
  {
   "cell_type": "markdown",
   "metadata": {},
   "source": [
    "---\n",
    "## Acquire"
   ]
  },
  {
   "cell_type": "code",
   "execution_count": 28,
   "metadata": {},
   "outputs": [],
   "source": [
    "def make_soup(url):\n",
    "    '''\n",
    "    This helper function takes in a url and requests and parses HTML\n",
    "    returning a soup object.\n",
    "    '''\n",
    "    headers = {'User-Agent': 'Sir Galahad'} \n",
    "    response = get(url, headers=headers)    \n",
    "    soup = BeautifulSoup(response.text, 'html.parser')\n",
    "    return soup"
   ]
  },
  {
   "cell_type": "code",
   "execution_count": 30,
   "metadata": {},
   "outputs": [],
   "source": [
    "def get_language_urls():\n",
    "    '''\n",
    "    This function scrapes all of the Codeup blog urls from\n",
    "    the main Codeup blog page and returns a list of urls.\n",
    "    '''\n",
    "    \n",
    "    urls = []\n",
    "    \n",
    "    languages = ['JavaScript', 'Python', 'Java', 'HTML']\n",
    "    \n",
    "    for language in languages:\n",
    "        for i in range(1,11):\n",
    "            # first page for most starred repos on GH\n",
    "            url = f'https://github.com/search?l={language}&p={i}&q=stars%3A%3E0&s=stars&type=Repositories'\n",
    "\n",
    "            urls.append(url)\n",
    "    return urls"
   ]
  },
  {
   "cell_type": "code",
   "execution_count": 31,
   "metadata": {},
   "outputs": [],
   "source": [
    "urls = get_language_urls()"
   ]
  },
  {
   "cell_type": "code",
   "execution_count": 32,
   "metadata": {},
   "outputs": [
    {
     "data": {
      "text/plain": [
       "['https://github.com/search?l=JavaScript&p=1&q=stars%3A%3E0&s=stars&type=Repositories',\n",
       " 'https://github.com/search?l=JavaScript&p=2&q=stars%3A%3E0&s=stars&type=Repositories',\n",
       " 'https://github.com/search?l=JavaScript&p=3&q=stars%3A%3E0&s=stars&type=Repositories',\n",
       " 'https://github.com/search?l=JavaScript&p=4&q=stars%3A%3E0&s=stars&type=Repositories',\n",
       " 'https://github.com/search?l=JavaScript&p=5&q=stars%3A%3E0&s=stars&type=Repositories',\n",
       " 'https://github.com/search?l=JavaScript&p=6&q=stars%3A%3E0&s=stars&type=Repositories',\n",
       " 'https://github.com/search?l=JavaScript&p=7&q=stars%3A%3E0&s=stars&type=Repositories',\n",
       " 'https://github.com/search?l=JavaScript&p=8&q=stars%3A%3E0&s=stars&type=Repositories',\n",
       " 'https://github.com/search?l=JavaScript&p=9&q=stars%3A%3E0&s=stars&type=Repositories',\n",
       " 'https://github.com/search?l=JavaScript&p=10&q=stars%3A%3E0&s=stars&type=Repositories',\n",
       " 'https://github.com/search?l=Python&p=1&q=stars%3A%3E0&s=stars&type=Repositories',\n",
       " 'https://github.com/search?l=Python&p=2&q=stars%3A%3E0&s=stars&type=Repositories',\n",
       " 'https://github.com/search?l=Python&p=3&q=stars%3A%3E0&s=stars&type=Repositories',\n",
       " 'https://github.com/search?l=Python&p=4&q=stars%3A%3E0&s=stars&type=Repositories',\n",
       " 'https://github.com/search?l=Python&p=5&q=stars%3A%3E0&s=stars&type=Repositories',\n",
       " 'https://github.com/search?l=Python&p=6&q=stars%3A%3E0&s=stars&type=Repositories',\n",
       " 'https://github.com/search?l=Python&p=7&q=stars%3A%3E0&s=stars&type=Repositories',\n",
       " 'https://github.com/search?l=Python&p=8&q=stars%3A%3E0&s=stars&type=Repositories',\n",
       " 'https://github.com/search?l=Python&p=9&q=stars%3A%3E0&s=stars&type=Repositories',\n",
       " 'https://github.com/search?l=Python&p=10&q=stars%3A%3E0&s=stars&type=Repositories',\n",
       " 'https://github.com/search?l=Java&p=1&q=stars%3A%3E0&s=stars&type=Repositories',\n",
       " 'https://github.com/search?l=Java&p=2&q=stars%3A%3E0&s=stars&type=Repositories',\n",
       " 'https://github.com/search?l=Java&p=3&q=stars%3A%3E0&s=stars&type=Repositories',\n",
       " 'https://github.com/search?l=Java&p=4&q=stars%3A%3E0&s=stars&type=Repositories',\n",
       " 'https://github.com/search?l=Java&p=5&q=stars%3A%3E0&s=stars&type=Repositories',\n",
       " 'https://github.com/search?l=Java&p=6&q=stars%3A%3E0&s=stars&type=Repositories',\n",
       " 'https://github.com/search?l=Java&p=7&q=stars%3A%3E0&s=stars&type=Repositories',\n",
       " 'https://github.com/search?l=Java&p=8&q=stars%3A%3E0&s=stars&type=Repositories',\n",
       " 'https://github.com/search?l=Java&p=9&q=stars%3A%3E0&s=stars&type=Repositories',\n",
       " 'https://github.com/search?l=Java&p=10&q=stars%3A%3E0&s=stars&type=Repositories',\n",
       " 'https://github.com/search?l=HTML&p=1&q=stars%3A%3E0&s=stars&type=Repositories',\n",
       " 'https://github.com/search?l=HTML&p=2&q=stars%3A%3E0&s=stars&type=Repositories',\n",
       " 'https://github.com/search?l=HTML&p=3&q=stars%3A%3E0&s=stars&type=Repositories',\n",
       " 'https://github.com/search?l=HTML&p=4&q=stars%3A%3E0&s=stars&type=Repositories',\n",
       " 'https://github.com/search?l=HTML&p=5&q=stars%3A%3E0&s=stars&type=Repositories',\n",
       " 'https://github.com/search?l=HTML&p=6&q=stars%3A%3E0&s=stars&type=Repositories',\n",
       " 'https://github.com/search?l=HTML&p=7&q=stars%3A%3E0&s=stars&type=Repositories',\n",
       " 'https://github.com/search?l=HTML&p=8&q=stars%3A%3E0&s=stars&type=Repositories',\n",
       " 'https://github.com/search?l=HTML&p=9&q=stars%3A%3E0&s=stars&type=Repositories',\n",
       " 'https://github.com/search?l=HTML&p=10&q=stars%3A%3E0&s=stars&type=Repositories']"
      ]
     },
     "execution_count": 32,
     "metadata": {},
     "output_type": "execute_result"
    }
   ],
   "source": [
    "urls"
   ]
  },
  {
   "cell_type": "code",
   "execution_count": 33,
   "metadata": {},
   "outputs": [],
   "source": [
    "def get_all_urls(urls):\n",
    "    '''\n",
    "    This function scrapes all of the Codeup blog urls from\n",
    "    the main Codeup blog page and returns a list of urls.\n",
    "    '''\n",
    "    \n",
    "    repo_urls = []\n",
    "    \n",
    "    for url in urls:\n",
    "        # Make request and soup object using helper\n",
    "        soup = make_soup(url)\n",
    "        sleep(1)\n",
    "        # Create a list of the anchor elements that hold the urls.\n",
    "        urls_list = soup.find_all('a', class_='v-align-middle')\n",
    "    \n",
    "        # I'm using a set comprehension to return only unique urls.\n",
    "        urls_set = {'https://github.com' + link.get('href') for link in urls_list}\n",
    "        urls_set = list(urls_set)\n",
    "        repo_urls.extend(urls_set)\n",
    "\n",
    "    # I'm converting my set to a list of urls.\n",
    "    # urls = list(urls) \n",
    "        \n",
    "    return repo_urls"
   ]
  },
  {
   "cell_type": "code",
   "execution_count": 34,
   "metadata": {},
   "outputs": [],
   "source": [
    "all_urls = get_all_urls(urls)"
   ]
  },
  {
   "cell_type": "code",
   "execution_count": 35,
   "metadata": {},
   "outputs": [
    {
     "data": {
      "text/plain": [
       "160"
      ]
     },
     "execution_count": 35,
     "metadata": {},
     "output_type": "execute_result"
    }
   ],
   "source": [
    "len(all_urls)"
   ]
  },
  {
   "cell_type": "code",
   "execution_count": 9,
   "metadata": {},
   "outputs": [],
   "source": [
    "def get_blog_articles(urls, cached=False):\n",
    "    '''\n",
    "    This function takes in a list of Codeup Blog urls and a parameter\n",
    "    with default cached == False which scrapes the title and text for each url, \n",
    "    creates a list of dictionaries with the title and text for each blog, \n",
    "    converts list to df, and returns df.\n",
    "    If cached == True, the function returns a df from a json file.\n",
    "    '''\n",
    "    if cached == True:\n",
    "        df = pd.read_json('github_repos.json')\n",
    "        \n",
    "    # cached == False completes a fresh scrape for df     \n",
    "    else:\n",
    "\n",
    "        # Create an empty list to hold dictionaries\n",
    "        articles = []\n",
    "\n",
    "        # Loop through each url in our list of urls\n",
    "        for url in urls:\n",
    "\n",
    "            # Make request and soup object using helper\n",
    "            soup = make_soup(url)\n",
    "\n",
    "            # Save the programming language of each repo in variable language\n",
    "            language = soup.find('span', class_='text-gray-dark text-bold mr-1').text\n",
    "\n",
    "            # Save the text in each repo to variable content\n",
    "            content = soup.find('article', class_=\"markdown-body entry-content container-lg\").text\n",
    "\n",
    "            # Create a dictionary holding the title and content for each blog\n",
    "            article = {'language': language, 'content': content}\n",
    "\n",
    "            # Add each dictionary to the articles list of dictionaries\n",
    "            articles.append(article)\n",
    "            \n",
    "        # convert our list of dictionaries to a df\n",
    "        df = pd.DataFrame(articles)\n",
    "\n",
    "        # Write df to a json file for faster access\n",
    "        df.to_json('github_repos.json')\n",
    "    \n",
    "    return df"
   ]
  },
  {
   "cell_type": "code",
   "execution_count": 36,
   "metadata": {},
   "outputs": [],
   "source": [
    "df = get_blog_articles(all_urls)"
   ]
  },
  {
   "cell_type": "code",
   "execution_count": 41,
   "metadata": {},
   "outputs": [],
   "source": [
    "df = pd.read_json('github_repos.json')"
   ]
  },
  {
   "cell_type": "code",
   "execution_count": 42,
   "metadata": {},
   "outputs": [
    {
     "data": {
      "text/html": [
       "<div>\n",
       "<style scoped>\n",
       "    .dataframe tbody tr th:only-of-type {\n",
       "        vertical-align: middle;\n",
       "    }\n",
       "\n",
       "    .dataframe tbody tr th {\n",
       "        vertical-align: top;\n",
       "    }\n",
       "\n",
       "    .dataframe thead th {\n",
       "        text-align: right;\n",
       "    }\n",
       "</style>\n",
       "<table border=\"1\" class=\"dataframe\">\n",
       "  <thead>\n",
       "    <tr style=\"text-align: right;\">\n",
       "      <th></th>\n",
       "      <th>language</th>\n",
       "      <th>content</th>\n",
       "    </tr>\n",
       "  </thead>\n",
       "  <tbody>\n",
       "    <tr>\n",
       "      <th>0</th>\n",
       "      <td>JavaScript</td>\n",
       "      <td>\\n\\n\\n\\n\\nBootstrap\\n\\n  Sleek, intuitive, and...</td>\n",
       "    </tr>\n",
       "    <tr>\n",
       "      <th>1</th>\n",
       "      <td>JavaScript</td>\n",
       "      <td>\\n\\n\\n\\n\\n\\n\\n\\n\\n\\n\\nSupporting Vue.js\\nVue.j...</td>\n",
       "    </tr>\n",
       "    <tr>\n",
       "      <th>2</th>\n",
       "      <td>JavaScript</td>\n",
       "      <td>\\n\\n\\n\\n\\nfreeCodeCamp.org's open-source codeb...</td>\n",
       "    </tr>\n",
       "    <tr>\n",
       "      <th>3</th>\n",
       "      <td>JavaScript</td>\n",
       "      <td>Airbnb JavaScript Style Guide() {\\nA mostly re...</td>\n",
       "    </tr>\n",
       "    <tr>\n",
       "      <th>4</th>\n",
       "      <td>JavaScript</td>\n",
       "      <td>Create React App  \\n\\nCreate React apps with n...</td>\n",
       "    </tr>\n",
       "  </tbody>\n",
       "</table>\n",
       "</div>"
      ],
      "text/plain": [
       "     language                                            content\n",
       "0  JavaScript  \\n\\n\\n\\n\\nBootstrap\\n\\n  Sleek, intuitive, and...\n",
       "1  JavaScript  \\n\\n\\n\\n\\n\\n\\n\\n\\n\\n\\nSupporting Vue.js\\nVue.j...\n",
       "2  JavaScript  \\n\\n\\n\\n\\nfreeCodeCamp.org's open-source codeb...\n",
       "3  JavaScript  Airbnb JavaScript Style Guide() {\\nA mostly re...\n",
       "4  JavaScript  Create React App  \\n\\nCreate React apps with n..."
      ]
     },
     "execution_count": 42,
     "metadata": {},
     "output_type": "execute_result"
    }
   ],
   "source": [
    "df.head()"
   ]
  },
  {
   "cell_type": "code",
   "execution_count": 44,
   "metadata": {},
   "outputs": [
    {
     "data": {
      "text/plain": [
       "JavaScript    70\n",
       "Java          50\n",
       "Python        40\n",
       "Name: language, dtype: int64"
      ]
     },
     "execution_count": 44,
     "metadata": {},
     "output_type": "execute_result"
    }
   ],
   "source": [
    "df.language.value_counts()"
   ]
  },
  {
   "cell_type": "markdown",
   "metadata": {},
   "source": [
    "---\n",
    "## Prepare"
   ]
  },
  {
   "cell_type": "markdown",
   "metadata": {},
   "source": [
    "---\n",
    "## Explore"
   ]
  },
  {
   "cell_type": "markdown",
   "metadata": {},
   "source": [
    "---\n",
    "## Model"
   ]
  },
  {
   "cell_type": "markdown",
   "metadata": {},
   "source": [
    "---\n",
    "## Conclusion"
   ]
  },
  {
   "cell_type": "code",
   "execution_count": null,
   "metadata": {},
   "outputs": [],
   "source": []
  }
 ],
 "metadata": {
  "kernelspec": {
   "display_name": "Python 3",
   "language": "python",
   "name": "python3"
  },
  "language_info": {
   "codemirror_mode": {
    "name": "ipython",
    "version": 3
   },
   "file_extension": ".py",
   "mimetype": "text/x-python",
   "name": "python",
   "nbconvert_exporter": "python",
   "pygments_lexer": "ipython3",
   "version": "3.7.6"
  }
 },
 "nbformat": 4,
 "nbformat_minor": 4
}
