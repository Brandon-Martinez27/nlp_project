{
 "cells": [
  {
   "cell_type": "code",
   "execution_count": 1,
   "metadata": {},
   "outputs": [],
   "source": [
    "import numpy as np\n",
    "import pandas as pd\n",
    "import json\n",
    "import warnings\n",
    "warnings.filterwarnings(\"ignore\")\n",
    "\n",
    "from acquire import get_language_urls, get_all_urls, get_repo_content\n",
    "from prepare import prep_repo_data\n",
    "\n",
    "from requests import get\n",
    "from bs4 import BeautifulSoup\n",
    "from time import sleep\n",
    "import os"
   ]
  },
  {
   "cell_type": "code",
   "execution_count": 2,
   "metadata": {},
   "outputs": [],
   "source": [
    "def make_soup(url):\n",
    "    '''\n",
    "    This helper function takes in a url and requests and parses HTML\n",
    "    returning a soup object.\n",
    "    '''\n",
    "    headers = {'User-Agent': 'Sir Galahad'} \n",
    "    response = get(url, headers=headers)    \n",
    "    soup = BeautifulSoup(response.text, 'html.parser')\n",
    "    return soup"
   ]
  },
  {
   "cell_type": "code",
   "execution_count": 3,
   "metadata": {},
   "outputs": [],
   "source": [
    "def get_language_urls(n,m):\n",
    "    '''\n",
    "    This function scrapes the GH search results for most starred \n",
    "    pages from each language from page n to m pages of each \n",
    "    and returns a list of urls.\n",
    "    '''\n",
    "    # create empty list to hold urls\n",
    "    urls = []\n",
    "    # create list of languages to search for\n",
    "    languages = ['JavaScript', 'Python']\n",
    "    # loop through the languages\n",
    "    for language in languages:\n",
    "        # loop throught the page numbers\n",
    "        for i in range(n,m+1):\n",
    "            # each page for most starred repos on GH\n",
    "            url = f'https://github.com/search?l={language}&p={i}&q=stars%3A%3E0&s=stars&type=Repositories'\n",
    "            # append the url to the urls list\n",
    "            urls.append(url)\n",
    "    return urls"
   ]
  },
  {
   "cell_type": "code",
   "execution_count": 4,
   "metadata": {
    "scrolled": true
   },
   "outputs": [],
   "source": [
    "# first 15 search pages of urls for JS and Python\n",
    "#search_urls = get_language_urls(1,15)\n",
    "#search_urls"
   ]
  },
  {
   "cell_type": "code",
   "execution_count": 36,
   "metadata": {},
   "outputs": [],
   "source": [
    "# second 15 search pages of urls for JS and Python\n",
    "search_urls2 =get_language_urls(16, 30)\n",
    "#search_urls2"
   ]
  },
  {
   "cell_type": "code",
   "execution_count": 37,
   "metadata": {},
   "outputs": [],
   "source": [
    "def get_all_urls(urls):\n",
    "    '''\n",
    "    This function scrapes all of the urls from\n",
    "    the GH search results pages and returns a complete list of urls.\n",
    "    '''\n",
    "    # create empty list\n",
    "    repo_urls = []\n",
    "    n=0\n",
    "    # loop through each url in urls list\n",
    "    for url in urls:\n",
    "        # Make request and soup object using helper function\n",
    "        soup = make_soup(url)\n",
    "        # delay 1 second between fetch\n",
    "        sleep(8)\n",
    "        n = n + 1\n",
    "        print(f\"Scraping loop number {n}\")\n",
    "        # Create a list of the anchor elements that hold the urls.\n",
    "        urls_list = soup.find_all('a', class_='v-align-middle')\n",
    "        # I'm using a set comprehension to return only unique urls.\n",
    "        urls_set = {'https://github.com' + link.get('href') for link in urls_list}\n",
    "        # I'm converting my set to a list of urls.\n",
    "        urls_set = list(urls_set)\n",
    "        # extend the list with a new url as an element\n",
    "        repo_urls.extend(urls_set)        \n",
    "    return repo_urls"
   ]
  },
  {
   "cell_type": "code",
   "execution_count": 38,
   "metadata": {},
   "outputs": [
    {
     "name": "stdout",
     "output_type": "stream",
     "text": [
      "Scraping loop number 1\n",
      "Scraping loop number 2\n",
      "Scraping loop number 3\n",
      "Scraping loop number 4\n",
      "Scraping loop number 5\n",
      "Scraping loop number 6\n",
      "Scraping loop number 7\n",
      "Scraping loop number 8\n",
      "Scraping loop number 9\n",
      "Scraping loop number 10\n",
      "Scraping loop number 11\n",
      "Scraping loop number 12\n",
      "Scraping loop number 13\n",
      "Scraping loop number 14\n",
      "Scraping loop number 15\n",
      "Scraping loop number 16\n",
      "Scraping loop number 17\n",
      "Scraping loop number 18\n",
      "Scraping loop number 19\n",
      "Scraping loop number 20\n",
      "Scraping loop number 21\n",
      "Scraping loop number 22\n",
      "Scraping loop number 23\n",
      "Scraping loop number 24\n",
      "Scraping loop number 25\n",
      "Scraping loop number 26\n",
      "Scraping loop number 27\n",
      "Scraping loop number 28\n",
      "Scraping loop number 29\n",
      "Scraping loop number 30\n"
     ]
    }
   ],
   "source": [
    "#all_urls = get_all_urls(search_urls)\n",
    "all_urls2 = get_all_urls(search_urls2)"
   ]
  },
  {
   "cell_type": "code",
   "execution_count": 10,
   "metadata": {},
   "outputs": [],
   "source": [
    "#len(all_urls)"
   ]
  },
  {
   "cell_type": "code",
   "execution_count": 39,
   "metadata": {},
   "outputs": [
    {
     "data": {
      "text/plain": [
       "300"
      ]
     },
     "execution_count": 39,
     "metadata": {},
     "output_type": "execute_result"
    }
   ],
   "source": [
    "len(all_urls2)"
   ]
  },
  {
   "cell_type": "code",
   "execution_count": 12,
   "metadata": {},
   "outputs": [],
   "source": [
    "#list1 = all_urls[0:101]\n",
    "#list2 = all_urls[101:201]\n",
    "#list3 = all_urls[201:301]\n",
    "#list1 + list2 + list3 == all_urls"
   ]
  },
  {
   "cell_type": "code",
   "execution_count": 41,
   "metadata": {},
   "outputs": [
    {
     "data": {
      "text/plain": [
       "True"
      ]
     },
     "execution_count": 41,
     "metadata": {},
     "output_type": "execute_result"
    }
   ],
   "source": [
    "list4 = all_urls2[0:100]\n",
    "list5 = all_urls2[100:200]\n",
    "list6 = all_urls2[200:301]\n",
    "list4 + list5 + list6 == all_urls2"
   ]
  },
  {
   "cell_type": "code",
   "execution_count": 62,
   "metadata": {},
   "outputs": [
    {
     "data": {
      "text/plain": [
       "(100, 99, 100)"
      ]
     },
     "execution_count": 62,
     "metadata": {},
     "output_type": "execute_result"
    }
   ],
   "source": [
    "len(list4), len(list5), len(list6)"
   ]
  },
  {
   "cell_type": "code",
   "execution_count": 63,
   "metadata": {},
   "outputs": [],
   "source": [
    "def get_repo_content(urls, cached=False):\n",
    "    '''\n",
    "    This function takes in a list of Github urls and a parameter\n",
    "    with default cached == False which scrapes the language and  \n",
    "    readme text for each url, creates a list of dictionaries with \n",
    "    the title and text for each blog, converts list to df, and returns \n",
    "    df. If cached == True, the function returns a df from a json file.\n",
    "    '''\n",
    "    if cached == True:\n",
    "        df = pd.read_json('gh_repos.json')\n",
    "        \n",
    "    # cached == False completes a fresh scrape for df     \n",
    "    else:\n",
    "\n",
    "        # Create an empty list to hold dictionaries\n",
    "        articles = []\n",
    "        n=0\n",
    "        # Loop through each url in our list of urls\n",
    "        for url in urls:\n",
    "\n",
    "            # Make request and soup object using helper\n",
    "            soup = make_soup(url)\n",
    "            sleep(1)\n",
    "            n = n + 1\n",
    "            print(f\"Scraping loop number {n}\")\n",
    "            \n",
    "            # Save the programming language of each repo in variable language\n",
    "            language = soup.find('span', class_='text-gray-dark text-bold mr-1').text\n",
    "\n",
    "            # Save the repo sub url\n",
    "            repo = url[19:]\n",
    "            \n",
    "            # Save the text in each repo to variable content\n",
    "            content = soup.find('article', class_=\"markdown-body entry-content container-lg\").text\n",
    "\n",
    "            # Create a dictionary holding the title and content for each blog\n",
    "            article = {'language': language, 'repo': repo, 'content': content}\n",
    "\n",
    "            # Add each dictionary to the articles list of dictionaries\n",
    "            articles.append(article)\n",
    "            \n",
    "        # convert our list of dictionaries to a df\n",
    "        df = pd.DataFrame(articles)\n",
    "\n",
    "        # Write df to a json file for faster access\n",
    "        df.to_json('gh_repos5.json')\n",
    "    \n",
    "    return df"
   ]
  },
  {
   "cell_type": "code",
   "execution_count": 15,
   "metadata": {},
   "outputs": [],
   "source": [
    "#gh_repos.json\n",
    "#df1 = get_repo_content(list1)"
   ]
  },
  {
   "cell_type": "code",
   "execution_count": 16,
   "metadata": {},
   "outputs": [],
   "source": [
    "#gh_repos2.json\n",
    "#df2 = get_repo_content(list2)"
   ]
  },
  {
   "cell_type": "code",
   "execution_count": 17,
   "metadata": {},
   "outputs": [],
   "source": [
    "#gh_repos3.json\n",
    "#df3 = get_repo_content(list3)"
   ]
  },
  {
   "cell_type": "code",
   "execution_count": 47,
   "metadata": {},
   "outputs": [],
   "source": [
    "#gh_repos4.json\n",
    "#df4 = get_repo_content(list4)"
   ]
  },
  {
   "cell_type": "code",
   "execution_count": 89,
   "metadata": {},
   "outputs": [],
   "source": [
    "#gh_repos5.json\n",
    "#df5 = get_repo_content(list5)"
   ]
  },
  {
   "cell_type": "code",
   "execution_count": 88,
   "metadata": {},
   "outputs": [],
   "source": [
    "#gh_repos6.json\n",
    "#df6 = get_repo_content(list6)"
   ]
  },
  {
   "cell_type": "code",
   "execution_count": 68,
   "metadata": {},
   "outputs": [
    {
     "data": {
      "text/plain": [
       "(100, 3)"
      ]
     },
     "execution_count": 68,
     "metadata": {},
     "output_type": "execute_result"
    }
   ],
   "source": [
    "df6.shape"
   ]
  },
  {
   "cell_type": "code",
   "execution_count": 26,
   "metadata": {},
   "outputs": [],
   "source": [
    "df1 = pd.read_json('gh_repos.json')\n",
    "df2 = pd.read_json('gh_repos2.json')\n",
    "df3 = pd.read_json('gh_repos3.json')\n",
    "df4 = pd.read_json('gh_repos4.json')\n",
    "df5 = pd.read_json('gh_repos5.json')\n",
    "df6 = pd.read_json('gh_repos6.json')"
   ]
  },
  {
   "cell_type": "code",
   "execution_count": 79,
   "metadata": {},
   "outputs": [],
   "source": [
    "df = pd.concat([df1, df2, df3, df4, df5, df6]).reset_index().drop(columns='index')"
   ]
  },
  {
   "cell_type": "code",
   "execution_count": 80,
   "metadata": {
    "scrolled": true
   },
   "outputs": [
    {
     "data": {
      "text/html": [
       "<div>\n",
       "<style scoped>\n",
       "    .dataframe tbody tr th:only-of-type {\n",
       "        vertical-align: middle;\n",
       "    }\n",
       "\n",
       "    .dataframe tbody tr th {\n",
       "        vertical-align: top;\n",
       "    }\n",
       "\n",
       "    .dataframe thead th {\n",
       "        text-align: right;\n",
       "    }\n",
       "</style>\n",
       "<table border=\"1\" class=\"dataframe\">\n",
       "  <thead>\n",
       "    <tr style=\"text-align: right;\">\n",
       "      <th></th>\n",
       "      <th>language</th>\n",
       "      <th>repo</th>\n",
       "      <th>content</th>\n",
       "    </tr>\n",
       "  </thead>\n",
       "  <tbody>\n",
       "    <tr>\n",
       "      <th>0</th>\n",
       "      <td>JavaScript</td>\n",
       "      <td>facebook/react</td>\n",
       "      <td>React ·    \\nReact is a JavaScript library for...</td>\n",
       "    </tr>\n",
       "    <tr>\n",
       "      <th>1</th>\n",
       "      <td>JavaScript</td>\n",
       "      <td>d3/d3</td>\n",
       "      <td>D3: Data-Driven Documents\\n\\nD3 (or D3.js) is ...</td>\n",
       "    </tr>\n",
       "    <tr>\n",
       "      <th>2</th>\n",
       "      <td>JavaScript</td>\n",
       "      <td>vuejs/vue</td>\n",
       "      <td>\\n\\n\\n\\n\\n\\n\\n\\n\\n\\n\\nSupporting Vue.js\\nVue.j...</td>\n",
       "    </tr>\n",
       "    <tr>\n",
       "      <th>3</th>\n",
       "      <td>JavaScript</td>\n",
       "      <td>axios/axios</td>\n",
       "      <td>axios\\n\\n\\n\\n\\n\\n\\n\\n\\nPromise based HTTP clie...</td>\n",
       "    </tr>\n",
       "    <tr>\n",
       "      <th>4</th>\n",
       "      <td>JavaScript</td>\n",
       "      <td>facebook/create-react-app</td>\n",
       "      <td>Create React App  \\n\\nCreate React apps with n...</td>\n",
       "    </tr>\n",
       "  </tbody>\n",
       "</table>\n",
       "</div>"
      ],
      "text/plain": [
       "     language                       repo  \\\n",
       "0  JavaScript             facebook/react   \n",
       "1  JavaScript                      d3/d3   \n",
       "2  JavaScript                  vuejs/vue   \n",
       "3  JavaScript                axios/axios   \n",
       "4  JavaScript  facebook/create-react-app   \n",
       "\n",
       "                                             content  \n",
       "0  React ·    \\nReact is a JavaScript library for...  \n",
       "1  D3: Data-Driven Documents\\n\\nD3 (or D3.js) is ...  \n",
       "2  \\n\\n\\n\\n\\n\\n\\n\\n\\n\\n\\nSupporting Vue.js\\nVue.j...  \n",
       "3  axios\\n\\n\\n\\n\\n\\n\\n\\n\\nPromise based HTTP clie...  \n",
       "4  Create React App  \\n\\nCreate React apps with n...  "
      ]
     },
     "execution_count": 80,
     "metadata": {},
     "output_type": "execute_result"
    }
   ],
   "source": [
    "df.head()"
   ]
  },
  {
   "cell_type": "code",
   "execution_count": 81,
   "metadata": {},
   "outputs": [
    {
     "data": {
      "text/plain": [
       "idank/explainshell          2\n",
       "sivel/speedtest-cli         2\n",
       "kovidgoyal/calibre          2\n",
       "microsoft/recommenders      2\n",
       "pytorch/fairseq             2\n",
       "                           ..\n",
       "highlightjs/highlight.js    1\n",
       "facebook/draft-js           1\n",
       "mysqljs/mysql               1\n",
       "harelba/q                   1\n",
       "pallets/click               1\n",
       "Name: repo, Length: 581, dtype: int64"
      ]
     },
     "execution_count": 81,
     "metadata": {},
     "output_type": "execute_result"
    }
   ],
   "source": [
    "df.repo.value_counts()"
   ]
  },
  {
   "cell_type": "code",
   "execution_count": 82,
   "metadata": {},
   "outputs": [],
   "source": [
    "df.to_json('repos.json')"
   ]
  },
  {
   "cell_type": "code",
   "execution_count": 84,
   "metadata": {},
   "outputs": [],
   "source": [
    "prep_df = prep_repo_data(df, 'content')"
   ]
  },
  {
   "cell_type": "code",
   "execution_count": 85,
   "metadata": {},
   "outputs": [],
   "source": [
    "prep_df.to_json('repos_clean.json')"
   ]
  },
  {
   "cell_type": "code",
   "execution_count": 86,
   "metadata": {},
   "outputs": [
    {
     "data": {
      "text/plain": [
       "(581, 6)"
      ]
     },
     "execution_count": 86,
     "metadata": {},
     "output_type": "execute_result"
    }
   ],
   "source": [
    "prep_df.shape"
   ]
  },
  {
   "cell_type": "code",
   "execution_count": 87,
   "metadata": {},
   "outputs": [
    {
     "data": {
      "text/html": [
       "<div>\n",
       "<style scoped>\n",
       "    .dataframe tbody tr th:only-of-type {\n",
       "        vertical-align: middle;\n",
       "    }\n",
       "\n",
       "    .dataframe tbody tr th {\n",
       "        vertical-align: top;\n",
       "    }\n",
       "\n",
       "    .dataframe thead th {\n",
       "        text-align: right;\n",
       "    }\n",
       "</style>\n",
       "<table border=\"1\" class=\"dataframe\">\n",
       "  <thead>\n",
       "    <tr style=\"text-align: right;\">\n",
       "      <th></th>\n",
       "      <th>language</th>\n",
       "      <th>repo</th>\n",
       "      <th>content</th>\n",
       "      <th>stemmed</th>\n",
       "      <th>lemmatized</th>\n",
       "      <th>clean</th>\n",
       "    </tr>\n",
       "  </thead>\n",
       "  <tbody>\n",
       "    <tr>\n",
       "      <th>0</th>\n",
       "      <td>JavaScript</td>\n",
       "      <td>facebook/react</td>\n",
       "      <td>React ·    \\nReact is a JavaScript library for...</td>\n",
       "      <td>react react is a javascript librari for build ...</td>\n",
       "      <td>react react is a javascript library for buildi...</td>\n",
       "      <td>react react javascript library building user i...</td>\n",
       "    </tr>\n",
       "    <tr>\n",
       "      <th>1</th>\n",
       "      <td>JavaScript</td>\n",
       "      <td>d3/d3</td>\n",
       "      <td>D3: Data-Driven Documents\\n\\nD3 (or D3.js) is ...</td>\n",
       "      <td>d3 datadriven document d3 or d3j is a javascri...</td>\n",
       "      <td>d3 datadriven document d3 or d3js is a javascr...</td>\n",
       "      <td>d3 datadriven document d3 d3js javascript libr...</td>\n",
       "    </tr>\n",
       "    <tr>\n",
       "      <th>2</th>\n",
       "      <td>JavaScript</td>\n",
       "      <td>vuejs/vue</td>\n",
       "      <td>\\n\\n\\n\\n\\n\\n\\n\\n\\n\\n\\nSupporting Vue.js\\nVue.j...</td>\n",
       "      <td>support vuej vuej is an mitlicens open sourc p...</td>\n",
       "      <td>supporting vuejs vuejs is an mitlicensed open ...</td>\n",
       "      <td>supporting vuejs vuejs mitlicensed open source...</td>\n",
       "    </tr>\n",
       "    <tr>\n",
       "      <th>3</th>\n",
       "      <td>JavaScript</td>\n",
       "      <td>axios/axios</td>\n",
       "      <td>axios\\n\\n\\n\\n\\n\\n\\n\\n\\nPromise based HTTP clie...</td>\n",
       "      <td>axio promis base http client for the browser a...</td>\n",
       "      <td>axios promise based http client for the browse...</td>\n",
       "      <td>axios promise based http client browser nodejs...</td>\n",
       "    </tr>\n",
       "    <tr>\n",
       "      <th>4</th>\n",
       "      <td>JavaScript</td>\n",
       "      <td>facebook/create-react-app</td>\n",
       "      <td>Create React App  \\n\\nCreate React apps with n...</td>\n",
       "      <td>creat react app creat react app with no build ...</td>\n",
       "      <td>create react app create react apps with no bui...</td>\n",
       "      <td>create react app create react apps build confi...</td>\n",
       "    </tr>\n",
       "  </tbody>\n",
       "</table>\n",
       "</div>"
      ],
      "text/plain": [
       "     language                       repo  \\\n",
       "0  JavaScript             facebook/react   \n",
       "1  JavaScript                      d3/d3   \n",
       "2  JavaScript                  vuejs/vue   \n",
       "3  JavaScript                axios/axios   \n",
       "4  JavaScript  facebook/create-react-app   \n",
       "\n",
       "                                             content  \\\n",
       "0  React ·    \\nReact is a JavaScript library for...   \n",
       "1  D3: Data-Driven Documents\\n\\nD3 (or D3.js) is ...   \n",
       "2  \\n\\n\\n\\n\\n\\n\\n\\n\\n\\n\\nSupporting Vue.js\\nVue.j...   \n",
       "3  axios\\n\\n\\n\\n\\n\\n\\n\\n\\nPromise based HTTP clie...   \n",
       "4  Create React App  \\n\\nCreate React apps with n...   \n",
       "\n",
       "                                             stemmed  \\\n",
       "0  react react is a javascript librari for build ...   \n",
       "1  d3 datadriven document d3 or d3j is a javascri...   \n",
       "2  support vuej vuej is an mitlicens open sourc p...   \n",
       "3  axio promis base http client for the browser a...   \n",
       "4  creat react app creat react app with no build ...   \n",
       "\n",
       "                                          lemmatized  \\\n",
       "0  react react is a javascript library for buildi...   \n",
       "1  d3 datadriven document d3 or d3js is a javascr...   \n",
       "2  supporting vuejs vuejs is an mitlicensed open ...   \n",
       "3  axios promise based http client for the browse...   \n",
       "4  create react app create react apps with no bui...   \n",
       "\n",
       "                                               clean  \n",
       "0  react react javascript library building user i...  \n",
       "1  d3 datadriven document d3 d3js javascript libr...  \n",
       "2  supporting vuejs vuejs mitlicensed open source...  \n",
       "3  axios promise based http client browser nodejs...  \n",
       "4  create react app create react apps build confi...  "
      ]
     },
     "execution_count": 87,
     "metadata": {},
     "output_type": "execute_result"
    }
   ],
   "source": [
    "prep_df.head()"
   ]
  },
  {
   "cell_type": "code",
   "execution_count": null,
   "metadata": {},
   "outputs": [],
   "source": []
  }
 ],
 "metadata": {
  "kernelspec": {
   "display_name": "Python 3",
   "language": "python",
   "name": "python3"
  },
  "language_info": {
   "codemirror_mode": {
    "name": "ipython",
    "version": 3
   },
   "file_extension": ".py",
   "mimetype": "text/x-python",
   "name": "python",
   "nbconvert_exporter": "python",
   "pygments_lexer": "ipython3",
   "version": "3.7.6"
  }
 },
 "nbformat": 4,
 "nbformat_minor": 4
}
