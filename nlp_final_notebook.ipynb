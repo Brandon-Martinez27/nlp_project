{
 "cells": [
  {
   "cell_type": "markdown",
   "metadata": {},
   "source": [
    "# Natural Language Processing Project\n",
    "\n",
    ">Goals:\n",
    "- Build a dataset of 100 Github repositories' readme text\n",
    "- Explore the text of the readme's and find connections to programming language\n",
    "- Build a classification ML model that predicts the programming language used in a repo based on readme content. "
   ]
  },
  {
   "cell_type": "code",
   "execution_count": 1,
   "metadata": {},
   "outputs": [
    {
     "name": "stdout",
     "output_type": "stream",
     "text": [
      "Prepare module loaded.\n"
     ]
    }
   ],
   "source": [
    "import numpy as np\n",
    "import pandas as pd\n",
    "import json\n",
    "import re\n",
    "import warnings\n",
    "warnings.filterwarnings(\"ignore\")\n",
    "\n",
    "from prepare import add_columns, split_repo_data\n",
    "from explore import word_string, word_freq, word_counts, word_cloud\n",
    "from explore import ngrams, plot_ngrams\n",
    "import seaborn as sns\n",
    "import matplotlib.pyplot as plt"
   ]
  },
  {
   "cell_type": "markdown",
   "metadata": {},
   "source": [
    "---\n",
    "## Acquire"
   ]
  },
  {
   "cell_type": "code",
   "execution_count": 2,
   "metadata": {},
   "outputs": [],
   "source": [
    "# raw data\n",
    "df = pd.read_json('repos.json')"
   ]
  },
  {
   "cell_type": "code",
   "execution_count": 3,
   "metadata": {},
   "outputs": [
    {
     "name": "stdout",
     "output_type": "stream",
     "text": [
      "<class 'pandas.core.frame.DataFrame'>\n",
      "Int64Index: 599 entries, 0 to 598\n",
      "Data columns (total 3 columns):\n",
      " #   Column    Non-Null Count  Dtype \n",
      "---  ------    --------------  ----- \n",
      " 0   language  599 non-null    object\n",
      " 1   repo      599 non-null    object\n",
      " 2   content   599 non-null    object\n",
      "dtypes: object(3)\n",
      "memory usage: 18.7+ KB\n"
     ]
    }
   ],
   "source": [
    "# summary of data\n",
    "df.info()"
   ]
  },
  {
   "cell_type": "code",
   "execution_count": 4,
   "metadata": {},
   "outputs": [
    {
     "data": {
      "text/html": [
       "<div>\n",
       "<style scoped>\n",
       "    .dataframe tbody tr th:only-of-type {\n",
       "        vertical-align: middle;\n",
       "    }\n",
       "\n",
       "    .dataframe tbody tr th {\n",
       "        vertical-align: top;\n",
       "    }\n",
       "\n",
       "    .dataframe thead th {\n",
       "        text-align: right;\n",
       "    }\n",
       "</style>\n",
       "<table border=\"1\" class=\"dataframe\">\n",
       "  <thead>\n",
       "    <tr style=\"text-align: right;\">\n",
       "      <th></th>\n",
       "      <th>language</th>\n",
       "      <th>repo</th>\n",
       "      <th>content</th>\n",
       "    </tr>\n",
       "  </thead>\n",
       "  <tbody>\n",
       "    <tr>\n",
       "      <th>0</th>\n",
       "      <td>JavaScript</td>\n",
       "      <td>facebook/react</td>\n",
       "      <td>React ·    \\nReact is a JavaScript library for...</td>\n",
       "    </tr>\n",
       "    <tr>\n",
       "      <th>1</th>\n",
       "      <td>JavaScript</td>\n",
       "      <td>d3/d3</td>\n",
       "      <td>D3: Data-Driven Documents\\n\\nD3 (or D3.js) is ...</td>\n",
       "    </tr>\n",
       "    <tr>\n",
       "      <th>2</th>\n",
       "      <td>JavaScript</td>\n",
       "      <td>vuejs/vue</td>\n",
       "      <td>\\n\\n\\n\\n\\n\\n\\n\\n\\n\\n\\nSupporting Vue.js\\nVue.j...</td>\n",
       "    </tr>\n",
       "    <tr>\n",
       "      <th>3</th>\n",
       "      <td>JavaScript</td>\n",
       "      <td>axios/axios</td>\n",
       "      <td>axios\\n\\n\\n\\n\\n\\n\\n\\n\\nPromise based HTTP clie...</td>\n",
       "    </tr>\n",
       "    <tr>\n",
       "      <th>4</th>\n",
       "      <td>JavaScript</td>\n",
       "      <td>facebook/create-react-app</td>\n",
       "      <td>Create React App  \\n\\nCreate React apps with n...</td>\n",
       "    </tr>\n",
       "  </tbody>\n",
       "</table>\n",
       "</div>"
      ],
      "text/plain": [
       "     language                       repo  \\\n",
       "0  JavaScript             facebook/react   \n",
       "1  JavaScript                      d3/d3   \n",
       "2  JavaScript                  vuejs/vue   \n",
       "3  JavaScript                axios/axios   \n",
       "4  JavaScript  facebook/create-react-app   \n",
       "\n",
       "                                             content  \n",
       "0  React ·    \\nReact is a JavaScript library for...  \n",
       "1  D3: Data-Driven Documents\\n\\nD3 (or D3.js) is ...  \n",
       "2  \\n\\n\\n\\n\\n\\n\\n\\n\\n\\n\\nSupporting Vue.js\\nVue.j...  \n",
       "3  axios\\n\\n\\n\\n\\n\\n\\n\\n\\nPromise based HTTP clie...  \n",
       "4  Create React App  \\n\\nCreate React apps with n...  "
      ]
     },
     "execution_count": 4,
     "metadata": {},
     "output_type": "execute_result"
    }
   ],
   "source": [
    "df.head()"
   ]
  },
  {
   "cell_type": "code",
   "execution_count": 5,
   "metadata": {},
   "outputs": [
    {
     "data": {
      "text/plain": [
       "JavaScript    300\n",
       "Python        299\n",
       "Name: language, dtype: int64"
      ]
     },
     "execution_count": 5,
     "metadata": {},
     "output_type": "execute_result"
    }
   ],
   "source": [
    "# how many of each language\n",
    "df.language.value_counts()"
   ]
  },
  {
   "cell_type": "code",
   "execution_count": 6,
   "metadata": {},
   "outputs": [
    {
     "data": {
      "text/plain": [
       "581"
      ]
     },
     "execution_count": 6,
     "metadata": {},
     "output_type": "execute_result"
    }
   ],
   "source": [
    "# number of unique repos\n",
    "df.repo.nunique()"
   ]
  },
  {
   "cell_type": "markdown",
   "metadata": {},
   "source": [
    "<div class=\"alert alert-block alert-info\">\n",
    "<b>Summary</b>:\n",
    "    <li> Data acquired using the BeautifulSoup library </li>\n",
    "<li> Used helper functions to get requests to the first 30 search pages of most starred repos for Javascript and Python. </li>\n",
    " <li>Used helper function to parse HTML to find certain elements that contained the <i>programming language</i>, <i>repo-sub url</i>, and the <i>readme content</i> for each repo among said pages and saved to a DataFrame. Stored as a json file locally for reproduction.</li>\n",
    "</div>"
   ]
  },
  {
   "cell_type": "markdown",
   "metadata": {},
   "source": [
    "---\n",
    "## Prepare"
   ]
  },
  {
   "cell_type": "code",
   "execution_count": 7,
   "metadata": {},
   "outputs": [],
   "source": [
    "# prepared data\n",
    "df = pd.read_json('repos_clean.json').reset_index().drop(columns='index')"
   ]
  },
  {
   "cell_type": "code",
   "execution_count": 8,
   "metadata": {},
   "outputs": [],
   "source": [
    "# adds list of words column and length of cleaned doc\n",
    "df = add_columns(df)"
   ]
  },
  {
   "cell_type": "code",
   "execution_count": 9,
   "metadata": {},
   "outputs": [
    {
     "name": "stdout",
     "output_type": "stream",
     "text": [
      "<class 'pandas.core.frame.DataFrame'>\n",
      "RangeIndex: 581 entries, 0 to 580\n",
      "Data columns (total 8 columns):\n",
      " #   Column      Non-Null Count  Dtype \n",
      "---  ------      --------------  ----- \n",
      " 0   language    581 non-null    object\n",
      " 1   repo        581 non-null    object\n",
      " 2   content     581 non-null    object\n",
      " 3   stemmed     581 non-null    object\n",
      " 4   lemmatized  581 non-null    object\n",
      " 5   clean       581 non-null    object\n",
      " 6   words       581 non-null    object\n",
      " 7   doc_length  581 non-null    int64 \n",
      "dtypes: int64(1), object(7)\n",
      "memory usage: 36.4+ KB\n"
     ]
    }
   ],
   "source": [
    "# prepped data summary\n",
    "df.info()"
   ]
  },
  {
   "cell_type": "code",
   "execution_count": 10,
   "metadata": {},
   "outputs": [],
   "source": [
    "# split the data\n",
    "train, validate, test = split_repo_data(df)"
   ]
  },
  {
   "cell_type": "code",
   "execution_count": 11,
   "metadata": {},
   "outputs": [
    {
     "name": "stdout",
     "output_type": "stream",
     "text": [
      "JavaScript    180\n",
      "Python        168\n",
      "Name: language, dtype: int64 \n",
      "\n",
      "JavaScript    60\n",
      "Python        56\n",
      "Name: language, dtype: int64 \n",
      "\n",
      "JavaScript    60\n",
      "Python        57\n",
      "Name: language, dtype: int64\n"
     ]
    },
    {
     "data": {
      "text/html": [
       "<div>\n",
       "<style scoped>\n",
       "    .dataframe tbody tr th:only-of-type {\n",
       "        vertical-align: middle;\n",
       "    }\n",
       "\n",
       "    .dataframe tbody tr th {\n",
       "        vertical-align: top;\n",
       "    }\n",
       "\n",
       "    .dataframe thead th {\n",
       "        text-align: right;\n",
       "    }\n",
       "</style>\n",
       "<table border=\"1\" class=\"dataframe\">\n",
       "  <thead>\n",
       "    <tr style=\"text-align: right;\">\n",
       "      <th></th>\n",
       "      <th>language</th>\n",
       "      <th>clean</th>\n",
       "      <th>words</th>\n",
       "      <th>doc_length</th>\n",
       "    </tr>\n",
       "  </thead>\n",
       "  <tbody>\n",
       "    <tr>\n",
       "      <th>277</th>\n",
       "      <td>Python</td>\n",
       "      <td>welcome streamlit fastest way build share data...</td>\n",
       "      <td>[welcome, streamlit, fastest, way, build, shar...</td>\n",
       "      <td>202</td>\n",
       "    </tr>\n",
       "    <tr>\n",
       "      <th>97</th>\n",
       "      <td>JavaScript</td>\n",
       "      <td>translation espaol deutsch portugus trke add f...</td>\n",
       "      <td>[translation, espaol, deutsch, portugus, trke,...</td>\n",
       "      <td>633</td>\n",
       "    </tr>\n",
       "    <tr>\n",
       "      <th>501</th>\n",
       "      <td>Python</td>\n",
       "      <td>plotlypy latest release user forum pypi downlo...</td>\n",
       "      <td>[plotlypy, latest, release, user, forum, pypi,...</td>\n",
       "      <td>399</td>\n",
       "    </tr>\n",
       "  </tbody>\n",
       "</table>\n",
       "</div>"
      ],
      "text/plain": [
       "       language                                              clean  \\\n",
       "277      Python  welcome streamlit fastest way build share data...   \n",
       "97   JavaScript  translation espaol deutsch portugus trke add f...   \n",
       "501      Python  plotlypy latest release user forum pypi downlo...   \n",
       "\n",
       "                                                 words  doc_length  \n",
       "277  [welcome, streamlit, fastest, way, build, shar...         202  \n",
       "97   [translation, espaol, deutsch, portugus, trke,...         633  \n",
       "501  [plotlypy, latest, release, user, forum, pypi,...         399  "
      ]
     },
     "execution_count": 11,
     "metadata": {},
     "output_type": "execute_result"
    }
   ],
   "source": [
    "print(train.language.value_counts(), '\\n')\n",
    "print(validate.language.value_counts(), '\\n')\n",
    "print(test.language.value_counts())\n",
    "train.head(3)"
   ]
  },
  {
   "cell_type": "markdown",
   "metadata": {},
   "source": [
    "<div class=\"alert alert-block alert-info\">\n",
    "<b>Summary</b>:\n",
    "    <li>Readme content is normalized, tokenized, stemmed, lemmatized, and stopwords are removed to produce \"clean\" content.</li>\n",
    "    <li>Duplicate repos are removed and 2 columns are created</li>\n",
    "    <li>The data is split into train, validate, and, test; stratifying on the programming language.</li>\n",
    "</div>"
   ]
  },
  {
   "cell_type": "markdown",
   "metadata": {},
   "source": [
    "---\n",
    "## Explore"
   ]
  },
  {
   "cell_type": "markdown",
   "metadata": {},
   "source": [
    "> **What's the proportion of each language in our data?**"
   ]
  },
  {
   "cell_type": "code",
   "execution_count": 12,
   "metadata": {},
   "outputs": [
    {
     "data": {
      "text/html": [
       "<div>\n",
       "<style scoped>\n",
       "    .dataframe tbody tr th:only-of-type {\n",
       "        vertical-align: middle;\n",
       "    }\n",
       "\n",
       "    .dataframe tbody tr th {\n",
       "        vertical-align: top;\n",
       "    }\n",
       "\n",
       "    .dataframe thead th {\n",
       "        text-align: right;\n",
       "    }\n",
       "</style>\n",
       "<table border=\"1\" class=\"dataframe\">\n",
       "  <thead>\n",
       "    <tr style=\"text-align: right;\">\n",
       "      <th></th>\n",
       "      <th>n</th>\n",
       "      <th>percent</th>\n",
       "    </tr>\n",
       "  </thead>\n",
       "  <tbody>\n",
       "    <tr>\n",
       "      <th>JavaScript</th>\n",
       "      <td>180</td>\n",
       "      <td>0.517241</td>\n",
       "    </tr>\n",
       "    <tr>\n",
       "      <th>Python</th>\n",
       "      <td>168</td>\n",
       "      <td>0.482759</td>\n",
       "    </tr>\n",
       "  </tbody>\n",
       "</table>\n",
       "</div>"
      ],
      "text/plain": [
       "              n   percent\n",
       "JavaScript  180  0.517241\n",
       "Python      168  0.482759"
      ]
     },
     "execution_count": 12,
     "metadata": {},
     "output_type": "execute_result"
    }
   ],
   "source": [
    "# total counts and proportions of each language \n",
    "labels = pd.concat([train.language.value_counts(), \n",
    "                    train.language.value_counts(normalize=True)], axis=1) \n",
    "labels.columns = ['n', 'percent']\n",
    "labels"
   ]
  },
  {
   "cell_type": "markdown",
   "metadata": {},
   "source": [
    "> **What are the most common words in READMEs?**"
   ]
  },
  {
   "cell_type": "code",
   "execution_count": 13,
   "metadata": {},
   "outputs": [],
   "source": [
    "# used helper functions from explore.py\n",
    "js_words, py_words, all_words = word_string(train)\n",
    "js_freq, py_freq, all_freq = word_freq(js_words, py_words, all_words)\n",
    "word_counts = word_counts(js_freq, py_freq)"
   ]
  },
  {
   "cell_type": "code",
   "execution_count": 14,
   "metadata": {},
   "outputs": [
    {
     "name": "stdout",
     "output_type": "stream",
     "text": [
      "20 Most Common Words\n"
     ]
    },
    {
     "data": {
      "text/html": [
       "<div>\n",
       "<style scoped>\n",
       "    .dataframe tbody tr th:only-of-type {\n",
       "        vertical-align: middle;\n",
       "    }\n",
       "\n",
       "    .dataframe tbody tr th {\n",
       "        vertical-align: top;\n",
       "    }\n",
       "\n",
       "    .dataframe thead th {\n",
       "        text-align: right;\n",
       "    }\n",
       "</style>\n",
       "<table border=\"1\" class=\"dataframe\">\n",
       "  <thead>\n",
       "    <tr style=\"text-align: right;\">\n",
       "      <th></th>\n",
       "      <th>js</th>\n",
       "      <th>py</th>\n",
       "      <th>all</th>\n",
       "      <th>prop_js</th>\n",
       "    </tr>\n",
       "  </thead>\n",
       "  <tbody>\n",
       "    <tr>\n",
       "      <th>python</th>\n",
       "      <td>32</td>\n",
       "      <td>1374</td>\n",
       "      <td>1406</td>\n",
       "      <td>0.022760</td>\n",
       "    </tr>\n",
       "    <tr>\n",
       "      <th>function</th>\n",
       "      <td>1032</td>\n",
       "      <td>373</td>\n",
       "      <td>1405</td>\n",
       "      <td>0.734520</td>\n",
       "    </tr>\n",
       "    <tr>\n",
       "      <th>data</th>\n",
       "      <td>384</td>\n",
       "      <td>830</td>\n",
       "      <td>1214</td>\n",
       "      <td>0.316310</td>\n",
       "    </tr>\n",
       "    <tr>\n",
       "      <th>react</th>\n",
       "      <td>1205</td>\n",
       "      <td>6</td>\n",
       "      <td>1211</td>\n",
       "      <td>0.995045</td>\n",
       "    </tr>\n",
       "    <tr>\n",
       "      <th>native</th>\n",
       "      <td>1051</td>\n",
       "      <td>27</td>\n",
       "      <td>1078</td>\n",
       "      <td>0.974954</td>\n",
       "    </tr>\n",
       "    <tr>\n",
       "      <th>default</th>\n",
       "      <td>670</td>\n",
       "      <td>363</td>\n",
       "      <td>1033</td>\n",
       "      <td>0.648596</td>\n",
       "    </tr>\n",
       "    <tr>\n",
       "      <th>library</th>\n",
       "      <td>330</td>\n",
       "      <td>606</td>\n",
       "      <td>936</td>\n",
       "      <td>0.352564</td>\n",
       "    </tr>\n",
       "    <tr>\n",
       "      <th>return</th>\n",
       "      <td>660</td>\n",
       "      <td>254</td>\n",
       "      <td>914</td>\n",
       "      <td>0.722101</td>\n",
       "    </tr>\n",
       "    <tr>\n",
       "      <th>object</th>\n",
       "      <td>638</td>\n",
       "      <td>265</td>\n",
       "      <td>903</td>\n",
       "      <td>0.706534</td>\n",
       "    </tr>\n",
       "    <tr>\n",
       "      <th>new</th>\n",
       "      <td>588</td>\n",
       "      <td>305</td>\n",
       "      <td>893</td>\n",
       "      <td>0.658455</td>\n",
       "    </tr>\n",
       "    <tr>\n",
       "      <th>value</th>\n",
       "      <td>584</td>\n",
       "      <td>281</td>\n",
       "      <td>865</td>\n",
       "      <td>0.675145</td>\n",
       "    </tr>\n",
       "    <tr>\n",
       "      <th>javascript</th>\n",
       "      <td>790</td>\n",
       "      <td>68</td>\n",
       "      <td>858</td>\n",
       "      <td>0.920746</td>\n",
       "    </tr>\n",
       "    <tr>\n",
       "      <th>type</th>\n",
       "      <td>673</td>\n",
       "      <td>170</td>\n",
       "      <td>843</td>\n",
       "      <td>0.798339</td>\n",
       "    </tr>\n",
       "    <tr>\n",
       "      <th>option</th>\n",
       "      <td>565</td>\n",
       "      <td>217</td>\n",
       "      <td>782</td>\n",
       "      <td>0.722506</td>\n",
       "    </tr>\n",
       "    <tr>\n",
       "      <th>true</th>\n",
       "      <td>488</td>\n",
       "      <td>292</td>\n",
       "      <td>780</td>\n",
       "      <td>0.625641</td>\n",
       "    </tr>\n",
       "    <tr>\n",
       "      <th>const</th>\n",
       "      <td>777</td>\n",
       "      <td>0</td>\n",
       "      <td>777</td>\n",
       "      <td>1.000000</td>\n",
       "    </tr>\n",
       "    <tr>\n",
       "      <th>image</th>\n",
       "      <td>285</td>\n",
       "      <td>445</td>\n",
       "      <td>730</td>\n",
       "      <td>0.390411</td>\n",
       "    </tr>\n",
       "    <tr>\n",
       "      <th>yes</th>\n",
       "      <td>13</td>\n",
       "      <td>695</td>\n",
       "      <td>708</td>\n",
       "      <td>0.018362</td>\n",
       "    </tr>\n",
       "    <tr>\n",
       "      <th>get</th>\n",
       "      <td>436</td>\n",
       "      <td>266</td>\n",
       "      <td>702</td>\n",
       "      <td>0.621083</td>\n",
       "    </tr>\n",
       "    <tr>\n",
       "      <th>learning</th>\n",
       "      <td>37</td>\n",
       "      <td>659</td>\n",
       "      <td>696</td>\n",
       "      <td>0.053161</td>\n",
       "    </tr>\n",
       "  </tbody>\n",
       "</table>\n",
       "</div>"
      ],
      "text/plain": [
       "              js    py   all   prop_js\n",
       "python        32  1374  1406  0.022760\n",
       "function    1032   373  1405  0.734520\n",
       "data         384   830  1214  0.316310\n",
       "react       1205     6  1211  0.995045\n",
       "native      1051    27  1078  0.974954\n",
       "default      670   363  1033  0.648596\n",
       "library      330   606   936  0.352564\n",
       "return       660   254   914  0.722101\n",
       "object       638   265   903  0.706534\n",
       "new          588   305   893  0.658455\n",
       "value        584   281   865  0.675145\n",
       "javascript   790    68   858  0.920746\n",
       "type         673   170   843  0.798339\n",
       "option       565   217   782  0.722506\n",
       "true         488   292   780  0.625641\n",
       "const        777     0   777  1.000000\n",
       "image        285   445   730  0.390411\n",
       "yes           13   695   708  0.018362\n",
       "get          436   266   702  0.621083\n",
       "learning      37   659   696  0.053161"
      ]
     },
     "execution_count": 14,
     "metadata": {},
     "output_type": "execute_result"
    }
   ],
   "source": [
    "# more refined list that frequents one language as opposed to the other\n",
    "print('20 Most Common Words')\n",
    "refined_wordcounts = word_counts[(word_counts.prop_js <= .40) | (word_counts.prop_js >= .60)]\n",
    "refined_wordcounts.sort_values(by=['all', 'prop_js'], ascending=False).head(20)"
   ]
  },
  {
   "cell_type": "markdown",
   "metadata": {},
   "source": [
    "> **Does the length of the README vary by programming language?**"
   ]
  },
  {
   "cell_type": "code",
   "execution_count": 15,
   "metadata": {
    "scrolled": true
   },
   "outputs": [
    {
     "data": {
      "image/png": "[encoded data removed]",
      "text/plain": [
       "<Figure size 432x288 with 1 Axes>"
      ]
     },
     "metadata": {
      "needs_background": "light"
     },
     "output_type": "display_data"
    }
   ],
   "source": [
    "sns.boxplot(y=train.language, x=train.doc_length, orient=\"h\")\n",
    "plt.xlim(-50, 3000)\n",
    "plt.rc('font', size=13)\n",
    "plt.title('Distribution of Doc Length per Language')\n",
    "plt.tight_layout()"
   ]
  },
  {
   "cell_type": "code",
   "execution_count": 16,
   "metadata": {},
   "outputs": [
    {
     "data": {
      "text/html": [
       "<div>\n",
       "<style scoped>\n",
       "    .dataframe tbody tr th:only-of-type {\n",
       "        vertical-align: middle;\n",
       "    }\n",
       "\n",
       "    .dataframe tbody tr th {\n",
       "        vertical-align: top;\n",
       "    }\n",
       "\n",
       "    .dataframe thead th {\n",
       "        text-align: right;\n",
       "    }\n",
       "</style>\n",
       "<table border=\"1\" class=\"dataframe\">\n",
       "  <thead>\n",
       "    <tr style=\"text-align: right;\">\n",
       "      <th></th>\n",
       "      <th>count</th>\n",
       "      <th>mean</th>\n",
       "      <th>std</th>\n",
       "      <th>min</th>\n",
       "      <th>25%</th>\n",
       "      <th>50%</th>\n",
       "      <th>75%</th>\n",
       "      <th>max</th>\n",
       "    </tr>\n",
       "    <tr>\n",
       "      <th>language</th>\n",
       "      <th></th>\n",
       "      <th></th>\n",
       "      <th></th>\n",
       "      <th></th>\n",
       "      <th></th>\n",
       "      <th></th>\n",
       "      <th></th>\n",
       "      <th></th>\n",
       "    </tr>\n",
       "  </thead>\n",
       "  <tbody>\n",
       "    <tr>\n",
       "      <th>JavaScript</th>\n",
       "      <td>180.0</td>\n",
       "      <td>935.266667</td>\n",
       "      <td>1530.272370</td>\n",
       "      <td>11.0</td>\n",
       "      <td>187.75</td>\n",
       "      <td>436.5</td>\n",
       "      <td>860.5</td>\n",
       "      <td>10505.0</td>\n",
       "    </tr>\n",
       "    <tr>\n",
       "      <th>Python</th>\n",
       "      <td>168.0</td>\n",
       "      <td>915.589286</td>\n",
       "      <td>1570.565409</td>\n",
       "      <td>3.0</td>\n",
       "      <td>171.25</td>\n",
       "      <td>382.0</td>\n",
       "      <td>940.0</td>\n",
       "      <td>10538.0</td>\n",
       "    </tr>\n",
       "  </tbody>\n",
       "</table>\n",
       "</div>"
      ],
      "text/plain": [
       "            count        mean          std   min     25%    50%    75%  \\\n",
       "language                                                                 \n",
       "JavaScript  180.0  935.266667  1530.272370  11.0  187.75  436.5  860.5   \n",
       "Python      168.0  915.589286  1570.565409   3.0  171.25  382.0  940.0   \n",
       "\n",
       "                max  \n",
       "language             \n",
       "JavaScript  10505.0  \n",
       "Python      10538.0  "
      ]
     },
     "execution_count": 16,
     "metadata": {},
     "output_type": "execute_result"
    }
   ],
   "source": [
    "# descriptive statistics for each languages' document length\n",
    "train.groupby('language').doc_length.describe()"
   ]
  },
  {
   "cell_type": "markdown",
   "metadata": {},
   "source": [
    "> **Do different programming languages use a different number of unique words?**"
   ]
  },
  {
   "cell_type": "code",
   "execution_count": null,
   "metadata": {},
   "outputs": [],
   "source": [
    "word_cloud(js_words, py_words)"
   ]
  },
  {
   "cell_type": "markdown",
   "metadata": {},
   "source": [
    ">**What are the highest frequencies of word combinations?** *ie. ngrams*"
   ]
  },
  {
   "cell_type": "code",
   "execution_count": null,
   "metadata": {},
   "outputs": [],
   "source": [
    "# bigrams and trigrams for each language\n",
    "js_bigrams, py_bigrams = ngrams(js_words, py_words, 2)\n",
    "js_trigrams, py_trigrams = ngrams(js_words, py_words, 3)"
   ]
  },
  {
   "cell_type": "code",
   "execution_count": null,
   "metadata": {
    "scrolled": true
   },
   "outputs": [],
   "source": [
    "plot_ngrams(js_bigrams, py_bigrams, js_trigrams, py_trigrams)"
   ]
  },
  {
   "cell_type": "code",
   "execution_count": null,
   "metadata": {},
   "outputs": [],
   "source": []
  }
 ],
 "metadata": {
  "kernelspec": {
   "display_name": "Python 3",
   "language": "python",
   "name": "python3"
  },
  "language_info": {
   "codemirror_mode": {
    "name": "ipython",
    "version": 3
   },
   "file_extension": ".py",
   "mimetype": "text/x-python",
   "name": "python",
   "nbconvert_exporter": "python",
   "pygments_lexer": "ipython3",
   "version": "3.7.6"
  }
 },
 "nbformat": 4,
 "nbformat_minor": 4
}
