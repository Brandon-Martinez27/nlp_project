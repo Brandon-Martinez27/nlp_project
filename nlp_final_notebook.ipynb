{
 "cells": [
  {
   "cell_type": "markdown",
   "metadata": {},
   "source": [
    "# Natural Language Processing Project\n",
    "\n",
    ">Goals:\n",
    "- Build a dataset of 100 Github repositories' readme text\n",
    "- Explore the text of the readme's and find connections to programming language\n",
    "- Build a classification ML model that predicts the programming language used in a repo based on readme content. "
   ]
  },
  {
   "cell_type": "code",
   "execution_count": 1,
   "metadata": {},
   "outputs": [],
   "source": [
    "import numpy as np\n",
    "import pandas as pd\n",
    "import json\n",
    "import warnings\n",
    "warnings.filterwarnings(\"ignore\")\n",
    "\n",
    "from acquire import get_language_urls, get_all_urls, get_repo_content\n",
    "from prepare import prep_repo_data"
   ]
  },
  {
   "cell_type": "markdown",
   "metadata": {},
   "source": [
    "---\n",
    "## Acquire"
   ]
  },
  {
   "cell_type": "code",
   "execution_count": 13,
   "metadata": {},
   "outputs": [],
   "source": [
    "df = pd.read_json('data2.json')"
   ]
  },
  {
   "cell_type": "code",
   "execution_count": 3,
   "metadata": {},
   "outputs": [
    {
     "name": "stdout",
     "output_type": "stream",
     "text": [
      "<class 'pandas.core.frame.DataFrame'>\n",
      "RangeIndex: 820 entries, 0 to 819\n",
      "Data columns (total 3 columns):\n",
      " #   Column           Non-Null Count  Dtype \n",
      "---  ------           --------------  ----- \n",
      " 0   repo             820 non-null    object\n",
      " 1   language         820 non-null    object\n",
      " 2   readme_contents  820 non-null    object\n",
      "dtypes: object(3)\n",
      "memory usage: 19.3+ KB\n"
     ]
    }
   ],
   "source": [
    "df.info()"
   ]
  },
  {
   "cell_type": "code",
   "execution_count": 4,
   "metadata": {},
   "outputs": [
    {
     "data": {
      "text/html": [
       "<div>\n",
       "<style scoped>\n",
       "    .dataframe tbody tr th:only-of-type {\n",
       "        vertical-align: middle;\n",
       "    }\n",
       "\n",
       "    .dataframe tbody tr th {\n",
       "        vertical-align: top;\n",
       "    }\n",
       "\n",
       "    .dataframe thead th {\n",
       "        text-align: right;\n",
       "    }\n",
       "</style>\n",
       "<table border=\"1\" class=\"dataframe\">\n",
       "  <thead>\n",
       "    <tr style=\"text-align: right;\">\n",
       "      <th></th>\n",
       "      <th>repo</th>\n",
       "      <th>language</th>\n",
       "      <th>readme_contents</th>\n",
       "    </tr>\n",
       "  </thead>\n",
       "  <tbody>\n",
       "    <tr>\n",
       "      <th>0</th>\n",
       "      <td>donnemartin/system-design-primer</td>\n",
       "      <td>Python</td>\n",
       "      <td>*[English](README.md) ∙ [日本語](README-ja.md) ∙ ...</td>\n",
       "    </tr>\n",
       "    <tr>\n",
       "      <th>1</th>\n",
       "      <td>jackfrued/Python-100-Days</td>\n",
       "      <td>Python</td>\n",
       "      <td>## Python - 100天从新手到大师\\n\\n&gt; **作者**：骆昊\\n&gt;\\n&gt; **...</td>\n",
       "    </tr>\n",
       "    <tr>\n",
       "      <th>2</th>\n",
       "      <td>vinta/awesome-python</td>\n",
       "      <td>Python</td>\n",
       "      <td># Awesome Python [![Awesome](https://cdn.rawgi...</td>\n",
       "    </tr>\n",
       "    <tr>\n",
       "      <th>3</th>\n",
       "      <td>ytdl-org/youtube-dl</td>\n",
       "      <td>Python</td>\n",
       "      <td>[![Build Status](https://travis-ci.org/ytdl-or...</td>\n",
       "    </tr>\n",
       "    <tr>\n",
       "      <th>4</th>\n",
       "      <td>public-apis/public-apis</td>\n",
       "      <td>Python</td>\n",
       "      <td># Public APIs [![Run tests](https://github.com...</td>\n",
       "    </tr>\n",
       "  </tbody>\n",
       "</table>\n",
       "</div>"
      ],
      "text/plain": [
       "                               repo language  \\\n",
       "0  donnemartin/system-design-primer   Python   \n",
       "1         jackfrued/Python-100-Days   Python   \n",
       "2              vinta/awesome-python   Python   \n",
       "3               ytdl-org/youtube-dl   Python   \n",
       "4           public-apis/public-apis   Python   \n",
       "\n",
       "                                     readme_contents  \n",
       "0  *[English](README.md) ∙ [日本語](README-ja.md) ∙ ...  \n",
       "1  ## Python - 100天从新手到大师\\n\\n> **作者**：骆昊\\n>\\n> **...  \n",
       "2  # Awesome Python [![Awesome](https://cdn.rawgi...  \n",
       "3  [![Build Status](https://travis-ci.org/ytdl-or...  \n",
       "4  # Public APIs [![Run tests](https://github.com...  "
      ]
     },
     "execution_count": 4,
     "metadata": {},
     "output_type": "execute_result"
    }
   ],
   "source": [
    "df.head()"
   ]
  },
  {
   "cell_type": "markdown",
   "metadata": {},
   "source": [
    "---\n",
    "## Prepare"
   ]
  },
  {
   "cell_type": "code",
   "execution_count": 5,
   "metadata": {},
   "outputs": [],
   "source": [
    "df = prep_repo_data(df, 'readme_contents')"
   ]
  },
  {
   "cell_type": "code",
   "execution_count": 12,
   "metadata": {},
   "outputs": [
    {
     "data": {
      "text/html": [
       "<div>\n",
       "<style scoped>\n",
       "    .dataframe tbody tr th:only-of-type {\n",
       "        vertical-align: middle;\n",
       "    }\n",
       "\n",
       "    .dataframe tbody tr th {\n",
       "        vertical-align: top;\n",
       "    }\n",
       "\n",
       "    .dataframe thead th {\n",
       "        text-align: right;\n",
       "    }\n",
       "</style>\n",
       "<table border=\"1\" class=\"dataframe\">\n",
       "  <thead>\n",
       "    <tr style=\"text-align: right;\">\n",
       "      <th></th>\n",
       "      <th>language</th>\n",
       "      <th>readme_contents</th>\n",
       "      <th>stemmed</th>\n",
       "      <th>lemmatized</th>\n",
       "      <th>clean</th>\n",
       "    </tr>\n",
       "  </thead>\n",
       "  <tbody>\n",
       "    <tr>\n",
       "      <th>0</th>\n",
       "      <td>Python</td>\n",
       "      <td>*[English](README.md) ∙ [日本語](README-ja.md) ∙ ...</td>\n",
       "      <td>englishreadmemd readmejamd readmezhhansmd read...</td>\n",
       "      <td>englishreadmemd readmejamd readmezhhansmd read...</td>\n",
       "      <td>englishreadmemd readmejamd readmezhhansmd read...</td>\n",
       "    </tr>\n",
       "    <tr>\n",
       "      <th>1</th>\n",
       "      <td>Python</td>\n",
       "      <td>## Python - 100天从新手到大师\\n\\n&gt; **作者**：骆昊\\n&gt;\\n&gt; **...</td>\n",
       "      <td>python 100 8w15pythoncore50courseshttpsgithubc...</td>\n",
       "      <td>python 100 8w15pythoncore50courseshttpsgithubc...</td>\n",
       "      <td>python 100 8w15pythoncore50courseshttpsgithubc...</td>\n",
       "    </tr>\n",
       "    <tr>\n",
       "      <th>2</th>\n",
       "      <td>Python</td>\n",
       "      <td># Awesome Python [![Awesome](https://cdn.rawgi...</td>\n",
       "      <td>awesom python awesomehttpscdnrawgitcomsindreso...</td>\n",
       "      <td>awesome python awesomehttpscdnrawgitcomsindres...</td>\n",
       "      <td>awesome python awesomehttpscdnrawgitcomsindres...</td>\n",
       "    </tr>\n",
       "    <tr>\n",
       "      <th>3</th>\n",
       "      <td>Python</td>\n",
       "      <td>[![Build Status](https://travis-ci.org/ytdl-or...</td>\n",
       "      <td>build statushttpstravisciorgytdlorgyoutubedlsv...</td>\n",
       "      <td>build statushttpstravisciorgytdlorgyoutubedlsv...</td>\n",
       "      <td>build statushttpstravisciorgytdlorgyoutubedlsv...</td>\n",
       "    </tr>\n",
       "    <tr>\n",
       "      <th>4</th>\n",
       "      <td>Python</td>\n",
       "      <td># Public APIs [![Run tests](https://github.com...</td>\n",
       "      <td>public api run testshttpsgithubcompublicapispu...</td>\n",
       "      <td>public apis run testshttpsgithubcompublicapisp...</td>\n",
       "      <td>public apis run testshttpsgithubcompublicapisp...</td>\n",
       "    </tr>\n",
       "  </tbody>\n",
       "</table>\n",
       "</div>"
      ],
      "text/plain": [
       "  language                                    readme_contents  \\\n",
       "0   Python  *[English](README.md) ∙ [日本語](README-ja.md) ∙ ...   \n",
       "1   Python  ## Python - 100天从新手到大师\\n\\n> **作者**：骆昊\\n>\\n> **...   \n",
       "2   Python  # Awesome Python [![Awesome](https://cdn.rawgi...   \n",
       "3   Python  [![Build Status](https://travis-ci.org/ytdl-or...   \n",
       "4   Python  # Public APIs [![Run tests](https://github.com...   \n",
       "\n",
       "                                             stemmed  \\\n",
       "0  englishreadmemd readmejamd readmezhhansmd read...   \n",
       "1  python 100 8w15pythoncore50courseshttpsgithubc...   \n",
       "2  awesom python awesomehttpscdnrawgitcomsindreso...   \n",
       "3  build statushttpstravisciorgytdlorgyoutubedlsv...   \n",
       "4  public api run testshttpsgithubcompublicapispu...   \n",
       "\n",
       "                                          lemmatized  \\\n",
       "0  englishreadmemd readmejamd readmezhhansmd read...   \n",
       "1  python 100 8w15pythoncore50courseshttpsgithubc...   \n",
       "2  awesome python awesomehttpscdnrawgitcomsindres...   \n",
       "3  build statushttpstravisciorgytdlorgyoutubedlsv...   \n",
       "4  public apis run testshttpsgithubcompublicapisp...   \n",
       "\n",
       "                                               clean  \n",
       "0  englishreadmemd readmejamd readmezhhansmd read...  \n",
       "1  python 100 8w15pythoncore50courseshttpsgithubc...  \n",
       "2  awesome python awesomehttpscdnrawgitcomsindres...  \n",
       "3  build statushttpstravisciorgytdlorgyoutubedlsv...  \n",
       "4  public apis run testshttpsgithubcompublicapisp...  "
      ]
     },
     "execution_count": 12,
     "metadata": {},
     "output_type": "execute_result"
    }
   ],
   "source": [
    "df.head()"
   ]
  },
  {
   "cell_type": "code",
   "execution_count": 6,
   "metadata": {},
   "outputs": [
    {
     "name": "stdout",
     "output_type": "stream",
     "text": [
      "<class 'pandas.core.frame.DataFrame'>\n",
      "Int64Index: 812 entries, 0 to 819\n",
      "Data columns (total 5 columns):\n",
      " #   Column           Non-Null Count  Dtype \n",
      "---  ------           --------------  ----- \n",
      " 0   language         812 non-null    object\n",
      " 1   readme_contents  812 non-null    object\n",
      " 2   stemmed          812 non-null    object\n",
      " 3   lemmatized       812 non-null    object\n",
      " 4   clean            812 non-null    object\n",
      "dtypes: object(5)\n",
      "memory usage: 38.1+ KB\n"
     ]
    }
   ],
   "source": [
    "df.info()"
   ]
  },
  {
   "cell_type": "code",
   "execution_count": null,
   "metadata": {},
   "outputs": [],
   "source": []
  }
 ],
 "metadata": {
  "kernelspec": {
   "display_name": "Python 3",
   "language": "python",
   "name": "python3"
  },
  "language_info": {
   "codemirror_mode": {
    "name": "ipython",
    "version": 3
   },
   "file_extension": ".py",
   "mimetype": "text/x-python",
   "name": "python",
   "nbconvert_exporter": "python",
   "pygments_lexer": "ipython3",
   "version": "3.7.6"
  }
 },
 "nbformat": 4,
 "nbformat_minor": 4
}
