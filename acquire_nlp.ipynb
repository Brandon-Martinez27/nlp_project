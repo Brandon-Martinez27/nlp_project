{
 "cells": [
  {
   "cell_type": "markdown",
   "metadata": {},
   "source": [
    "## Plan for acquire:\n",
    "\n",
    "1. Pull most forked repos. There are over 4 million forked repos, so we can easily get as many repos as we need. "
   ]
  },
  {
   "cell_type": "code",
   "execution_count": 1,
   "metadata": {},
   "outputs": [],
   "source": [
    "import numpy as np\n",
    "import pandas as pd\n",
    "\n",
    "# acquire\n",
    "from requests import get\n",
    "from bs4 import BeautifulSoup\n",
    "from time import sleep\n",
    "import os\n",
    "\n",
    "# prepare\n",
    "import unicodedata\n",
    "import re\n",
    "import json\n",
    "import nltk\n",
    "from nltk.tokenize.toktok import ToktokTokenizer\n",
    "from nltk.corpus import stopwords\n",
    "\n",
    "# explore\n",
    "from sklearn.model_selection import train_test_split\n",
    "%matplotlib inline\n",
    "import matplotlib.pyplot as plt\n",
    "import seaborn as sns\n",
    "from wordcloud import WordCloud\n",
    "\n",
    "# model\n",
    "from pprint import pprint\n",
    "from sklearn.feature_extraction.text import CountVectorizer\n",
    "from sklearn.feature_extraction.text import TfidfVectorizer\n",
    "from sklearn.metrics import confusion_matrix, classification_report"
   ]
  },
  {
   "cell_type": "code",
   "execution_count": null,
   "metadata": {},
   "outputs": [],
   "source": [
    "# Space for importing acquire/prep functions that I've saved."
   ]
  },
  {
   "cell_type": "markdown",
   "metadata": {},
   "source": [
    "# Acquire"
   ]
  },
  {
   "cell_type": "code",
   "execution_count": null,
   "metadata": {},
   "outputs": [],
   "source": [
    "# First off, going to try and grab the html from a single repo; then I'll try and go it for a full page of results."
   ]
  },
  {
   "cell_type": "code",
   "execution_count": null,
   "metadata": {},
   "outputs": [],
   "source": [
    "def make_soup(url):\n",
    "    '''\n",
    "    This helper function takes in a url and requests and parses HTML\n",
    "    returning a soup object.\n",
    "    '''\n",
    "    headers = {'User-Agent': 'Sir Galahad'} \n",
    "    response = get(url, headers=headers)    \n",
    "    soup = BeautifulSoup(response.text, 'html.parser')\n",
    "    return soup"
   ]
  },
  {
   "cell_type": "code",
   "execution_count": null,
   "metadata": {},
   "outputs": [],
   "source": [
    "def get_language_urls():\n",
    "    '''\n",
    "    This function scrapes all of the Codeup blog urls from\n",
    "    the main Codeup blog page and returns a list of urls.\n",
    "    '''\n",
    "    \n",
    "    urls = []\n",
    "    \n",
    "    languages = ['JavaScript', 'Python']\n",
    "    \n",
    "    for language in languages:\n",
    "        for i in range(1,40):\n",
    "            # first page for most starred repos on GH\n",
    "            url = f'https://github.com/search?l={language}&p={i}&q=stars%3A%3E0&s=stars&type=Repositories'\n",
    "\n",
    "            urls.append(url)\n",
    "    return urls"
   ]
  },
  {
   "cell_type": "code",
   "execution_count": null,
   "metadata": {},
   "outputs": [],
   "source": [
    "def get_single_language_urls(lang_choice):\n",
    "    '''\n",
    "    This function scrapes all of the Codeup blog urls from\n",
    "    the main Codeup blog page and returns a list of urls.\n",
    "    '''\n",
    "    \n",
    "    urls = []\n",
    "    \n",
    "    languages = [f'{lang_choice}']\n",
    "    \n",
    "    for language in languages:\n",
    "        for i in range(1,40):\n",
    "            # first page for most starred repos on GH\n",
    "            url = f'https://github.com/search?l={language}&p={i}&q=stars%3A%3E0&s=stars&type=Repositories'\n",
    "\n",
    "            urls.append(url)\n",
    "    return urls"
   ]
  },
  {
   "cell_type": "code",
   "execution_count": null,
   "metadata": {},
   "outputs": [],
   "source": [
    "def get_all_urls(urls):\n",
    "    '''\n",
    "    This function scrapes all of the urls from\n",
    "    the list of github search result urls and returns a list of urls.\n",
    "    '''\n",
    "    \n",
    "    repo_urls = []\n",
    "    n = 0\n",
    "    for url in urls:\n",
    "        # Make request and soup object using helper\n",
    "        soup = make_soup(url)\n",
    "        sleep(3)\n",
    "        n = n + 1\n",
    "        print(f\"Scraping loop number {n}\")\n",
    "        # Create a list of the anchor elements that hold the urls.\n",
    "        urls_list = soup.find_all('a', class_='v-align-middle')\n",
    "    \n",
    "        # I'm using a set comprehension to return only unique urls.\n",
    "        urls_set = {'https://github.com' + link.get('href') for link in urls_list}\n",
    "        urls_set = list(urls_set)\n",
    "        repo_urls.extend(urls_set)\n",
    "\n",
    "    # I'm converting my set to a list of urls.\n",
    "    # urls = list(urls) \n",
    "        \n",
    "    return repo_urls"
   ]
  },
  {
   "cell_type": "markdown",
   "metadata": {},
   "source": [
    "### The Plan:\n",
    "\n",
    "Run through this function process twice; once for the javascript and python. That *should* give us two separate lists of individual repo urls that are 180 urls long each; then we can concat those two lists into a complete list of 360 unique repo urls (theoretically)."
   ]
  },
  {
   "cell_type": "code",
   "execution_count": null,
   "metadata": {},
   "outputs": [],
   "source": [
    "# Getting Javascript search results:\n",
    "\n",
    "js_urls = get_single_language_urls('JavaScript')\n",
    "len(js_urls)"
   ]
  },
  {
   "cell_type": "code",
   "execution_count": null,
   "metadata": {},
   "outputs": [],
   "source": [
    "# Now getting the individual repo urls from the above javascript search results:\n",
    "\n",
    "js_repos = get_all_urls(js_urls)\n",
    "len(js_repos)"
   ]
  },
  {
   "cell_type": "code",
   "execution_count": null,
   "metadata": {
    "scrolled": true
   },
   "outputs": [],
   "source": [
    "js_repos"
   ]
  },
  {
   "cell_type": "code",
   "execution_count": null,
   "metadata": {},
   "outputs": [],
   "source": [
    "# Now doing the python repo list:\n",
    "\n",
    "py_urls = get_single_language_urls('Python')\n",
    "len(py_urls)"
   ]
  },
  {
   "cell_type": "code",
   "execution_count": null,
   "metadata": {
    "scrolled": false
   },
   "outputs": [],
   "source": [
    "# Now getting the individual repo urls from the above javascript search results:\n",
    "\n",
    "py_repos = get_all_urls(py_urls)\n",
    "len(py_repos)"
   ]
  },
  {
   "cell_type": "code",
   "execution_count": null,
   "metadata": {},
   "outputs": [],
   "source": [
    "py_repos"
   ]
  },
  {
   "cell_type": "code",
   "execution_count": null,
   "metadata": {},
   "outputs": [],
   "source": [
    "# Joining the two lists together...\n",
    "\n",
    "joined_repos = py_repos + js_repos"
   ]
  },
  {
   "cell_type": "code",
   "execution_count": null,
   "metadata": {},
   "outputs": [],
   "source": [
    "len(joined_repos)"
   ]
  },
  {
   "cell_type": "code",
   "execution_count": null,
   "metadata": {
    "scrolled": true
   },
   "outputs": [],
   "source": [
    "joined_repos"
   ]
  },
  {
   "cell_type": "code",
   "execution_count": null,
   "metadata": {},
   "outputs": [],
   "source": [
    "import github_acquire"
   ]
  },
  {
   "cell_type": "code",
   "execution_count": null,
   "metadata": {},
   "outputs": [],
   "source": [
    "new_list = []\n",
    "\n",
    "for item in joined_repos:\n",
    "    new_list.append(item[19:])"
   ]
  },
  {
   "cell_type": "code",
   "execution_count": null,
   "metadata": {},
   "outputs": [],
   "source": [
    "new_list"
   ]
  },
  {
   "cell_type": "code",
   "execution_count": null,
   "metadata": {},
   "outputs": [],
   "source": [
    "count_len = joined_repos[0]"
   ]
  },
  {
   "cell_type": "code",
   "execution_count": null,
   "metadata": {},
   "outputs": [],
   "source": [
    "count_len[19:]"
   ]
  },
  {
   "cell_type": "code",
   "execution_count": null,
   "metadata": {},
   "outputs": [],
   "source": [
    "\"\"\"\n",
    "A module for obtaining repo readme and language data from the github API.\n",
    "Before using this module, read through it, and follow the instructions marked\n",
    "TODO.\n",
    "After doing so, run it like this:\n",
    "    python acquire.py\n",
    "To create the `data.json` file that contains the data.\n",
    "\"\"\"\n",
    "import os\n",
    "import json\n",
    "from typing import Dict, List, Optional, Union, cast\n",
    "import requests\n",
    "\n",
    "from env import github_token, github_username\n",
    "\n",
    "# TODO: Make a github personal access token.\n",
    "#     1. Go here and generate a personal access token https://github.com/settings/tokens\n",
    "#        You do _not_ need select any scopes, i.e. leave all the checkboxes unchecked\n",
    "#     2. Save it in your env.py file under the variable `github_token`\n",
    "# TODO: Add your github username to your env.py file under the variable `github_username`\n",
    "# TODO: Add more repositories to the `REPOS` list below.\n",
    "\n",
    "REPOS = new_list\n",
    "\n",
    "headers = {\"Authorization\": f\"token {github_token}\", \"User-Agent\": github_username}\n",
    "\n",
    "if headers[\"Authorization\"] == \"token \" or headers[\"User-Agent\"] == \"\":\n",
    "    raise Exception(\n",
    "        \"You need to follow the instructions marked TODO in this script before trying to use it\"\n",
    "    )\n",
    "\n",
    "\n",
    "def github_api_request(url: str) -> Union[List, Dict]:\n",
    "    response = requests.get(url, headers=headers)\n",
    "    response_data = response.json()\n",
    "    if response.status_code != 200:\n",
    "        raise Exception(\n",
    "            f\"Error response from github api! status code: {response.status_code}, \"\n",
    "            f\"response: {json.dumps(response_data)}\"\n",
    "        )\n",
    "    return response_data\n",
    "\n",
    "\n",
    "def get_repo_language(repo: str) -> str:\n",
    "    url = f\"https://api.github.com/repos/{repo}\"\n",
    "    repo_info = github_api_request(url)\n",
    "    if type(repo_info) is dict:\n",
    "        repo_info = cast(Dict, repo_info)\n",
    "        return repo_info.get(\"language\", None)\n",
    "    raise Exception(\n",
    "        f\"Expecting a dictionary response from {url}, instead got {json.dumps(repo_info)}\"\n",
    "    )\n",
    "\n",
    "\n",
    "def get_repo_contents(repo: str) -> List[Dict[str, str]]:\n",
    "    url = f\"https://api.github.com/repos/{repo}/contents/\"\n",
    "    contents = github_api_request(url)\n",
    "    if type(contents) is list:\n",
    "        contents = cast(List, contents)\n",
    "        return contents\n",
    "    raise Exception(\n",
    "        f\"Expecting a list response from {url}, instead got {json.dumps(contents)}\"\n",
    "    )\n",
    "\n",
    "\n",
    "def get_readme_download_url(files: List[Dict[str, str]]) -> str:\n",
    "    \"\"\"\n",
    "    Takes in a response from the github api that lists the files in a repo and\n",
    "    returns the url that can be used to download the repo's README file.\n",
    "    \"\"\"\n",
    "    for file in files:\n",
    "        if file[\"name\"].lower().startswith(\"readme\"):\n",
    "            return file[\"download_url\"]\n",
    "    return \"\"\n",
    "\n",
    "\n",
    "def process_repo(repo: str) -> Dict[str, str]:\n",
    "    \"\"\"\n",
    "    Takes a repo name like \"gocodeup/codeup-setup-script\" and returns a\n",
    "    dictionary with the language of the repo and the readme contents.\n",
    "    \"\"\"\n",
    "    contents = get_repo_contents(repo)\n",
    "    readme_download_url = get_readme_download_url(contents)\n",
    "    if readme_download_url == \"\":\n",
    "        readme_contents = None\n",
    "    else:\n",
    "        readme_contents = requests.get(readme_download_url).text\n",
    "    return {\n",
    "        \"repo\": repo,\n",
    "        \"language\": get_repo_language(repo),\n",
    "        \"readme_contents\": readme_contents,\n",
    "    }\n",
    "\n",
    "\n",
    "def scrape_github_data() -> List[Dict[str, str]]:\n",
    "    \"\"\"\n",
    "    Loop through all of the repos and process them. Returns the processed data.\n",
    "    \"\"\"\n",
    "    return [process_repo(repo) for repo in REPOS]\n",
    "\n",
    "\n",
    "if __name__ == \"__main__\":\n",
    "    data = scrape_github_data()\n",
    "    json.dump(data, open(\"data.json\", \"w\"), indent=1)"
   ]
  },
  {
   "cell_type": "code",
   "execution_count": 2,
   "metadata": {},
   "outputs": [],
   "source": [
    "df = pd.read_json('data.json')"
   ]
  },
  {
   "cell_type": "code",
   "execution_count": 3,
   "metadata": {},
   "outputs": [
    {
     "data": {
      "text/html": [
       "<div>\n",
       "<style scoped>\n",
       "    .dataframe tbody tr th:only-of-type {\n",
       "        vertical-align: middle;\n",
       "    }\n",
       "\n",
       "    .dataframe tbody tr th {\n",
       "        vertical-align: top;\n",
       "    }\n",
       "\n",
       "    .dataframe thead th {\n",
       "        text-align: right;\n",
       "    }\n",
       "</style>\n",
       "<table border=\"1\" class=\"dataframe\">\n",
       "  <thead>\n",
       "    <tr style=\"text-align: right;\">\n",
       "      <th></th>\n",
       "      <th>repo</th>\n",
       "      <th>language</th>\n",
       "      <th>readme_contents</th>\n",
       "    </tr>\n",
       "  </thead>\n",
       "  <tbody>\n",
       "    <tr>\n",
       "      <th>0</th>\n",
       "      <td>ytdl-org/youtube-dl</td>\n",
       "      <td>Python</td>\n",
       "      <td>[![Build Status](https://travis-ci.org/ytdl-or...</td>\n",
       "    </tr>\n",
       "    <tr>\n",
       "      <th>1</th>\n",
       "      <td>jackfrued/Python-100-Days</td>\n",
       "      <td>Python</td>\n",
       "      <td>## Python - 100天从新手到大师\\n\\n&gt; **作者**：骆昊\\n&gt;\\n&gt; **...</td>\n",
       "    </tr>\n",
       "    <tr>\n",
       "      <th>2</th>\n",
       "      <td>pallets/flask</td>\n",
       "      <td>Python</td>\n",
       "      <td>Flask\\n=====\\n\\nFlask is a lightweight `WSGI`_...</td>\n",
       "    </tr>\n",
       "    <tr>\n",
       "      <th>3</th>\n",
       "      <td>django/django</td>\n",
       "      <td>Python</td>\n",
       "      <td>======\\nDjango\\n======\\n\\nDjango is a high-lev...</td>\n",
       "    </tr>\n",
       "    <tr>\n",
       "      <th>4</th>\n",
       "      <td>TheAlgorithms/Python</td>\n",
       "      <td>Python</td>\n",
       "      <td># The Algorithms - Python\\n[![Gitpod Ready-to-...</td>\n",
       "    </tr>\n",
       "  </tbody>\n",
       "</table>\n",
       "</div>"
      ],
      "text/plain": [
       "                        repo language  \\\n",
       "0        ytdl-org/youtube-dl   Python   \n",
       "1  jackfrued/Python-100-Days   Python   \n",
       "2              pallets/flask   Python   \n",
       "3              django/django   Python   \n",
       "4       TheAlgorithms/Python   Python   \n",
       "\n",
       "                                     readme_contents  \n",
       "0  [![Build Status](https://travis-ci.org/ytdl-or...  \n",
       "1  ## Python - 100天从新手到大师\\n\\n> **作者**：骆昊\\n>\\n> **...  \n",
       "2  Flask\\n=====\\n\\nFlask is a lightweight `WSGI`_...  \n",
       "3  ======\\nDjango\\n======\\n\\nDjango is a high-lev...  \n",
       "4  # The Algorithms - Python\\n[![Gitpod Ready-to-...  "
      ]
     },
     "execution_count": 3,
     "metadata": {},
     "output_type": "execute_result"
    }
   ],
   "source": [
    "df.head()"
   ]
  },
  {
   "cell_type": "code",
   "execution_count": 4,
   "metadata": {},
   "outputs": [],
   "source": [
    "dups_list = df.repo.value_counts()[df.repo.value_counts() > 1].index.to_list()"
   ]
  },
  {
   "cell_type": "code",
   "execution_count": 5,
   "metadata": {},
   "outputs": [
    {
     "data": {
      "text/plain": [
       "JavaScript    0.560976\n",
       "Python        0.439024\n",
       "Name: language, dtype: float64"
      ]
     },
     "execution_count": 5,
     "metadata": {},
     "output_type": "execute_result"
    }
   ],
   "source": [
    "df.language.value_counts(normalize = True)"
   ]
  },
  {
   "cell_type": "code",
   "execution_count": null,
   "metadata": {},
   "outputs": [],
   "source": [
    "# df shape before removing duplicates:\n",
    "\n",
    "# Currently df w/dups is (410,3)\n",
    "\n",
    "df.shape"
   ]
  },
  {
   "cell_type": "markdown",
   "metadata": {},
   "source": [
    "### Removing duplicates from dataframe:"
   ]
  },
  {
   "cell_type": "code",
   "execution_count": 6,
   "metadata": {},
   "outputs": [
    {
     "data": {
      "text/plain": [
       "['numpy/numpy',\n",
       " 'VerbalExpressions/JSVerbalExpressions',\n",
       " 'Automattic/wp-calypso',\n",
       " 'greensock/GSAP',\n",
       " 'tornadoweb/tornado',\n",
       " 'iperov/DeepFaceLab',\n",
       " 'gaearon/react-hot-loader',\n",
       " 'ipython/ipython',\n",
       " 'Semantic-Org/Semantic-UI-React',\n",
       " 'pytorch/examples',\n",
       " 'celery/celery',\n",
       " 'charlax/professional-programming',\n",
       " 'instillai/TensorFlow-Course',\n",
       " 'donnemartin/interactive-coding-challenges',\n",
       " 'binux/pyspider',\n",
       " 'deezer/spleeter',\n",
       " 'phobal/ivideo',\n",
       " 'gpujs/gpu.js',\n",
       " 'mitmproxy/mitmproxy',\n",
       " 'pypa/pipenv',\n",
       " 'donnemartin/data-science-ipython-notebooks',\n",
       " 'http-party/node-http-proxy',\n",
       " 'krisk/Fuse',\n",
       " 'alpinejs/alpine',\n",
       " 'magenta/magenta']"
      ]
     },
     "execution_count": 6,
     "metadata": {},
     "output_type": "execute_result"
    }
   ],
   "source": [
    "dups_list"
   ]
  },
  {
   "cell_type": "code",
   "execution_count": 7,
   "metadata": {},
   "outputs": [
    {
     "data": {
      "text/plain": [
       "50"
      ]
     },
     "execution_count": 7,
     "metadata": {},
     "output_type": "execute_result"
    }
   ],
   "source": [
    "len(df[df.repo.isin(dups_list)])"
   ]
  },
  {
   "cell_type": "code",
   "execution_count": 8,
   "metadata": {},
   "outputs": [],
   "source": [
    "df_test = df.copy()"
   ]
  },
  {
   "cell_type": "code",
   "execution_count": 9,
   "metadata": {},
   "outputs": [
    {
     "data": {
      "text/plain": [
       "(410, 3)"
      ]
     },
     "execution_count": 9,
     "metadata": {},
     "output_type": "execute_result"
    }
   ],
   "source": [
    "df_test.shape"
   ]
  },
  {
   "cell_type": "code",
   "execution_count": 10,
   "metadata": {},
   "outputs": [],
   "source": [
    "df_test.drop_duplicates(subset = 'repo', ignore_index = True, inplace = True)"
   ]
  },
  {
   "cell_type": "code",
   "execution_count": 11,
   "metadata": {},
   "outputs": [
    {
     "data": {
      "text/plain": [
       "(385, 3)"
      ]
     },
     "execution_count": 11,
     "metadata": {},
     "output_type": "execute_result"
    }
   ],
   "source": [
    "df_test.shape"
   ]
  },
  {
   "cell_type": "code",
   "execution_count": 12,
   "metadata": {},
   "outputs": [
    {
     "data": {
      "text/plain": [
       "JavaScript    0.571429\n",
       "Python        0.428571\n",
       "Name: language, dtype: float64"
      ]
     },
     "execution_count": 12,
     "metadata": {},
     "output_type": "execute_result"
    }
   ],
   "source": [
    "df_test.language.value_counts(normalize = True)"
   ]
  },
  {
   "cell_type": "code",
   "execution_count": 13,
   "metadata": {},
   "outputs": [
    {
     "data": {
      "text/plain": [
       "0      [![Build Status](https://travis-ci.org/ytdl-or...\n",
       "1      ## Python - 100天从新手到大师\\n\\n> **作者**：骆昊\\n>\\n> **...\n",
       "2      Flask\\n=====\\n\\nFlask is a lightweight `WSGI`_...\n",
       "3      ======\\nDjango\\n======\\n\\nDjango is a high-lev...\n",
       "4      # The Algorithms - Python\\n[![Gitpod Ready-to-...\n",
       "                             ...                        \n",
       "380    # Yup\\n\\nYup is a JavaScript schema builder fo...\n",
       "381    # ![NodeBB](public/images/logo.svg)\\n\\n[![Buil...\n",
       "382    # ShellJS - Unix shell commands for Node.js\\n\\...\n",
       "383    <p>\\n  <a href=\"https://aurelia.io/\" target=\"_...\n",
       "384    <p align=\"center\"><img width='270px' src=\"http...\n",
       "Name: readme_contents, Length: 385, dtype: object"
      ]
     },
     "execution_count": 13,
     "metadata": {},
     "output_type": "execute_result"
    }
   ],
   "source": [
    "df_test.readme_contents"
   ]
  },
  {
   "cell_type": "code",
   "execution_count": 14,
   "metadata": {},
   "outputs": [
    {
     "data": {
      "text/html": [
       "<div>\n",
       "<style scoped>\n",
       "    .dataframe tbody tr th:only-of-type {\n",
       "        vertical-align: middle;\n",
       "    }\n",
       "\n",
       "    .dataframe tbody tr th {\n",
       "        vertical-align: top;\n",
       "    }\n",
       "\n",
       "    .dataframe thead th {\n",
       "        text-align: right;\n",
       "    }\n",
       "</style>\n",
       "<table border=\"1\" class=\"dataframe\">\n",
       "  <thead>\n",
       "    <tr style=\"text-align: right;\">\n",
       "      <th></th>\n",
       "      <th>repo</th>\n",
       "      <th>language</th>\n",
       "      <th>readme_contents</th>\n",
       "    </tr>\n",
       "  </thead>\n",
       "  <tbody>\n",
       "    <tr>\n",
       "      <th>0</th>\n",
       "      <td>ytdl-org/youtube-dl</td>\n",
       "      <td>Python</td>\n",
       "      <td>[![Build Status](https://travis-ci.org/ytdl-or...</td>\n",
       "    </tr>\n",
       "    <tr>\n",
       "      <th>1</th>\n",
       "      <td>jackfrued/Python-100-Days</td>\n",
       "      <td>Python</td>\n",
       "      <td>## Python - 100天从新手到大师\\n\\n&gt; **作者**：骆昊\\n&gt;\\n&gt; **...</td>\n",
       "    </tr>\n",
       "    <tr>\n",
       "      <th>2</th>\n",
       "      <td>pallets/flask</td>\n",
       "      <td>Python</td>\n",
       "      <td>Flask\\n=====\\n\\nFlask is a lightweight `WSGI`_...</td>\n",
       "    </tr>\n",
       "    <tr>\n",
       "      <th>3</th>\n",
       "      <td>django/django</td>\n",
       "      <td>Python</td>\n",
       "      <td>======\\nDjango\\n======\\n\\nDjango is a high-lev...</td>\n",
       "    </tr>\n",
       "    <tr>\n",
       "      <th>4</th>\n",
       "      <td>TheAlgorithms/Python</td>\n",
       "      <td>Python</td>\n",
       "      <td># The Algorithms - Python\\n[![Gitpod Ready-to-...</td>\n",
       "    </tr>\n",
       "  </tbody>\n",
       "</table>\n",
       "</div>"
      ],
      "text/plain": [
       "                        repo language  \\\n",
       "0        ytdl-org/youtube-dl   Python   \n",
       "1  jackfrued/Python-100-Days   Python   \n",
       "2              pallets/flask   Python   \n",
       "3              django/django   Python   \n",
       "4       TheAlgorithms/Python   Python   \n",
       "\n",
       "                                     readme_contents  \n",
       "0  [![Build Status](https://travis-ci.org/ytdl-or...  \n",
       "1  ## Python - 100天从新手到大师\\n\\n> **作者**：骆昊\\n>\\n> **...  \n",
       "2  Flask\\n=====\\n\\nFlask is a lightweight `WSGI`_...  \n",
       "3  ======\\nDjango\\n======\\n\\nDjango is a high-lev...  \n",
       "4  # The Algorithms - Python\\n[![Gitpod Ready-to-...  "
      ]
     },
     "execution_count": 14,
     "metadata": {},
     "output_type": "execute_result"
    }
   ],
   "source": [
    "df_test.head()"
   ]
  },
  {
   "cell_type": "code",
   "execution_count": 15,
   "metadata": {},
   "outputs": [
    {
     "data": {
      "text/plain": [
       "'[![Build Status](https://travis-ci.org/ytdl-org/youtube-dl.svg?branch=master)](https://travis-ci.org/ytdl-org/youtube-dl)\\n\\nyoutube-dl - download videos from youtube.com or other video platforms\\n\\n- [INSTALLATION](#installation)\\n- [DESCRIPTION](#description)\\n- [OPTIONS](#options)\\n- [CONFIGURATION](#configuration)\\n- [OUTPUT TEMPLATE](#output-template)\\n- [FORMAT SELECTION](#format-selection)\\n- [VIDEO SELECTION](#video-selection)\\n- [FAQ](#faq)\\n- [DEVELOPER INSTRUCTIONS](#developer-instructions)\\n- [EMBEDDING YOUTUBE-DL](#embedding-youtube-dl)\\n- [BUGS](#bugs)\\n- [COPYRIGHT](#copyright)\\n\\n# INSTALLATION\\n\\nTo install it right away for all UNIX users (Linux, macOS, etc.), type:\\n\\n    sudo curl -L https://yt-dl.org/downloads/latest/youtube-dl -o /usr/local/bin/youtube-dl\\n    sudo chmod a+rx /usr/local/bin/youtube-dl\\n\\nIf you do not have curl, you can alternatively use a recent wget:\\n\\n    sudo wget https://yt-dl.org/downloads/latest/youtube-dl -O /usr/local/bin/youtube-dl\\n    sudo chmod a+rx /usr/local/bin/youtube-dl\\n\\nWindows users can [download an .exe file](https://yt-dl.org/latest/youtube-dl.exe) and place it in any location on their [PATH](https://en.wikipedia.org/wiki/PATH_%28variable%29) except for `%SYSTEMROOT%\\\\System32` (e.g. **do not** put in `C:\\\\Windows\\\\System32`).\\n\\nYou can also use pip:\\n\\n    sudo -H pip install --upgrade youtube-dl\\n    \\nThis command will update youtube-dl if you have already installed it. See the [pypi page](https://pypi.python.org/pypi/youtube_dl) for more information.\\n\\nmacOS users can install youtube-dl with [Homebrew](https://brew.sh/):\\n\\n    brew install youtube-dl\\n\\nOr with [MacPorts](https://www.macports.org/):\\n\\n    sudo port install youtube-dl\\n\\nAlternatively, refer to the [developer instructions](#developer-instructions) for how to check out and work with the git repository. For further options, including PGP signatures, see the [youtube-dl Download Page](https://ytdl-org.github.io/youtube-dl/download.html).\\n\\n# DESCRIPTION\\n**youtube-dl** is a command-line program to download videos from YouTube.com and a few more sites. It requires the Python interpreter, version 2.6, 2.7, or 3.2+, and it is not platform specific. It should work on your Unix box, on Windows or on macOS. It is released to the public domain, which means you can modify it, redistribute it or use it however you like.\\n\\n    youtube-dl [OPTIONS] URL [URL...]\\n\\n# OPTIONS\\n    -h, --help                       Print this help text and exit\\n    --version                        Print program version and exit\\n    -U, --update                     Update this program to latest version. Make\\n                                     sure that you have sufficient permissions\\n                                     (run with sudo if needed)\\n    -i, --ignore-errors              Continue on download errors, for example to\\n                                     skip unavailable videos in a playlist\\n    --abort-on-error                 Abort downloading of further videos (in the\\n                                     playlist or the command line) if an error\\n                                     occurs\\n    --dump-user-agent                Display the current browser identification\\n    --list-extractors                List all supported extractors\\n    --extractor-descriptions         Output descriptions of all supported\\n                                     extractors\\n    --force-generic-extractor        Force extraction to use the generic\\n                                     extractor\\n    --default-search PREFIX          Use this prefix for unqualified URLs. For\\n                                     example \"gvsearch2:\" downloads two videos\\n                                     from google videos for youtube-dl \"large\\n                                     apple\". Use the value \"auto\" to let\\n                                     youtube-dl guess (\"auto_warning\" to emit a\\n                                     warning when guessing). \"error\" just throws\\n                                     an error. The default value \"fixup_error\"\\n                                     repairs broken URLs, but emits an error if\\n                                     this is not possible instead of searching.\\n    --ignore-config                  Do not read configuration files. When given\\n                                     in the global configuration file\\n                                     /etc/youtube-dl.conf: Do not read the user\\n                                     configuration in ~/.config/youtube-\\n                                     dl/config (%APPDATA%/youtube-dl/config.txt\\n                                     on Windows)\\n    --config-location PATH           Location of the configuration file; either\\n                                     the path to the config or its containing\\n                                     directory.\\n    --flat-playlist                  Do not extract the videos of a playlist,\\n                                     only list them.\\n    --mark-watched                   Mark videos watched (YouTube only)\\n    --no-mark-watched                Do not mark videos watched (YouTube only)\\n    --no-color                       Do not emit color codes in output\\n\\n## Network Options:\\n    --proxy URL                      Use the specified HTTP/HTTPS/SOCKS proxy.\\n                                     To enable SOCKS proxy, specify a proper\\n                                     scheme. For example\\n                                     socks5://127.0.0.1:1080/. Pass in an empty\\n                                     string (--proxy \"\") for direct connection\\n    --socket-timeout SECONDS         Time to wait before giving up, in seconds\\n    --source-address IP              Client-side IP address to bind to\\n    -4, --force-ipv4                 Make all connections via IPv4\\n    -6, --force-ipv6                 Make all connections via IPv6\\n\\n## Geo Restriction:\\n    --geo-verification-proxy URL     Use this proxy to verify the IP address for\\n                                     some geo-restricted sites. The default\\n                                     proxy specified by --proxy (or none, if the\\n                                     option is not present) is used for the\\n                                     actual downloading.\\n    --geo-bypass                     Bypass geographic restriction via faking\\n                                     X-Forwarded-For HTTP header\\n    --no-geo-bypass                  Do not bypass geographic restriction via\\n                                     faking X-Forwarded-For HTTP header\\n    --geo-bypass-country CODE        Force bypass geographic restriction with\\n                                     explicitly provided two-letter ISO 3166-2\\n                                     country code\\n    --geo-bypass-ip-block IP_BLOCK   Force bypass geographic restriction with\\n                                     explicitly provided IP block in CIDR\\n                                     notation\\n\\n## Video Selection:\\n    --playlist-start NUMBER          Playlist video to start at (default is 1)\\n    --playlist-end NUMBER            Playlist video to end at (default is last)\\n    --playlist-items ITEM_SPEC       Playlist video items to download. Specify\\n                                     indices of the videos in the playlist\\n                                     separated by commas like: \"--playlist-items\\n                                     1,2,5,8\" if you want to download videos\\n                                     indexed 1, 2, 5, 8 in the playlist. You can\\n                                     specify range: \"--playlist-items\\n                                     1-3,7,10-13\", it will download the videos\\n                                     at index 1, 2, 3, 7, 10, 11, 12 and 13.\\n    --match-title REGEX              Download only matching titles (regex or\\n                                     caseless sub-string)\\n    --reject-title REGEX             Skip download for matching titles (regex or\\n                                     caseless sub-string)\\n    --max-downloads NUMBER           Abort after downloading NUMBER files\\n    --min-filesize SIZE              Do not download any videos smaller than\\n                                     SIZE (e.g. 50k or 44.6m)\\n    --max-filesize SIZE              Do not download any videos larger than SIZE\\n                                     (e.g. 50k or 44.6m)\\n    --date DATE                      Download only videos uploaded in this date\\n    --datebefore DATE                Download only videos uploaded on or before\\n                                     this date (i.e. inclusive)\\n    --dateafter DATE                 Download only videos uploaded on or after\\n                                     this date (i.e. inclusive)\\n    --min-views COUNT                Do not download any videos with less than\\n                                     COUNT views\\n    --max-views COUNT                Do not download any videos with more than\\n                                     COUNT views\\n    --match-filter FILTER            Generic video filter. Specify any key (see\\n                                     the \"OUTPUT TEMPLATE\" for a list of\\n                                     available keys) to match if the key is\\n                                     present, !key to check if the key is not\\n                                     present, key > NUMBER (like \"comment_count\\n                                     > 12\", also works with >=, <, <=, !=, =) to\\n                                     compare against a number, key = \\'LITERAL\\'\\n                                     (like \"uploader = \\'Mike Smith\\'\", also works\\n                                     with !=) to match against a string literal\\n                                     and & to require multiple matches. Values\\n                                     which are not known are excluded unless you\\n                                     put a question mark (?) after the operator.\\n                                     For example, to only match videos that have\\n                                     been liked more than 100 times and disliked\\n                                     less than 50 times (or the dislike\\n                                     functionality is not available at the given\\n                                     service), but who also have a description,\\n                                     use --match-filter \"like_count > 100 &\\n                                     dislike_count <? 50 & description\" .\\n    --no-playlist                    Download only the video, if the URL refers\\n                                     to a video and a playlist.\\n    --yes-playlist                   Download the playlist, if the URL refers to\\n                                     a video and a playlist.\\n    --age-limit YEARS                Download only videos suitable for the given\\n                                     age\\n    --download-archive FILE          Download only videos not listed in the\\n                                     archive file. Record the IDs of all\\n                                     downloaded videos in it.\\n    --include-ads                    Download advertisements as well\\n                                     (experimental)\\n\\n## Download Options:\\n    -r, --limit-rate RATE            Maximum download rate in bytes per second\\n                                     (e.g. 50K or 4.2M)\\n    -R, --retries RETRIES            Number of retries (default is 10), or\\n                                     \"infinite\".\\n    --fragment-retries RETRIES       Number of retries for a fragment (default\\n                                     is 10), or \"infinite\" (DASH, hlsnative and\\n                                     ISM)\\n    --skip-unavailable-fragments     Skip unavailable fragments (DASH, hlsnative\\n                                     and ISM)\\n    --abort-on-unavailable-fragment  Abort downloading when some fragment is not\\n                                     available\\n    --keep-fragments                 Keep downloaded fragments on disk after\\n                                     downloading is finished; fragments are\\n                                     erased by default\\n    --buffer-size SIZE               Size of download buffer (e.g. 1024 or 16K)\\n                                     (default is 1024)\\n    --no-resize-buffer               Do not automatically adjust the buffer\\n                                     size. By default, the buffer size is\\n                                     automatically resized from an initial value\\n                                     of SIZE.\\n    --http-chunk-size SIZE           Size of a chunk for chunk-based HTTP\\n                                     downloading (e.g. 10485760 or 10M) (default\\n                                     is disabled). May be useful for bypassing\\n                                     bandwidth throttling imposed by a webserver\\n                                     (experimental)\\n    --playlist-reverse               Download playlist videos in reverse order\\n    --playlist-random                Download playlist videos in random order\\n    --xattr-set-filesize             Set file xattribute ytdl.filesize with\\n                                     expected file size\\n    --hls-prefer-native              Use the native HLS downloader instead of\\n                                     ffmpeg\\n    --hls-prefer-ffmpeg              Use ffmpeg instead of the native HLS\\n                                     downloader\\n    --hls-use-mpegts                 Use the mpegts container for HLS videos,\\n                                     allowing to play the video while\\n                                     downloading (some players may not be able\\n                                     to play it)\\n    --external-downloader COMMAND    Use the specified external downloader.\\n                                     Currently supports\\n                                     aria2c,avconv,axel,curl,ffmpeg,httpie,wget\\n    --external-downloader-args ARGS  Give these arguments to the external\\n                                     downloader\\n\\n## Filesystem Options:\\n    -a, --batch-file FILE            File containing URLs to download (\\'-\\' for\\n                                     stdin), one URL per line. Lines starting\\n                                     with \\'#\\', \\';\\' or \\']\\' are considered as\\n                                     comments and ignored.\\n    --id                             Use only video ID in file name\\n    -o, --output TEMPLATE            Output filename template, see the \"OUTPUT\\n                                     TEMPLATE\" for all the info\\n    --autonumber-start NUMBER        Specify the start value for %(autonumber)s\\n                                     (default is 1)\\n    --restrict-filenames             Restrict filenames to only ASCII\\n                                     characters, and avoid \"&\" and spaces in\\n                                     filenames\\n    -w, --no-overwrites              Do not overwrite files\\n    -c, --continue                   Force resume of partially downloaded files.\\n                                     By default, youtube-dl will resume\\n                                     downloads if possible.\\n    --no-continue                    Do not resume partially downloaded files\\n                                     (restart from beginning)\\n    --no-part                        Do not use .part files - write directly\\n                                     into output file\\n    --no-mtime                       Do not use the Last-modified header to set\\n                                     the file modification time\\n    --write-description              Write video description to a .description\\n                                     file\\n    --write-info-json                Write video metadata to a .info.json file\\n    --write-annotations              Write video annotations to a\\n                                     .annotations.xml file\\n    --load-info-json FILE            JSON file containing the video information\\n                                     (created with the \"--write-info-json\"\\n                                     option)\\n    --cookies FILE                   File to read cookies from and dump cookie\\n                                     jar in\\n    --cache-dir DIR                  Location in the filesystem where youtube-dl\\n                                     can store some downloaded information\\n                                     permanently. By default\\n                                     $XDG_CACHE_HOME/youtube-dl or\\n                                     ~/.cache/youtube-dl . At the moment, only\\n                                     YouTube player files (for videos with\\n                                     obfuscated signatures) are cached, but that\\n                                     may change.\\n    --no-cache-dir                   Disable filesystem caching\\n    --rm-cache-dir                   Delete all filesystem cache files\\n\\n## Thumbnail images:\\n    --write-thumbnail                Write thumbnail image to disk\\n    --write-all-thumbnails           Write all thumbnail image formats to disk\\n    --list-thumbnails                Simulate and list all available thumbnail\\n                                     formats\\n\\n## Verbosity / Simulation Options:\\n    -q, --quiet                      Activate quiet mode\\n    --no-warnings                    Ignore warnings\\n    -s, --simulate                   Do not download the video and do not write\\n                                     anything to disk\\n    --skip-download                  Do not download the video\\n    -g, --get-url                    Simulate, quiet but print URL\\n    -e, --get-title                  Simulate, quiet but print title\\n    --get-id                         Simulate, quiet but print id\\n    --get-thumbnail                  Simulate, quiet but print thumbnail URL\\n    --get-description                Simulate, quiet but print video description\\n    --get-duration                   Simulate, quiet but print video length\\n    --get-filename                   Simulate, quiet but print output filename\\n    --get-format                     Simulate, quiet but print output format\\n    -j, --dump-json                  Simulate, quiet but print JSON information.\\n                                     See the \"OUTPUT TEMPLATE\" for a description\\n                                     of available keys.\\n    -J, --dump-single-json           Simulate, quiet but print JSON information\\n                                     for each command-line argument. If the URL\\n                                     refers to a playlist, dump the whole\\n                                     playlist information in a single line.\\n    --print-json                     Be quiet and print the video information as\\n                                     JSON (video is still being downloaded).\\n    --newline                        Output progress bar as new lines\\n    --no-progress                    Do not print progress bar\\n    --console-title                  Display progress in console titlebar\\n    -v, --verbose                    Print various debugging information\\n    --dump-pages                     Print downloaded pages encoded using base64\\n                                     to debug problems (very verbose)\\n    --write-pages                    Write downloaded intermediary pages to\\n                                     files in the current directory to debug\\n                                     problems\\n    --print-traffic                  Display sent and read HTTP traffic\\n    -C, --call-home                  Contact the youtube-dl server for debugging\\n    --no-call-home                   Do NOT contact the youtube-dl server for\\n                                     debugging\\n\\n## Workarounds:\\n    --encoding ENCODING              Force the specified encoding (experimental)\\n    --no-check-certificate           Suppress HTTPS certificate validation\\n    --prefer-insecure                Use an unencrypted connection to retrieve\\n                                     information about the video. (Currently\\n                                     supported only for YouTube)\\n    --user-agent UA                  Specify a custom user agent\\n    --referer URL                    Specify a custom referer, use if the video\\n                                     access is restricted to one domain\\n    --add-header FIELD:VALUE         Specify a custom HTTP header and its value,\\n                                     separated by a colon \\':\\'. You can use this\\n                                     option multiple times\\n    --bidi-workaround                Work around terminals that lack\\n                                     bidirectional text support. Requires bidiv\\n                                     or fribidi executable in PATH\\n    --sleep-interval SECONDS         Number of seconds to sleep before each\\n                                     download when used alone or a lower bound\\n                                     of a range for randomized sleep before each\\n                                     download (minimum possible number of\\n                                     seconds to sleep) when used along with\\n                                     --max-sleep-interval.\\n    --max-sleep-interval SECONDS     Upper bound of a range for randomized sleep\\n                                     before each download (maximum possible\\n                                     number of seconds to sleep). Must only be\\n                                     used along with --min-sleep-interval.\\n\\n## Video Format Options:\\n    -f, --format FORMAT              Video format code, see the \"FORMAT\\n                                     SELECTION\" for all the info\\n    --all-formats                    Download all available video formats\\n    --prefer-free-formats            Prefer free video formats unless a specific\\n                                     one is requested\\n    -F, --list-formats               List all available formats of requested\\n                                     videos\\n    --youtube-skip-dash-manifest     Do not download the DASH manifests and\\n                                     related data on YouTube videos\\n    --merge-output-format FORMAT     If a merge is required (e.g.\\n                                     bestvideo+bestaudio), output to given\\n                                     container format. One of mkv, mp4, ogg,\\n                                     webm, flv. Ignored if no merge is required\\n\\n## Subtitle Options:\\n    --write-sub                      Write subtitle file\\n    --write-auto-sub                 Write automatically generated subtitle file\\n                                     (YouTube only)\\n    --all-subs                       Download all the available subtitles of the\\n                                     video\\n    --list-subs                      List all available subtitles for the video\\n    --sub-format FORMAT              Subtitle format, accepts formats\\n                                     preference, for example: \"srt\" or\\n                                     \"ass/srt/best\"\\n    --sub-lang LANGS                 Languages of the subtitles to download\\n                                     (optional) separated by commas, use --list-\\n                                     subs for available language tags\\n\\n## Authentication Options:\\n    -u, --username USERNAME          Login with this account ID\\n    -p, --password PASSWORD          Account password. If this option is left\\n                                     out, youtube-dl will ask interactively.\\n    -2, --twofactor TWOFACTOR        Two-factor authentication code\\n    -n, --netrc                      Use .netrc authentication data\\n    --video-password PASSWORD        Video password (vimeo, smotri, youku)\\n\\n## Adobe Pass Options:\\n    --ap-mso MSO                     Adobe Pass multiple-system operator (TV\\n                                     provider) identifier, use --ap-list-mso for\\n                                     a list of available MSOs\\n    --ap-username USERNAME           Multiple-system operator account login\\n    --ap-password PASSWORD           Multiple-system operator account password.\\n                                     If this option is left out, youtube-dl will\\n                                     ask interactively.\\n    --ap-list-mso                    List all supported multiple-system\\n                                     operators\\n\\n## Post-processing Options:\\n    -x, --extract-audio              Convert video files to audio-only files\\n                                     (requires ffmpeg or avconv and ffprobe or\\n                                     avprobe)\\n    --audio-format FORMAT            Specify audio format: \"best\", \"aac\",\\n                                     \"flac\", \"mp3\", \"m4a\", \"opus\", \"vorbis\", or\\n                                     \"wav\"; \"best\" by default; No effect without\\n                                     -x\\n    --audio-quality QUALITY          Specify ffmpeg/avconv audio quality, insert\\n                                     a value between 0 (better) and 9 (worse)\\n                                     for VBR or a specific bitrate like 128K\\n                                     (default 5)\\n    --recode-video FORMAT            Encode the video to another format if\\n                                     necessary (currently supported:\\n                                     mp4|flv|ogg|webm|mkv|avi)\\n    --postprocessor-args ARGS        Give these arguments to the postprocessor\\n    -k, --keep-video                 Keep the video file on disk after the post-\\n                                     processing; the video is erased by default\\n    --no-post-overwrites             Do not overwrite post-processed files; the\\n                                     post-processed files are overwritten by\\n                                     default\\n    --embed-subs                     Embed subtitles in the video (only for mp4,\\n                                     webm and mkv videos)\\n    --embed-thumbnail                Embed thumbnail in the audio as cover art\\n    --add-metadata                   Write metadata to the video file\\n    --metadata-from-title FORMAT     Parse additional metadata like song title /\\n                                     artist from the video title. The format\\n                                     syntax is the same as --output. Regular\\n                                     expression with named capture groups may\\n                                     also be used. The parsed parameters replace\\n                                     existing values. Example: --metadata-from-\\n                                     title \"%(artist)s - %(title)s\" matches a\\n                                     title like \"Coldplay - Paradise\". Example\\n                                     (regex): --metadata-from-title\\n                                     \"(?P<artist>.+?) - (?P<title>.+)\"\\n    --xattrs                         Write metadata to the video file\\'s xattrs\\n                                     (using dublin core and xdg standards)\\n    --fixup POLICY                   Automatically correct known faults of the\\n                                     file. One of never (do nothing), warn (only\\n                                     emit a warning), detect_or_warn (the\\n                                     default; fix file if we can, warn\\n                                     otherwise)\\n    --prefer-avconv                  Prefer avconv over ffmpeg for running the\\n                                     postprocessors\\n    --prefer-ffmpeg                  Prefer ffmpeg over avconv for running the\\n                                     postprocessors (default)\\n    --ffmpeg-location PATH           Location of the ffmpeg/avconv binary;\\n                                     either the path to the binary or its\\n                                     containing directory.\\n    --exec CMD                       Execute a command on the file after\\n                                     downloading and post-processing, similar to\\n                                     find\\'s -exec syntax. Example: --exec \\'adb\\n                                     push {} /sdcard/Music/ && rm {}\\'\\n    --convert-subs FORMAT            Convert the subtitles to other format\\n                                     (currently supported: srt|ass|vtt|lrc)\\n\\n# CONFIGURATION\\n\\nYou can configure youtube-dl by placing any supported command line option to a configuration file. On Linux and macOS, the system wide configuration file is located at `/etc/youtube-dl.conf` and the user wide configuration file at `~/.config/youtube-dl/config`. On Windows, the user wide configuration file locations are `%APPDATA%\\\\youtube-dl\\\\config.txt` or `C:\\\\Users\\\\<user name>\\\\youtube-dl.conf`. Note that by default configuration file may not exist so you may need to create it yourself.\\n\\nFor example, with the following configuration file youtube-dl will always extract the audio, not copy the mtime, use a proxy and save all videos under `Movies` directory in your home directory:\\n```\\n# Lines starting with # are comments\\n\\n# Always extract audio\\n-x\\n\\n# Do not copy the mtime\\n--no-mtime\\n\\n# Use this proxy\\n--proxy 127.0.0.1:3128\\n\\n# Save all videos under Movies directory in your home directory\\n-o ~/Movies/%(title)s.%(ext)s\\n```\\n\\nNote that options in configuration file are just the same options aka switches used in regular command line calls thus there **must be no whitespace** after `-` or `--`, e.g. `-o` or `--proxy` but not `- o` or `-- proxy`.\\n\\nYou can use `--ignore-config` if you want to disable the configuration file for a particular youtube-dl run.\\n\\nYou can also use `--config-location` if you want to use custom configuration file for a particular youtube-dl run.\\n\\n### Authentication with `.netrc` file\\n\\nYou may also want to configure automatic credentials storage for extractors that support authentication (by providing login and password with `--username` and `--password`) in order not to pass credentials as command line arguments on every youtube-dl execution and prevent tracking plain text passwords in the shell command history. You can achieve this using a [`.netrc` file](https://stackoverflow.com/tags/.netrc/info) on a per extractor basis. For that you will need to create a `.netrc` file in your `$HOME` and restrict permissions to read/write by only you:\\n```\\ntouch $HOME/.netrc\\nchmod a-rwx,u+rw $HOME/.netrc\\n```\\nAfter that you can add credentials for an extractor in the following format, where *extractor* is the name of the extractor in lowercase:\\n```\\nmachine <extractor> login <login> password <password>\\n```\\nFor example:\\n```\\nmachine youtube login myaccount@gmail.com password my_youtube_password\\nmachine twitch login my_twitch_account_name password my_twitch_password\\n```\\nTo activate authentication with the `.netrc` file you should pass `--netrc` to youtube-dl or place it in the [configuration file](#configuration).\\n\\nOn Windows you may also need to setup the `%HOME%` environment variable manually. For example:\\n```\\nset HOME=%USERPROFILE%\\n```\\n\\n# OUTPUT TEMPLATE\\n\\nThe `-o` option allows users to indicate a template for the output file names.\\n\\n**tl;dr:** [navigate me to examples](#output-template-examples).\\n\\nThe basic usage is not to set any template arguments when downloading a single file, like in `youtube-dl -o funny_video.flv \"https://some/video\"`. However, it may contain special sequences that will be replaced when downloading each video. The special sequences may be formatted according to [python string formatting operations](https://docs.python.org/2/library/stdtypes.html#string-formatting). For example, `%(NAME)s` or `%(NAME)05d`. To clarify, that is a percent symbol followed by a name in parentheses, followed by formatting operations. Allowed names along with sequence type are:\\n\\n - `id` (string): Video identifier\\n - `title` (string): Video title\\n - `url` (string): Video URL\\n - `ext` (string): Video filename extension\\n - `alt_title` (string): A secondary title of the video\\n - `display_id` (string): An alternative identifier for the video\\n - `uploader` (string): Full name of the video uploader\\n - `license` (string): License name the video is licensed under\\n - `creator` (string): The creator of the video\\n - `release_date` (string): The date (YYYYMMDD) when the video was released\\n - `timestamp` (numeric): UNIX timestamp of the moment the video became available\\n - `upload_date` (string): Video upload date (YYYYMMDD)\\n - `uploader_id` (string): Nickname or id of the video uploader\\n - `channel` (string): Full name of the channel the video is uploaded on\\n - `channel_id` (string): Id of the channel\\n - `location` (string): Physical location where the video was filmed\\n - `duration` (numeric): Length of the video in seconds\\n - `view_count` (numeric): How many users have watched the video on the platform\\n - `like_count` (numeric): Number of positive ratings of the video\\n - `dislike_count` (numeric): Number of negative ratings of the video\\n - `repost_count` (numeric): Number of reposts of the video\\n - `average_rating` (numeric): Average rating give by users, the scale used depends on the webpage\\n - `comment_count` (numeric): Number of comments on the video\\n - `age_limit` (numeric): Age restriction for the video (years)\\n - `is_live` (boolean): Whether this video is a live stream or a fixed-length video\\n - `start_time` (numeric): Time in seconds where the reproduction should start, as specified in the URL\\n - `end_time` (numeric): Time in seconds where the reproduction should end, as specified in the URL\\n - `format` (string): A human-readable description of the format \\n - `format_id` (string): Format code specified by `--format`\\n - `format_note` (string): Additional info about the format\\n - `width` (numeric): Width of the video\\n - `height` (numeric): Height of the video\\n - `resolution` (string): Textual description of width and height\\n - `tbr` (numeric): Average bitrate of audio and video in KBit/s\\n - `abr` (numeric): Average audio bitrate in KBit/s\\n - `acodec` (string): Name of the audio codec in use\\n - `asr` (numeric): Audio sampling rate in Hertz\\n - `vbr` (numeric): Average video bitrate in KBit/s\\n - `fps` (numeric): Frame rate\\n - `vcodec` (string): Name of the video codec in use\\n - `container` (string): Name of the container format\\n - `filesize` (numeric): The number of bytes, if known in advance\\n - `filesize_approx` (numeric): An estimate for the number of bytes\\n - `protocol` (string): The protocol that will be used for the actual download\\n - `extractor` (string): Name of the extractor\\n - `extractor_key` (string): Key name of the extractor\\n - `epoch` (numeric): Unix epoch when creating the file\\n - `autonumber` (numeric): Number that will be increased with each download, starting at `--autonumber-start`\\n - `playlist` (string): Name or id of the playlist that contains the video\\n - `playlist_index` (numeric): Index of the video in the playlist padded with leading zeros according to the total length of the playlist\\n - `playlist_id` (string): Playlist identifier\\n - `playlist_title` (string): Playlist title\\n - `playlist_uploader` (string): Full name of the playlist uploader\\n - `playlist_uploader_id` (string): Nickname or id of the playlist uploader\\n\\nAvailable for the video that belongs to some logical chapter or section:\\n\\n - `chapter` (string): Name or title of the chapter the video belongs to\\n - `chapter_number` (numeric): Number of the chapter the video belongs to\\n - `chapter_id` (string): Id of the chapter the video belongs to\\n\\nAvailable for the video that is an episode of some series or programme:\\n\\n - `series` (string): Title of the series or programme the video episode belongs to\\n - `season` (string): Title of the season the video episode belongs to\\n - `season_number` (numeric): Number of the season the video episode belongs to\\n - `season_id` (string): Id of the season the video episode belongs to\\n - `episode` (string): Title of the video episode\\n - `episode_number` (numeric): Number of the video episode within a season\\n - `episode_id` (string): Id of the video episode\\n\\nAvailable for the media that is a track or a part of a music album:\\n\\n - `track` (string): Title of the track\\n - `track_number` (numeric): Number of the track within an album or a disc\\n - `track_id` (string): Id of the track\\n - `artist` (string): Artist(s) of the track\\n - `genre` (string): Genre(s) of the track\\n - `album` (string): Title of the album the track belongs to\\n - `album_type` (string): Type of the album\\n - `album_artist` (string): List of all artists appeared on the album\\n - `disc_number` (numeric): Number of the disc or other physical medium the track belongs to\\n - `release_year` (numeric): Year (YYYY) when the album was released\\n\\nEach aforementioned sequence when referenced in an output template will be replaced by the actual value corresponding to the sequence name. Note that some of the sequences are not guaranteed to be present since they depend on the metadata obtained by a particular extractor. Such sequences will be replaced with `NA`.\\n\\nFor example for `-o %(title)s-%(id)s.%(ext)s` and an mp4 video with title `youtube-dl test video` and id `BaW_jenozKcj`, this will result in a `youtube-dl test video-BaW_jenozKcj.mp4` file created in the current directory.\\n\\nFor numeric sequences you can use numeric related formatting, for example, `%(view_count)05d` will result in a string with view count padded with zeros up to 5 characters, like in `00042`.\\n\\nOutput templates can also contain arbitrary hierarchical path, e.g. `-o \\'%(playlist)s/%(playlist_index)s - %(title)s.%(ext)s\\'` which will result in downloading each video in a directory corresponding to this path template. Any missing directory will be automatically created for you.\\n\\nTo use percent literals in an output template use `%%`. To output to stdout use `-o -`.\\n\\nThe current default template is `%(title)s-%(id)s.%(ext)s`.\\n\\nIn some cases, you don\\'t want special characters such as 中, spaces, or &, such as when transferring the downloaded filename to a Windows system or the filename through an 8bit-unsafe channel. In these cases, add the `--restrict-filenames` flag to get a shorter title:\\n\\n#### Output template and Windows batch files\\n\\nIf you are using an output template inside a Windows batch file then you must escape plain percent characters (`%`) by doubling, so that `-o \"%(title)s-%(id)s.%(ext)s\"` should become `-o \"%%(title)s-%%(id)s.%%(ext)s\"`. However you should not touch `%`\\'s that are not plain characters, e.g. environment variables for expansion should stay intact: `-o \"C:\\\\%HOMEPATH%\\\\Desktop\\\\%%(title)s.%%(ext)s\"`.\\n\\n#### Output template examples\\n\\nNote that on Windows you may need to use double quotes instead of single.\\n\\n```bash\\n$ youtube-dl --get-filename -o \\'%(title)s.%(ext)s\\' BaW_jenozKc\\nyoutube-dl test video \\'\\'_ä↭𝕐.mp4    # All kinds of weird characters\\n\\n$ youtube-dl --get-filename -o \\'%(title)s.%(ext)s\\' BaW_jenozKc --restrict-filenames\\nyoutube-dl_test_video_.mp4          # A simple file name\\n\\n# Download YouTube playlist videos in separate directory indexed by video order in a playlist\\n$ youtube-dl -o \\'%(playlist)s/%(playlist_index)s - %(title)s.%(ext)s\\' https://www.youtube.com/playlist?list=PLwiyx1dc3P2JR9N8gQaQN_BCvlSlap7re\\n\\n# Download all playlists of YouTube channel/user keeping each playlist in separate directory:\\n$ youtube-dl -o \\'%(uploader)s/%(playlist)s/%(playlist_index)s - %(title)s.%(ext)s\\' https://www.youtube.com/user/TheLinuxFoundation/playlists\\n\\n# Download Udemy course keeping each chapter in separate directory under MyVideos directory in your home\\n$ youtube-dl -u user -p password -o \\'~/MyVideos/%(playlist)s/%(chapter_number)s - %(chapter)s/%(title)s.%(ext)s\\' https://www.udemy.com/java-tutorial/\\n\\n# Download entire series season keeping each series and each season in separate directory under C:/MyVideos\\n$ youtube-dl -o \"C:/MyVideos/%(series)s/%(season_number)s - %(season)s/%(episode_number)s - %(episode)s.%(ext)s\" https://videomore.ru/kino_v_detalayah/5_sezon/367617\\n\\n# Stream the video being downloaded to stdout\\n$ youtube-dl -o - BaW_jenozKc\\n```\\n\\n# FORMAT SELECTION\\n\\nBy default youtube-dl tries to download the best available quality, i.e. if you want the best quality you **don\\'t need** to pass any special options, youtube-dl will guess it for you by **default**.\\n\\nBut sometimes you may want to download in a different format, for example when you are on a slow or intermittent connection. The key mechanism for achieving this is so-called *format selection* based on which you can explicitly specify desired format, select formats based on some criterion or criteria, setup precedence and much more.\\n\\nThe general syntax for format selection is `--format FORMAT` or shorter `-f FORMAT` where `FORMAT` is a *selector expression*, i.e. an expression that describes format or formats you would like to download.\\n\\n**tl;dr:** [navigate me to examples](#format-selection-examples).\\n\\nThe simplest case is requesting a specific format, for example with `-f 22` you can download the format with format code equal to 22. You can get the list of available format codes for particular video using `--list-formats` or `-F`. Note that these format codes are extractor specific. \\n\\nYou can also use a file extension (currently `3gp`, `aac`, `flv`, `m4a`, `mp3`, `mp4`, `ogg`, `wav`, `webm` are supported) to download the best quality format of a particular file extension served as a single file, e.g. `-f webm` will download the best quality format with the `webm` extension served as a single file.\\n\\nYou can also use special names to select particular edge case formats:\\n\\n - `best`: Select the best quality format represented by a single file with video and audio.\\n - `worst`: Select the worst quality format represented by a single file with video and audio.\\n - `bestvideo`: Select the best quality video-only format (e.g. DASH video). May not be available.\\n - `worstvideo`: Select the worst quality video-only format. May not be available.\\n - `bestaudio`: Select the best quality audio only-format. May not be available.\\n - `worstaudio`: Select the worst quality audio only-format. May not be available.\\n\\nFor example, to download the worst quality video-only format you can use `-f worstvideo`.\\n\\nIf you want to download multiple videos and they don\\'t have the same formats available, you can specify the order of preference using slashes. Note that slash is left-associative, i.e. formats on the left hand side are preferred, for example `-f 22/17/18` will download format 22 if it\\'s available, otherwise it will download format 17 if it\\'s available, otherwise it will download format 18 if it\\'s available, otherwise it will complain that no suitable formats are available for download.\\n\\nIf you want to download several formats of the same video use a comma as a separator, e.g. `-f 22,17,18` will download all these three formats, of course if they are available. Or a more sophisticated example combined with the precedence feature: `-f 136/137/mp4/bestvideo,140/m4a/bestaudio`.\\n\\nYou can also filter the video formats by putting a condition in brackets, as in `-f \"best[height=720]\"` (or `-f \"[filesize>10M]\"`).\\n\\nThe following numeric meta fields can be used with comparisons `<`, `<=`, `>`, `>=`, `=` (equals), `!=` (not equals):\\n\\n - `filesize`: The number of bytes, if known in advance\\n - `width`: Width of the video, if known\\n - `height`: Height of the video, if known\\n - `tbr`: Average bitrate of audio and video in KBit/s\\n - `abr`: Average audio bitrate in KBit/s\\n - `vbr`: Average video bitrate in KBit/s\\n - `asr`: Audio sampling rate in Hertz\\n - `fps`: Frame rate\\n\\nAlso filtering work for comparisons `=` (equals), `^=` (starts with), `$=` (ends with), `*=` (contains) and following string meta fields:\\n\\n - `ext`: File extension\\n - `acodec`: Name of the audio codec in use\\n - `vcodec`: Name of the video codec in use\\n - `container`: Name of the container format\\n - `protocol`: The protocol that will be used for the actual download, lower-case (`http`, `https`, `rtsp`, `rtmp`, `rtmpe`, `mms`, `f4m`, `ism`, `http_dash_segments`, `m3u8`, or `m3u8_native`)\\n - `format_id`: A short description of the format\\n\\nAny string comparison may be prefixed with negation `!` in order to produce an opposite comparison, e.g. `!*=` (does not contain).\\n\\nNote that none of the aforementioned meta fields are guaranteed to be present since this solely depends on the metadata obtained by particular extractor, i.e. the metadata offered by the video hoster.\\n\\nFormats for which the value is not known are excluded unless you put a question mark (`?`) after the operator. You can combine format filters, so `-f \"[height <=? 720][tbr>500]\"` selects up to 720p videos (or videos where the height is not known) with a bitrate of at least 500 KBit/s.\\n\\nYou can merge the video and audio of two formats into a single file using `-f <video-format>+<audio-format>` (requires ffmpeg or avconv installed), for example `-f bestvideo+bestaudio` will download the best video-only format, the best audio-only format and mux them together with ffmpeg/avconv.\\n\\nFormat selectors can also be grouped using parentheses, for example if you want to download the best mp4 and webm formats with a height lower than 480 you can use `-f \\'(mp4,webm)[height<480]\\'`.\\n\\nSince the end of April 2015 and version 2015.04.26, youtube-dl uses `-f bestvideo+bestaudio/best` as the default format selection (see [#5447](https://github.com/ytdl-org/youtube-dl/issues/5447), [#5456](https://github.com/ytdl-org/youtube-dl/issues/5456)). If ffmpeg or avconv are installed this results in downloading `bestvideo` and `bestaudio` separately and muxing them together into a single file giving the best overall quality available. Otherwise it falls back to `best` and results in downloading the best available quality served as a single file. `best` is also needed for videos that don\\'t come from YouTube because they don\\'t provide the audio and video in two different files. If you want to only download some DASH formats (for example if you are not interested in getting videos with a resolution higher than 1080p), you can add `-f bestvideo[height<=?1080]+bestaudio/best` to your configuration file. Note that if you use youtube-dl to stream to `stdout` (and most likely to pipe it to your media player then), i.e. you explicitly specify output template as `-o -`, youtube-dl still uses `-f best` format selection in order to start content delivery immediately to your player and not to wait until `bestvideo` and `bestaudio` are downloaded and muxed.\\n\\nIf you want to preserve the old format selection behavior (prior to youtube-dl 2015.04.26), i.e. you want to download the best available quality media served as a single file, you should explicitly specify your choice with `-f best`. You may want to add it to the [configuration file](#configuration) in order not to type it every time you run youtube-dl.\\n\\n#### Format selection examples\\n\\nNote that on Windows you may need to use double quotes instead of single.\\n\\n```bash\\n# Download best mp4 format available or any other best if no mp4 available\\n$ youtube-dl -f \\'bestvideo[ext=mp4]+bestaudio[ext=m4a]/best[ext=mp4]/best\\'\\n\\n# Download best format available but no better than 480p\\n$ youtube-dl -f \\'bestvideo[height<=480]+bestaudio/best[height<=480]\\'\\n\\n# Download best video only format but no bigger than 50 MB\\n$ youtube-dl -f \\'best[filesize<50M]\\'\\n\\n# Download best format available via direct link over HTTP/HTTPS protocol\\n$ youtube-dl -f \\'(bestvideo+bestaudio/best)[protocol^=http]\\'\\n\\n# Download the best video format and the best audio format without merging them\\n$ youtube-dl -f \\'bestvideo,bestaudio\\' -o \\'%(title)s.f%(format_id)s.%(ext)s\\'\\n```\\nNote that in the last example, an output template is recommended as bestvideo and bestaudio may have the same file name.\\n\\n\\n# VIDEO SELECTION\\n\\nVideos can be filtered by their upload date using the options `--date`, `--datebefore` or `--dateafter`. They accept dates in two formats:\\n\\n - Absolute dates: Dates in the format `YYYYMMDD`.\\n - Relative dates: Dates in the format `(now|today)[+-][0-9](day|week|month|year)(s)?`\\n \\nExamples:\\n\\n```bash\\n# Download only the videos uploaded in the last 6 months\\n$ youtube-dl --dateafter now-6months\\n\\n# Download only the videos uploaded on January 1, 1970\\n$ youtube-dl --date 19700101\\n\\n$ # Download only the videos uploaded in the 200x decade\\n$ youtube-dl --dateafter 20000101 --datebefore 20091231\\n```\\n\\n# FAQ\\n\\n### How do I update youtube-dl?\\n\\nIf you\\'ve followed [our manual installation instructions](https://ytdl-org.github.io/youtube-dl/download.html), you can simply run `youtube-dl -U` (or, on Linux, `sudo youtube-dl -U`).\\n\\nIf you have used pip, a simple `sudo pip install -U youtube-dl` is sufficient to update.\\n\\nIf you have installed youtube-dl using a package manager like *apt-get* or *yum*, use the standard system update mechanism to update. Note that distribution packages are often outdated. As a rule of thumb, youtube-dl releases at least once a month, and often weekly or even daily. Simply go to https://yt-dl.org to find out the current version. Unfortunately, there is nothing we youtube-dl developers can do if your distribution serves a really outdated version. You can (and should) complain to your distribution in their bugtracker or support forum.\\n\\nAs a last resort, you can also uninstall the version installed by your package manager and follow our manual installation instructions. For that, remove the distribution\\'s package, with a line like\\n\\n    sudo apt-get remove -y youtube-dl\\n\\nAfterwards, simply follow [our manual installation instructions](https://ytdl-org.github.io/youtube-dl/download.html):\\n\\n```\\nsudo wget https://yt-dl.org/downloads/latest/youtube-dl -O /usr/local/bin/youtube-dl\\nsudo chmod a+rx /usr/local/bin/youtube-dl\\nhash -r\\n```\\n\\nAgain, from then on you\\'ll be able to update with `sudo youtube-dl -U`.\\n\\n### youtube-dl is extremely slow to start on Windows\\n\\nAdd a file exclusion for `youtube-dl.exe` in Windows Defender settings.\\n\\n### I\\'m getting an error `Unable to extract OpenGraph title` on YouTube playlists\\n\\nYouTube changed their playlist format in March 2014 and later on, so you\\'ll need at least youtube-dl 2014.07.25 to download all YouTube videos.\\n\\nIf you have installed youtube-dl with a package manager, pip, setup.py or a tarball, please use that to update. Note that Ubuntu packages do not seem to get updated anymore. Since we are not affiliated with Ubuntu, there is little we can do. Feel free to [report bugs](https://bugs.launchpad.net/ubuntu/+source/youtube-dl/+filebug) to the [Ubuntu packaging people](mailto:ubuntu-motu@lists.ubuntu.com?subject=outdated%20version%20of%20youtube-dl) - all they have to do is update the package to a somewhat recent version. See above for a way to update.\\n\\n### I\\'m getting an error when trying to use output template: `error: using output template conflicts with using title, video ID or auto number`\\n\\nMake sure you are not using `-o` with any of these options `-t`, `--title`, `--id`, `-A` or `--auto-number` set in command line or in a configuration file. Remove the latter if any.\\n\\n### Do I always have to pass `-citw`?\\n\\nBy default, youtube-dl intends to have the best options (incidentally, if you have a convincing case that these should be different, [please file an issue where you explain that](https://yt-dl.org/bug)). Therefore, it is unnecessary and sometimes harmful to copy long option strings from webpages. In particular, the only option out of `-citw` that is regularly useful is `-i`.\\n\\n### Can you please put the `-b` option back?\\n\\nMost people asking this question are not aware that youtube-dl now defaults to downloading the highest available quality as reported by YouTube, which will be 1080p or 720p in some cases, so you no longer need the `-b` option. For some specific videos, maybe YouTube does not report them to be available in a specific high quality format you\\'re interested in. In that case, simply request it with the `-f` option and youtube-dl will try to download it.\\n\\n### I get HTTP error 402 when trying to download a video. What\\'s this?\\n\\nApparently YouTube requires you to pass a CAPTCHA test if you download too much. We\\'re [considering to provide a way to let you solve the CAPTCHA](https://github.com/ytdl-org/youtube-dl/issues/154), but at the moment, your best course of action is pointing a web browser to the youtube URL, solving the CAPTCHA, and restart youtube-dl.\\n\\n### Do I need any other programs?\\n\\nyoutube-dl works fine on its own on most sites. However, if you want to convert video/audio, you\\'ll need [avconv](https://libav.org/) or [ffmpeg](https://www.ffmpeg.org/). On some sites - most notably YouTube - videos can be retrieved in a higher quality format without sound. youtube-dl will detect whether avconv/ffmpeg is present and automatically pick the best option.\\n\\nVideos or video formats streamed via RTMP protocol can only be downloaded when [rtmpdump](https://rtmpdump.mplayerhq.hu/) is installed. Downloading MMS and RTSP videos requires either [mplayer](https://mplayerhq.hu/) or [mpv](https://mpv.io/) to be installed.\\n\\n### I have downloaded a video but how can I play it?\\n\\nOnce the video is fully downloaded, use any video player, such as [mpv](https://mpv.io/), [vlc](https://www.videolan.org/) or [mplayer](https://www.mplayerhq.hu/).\\n\\n### I extracted a video URL with `-g`, but it does not play on another machine / in my web browser.\\n\\nIt depends a lot on the service. In many cases, requests for the video (to download/play it) must come from the same IP address and with the same cookies and/or HTTP headers. Use the `--cookies` option to write the required cookies into a file, and advise your downloader to read cookies from that file. Some sites also require a common user agent to be used, use `--dump-user-agent` to see the one in use by youtube-dl. You can also get necessary cookies and HTTP headers from JSON output obtained with `--dump-json`.\\n\\nIt may be beneficial to use IPv6; in some cases, the restrictions are only applied to IPv4. Some services (sometimes only for a subset of videos) do not restrict the video URL by IP address, cookie, or user-agent, but these are the exception rather than the rule.\\n\\nPlease bear in mind that some URL protocols are **not** supported by browsers out of the box, including RTMP. If you are using `-g`, your own downloader must support these as well.\\n\\nIf you want to play the video on a machine that is not running youtube-dl, you can relay the video content from the machine that runs youtube-dl. You can use `-o -` to let youtube-dl stream a video to stdout, or simply allow the player to download the files written by youtube-dl in turn.\\n\\n### ERROR: no fmt_url_map or conn information found in video info\\n\\nYouTube has switched to a new video info format in July 2011 which is not supported by old versions of youtube-dl. See [above](#how-do-i-update-youtube-dl) for how to update youtube-dl.\\n\\n### ERROR: unable to download video\\n\\nYouTube requires an additional signature since September 2012 which is not supported by old versions of youtube-dl. See [above](#how-do-i-update-youtube-dl) for how to update youtube-dl.\\n\\n### Video URL contains an ampersand and I\\'m getting some strange output `[1] 2839` or `\\'v\\' is not recognized as an internal or external command`\\n\\nThat\\'s actually the output from your shell. Since ampersand is one of the special shell characters it\\'s interpreted by the shell preventing you from passing the whole URL to youtube-dl. To disable your shell from interpreting the ampersands (or any other special characters) you have to either put the whole URL in quotes or escape them with a backslash (which approach will work depends on your shell).\\n\\nFor example if your URL is https://www.youtube.com/watch?t=4&v=BaW_jenozKc you should end up with following command:\\n\\n```youtube-dl \\'https://www.youtube.com/watch?t=4&v=BaW_jenozKc\\'```\\n\\nor\\n\\n```youtube-dl https://www.youtube.com/watch?t=4\\\\&v=BaW_jenozKc```\\n\\nFor Windows you have to use the double quotes:\\n\\n```youtube-dl \"https://www.youtube.com/watch?t=4&v=BaW_jenozKc\"```\\n\\n### ExtractorError: Could not find JS function u\\'OF\\'\\n\\nIn February 2015, the new YouTube player contained a character sequence in a string that was misinterpreted by old versions of youtube-dl. See [above](#how-do-i-update-youtube-dl) for how to update youtube-dl.\\n\\n### HTTP Error 429: Too Many Requests or 402: Payment Required\\n\\nThese two error codes indicate that the service is blocking your IP address because of overuse. Usually this is a soft block meaning that you can gain access again after solving CAPTCHA. Just open a browser and solve a CAPTCHA the service suggests you and after that [pass cookies](#how-do-i-pass-cookies-to-youtube-dl) to youtube-dl. Note that if your machine has multiple external IPs then you should also pass exactly the same IP you\\'ve used for solving CAPTCHA with [`--source-address`](#network-options). Also you may need to pass a `User-Agent` HTTP header of your browser with [`--user-agent`](#workarounds).\\n\\nIf this is not the case (no CAPTCHA suggested to solve by the service) then you can contact the service and ask them to unblock your IP address, or - if you have acquired a whitelisted IP address already - use the [`--proxy` or `--source-address` options](#network-options) to select another IP address.\\n\\n### SyntaxError: Non-ASCII character\\n\\nThe error\\n\\n    File \"youtube-dl\", line 2\\n    SyntaxError: Non-ASCII character \\'\\\\x93\\' ...\\n\\nmeans you\\'re using an outdated version of Python. Please update to Python 2.6 or 2.7.\\n\\n### What is this binary file? Where has the code gone?\\n\\nSince June 2012 ([#342](https://github.com/ytdl-org/youtube-dl/issues/342)) youtube-dl is packed as an executable zipfile, simply unzip it (might need renaming to `youtube-dl.zip` first on some systems) or clone the git repository, as laid out above. If you modify the code, you can run it by executing the `__main__.py` file. To recompile the executable, run `make youtube-dl`.\\n\\n### The exe throws an error due to missing `MSVCR100.dll`\\n\\nTo run the exe you need to install first the [Microsoft Visual C++ 2010 Redistributable Package (x86)](https://www.microsoft.com/en-US/download/details.aspx?id=5555).\\n\\n### On Windows, how should I set up ffmpeg and youtube-dl? Where should I put the exe files?\\n\\nIf you put youtube-dl and ffmpeg in the same directory that you\\'re running the command from, it will work, but that\\'s rather cumbersome.\\n\\nTo make a different directory work - either for ffmpeg, or for youtube-dl, or for both - simply create the directory (say, `C:\\\\bin`, or `C:\\\\Users\\\\<User name>\\\\bin`), put all the executables directly in there, and then [set your PATH environment variable](https://www.java.com/en/download/help/path.xml) to include that directory.\\n\\nFrom then on, after restarting your shell, you will be able to access both youtube-dl and ffmpeg (and youtube-dl will be able to find ffmpeg) by simply typing `youtube-dl` or `ffmpeg`, no matter what directory you\\'re in.\\n\\n### How do I put downloads into a specific folder?\\n\\nUse the `-o` to specify an [output template](#output-template), for example `-o \"/home/user/videos/%(title)s-%(id)s.%(ext)s\"`. If you want this for all of your downloads, put the option into your [configuration file](#configuration).\\n\\n### How do I download a video starting with a `-`?\\n\\nEither prepend `https://www.youtube.com/watch?v=` or separate the ID from the options with `--`:\\n\\n    youtube-dl -- -wNyEUrxzFU\\n    youtube-dl \"https://www.youtube.com/watch?v=-wNyEUrxzFU\"\\n\\n### How do I pass cookies to youtube-dl?\\n\\nUse the `--cookies` option, for example `--cookies /path/to/cookies/file.txt`.\\n\\nIn order to extract cookies from browser use any conforming browser extension for exporting cookies. For example, [cookies.txt](https://chrome.google.com/webstore/detail/cookiestxt/njabckikapfpffapmjgojcnbfjonfjfg) (for Chrome) or [cookies.txt](https://addons.mozilla.org/en-US/firefox/addon/cookies-txt/) (for Firefox).\\n\\nNote that the cookies file must be in Mozilla/Netscape format and the first line of the cookies file must be either `# HTTP Cookie File` or `# Netscape HTTP Cookie File`. Make sure you have correct [newline format](https://en.wikipedia.org/wiki/Newline) in the cookies file and convert newlines if necessary to correspond with your OS, namely `CRLF` (`\\\\r\\\\n`) for Windows and `LF` (`\\\\n`) for Unix and Unix-like systems (Linux, macOS, etc.). `HTTP Error 400: Bad Request` when using `--cookies` is a good sign of invalid newline format.\\n\\nPassing cookies to youtube-dl is a good way to workaround login when a particular extractor does not implement it explicitly. Another use case is working around [CAPTCHA](https://en.wikipedia.org/wiki/CAPTCHA) some websites require you to solve in particular cases in order to get access (e.g. YouTube, CloudFlare).\\n\\n### How do I stream directly to media player?\\n\\nYou will first need to tell youtube-dl to stream media to stdout with `-o -`, and also tell your media player to read from stdin (it must be capable of this for streaming) and then pipe former to latter. For example, streaming to [vlc](https://www.videolan.org/) can be achieved with:\\n\\n    youtube-dl -o - \"https://www.youtube.com/watch?v=BaW_jenozKcj\" | vlc -\\n\\n### How do I download only new videos from a playlist?\\n\\nUse download-archive feature. With this feature you should initially download the complete playlist with `--download-archive /path/to/download/archive/file.txt` that will record identifiers of all the videos in a special file. Each subsequent run with the same `--download-archive` will download only new videos and skip all videos that have been downloaded before. Note that only successful downloads are recorded in the file.\\n\\nFor example, at first,\\n\\n    youtube-dl --download-archive archive.txt \"https://www.youtube.com/playlist?list=PLwiyx1dc3P2JR9N8gQaQN_BCvlSlap7re\"\\n\\nwill download the complete `PLwiyx1dc3P2JR9N8gQaQN_BCvlSlap7re` playlist and create a file `archive.txt`. Each subsequent run will only download new videos if any:\\n\\n    youtube-dl --download-archive archive.txt \"https://www.youtube.com/playlist?list=PLwiyx1dc3P2JR9N8gQaQN_BCvlSlap7re\"\\n\\n### Should I add `--hls-prefer-native` into my config?\\n\\nWhen youtube-dl detects an HLS video, it can download it either with the built-in downloader or ffmpeg. Since many HLS streams are slightly invalid and ffmpeg/youtube-dl each handle some invalid cases better than the other, there is an option to switch the downloader if needed.\\n\\nWhen youtube-dl knows that one particular downloader works better for a given website, that downloader will be picked. Otherwise, youtube-dl will pick the best downloader for general compatibility, which at the moment happens to be ffmpeg. This choice may change in future versions of youtube-dl, with improvements of the built-in downloader and/or ffmpeg.\\n\\nIn particular, the generic extractor (used when your website is not in the [list of supported sites by youtube-dl](https://ytdl-org.github.io/youtube-dl/supportedsites.html) cannot mandate one specific downloader.\\n\\nIf you put either `--hls-prefer-native` or `--hls-prefer-ffmpeg` into your configuration, a different subset of videos will fail to download correctly. Instead, it is much better to [file an issue](https://yt-dl.org/bug) or a pull request which details why the native or the ffmpeg HLS downloader is a better choice for your use case.\\n\\n### Can you add support for this anime video site, or site which shows current movies for free?\\n\\nAs a matter of policy (as well as legality), youtube-dl does not include support for services that specialize in infringing copyright. As a rule of thumb, if you cannot easily find a video that the service is quite obviously allowed to distribute (i.e. that has been uploaded by the creator, the creator\\'s distributor, or is published under a free license), the service is probably unfit for inclusion to youtube-dl.\\n\\nA note on the service that they don\\'t host the infringing content, but just link to those who do, is evidence that the service should **not** be included into youtube-dl. The same goes for any DMCA note when the whole front page of the service is filled with videos they are not allowed to distribute. A \"fair use\" note is equally unconvincing if the service shows copyright-protected videos in full without authorization.\\n\\nSupport requests for services that **do** purchase the rights to distribute their content are perfectly fine though. If in doubt, you can simply include a source that mentions the legitimate purchase of content.\\n\\n### How can I speed up work on my issue?\\n\\n(Also known as: Help, my important issue not being solved!) The youtube-dl core developer team is quite small. While we do our best to solve as many issues as possible, sometimes that can take quite a while. To speed up your issue, here\\'s what you can do:\\n\\nFirst of all, please do report the issue [at our issue tracker](https://yt-dl.org/bugs). That allows us to coordinate all efforts by users and developers, and serves as a unified point. Unfortunately, the youtube-dl project has grown too large to use personal email as an effective communication channel.\\n\\nPlease read the [bug reporting instructions](#bugs) below. A lot of bugs lack all the necessary information. If you can, offer proxy, VPN, or shell access to the youtube-dl developers. If you are able to, test the issue from multiple computers in multiple countries to exclude local censorship or misconfiguration issues.\\n\\nIf nobody is interested in solving your issue, you are welcome to take matters into your own hands and submit a pull request (or coerce/pay somebody else to do so).\\n\\nFeel free to bump the issue from time to time by writing a small comment (\"Issue is still present in youtube-dl version ...from France, but fixed from Belgium\"), but please not more than once a month. Please do not declare your issue as `important` or `urgent`.\\n\\n### How can I detect whether a given URL is supported by youtube-dl?\\n\\nFor one, have a look at the [list of supported sites](docs/supportedsites.md). Note that it can sometimes happen that the site changes its URL scheme (say, from https://example.com/video/1234567 to https://example.com/v/1234567 ) and youtube-dl reports an URL of a service in that list as unsupported. In that case, simply report a bug.\\n\\nIt is *not* possible to detect whether a URL is supported or not. That\\'s because youtube-dl contains a generic extractor which matches **all** URLs. You may be tempted to disable, exclude, or remove the generic extractor, but the generic extractor not only allows users to extract videos from lots of websites that embed a video from another service, but may also be used to extract video from a service that it\\'s hosting itself. Therefore, we neither recommend nor support disabling, excluding, or removing the generic extractor.\\n\\nIf you want to find out whether a given URL is supported, simply call youtube-dl with it. If you get no videos back, chances are the URL is either not referring to a video or unsupported. You can find out which by examining the output (if you run youtube-dl on the console) or catching an `UnsupportedError` exception if you run it from a Python program.\\n\\n# Why do I need to go through that much red tape when filing bugs?\\n\\nBefore we had the issue template, despite our extensive [bug reporting instructions](#bugs), about 80% of the issue reports we got were useless, for instance because people used ancient versions hundreds of releases old, because of simple syntactic errors (not in youtube-dl but in general shell usage), because the problem was already reported multiple times before, because people did not actually read an error message, even if it said \"please install ffmpeg\", because people did not mention the URL they were trying to download and many more simple, easy-to-avoid problems, many of whom were totally unrelated to youtube-dl.\\n\\nyoutube-dl is an open-source project manned by too few volunteers, so we\\'d rather spend time fixing bugs where we are certain none of those simple problems apply, and where we can be reasonably confident to be able to reproduce the issue without asking the reporter repeatedly. As such, the output of `youtube-dl -v YOUR_URL_HERE` is really all that\\'s required to file an issue. The issue template also guides you through some basic steps you can do, such as checking that your version of youtube-dl is current.\\n\\n# DEVELOPER INSTRUCTIONS\\n\\nMost users do not need to build youtube-dl and can [download the builds](https://ytdl-org.github.io/youtube-dl/download.html) or get them from their distribution.\\n\\nTo run youtube-dl as a developer, you don\\'t need to build anything either. Simply execute\\n\\n    python -m youtube_dl\\n\\nTo run the test, simply invoke your favorite test runner, or execute a test file directly; any of the following work:\\n\\n    python -m unittest discover\\n    python test/test_download.py\\n    nosetests\\n\\nSee item 6 of [new extractor tutorial](#adding-support-for-a-new-site) for how to run extractor specific test cases.\\n\\nIf you want to create a build of youtube-dl yourself, you\\'ll need\\n\\n* python\\n* make (only GNU make is supported)\\n* pandoc\\n* zip\\n* nosetests\\n\\n### Adding support for a new site\\n\\nIf you want to add support for a new site, first of all **make sure** this site is **not dedicated to [copyright infringement](README.md#can-you-add-support-for-this-anime-video-site-or-site-which-shows-current-movies-for-free)**. youtube-dl does **not support** such sites thus pull requests adding support for them **will be rejected**.\\n\\nAfter you have ensured this site is distributing its content legally, you can follow this quick list (assuming your service is called `yourextractor`):\\n\\n1. [Fork this repository](https://github.com/ytdl-org/youtube-dl/fork)\\n2. Check out the source code with:\\n\\n        git clone git@github.com:YOUR_GITHUB_USERNAME/youtube-dl.git\\n\\n3. Start a new git branch with\\n\\n        cd youtube-dl\\n        git checkout -b yourextractor\\n\\n4. Start with this simple template and save it to `youtube_dl/extractor/yourextractor.py`:\\n\\n    ```python\\n    # coding: utf-8\\n    from __future__ import unicode_literals\\n\\n    from .common import InfoExtractor\\n\\n\\n    class YourExtractorIE(InfoExtractor):\\n        _VALID_URL = r\\'https?://(?:www\\\\.)?yourextractor\\\\.com/watch/(?P<id>[0-9]+)\\'\\n        _TEST = {\\n            \\'url\\': \\'https://yourextractor.com/watch/42\\',\\n            \\'md5\\': \\'TODO: md5 sum of the first 10241 bytes of the video file (use --test)\\',\\n            \\'info_dict\\': {\\n                \\'id\\': \\'42\\',\\n                \\'ext\\': \\'mp4\\',\\n                \\'title\\': \\'Video title goes here\\',\\n                \\'thumbnail\\': r\\'re:^https?://.*\\\\.jpg$\\',\\n                # TODO more properties, either as:\\n                # * A value\\n                # * MD5 checksum; start the string with md5:\\n                # * A regular expression; start the string with re:\\n                # * Any Python type (for example int or float)\\n            }\\n        }\\n\\n        def _real_extract(self, url):\\n            video_id = self._match_id(url)\\n            webpage = self._download_webpage(url, video_id)\\n\\n            # TODO more code goes here, for example ...\\n            title = self._html_search_regex(r\\'<h1>(.+?)</h1>\\', webpage, \\'title\\')\\n\\n            return {\\n                \\'id\\': video_id,\\n                \\'title\\': title,\\n                \\'description\\': self._og_search_description(webpage),\\n                \\'uploader\\': self._search_regex(r\\'<div[^>]+id=\"uploader\"[^>]*>([^<]+)<\\', webpage, \\'uploader\\', fatal=False),\\n                # TODO more properties (see youtube_dl/extractor/common.py)\\n            }\\n    ```\\n5. Add an import in [`youtube_dl/extractor/extractors.py`](https://github.com/ytdl-org/youtube-dl/blob/master/youtube_dl/extractor/extractors.py).\\n6. Run `python test/test_download.py TestDownload.test_YourExtractor`. This *should fail* at first, but you can continually re-run it until you\\'re done. If you decide to add more than one test, then rename ``_TEST`` to ``_TESTS`` and make it into a list of dictionaries. The tests will then be named `TestDownload.test_YourExtractor`, `TestDownload.test_YourExtractor_1`, `TestDownload.test_YourExtractor_2`, etc. Note that tests with `only_matching` key in test\\'s dict are not counted in.\\n7. Have a look at [`youtube_dl/extractor/common.py`](https://github.com/ytdl-org/youtube-dl/blob/master/youtube_dl/extractor/common.py) for possible helper methods and a [detailed description of what your extractor should and may return](https://github.com/ytdl-org/youtube-dl/blob/7f41a598b3fba1bcab2817de64a08941200aa3c8/youtube_dl/extractor/common.py#L94-L303). Add tests and code for as many as you want.\\n8. Make sure your code follows [youtube-dl coding conventions](#youtube-dl-coding-conventions) and check the code with [flake8](https://flake8.pycqa.org/en/latest/index.html#quickstart):\\n\\n        $ flake8 youtube_dl/extractor/yourextractor.py\\n\\n9. Make sure your code works under all [Python](https://www.python.org/) versions claimed supported by youtube-dl, namely 2.6, 2.7, and 3.2+.\\n10. When the tests pass, [add](https://git-scm.com/docs/git-add) the new files and [commit](https://git-scm.com/docs/git-commit) them and [push](https://git-scm.com/docs/git-push) the result, like this:\\n\\n        $ git add youtube_dl/extractor/extractors.py\\n        $ git add youtube_dl/extractor/yourextractor.py\\n        $ git commit -m \\'[yourextractor] Add new extractor\\'\\n        $ git push origin yourextractor\\n\\n11. Finally, [create a pull request](https://help.github.com/articles/creating-a-pull-request). We\\'ll then review and merge it.\\n\\nIn any case, thank you very much for your contributions!\\n\\n## youtube-dl coding conventions\\n\\nThis section introduces a guide lines for writing idiomatic, robust and future-proof extractor code.\\n\\nExtractors are very fragile by nature since they depend on the layout of the source data provided by 3rd party media hosters out of your control and this layout tends to change. As an extractor implementer your task is not only to write code that will extract media links and metadata correctly but also to minimize dependency on the source\\'s layout and even to make the code foresee potential future changes and be ready for that. This is important because it will allow the extractor not to break on minor layout changes thus keeping old youtube-dl versions working. Even though this breakage issue is easily fixed by emitting a new version of youtube-dl with a fix incorporated, all the previous versions become broken in all repositories and distros\\' packages that may not be so prompt in fetching the update from us. Needless to say, some non rolling release distros may never receive an update at all.\\n\\n### Mandatory and optional metafields\\n\\nFor extraction to work youtube-dl relies on metadata your extractor extracts and provides to youtube-dl expressed by an [information dictionary](https://github.com/ytdl-org/youtube-dl/blob/7f41a598b3fba1bcab2817de64a08941200aa3c8/youtube_dl/extractor/common.py#L94-L303) or simply *info dict*. Only the following meta fields in the *info dict* are considered mandatory for a successful extraction process by youtube-dl:\\n\\n - `id` (media identifier)\\n - `title` (media title)\\n - `url` (media download URL) or `formats`\\n\\nIn fact only the last option is technically mandatory (i.e. if you can\\'t figure out the download location of the media the extraction does not make any sense). But by convention youtube-dl also treats `id` and `title` as mandatory. Thus the aforementioned metafields are the critical data that the extraction does not make any sense without and if any of them fail to be extracted then the extractor is considered completely broken.\\n\\n[Any field](https://github.com/ytdl-org/youtube-dl/blob/7f41a598b3fba1bcab2817de64a08941200aa3c8/youtube_dl/extractor/common.py#L188-L303) apart from the aforementioned ones are considered **optional**. That means that extraction should be **tolerant** to situations when sources for these fields can potentially be unavailable (even if they are always available at the moment) and **future-proof** in order not to break the extraction of general purpose mandatory fields.\\n\\n#### Example\\n\\nSay you have some source dictionary `meta` that you\\'ve fetched as JSON with HTTP request and it has a key `summary`:\\n\\n```python\\nmeta = self._download_json(url, video_id)\\n```\\n    \\nAssume at this point `meta`\\'s layout is:\\n\\n```python\\n{\\n    ...\\n    \"summary\": \"some fancy summary text\",\\n    ...\\n}\\n```\\n\\nAssume you want to extract `summary` and put it into the resulting info dict as `description`. Since `description` is an optional meta field you should be ready that this key may be missing from the `meta` dict, so that you should extract it like:\\n\\n```python\\ndescription = meta.get(\\'summary\\')  # correct\\n```\\n\\nand not like:\\n\\n```python\\ndescription = meta[\\'summary\\']  # incorrect\\n```\\n\\nThe latter will break extraction process with `KeyError` if `summary` disappears from `meta` at some later time but with the former approach extraction will just go ahead with `description` set to `None` which is perfectly fine (remember `None` is equivalent to the absence of data).\\n\\nSimilarly, you should pass `fatal=False` when extracting optional data from a webpage with `_search_regex`, `_html_search_regex` or similar methods, for instance:\\n\\n```python\\ndescription = self._search_regex(\\n    r\\'<span[^>]+id=\"title\"[^>]*>([^<]+)<\\',\\n    webpage, \\'description\\', fatal=False)\\n```\\n\\nWith `fatal` set to `False` if `_search_regex` fails to extract `description` it will emit a warning and continue extraction.\\n\\nYou can also pass `default=<some fallback value>`, for example:\\n\\n```python\\ndescription = self._search_regex(\\n    r\\'<span[^>]+id=\"title\"[^>]*>([^<]+)<\\',\\n    webpage, \\'description\\', default=None)\\n```\\n\\nOn failure this code will silently continue the extraction with `description` set to `None`. That is useful for metafields that may or may not be present.\\n \\n### Provide fallbacks\\n\\nWhen extracting metadata try to do so from multiple sources. For example if `title` is present in several places, try extracting from at least some of them. This makes it more future-proof in case some of the sources become unavailable.\\n\\n#### Example\\n\\nSay `meta` from the previous example has a `title` and you are about to extract it. Since `title` is a mandatory meta field you should end up with something like:\\n\\n```python\\ntitle = meta[\\'title\\']\\n```\\n\\nIf `title` disappears from `meta` in future due to some changes on the hoster\\'s side the extraction would fail since `title` is mandatory. That\\'s expected.\\n\\nAssume that you have some another source you can extract `title` from, for example `og:title` HTML meta of a `webpage`. In this case you can provide a fallback scenario:\\n\\n```python\\ntitle = meta.get(\\'title\\') or self._og_search_title(webpage)\\n```\\n\\nThis code will try to extract from `meta` first and if it fails it will try extracting `og:title` from a `webpage`.\\n\\n### Regular expressions\\n\\n#### Don\\'t capture groups you don\\'t use\\n\\nCapturing group must be an indication that it\\'s used somewhere in the code. Any group that is not used must be non capturing.\\n\\n##### Example\\n\\nDon\\'t capture id attribute name here since you can\\'t use it for anything anyway.\\n\\nCorrect:\\n\\n```python\\nr\\'(?:id|ID)=(?P<id>\\\\d+)\\'\\n```\\n\\nIncorrect:\\n```python\\nr\\'(id|ID)=(?P<id>\\\\d+)\\'\\n```\\n\\n\\n#### Make regular expressions relaxed and flexible\\n\\nWhen using regular expressions try to write them fuzzy, relaxed and flexible, skipping insignificant parts that are more likely to change, allowing both single and double quotes for quoted values and so on.\\n \\n##### Example\\n\\nSay you need to extract `title` from the following HTML code:\\n\\n```html\\n<span style=\"position: absolute; left: 910px; width: 90px; float: right; z-index: 9999;\" class=\"title\">some fancy title</span>\\n```\\n\\nThe code for that task should look similar to:\\n\\n```python\\ntitle = self._search_regex(\\n    r\\'<span[^>]+class=\"title\"[^>]*>([^<]+)\\', webpage, \\'title\\')\\n```\\n\\nOr even better:\\n\\n```python\\ntitle = self._search_regex(\\n    r\\'<span[^>]+class=([\"\\\\\\'])title\\\\1[^>]*>(?P<title>[^<]+)\\',\\n    webpage, \\'title\\', group=\\'title\\')\\n```\\n\\nNote how you tolerate potential changes in the `style` attribute\\'s value or switch from using double quotes to single for `class` attribute: \\n\\nThe code definitely should not look like:\\n\\n```python\\ntitle = self._search_regex(\\n    r\\'<span style=\"position: absolute; left: 910px; width: 90px; float: right; z-index: 9999;\" class=\"title\">(.*?)</span>\\',\\n    webpage, \\'title\\', group=\\'title\\')\\n```\\n\\n### Long lines policy\\n\\nThere is a soft limit to keep lines of code under 80 characters long. This means it should be respected if possible and if it does not make readability and code maintenance worse.\\n\\nFor example, you should **never** split long string literals like URLs or some other often copied entities over multiple lines to fit this limit:\\n\\nCorrect:\\n\\n```python\\n\\'https://www.youtube.com/watch?v=FqZTN594JQw&list=PLMYEtVRpaqY00V9W81Cwmzp6N6vZqfUKD4\\'\\n```\\n\\nIncorrect:\\n\\n```python\\n\\'https://www.youtube.com/watch?v=FqZTN594JQw&list=\\'\\n\\'PLMYEtVRpaqY00V9W81Cwmzp6N6vZqfUKD4\\'\\n```\\n\\n### Inline values\\n\\nExtracting variables is acceptable for reducing code duplication and improving readability of complex expressions. However, you should avoid extracting variables used only once and moving them to opposite parts of the extractor file, which makes reading the linear flow difficult.\\n\\n#### Example\\n\\nCorrect:\\n\\n```python\\ntitle = self._html_search_regex(r\\'<title>([^<]+)</title>\\', webpage, \\'title\\')\\n```\\n\\nIncorrect:\\n\\n```python\\nTITLE_RE = r\\'<title>([^<]+)</title>\\'\\n# ...some lines of code...\\ntitle = self._html_search_regex(TITLE_RE, webpage, \\'title\\')\\n```\\n\\n### Collapse fallbacks\\n\\nMultiple fallback values can quickly become unwieldy. Collapse multiple fallback values into a single expression via a list of patterns.\\n\\n#### Example\\n\\nGood:\\n\\n```python\\ndescription = self._html_search_meta(\\n    [\\'og:description\\', \\'description\\', \\'twitter:description\\'],\\n    webpage, \\'description\\', default=None)\\n```\\n\\nUnwieldy:\\n\\n```python\\ndescription = (\\n    self._og_search_description(webpage, default=None)\\n    or self._html_search_meta(\\'description\\', webpage, default=None)\\n    or self._html_search_meta(\\'twitter:description\\', webpage, default=None))\\n```\\n\\nMethods supporting list of patterns are: `_search_regex`, `_html_search_regex`, `_og_search_property`, `_html_search_meta`.\\n\\n### Trailing parentheses\\n\\nAlways move trailing parentheses after the last argument.\\n\\n#### Example\\n\\nCorrect:\\n\\n```python\\n    lambda x: x[\\'ResultSet\\'][\\'Result\\'][0][\\'VideoUrlSet\\'][\\'VideoUrl\\'],\\n    list)\\n```\\n\\nIncorrect:\\n\\n```python\\n    lambda x: x[\\'ResultSet\\'][\\'Result\\'][0][\\'VideoUrlSet\\'][\\'VideoUrl\\'],\\n    list,\\n)\\n```\\n\\n### Use convenience conversion and parsing functions\\n\\nWrap all extracted numeric data into safe functions from [`youtube_dl/utils.py`](https://github.com/ytdl-org/youtube-dl/blob/master/youtube_dl/utils.py): `int_or_none`, `float_or_none`. Use them for string to number conversions as well.\\n\\nUse `url_or_none` for safe URL processing.\\n\\nUse `try_get` for safe metadata extraction from parsed JSON.\\n\\nUse `unified_strdate` for uniform `upload_date` or any `YYYYMMDD` meta field extraction, `unified_timestamp` for uniform `timestamp` extraction, `parse_filesize` for `filesize` extraction, `parse_count` for count meta fields extraction, `parse_resolution`, `parse_duration` for `duration` extraction, `parse_age_limit` for `age_limit` extraction. \\n\\nExplore [`youtube_dl/utils.py`](https://github.com/ytdl-org/youtube-dl/blob/master/youtube_dl/utils.py) for more useful convenience functions.\\n\\n#### More examples\\n\\n##### Safely extract optional description from parsed JSON\\n```python\\ndescription = try_get(response, lambda x: x[\\'result\\'][\\'video\\'][0][\\'summary\\'], compat_str)\\n```\\n\\n##### Safely extract more optional metadata\\n```python\\nvideo = try_get(response, lambda x: x[\\'result\\'][\\'video\\'][0], dict) or {}\\ndescription = video.get(\\'summary\\')\\nduration = float_or_none(video.get(\\'durationMs\\'), scale=1000)\\nview_count = int_or_none(video.get(\\'views\\'))\\n```\\n\\n# EMBEDDING YOUTUBE-DL\\n\\nyoutube-dl makes the best effort to be a good command-line program, and thus should be callable from any programming language. If you encounter any problems parsing its output, feel free to [create a report](https://github.com/ytdl-org/youtube-dl/issues/new).\\n\\nFrom a Python program, you can embed youtube-dl in a more powerful fashion, like this:\\n\\n```python\\nfrom __future__ import unicode_literals\\nimport youtube_dl\\n\\nydl_opts = {}\\nwith youtube_dl.YoutubeDL(ydl_opts) as ydl:\\n    ydl.download([\\'https://www.youtube.com/watch?v=BaW_jenozKc\\'])\\n```\\n\\nMost likely, you\\'ll want to use various options. For a list of options available, have a look at [`youtube_dl/YoutubeDL.py`](https://github.com/ytdl-org/youtube-dl/blob/3e4cedf9e8cd3157df2457df7274d0c842421945/youtube_dl/YoutubeDL.py#L137-L312). For a start, if you want to intercept youtube-dl\\'s output, set a `logger` object.\\n\\nHere\\'s a more complete example of a program that outputs only errors (and a short message after the download is finished), and downloads/converts the video to an mp3 file:\\n\\n```python\\nfrom __future__ import unicode_literals\\nimport youtube_dl\\n\\n\\nclass MyLogger(object):\\n    def debug(self, msg):\\n        pass\\n\\n    def warning(self, msg):\\n        pass\\n\\n    def error(self, msg):\\n        print(msg)\\n\\n\\ndef my_hook(d):\\n    if d[\\'status\\'] == \\'finished\\':\\n        print(\\'Done downloading, now converting ...\\')\\n\\n\\nydl_opts = {\\n    \\'format\\': \\'bestaudio/best\\',\\n    \\'postprocessors\\': [{\\n        \\'key\\': \\'FFmpegExtractAudio\\',\\n        \\'preferredcodec\\': \\'mp3\\',\\n        \\'preferredquality\\': \\'192\\',\\n    }],\\n    \\'logger\\': MyLogger(),\\n    \\'progress_hooks\\': [my_hook],\\n}\\nwith youtube_dl.YoutubeDL(ydl_opts) as ydl:\\n    ydl.download([\\'https://www.youtube.com/watch?v=BaW_jenozKc\\'])\\n```\\n\\n# BUGS\\n\\nBugs and suggestions should be reported at: <https://github.com/ytdl-org/youtube-dl/issues>. Unless you were prompted to or there is another pertinent reason (e.g. GitHub fails to accept the bug report), please do not send bug reports via personal email. For discussions, join us in the IRC channel [#youtube-dl](irc://chat.freenode.net/#youtube-dl) on freenode ([webchat](https://webchat.freenode.net/?randomnick=1&channels=youtube-dl)).\\n\\n**Please include the full output of youtube-dl when run with `-v`**, i.e. **add** `-v` flag to **your command line**, copy the **whole** output and post it in the issue body wrapped in \\\\`\\\\`\\\\` for better formatting. It should look similar to this:\\n```\\n$ youtube-dl -v <your command line>\\n[debug] System config: []\\n[debug] User config: []\\n[debug] Command-line args: [u\\'-v\\', u\\'https://www.youtube.com/watch?v=BaW_jenozKcj\\']\\n[debug] Encodings: locale cp1251, fs mbcs, out cp866, pref cp1251\\n[debug] youtube-dl version 2015.12.06\\n[debug] Git HEAD: 135392e\\n[debug] Python version 2.6.6 - Windows-2003Server-5.2.3790-SP2\\n[debug] exe versions: ffmpeg N-75573-g1d0487f, ffprobe N-75573-g1d0487f, rtmpdump 2.4\\n[debug] Proxy map: {}\\n...\\n```\\n**Do not post screenshots of verbose logs; only plain text is acceptable.**\\n\\nThe output (including the first lines) contains important debugging information. Issues without the full output are often not reproducible and therefore do not get solved in short order, if ever.\\n\\nPlease re-read your issue once again to avoid a couple of common mistakes (you can and should use this as a checklist):\\n\\n### Is the description of the issue itself sufficient?\\n\\nWe often get issue reports that we cannot really decipher. While in most cases we eventually get the required information after asking back multiple times, this poses an unnecessary drain on our resources. Many contributors, including myself, are also not native speakers, so we may misread some parts.\\n\\nSo please elaborate on what feature you are requesting, or what bug you want to be fixed. Make sure that it\\'s obvious\\n\\n- What the problem is\\n- How it could be fixed\\n- How your proposed solution would look like\\n\\nIf your report is shorter than two lines, it is almost certainly missing some of these, which makes it hard for us to respond to it. We\\'re often too polite to close the issue outright, but the missing info makes misinterpretation likely. As a committer myself, I often get frustrated by these issues, since the only possible way for me to move forward on them is to ask for clarification over and over.\\n\\nFor bug reports, this means that your report should contain the *complete* output of youtube-dl when called with the `-v` flag. The error message you get for (most) bugs even says so, but you would not believe how many of our bug reports do not contain this information.\\n\\nIf your server has multiple IPs or you suspect censorship, adding `--call-home` may be a good idea to get more diagnostics. If the error is `ERROR: Unable to extract ...` and you cannot reproduce it from multiple countries, add `--dump-pages` (warning: this will yield a rather large output, redirect it to the file `log.txt` by adding `>log.txt 2>&1` to your command-line) or upload the `.dump` files you get when you add `--write-pages` [somewhere](https://gist.github.com/).\\n\\n**Site support requests must contain an example URL**. An example URL is a URL you might want to download, like `https://www.youtube.com/watch?v=BaW_jenozKc`. There should be an obvious video present. Except under very special circumstances, the main page of a video service (e.g. `https://www.youtube.com/`) is *not* an example URL.\\n\\n###  Are you using the latest version?\\n\\nBefore reporting any issue, type `youtube-dl -U`. This should report that you\\'re up-to-date. About 20% of the reports we receive are already fixed, but people are using outdated versions. This goes for feature requests as well.\\n\\n###  Is the issue already documented?\\n\\nMake sure that someone has not already opened the issue you\\'re trying to open. Search at the top of the window or browse the [GitHub Issues](https://github.com/ytdl-org/youtube-dl/search?type=Issues) of this repository. If there is an issue, feel free to write something along the lines of \"This affects me as well, with version 2015.01.01. Here is some more information on the issue: ...\". While some issues may be old, a new post into them often spurs rapid activity.\\n\\n###  Why are existing options not enough?\\n\\nBefore requesting a new feature, please have a quick peek at [the list of supported options](https://github.com/ytdl-org/youtube-dl/blob/master/README.md#options). Many feature requests are for features that actually exist already! Please, absolutely do show off your work in the issue report and detail how the existing similar options do *not* solve your problem.\\n\\n###  Is there enough context in your bug report?\\n\\nPeople want to solve problems, and often think they do us a favor by breaking down their larger problems (e.g. wanting to skip already downloaded files) to a specific request (e.g. requesting us to look whether the file exists before downloading the info page). However, what often happens is that they break down the problem into two steps: One simple, and one impossible (or extremely complicated one).\\n\\nWe are then presented with a very complicated request when the original problem could be solved far easier, e.g. by recording the downloaded video IDs in a separate file. To avoid this, you must include the greater context where it is non-obvious. In particular, every feature request that does not consist of adding support for a new site should contain a use case scenario that explains in what situation the missing feature would be useful.\\n\\n###  Does the issue involve one problem, and one problem only?\\n\\nSome of our users seem to think there is a limit of issues they can or should open. There is no limit of issues they can or should open. While it may seem appealing to be able to dump all your issues into one ticket, that means that someone who solves one of your issues cannot mark the issue as closed. Typically, reporting a bunch of issues leads to the ticket lingering since nobody wants to attack that behemoth, until someone mercifully splits the issue into multiple ones.\\n\\nIn particular, every site support request issue should only pertain to services at one site (generally under a common domain, but always using the same backend technology). Do not request support for vimeo user videos, White house podcasts, and Google Plus pages in the same issue. Also, make sure that you don\\'t post bug reports alongside feature requests. As a rule of thumb, a feature request does not include outputs of youtube-dl that are not immediately related to the feature at hand. Do not post reports of a network error alongside the request for a new video service.\\n\\n###  Is anyone going to need the feature?\\n\\nOnly post features that you (or an incapacitated friend you can personally talk to) require. Do not post features because they seem like a good idea. If they are really useful, they will be requested by someone who requires them.\\n\\n###  Is your question about youtube-dl?\\n\\nIt may sound strange, but some bug reports we receive are completely unrelated to youtube-dl and relate to a different, or even the reporter\\'s own, application. Please make sure that you are actually using youtube-dl. If you are using a UI for youtube-dl, report the bug to the maintainer of the actual application providing the UI. On the other hand, if your UI for youtube-dl fails in some way you believe is related to youtube-dl, by all means, go ahead and report the bug.\\n\\n# COPYRIGHT\\n\\nyoutube-dl is released into the public domain by the copyright holders.\\n\\nThis README file was originally written by [Daniel Bolton](https://github.com/dbbolton) and is likewise released into the public domain.\\n'"
      ]
     },
     "execution_count": 15,
     "metadata": {},
     "output_type": "execute_result"
    }
   ],
   "source": [
    "df_test.readme_contents[0]"
   ]
  },
  {
   "cell_type": "code",
   "execution_count": 16,
   "metadata": {},
   "outputs": [],
   "source": [
    "import unicodedata\n",
    "import re\n",
    "import json\n",
    "\n",
    "import nltk\n",
    "from nltk.tokenize.toktok import ToktokTokenizer\n",
    "from nltk.corpus import stopwords"
   ]
  },
  {
   "cell_type": "code",
   "execution_count": 17,
   "metadata": {},
   "outputs": [
    {
     "data": {
      "text/plain": [
       "'[![Build Status](https://travis-ci.org/ytdl-org/youtube-dl.svg?branch=master)](https://travis-ci.org/ytdl-org/youtube-dl)\\n\\nyoutube-dl - download videos from youtube.com or other video platforms\\n\\n- [INSTALLATION](#installation)\\n- [DESCRIPTION](#description)\\n- [OPTIONS](#options)\\n- [CONFIGURATION](#configuration)\\n- [OUTPUT TEMPLATE](#output-template)\\n- [FORMAT SELECTION](#format-selection)\\n- [VIDEO SELECTION](#video-selection)\\n- [FAQ](#faq)\\n- [DEVELOPER INSTRUCTIONS](#developer-instructions)\\n- [EMBEDDING YOUTUBE-DL](#embedding-youtube-dl)\\n- [BUGS](#bugs)\\n- [COPYRIGHT](#copyright)\\n\\n# INSTALLATION\\n\\nTo install it right away for all UNIX users (Linux, macOS, etc.), type:\\n\\n    sudo curl -L https://yt-dl.org/downloads/latest/youtube-dl -o /usr/local/bin/youtube-dl\\n    sudo chmod a+rx /usr/local/bin/youtube-dl\\n\\nIf you do not have curl, you can alternatively use a recent wget:\\n\\n    sudo wget https://yt-dl.org/downloads/latest/youtube-dl -O /usr/local/bin/youtube-dl\\n    sudo chmod a+rx /usr/local/bin/youtube-dl\\n\\nWindows users can [download an .exe file](https://yt-dl.org/latest/youtube-dl.exe) and place it in any location on their [PATH](https://en.wikipedia.org/wiki/PATH_%28variable%29) except for `%SYSTEMROOT%\\\\System32` (e.g. **do not** put in `C:\\\\Windows\\\\System32`).\\n\\nYou can also use pip:\\n\\n    sudo -H pip install --upgrade youtube-dl\\n    \\nThis command will update youtube-dl if you have already installed it. See the [pypi page](https://pypi.python.org/pypi/youtube_dl) for more information.\\n\\nmacOS users can install youtube-dl with [Homebrew](https://brew.sh/):\\n\\n    brew install youtube-dl\\n\\nOr with [MacPorts](https://www.macports.org/):\\n\\n    sudo port install youtube-dl\\n\\nAlternatively, refer to the [developer instructions](#developer-instructions) for how to check out and work with the git repository. For further options, including PGP signatures, see the [youtube-dl Download Page](https://ytdl-org.github.io/youtube-dl/download.html).\\n\\n# DESCRIPTION\\n**youtube-dl** is a command-line program to download videos from YouTube.com and a few more sites. It requires the Python interpreter, version 2.6, 2.7, or 3.2+, and it is not platform specific. It should work on your Unix box, on Windows or on macOS. It is released to the public domain, which means you can modify it, redistribute it or use it however you like.\\n\\n    youtube-dl [OPTIONS] URL [URL...]\\n\\n# OPTIONS\\n    -h, --help                       Print this help text and exit\\n    --version                        Print program version and exit\\n    -U, --update                     Update this program to latest version. Make\\n                                     sure that you have sufficient permissions\\n                                     (run with sudo if needed)\\n    -i, --ignore-errors              Continue on download errors, for example to\\n                                     skip unavailable videos in a playlist\\n    --abort-on-error                 Abort downloading of further videos (in the\\n                                     playlist or the command line) if an error\\n                                     occurs\\n    --dump-user-agent                Display the current browser identification\\n    --list-extractors                List all supported extractors\\n    --extractor-descriptions         Output descriptions of all supported\\n                                     extractors\\n    --force-generic-extractor        Force extraction to use the generic\\n                                     extractor\\n    --default-search PREFIX          Use this prefix for unqualified URLs. For\\n                                     example \"gvsearch2:\" downloads two videos\\n                                     from google videos for youtube-dl \"large\\n                                     apple\". Use the value \"auto\" to let\\n                                     youtube-dl guess (\"auto_warning\" to emit a\\n                                     warning when guessing). \"error\" just throws\\n                                     an error. The default value \"fixup_error\"\\n                                     repairs broken URLs, but emits an error if\\n                                     this is not possible instead of searching.\\n    --ignore-config                  Do not read configuration files. When given\\n                                     in the global configuration file\\n                                     /etc/youtube-dl.conf: Do not read the user\\n                                     configuration in ~/.config/youtube-\\n                                     dl/config (%APPDATA%/youtube-dl/config.txt\\n                                     on Windows)\\n    --config-location PATH           Location of the configuration file; either\\n                                     the path to the config or its containing\\n                                     directory.\\n    --flat-playlist                  Do not extract the videos of a playlist,\\n                                     only list them.\\n    --mark-watched                   Mark videos watched (YouTube only)\\n    --no-mark-watched                Do not mark videos watched (YouTube only)\\n    --no-color                       Do not emit color codes in output\\n\\n## Network Options:\\n    --proxy URL                      Use the specified HTTP/HTTPS/SOCKS proxy.\\n                                     To enable SOCKS proxy, specify a proper\\n                                     scheme. For example\\n                                     socks5://127.0.0.1:1080/. Pass in an empty\\n                                     string (--proxy \"\") for direct connection\\n    --socket-timeout SECONDS         Time to wait before giving up, in seconds\\n    --source-address IP              Client-side IP address to bind to\\n    -4, --force-ipv4                 Make all connections via IPv4\\n    -6, --force-ipv6                 Make all connections via IPv6\\n\\n## Geo Restriction:\\n    --geo-verification-proxy URL     Use this proxy to verify the IP address for\\n                                     some geo-restricted sites. The default\\n                                     proxy specified by --proxy (or none, if the\\n                                     option is not present) is used for the\\n                                     actual downloading.\\n    --geo-bypass                     Bypass geographic restriction via faking\\n                                     X-Forwarded-For HTTP header\\n    --no-geo-bypass                  Do not bypass geographic restriction via\\n                                     faking X-Forwarded-For HTTP header\\n    --geo-bypass-country CODE        Force bypass geographic restriction with\\n                                     explicitly provided two-letter ISO 3166-2\\n                                     country code\\n    --geo-bypass-ip-block IP_BLOCK   Force bypass geographic restriction with\\n                                     explicitly provided IP block in CIDR\\n                                     notation\\n\\n## Video Selection:\\n    --playlist-start NUMBER          Playlist video to start at (default is 1)\\n    --playlist-end NUMBER            Playlist video to end at (default is last)\\n    --playlist-items ITEM_SPEC       Playlist video items to download. Specify\\n                                     indices of the videos in the playlist\\n                                     separated by commas like: \"--playlist-items\\n                                     1,2,5,8\" if you want to download videos\\n                                     indexed 1, 2, 5, 8 in the playlist. You can\\n                                     specify range: \"--playlist-items\\n                                     1-3,7,10-13\", it will download the videos\\n                                     at index 1, 2, 3, 7, 10, 11, 12 and 13.\\n    --match-title REGEX              Download only matching titles (regex or\\n                                     caseless sub-string)\\n    --reject-title REGEX             Skip download for matching titles (regex or\\n                                     caseless sub-string)\\n    --max-downloads NUMBER           Abort after downloading NUMBER files\\n    --min-filesize SIZE              Do not download any videos smaller than\\n                                     SIZE (e.g. 50k or 44.6m)\\n    --max-filesize SIZE              Do not download any videos larger than SIZE\\n                                     (e.g. 50k or 44.6m)\\n    --date DATE                      Download only videos uploaded in this date\\n    --datebefore DATE                Download only videos uploaded on or before\\n                                     this date (i.e. inclusive)\\n    --dateafter DATE                 Download only videos uploaded on or after\\n                                     this date (i.e. inclusive)\\n    --min-views COUNT                Do not download any videos with less than\\n                                     COUNT views\\n    --max-views COUNT                Do not download any videos with more than\\n                                     COUNT views\\n    --match-filter FILTER            Generic video filter. Specify any key (see\\n                                     the \"OUTPUT TEMPLATE\" for a list of\\n                                     available keys) to match if the key is\\n                                     present, !key to check if the key is not\\n                                     present, key > NUMBER (like \"comment_count\\n                                     > 12\", also works with >=, <, <=, !=, =) to\\n                                     compare against a number, key = \\'LITERAL\\'\\n                                     (like \"uploader = \\'Mike Smith\\'\", also works\\n                                     with !=) to match against a string literal\\n                                     and & to require multiple matches. Values\\n                                     which are not known are excluded unless you\\n                                     put a question mark (?) after the operator.\\n                                     For example, to only match videos that have\\n                                     been liked more than 100 times and disliked\\n                                     less than 50 times (or the dislike\\n                                     functionality is not available at the given\\n                                     service), but who also have a description,\\n                                     use --match-filter \"like_count > 100 &\\n                                     dislike_count <? 50 & description\" .\\n    --no-playlist                    Download only the video, if the URL refers\\n                                     to a video and a playlist.\\n    --yes-playlist                   Download the playlist, if the URL refers to\\n                                     a video and a playlist.\\n    --age-limit YEARS                Download only videos suitable for the given\\n                                     age\\n    --download-archive FILE          Download only videos not listed in the\\n                                     archive file. Record the IDs of all\\n                                     downloaded videos in it.\\n    --include-ads                    Download advertisements as well\\n                                     (experimental)\\n\\n## Download Options:\\n    -r, --limit-rate RATE            Maximum download rate in bytes per second\\n                                     (e.g. 50K or 4.2M)\\n    -R, --retries RETRIES            Number of retries (default is 10), or\\n                                     \"infinite\".\\n    --fragment-retries RETRIES       Number of retries for a fragment (default\\n                                     is 10), or \"infinite\" (DASH, hlsnative and\\n                                     ISM)\\n    --skip-unavailable-fragments     Skip unavailable fragments (DASH, hlsnative\\n                                     and ISM)\\n    --abort-on-unavailable-fragment  Abort downloading when some fragment is not\\n                                     available\\n    --keep-fragments                 Keep downloaded fragments on disk after\\n                                     downloading is finished; fragments are\\n                                     erased by default\\n    --buffer-size SIZE               Size of download buffer (e.g. 1024 or 16K)\\n                                     (default is 1024)\\n    --no-resize-buffer               Do not automatically adjust the buffer\\n                                     size. By default, the buffer size is\\n                                     automatically resized from an initial value\\n                                     of SIZE.\\n    --http-chunk-size SIZE           Size of a chunk for chunk-based HTTP\\n                                     downloading (e.g. 10485760 or 10M) (default\\n                                     is disabled). May be useful for bypassing\\n                                     bandwidth throttling imposed by a webserver\\n                                     (experimental)\\n    --playlist-reverse               Download playlist videos in reverse order\\n    --playlist-random                Download playlist videos in random order\\n    --xattr-set-filesize             Set file xattribute ytdl.filesize with\\n                                     expected file size\\n    --hls-prefer-native              Use the native HLS downloader instead of\\n                                     ffmpeg\\n    --hls-prefer-ffmpeg              Use ffmpeg instead of the native HLS\\n                                     downloader\\n    --hls-use-mpegts                 Use the mpegts container for HLS videos,\\n                                     allowing to play the video while\\n                                     downloading (some players may not be able\\n                                     to play it)\\n    --external-downloader COMMAND    Use the specified external downloader.\\n                                     Currently supports\\n                                     aria2c,avconv,axel,curl,ffmpeg,httpie,wget\\n    --external-downloader-args ARGS  Give these arguments to the external\\n                                     downloader\\n\\n## Filesystem Options:\\n    -a, --batch-file FILE            File containing URLs to download (\\'-\\' for\\n                                     stdin), one URL per line. Lines starting\\n                                     with \\'#\\', \\';\\' or \\']\\' are considered as\\n                                     comments and ignored.\\n    --id                             Use only video ID in file name\\n    -o, --output TEMPLATE            Output filename template, see the \"OUTPUT\\n                                     TEMPLATE\" for all the info\\n    --autonumber-start NUMBER        Specify the start value for %(autonumber)s\\n                                     (default is 1)\\n    --restrict-filenames             Restrict filenames to only ASCII\\n                                     characters, and avoid \"&\" and spaces in\\n                                     filenames\\n    -w, --no-overwrites              Do not overwrite files\\n    -c, --continue                   Force resume of partially downloaded files.\\n                                     By default, youtube-dl will resume\\n                                     downloads if possible.\\n    --no-continue                    Do not resume partially downloaded files\\n                                     (restart from beginning)\\n    --no-part                        Do not use .part files - write directly\\n                                     into output file\\n    --no-mtime                       Do not use the Last-modified header to set\\n                                     the file modification time\\n    --write-description              Write video description to a .description\\n                                     file\\n    --write-info-json                Write video metadata to a .info.json file\\n    --write-annotations              Write video annotations to a\\n                                     .annotations.xml file\\n    --load-info-json FILE            JSON file containing the video information\\n                                     (created with the \"--write-info-json\"\\n                                     option)\\n    --cookies FILE                   File to read cookies from and dump cookie\\n                                     jar in\\n    --cache-dir DIR                  Location in the filesystem where youtube-dl\\n                                     can store some downloaded information\\n                                     permanently. By default\\n                                     $XDG_CACHE_HOME/youtube-dl or\\n                                     ~/.cache/youtube-dl . At the moment, only\\n                                     YouTube player files (for videos with\\n                                     obfuscated signatures) are cached, but that\\n                                     may change.\\n    --no-cache-dir                   Disable filesystem caching\\n    --rm-cache-dir                   Delete all filesystem cache files\\n\\n## Thumbnail images:\\n    --write-thumbnail                Write thumbnail image to disk\\n    --write-all-thumbnails           Write all thumbnail image formats to disk\\n    --list-thumbnails                Simulate and list all available thumbnail\\n                                     formats\\n\\n## Verbosity / Simulation Options:\\n    -q, --quiet                      Activate quiet mode\\n    --no-warnings                    Ignore warnings\\n    -s, --simulate                   Do not download the video and do not write\\n                                     anything to disk\\n    --skip-download                  Do not download the video\\n    -g, --get-url                    Simulate, quiet but print URL\\n    -e, --get-title                  Simulate, quiet but print title\\n    --get-id                         Simulate, quiet but print id\\n    --get-thumbnail                  Simulate, quiet but print thumbnail URL\\n    --get-description                Simulate, quiet but print video description\\n    --get-duration                   Simulate, quiet but print video length\\n    --get-filename                   Simulate, quiet but print output filename\\n    --get-format                     Simulate, quiet but print output format\\n    -j, --dump-json                  Simulate, quiet but print JSON information.\\n                                     See the \"OUTPUT TEMPLATE\" for a description\\n                                     of available keys.\\n    -J, --dump-single-json           Simulate, quiet but print JSON information\\n                                     for each command-line argument. If the URL\\n                                     refers to a playlist, dump the whole\\n                                     playlist information in a single line.\\n    --print-json                     Be quiet and print the video information as\\n                                     JSON (video is still being downloaded).\\n    --newline                        Output progress bar as new lines\\n    --no-progress                    Do not print progress bar\\n    --console-title                  Display progress in console titlebar\\n    -v, --verbose                    Print various debugging information\\n    --dump-pages                     Print downloaded pages encoded using base64\\n                                     to debug problems (very verbose)\\n    --write-pages                    Write downloaded intermediary pages to\\n                                     files in the current directory to debug\\n                                     problems\\n    --print-traffic                  Display sent and read HTTP traffic\\n    -C, --call-home                  Contact the youtube-dl server for debugging\\n    --no-call-home                   Do NOT contact the youtube-dl server for\\n                                     debugging\\n\\n## Workarounds:\\n    --encoding ENCODING              Force the specified encoding (experimental)\\n    --no-check-certificate           Suppress HTTPS certificate validation\\n    --prefer-insecure                Use an unencrypted connection to retrieve\\n                                     information about the video. (Currently\\n                                     supported only for YouTube)\\n    --user-agent UA                  Specify a custom user agent\\n    --referer URL                    Specify a custom referer, use if the video\\n                                     access is restricted to one domain\\n    --add-header FIELD:VALUE         Specify a custom HTTP header and its value,\\n                                     separated by a colon \\':\\'. You can use this\\n                                     option multiple times\\n    --bidi-workaround                Work around terminals that lack\\n                                     bidirectional text support. Requires bidiv\\n                                     or fribidi executable in PATH\\n    --sleep-interval SECONDS         Number of seconds to sleep before each\\n                                     download when used alone or a lower bound\\n                                     of a range for randomized sleep before each\\n                                     download (minimum possible number of\\n                                     seconds to sleep) when used along with\\n                                     --max-sleep-interval.\\n    --max-sleep-interval SECONDS     Upper bound of a range for randomized sleep\\n                                     before each download (maximum possible\\n                                     number of seconds to sleep). Must only be\\n                                     used along with --min-sleep-interval.\\n\\n## Video Format Options:\\n    -f, --format FORMAT              Video format code, see the \"FORMAT\\n                                     SELECTION\" for all the info\\n    --all-formats                    Download all available video formats\\n    --prefer-free-formats            Prefer free video formats unless a specific\\n                                     one is requested\\n    -F, --list-formats               List all available formats of requested\\n                                     videos\\n    --youtube-skip-dash-manifest     Do not download the DASH manifests and\\n                                     related data on YouTube videos\\n    --merge-output-format FORMAT     If a merge is required (e.g.\\n                                     bestvideo+bestaudio), output to given\\n                                     container format. One of mkv, mp4, ogg,\\n                                     webm, flv. Ignored if no merge is required\\n\\n## Subtitle Options:\\n    --write-sub                      Write subtitle file\\n    --write-auto-sub                 Write automatically generated subtitle file\\n                                     (YouTube only)\\n    --all-subs                       Download all the available subtitles of the\\n                                     video\\n    --list-subs                      List all available subtitles for the video\\n    --sub-format FORMAT              Subtitle format, accepts formats\\n                                     preference, for example: \"srt\" or\\n                                     \"ass/srt/best\"\\n    --sub-lang LANGS                 Languages of the subtitles to download\\n                                     (optional) separated by commas, use --list-\\n                                     subs for available language tags\\n\\n## Authentication Options:\\n    -u, --username USERNAME          Login with this account ID\\n    -p, --password PASSWORD          Account password. If this option is left\\n                                     out, youtube-dl will ask interactively.\\n    -2, --twofactor TWOFACTOR        Two-factor authentication code\\n    -n, --netrc                      Use .netrc authentication data\\n    --video-password PASSWORD        Video password (vimeo, smotri, youku)\\n\\n## Adobe Pass Options:\\n    --ap-mso MSO                     Adobe Pass multiple-system operator (TV\\n                                     provider) identifier, use --ap-list-mso for\\n                                     a list of available MSOs\\n    --ap-username USERNAME           Multiple-system operator account login\\n    --ap-password PASSWORD           Multiple-system operator account password.\\n                                     If this option is left out, youtube-dl will\\n                                     ask interactively.\\n    --ap-list-mso                    List all supported multiple-system\\n                                     operators\\n\\n## Post-processing Options:\\n    -x, --extract-audio              Convert video files to audio-only files\\n                                     (requires ffmpeg or avconv and ffprobe or\\n                                     avprobe)\\n    --audio-format FORMAT            Specify audio format: \"best\", \"aac\",\\n                                     \"flac\", \"mp3\", \"m4a\", \"opus\", \"vorbis\", or\\n                                     \"wav\"; \"best\" by default; No effect without\\n                                     -x\\n    --audio-quality QUALITY          Specify ffmpeg/avconv audio quality, insert\\n                                     a value between 0 (better) and 9 (worse)\\n                                     for VBR or a specific bitrate like 128K\\n                                     (default 5)\\n    --recode-video FORMAT            Encode the video to another format if\\n                                     necessary (currently supported:\\n                                     mp4|flv|ogg|webm|mkv|avi)\\n    --postprocessor-args ARGS        Give these arguments to the postprocessor\\n    -k, --keep-video                 Keep the video file on disk after the post-\\n                                     processing; the video is erased by default\\n    --no-post-overwrites             Do not overwrite post-processed files; the\\n                                     post-processed files are overwritten by\\n                                     default\\n    --embed-subs                     Embed subtitles in the video (only for mp4,\\n                                     webm and mkv videos)\\n    --embed-thumbnail                Embed thumbnail in the audio as cover art\\n    --add-metadata                   Write metadata to the video file\\n    --metadata-from-title FORMAT     Parse additional metadata like song title /\\n                                     artist from the video title. The format\\n                                     syntax is the same as --output. Regular\\n                                     expression with named capture groups may\\n                                     also be used. The parsed parameters replace\\n                                     existing values. Example: --metadata-from-\\n                                     title \"%(artist)s - %(title)s\" matches a\\n                                     title like \"Coldplay - Paradise\". Example\\n                                     (regex): --metadata-from-title\\n                                     \"(?P<artist>.+?) - (?P<title>.+)\"\\n    --xattrs                         Write metadata to the video file\\'s xattrs\\n                                     (using dublin core and xdg standards)\\n    --fixup POLICY                   Automatically correct known faults of the\\n                                     file. One of never (do nothing), warn (only\\n                                     emit a warning), detect_or_warn (the\\n                                     default; fix file if we can, warn\\n                                     otherwise)\\n    --prefer-avconv                  Prefer avconv over ffmpeg for running the\\n                                     postprocessors\\n    --prefer-ffmpeg                  Prefer ffmpeg over avconv for running the\\n                                     postprocessors (default)\\n    --ffmpeg-location PATH           Location of the ffmpeg/avconv binary;\\n                                     either the path to the binary or its\\n                                     containing directory.\\n    --exec CMD                       Execute a command on the file after\\n                                     downloading and post-processing, similar to\\n                                     find\\'s -exec syntax. Example: --exec \\'adb\\n                                     push {} /sdcard/Music/ && rm {}\\'\\n    --convert-subs FORMAT            Convert the subtitles to other format\\n                                     (currently supported: srt|ass|vtt|lrc)\\n\\n# CONFIGURATION\\n\\nYou can configure youtube-dl by placing any supported command line option to a configuration file. On Linux and macOS, the system wide configuration file is located at `/etc/youtube-dl.conf` and the user wide configuration file at `~/.config/youtube-dl/config`. On Windows, the user wide configuration file locations are `%APPDATA%\\\\youtube-dl\\\\config.txt` or `C:\\\\Users\\\\<user name>\\\\youtube-dl.conf`. Note that by default configuration file may not exist so you may need to create it yourself.\\n\\nFor example, with the following configuration file youtube-dl will always extract the audio, not copy the mtime, use a proxy and save all videos under `Movies` directory in your home directory:\\n```\\n# Lines starting with # are comments\\n\\n# Always extract audio\\n-x\\n\\n# Do not copy the mtime\\n--no-mtime\\n\\n# Use this proxy\\n--proxy 127.0.0.1:3128\\n\\n# Save all videos under Movies directory in your home directory\\n-o ~/Movies/%(title)s.%(ext)s\\n```\\n\\nNote that options in configuration file are just the same options aka switches used in regular command line calls thus there **must be no whitespace** after `-` or `--`, e.g. `-o` or `--proxy` but not `- o` or `-- proxy`.\\n\\nYou can use `--ignore-config` if you want to disable the configuration file for a particular youtube-dl run.\\n\\nYou can also use `--config-location` if you want to use custom configuration file for a particular youtube-dl run.\\n\\n### Authentication with `.netrc` file\\n\\nYou may also want to configure automatic credentials storage for extractors that support authentication (by providing login and password with `--username` and `--password`) in order not to pass credentials as command line arguments on every youtube-dl execution and prevent tracking plain text passwords in the shell command history. You can achieve this using a [`.netrc` file](https://stackoverflow.com/tags/.netrc/info) on a per extractor basis. For that you will need to create a `.netrc` file in your `$HOME` and restrict permissions to read/write by only you:\\n```\\ntouch $HOME/.netrc\\nchmod a-rwx,u+rw $HOME/.netrc\\n```\\nAfter that you can add credentials for an extractor in the following format, where *extractor* is the name of the extractor in lowercase:\\n```\\nmachine <extractor> login <login> password <password>\\n```\\nFor example:\\n```\\nmachine youtube login myaccount@gmail.com password my_youtube_password\\nmachine twitch login my_twitch_account_name password my_twitch_password\\n```\\nTo activate authentication with the `.netrc` file you should pass `--netrc` to youtube-dl or place it in the [configuration file](#configuration).\\n\\nOn Windows you may also need to setup the `%HOME%` environment variable manually. For example:\\n```\\nset HOME=%USERPROFILE%\\n```\\n\\n# OUTPUT TEMPLATE\\n\\nThe `-o` option allows users to indicate a template for the output file names.\\n\\n**tl;dr:** [navigate me to examples](#output-template-examples).\\n\\nThe basic usage is not to set any template arguments when downloading a single file, like in `youtube-dl -o funny_video.flv \"https://some/video\"`. However, it may contain special sequences that will be replaced when downloading each video. The special sequences may be formatted according to [python string formatting operations](https://docs.python.org/2/library/stdtypes.html#string-formatting). For example, `%(NAME)s` or `%(NAME)05d`. To clarify, that is a percent symbol followed by a name in parentheses, followed by formatting operations. Allowed names along with sequence type are:\\n\\n - `id` (string): Video identifier\\n - `title` (string): Video title\\n - `url` (string): Video URL\\n - `ext` (string): Video filename extension\\n - `alt_title` (string): A secondary title of the video\\n - `display_id` (string): An alternative identifier for the video\\n - `uploader` (string): Full name of the video uploader\\n - `license` (string): License name the video is licensed under\\n - `creator` (string): The creator of the video\\n - `release_date` (string): The date (YYYYMMDD) when the video was released\\n - `timestamp` (numeric): UNIX timestamp of the moment the video became available\\n - `upload_date` (string): Video upload date (YYYYMMDD)\\n - `uploader_id` (string): Nickname or id of the video uploader\\n - `channel` (string): Full name of the channel the video is uploaded on\\n - `channel_id` (string): Id of the channel\\n - `location` (string): Physical location where the video was filmed\\n - `duration` (numeric): Length of the video in seconds\\n - `view_count` (numeric): How many users have watched the video on the platform\\n - `like_count` (numeric): Number of positive ratings of the video\\n - `dislike_count` (numeric): Number of negative ratings of the video\\n - `repost_count` (numeric): Number of reposts of the video\\n - `average_rating` (numeric): Average rating give by users, the scale used depends on the webpage\\n - `comment_count` (numeric): Number of comments on the video\\n - `age_limit` (numeric): Age restriction for the video (years)\\n - `is_live` (boolean): Whether this video is a live stream or a fixed-length video\\n - `start_time` (numeric): Time in seconds where the reproduction should start, as specified in the URL\\n - `end_time` (numeric): Time in seconds where the reproduction should end, as specified in the URL\\n - `format` (string): A human-readable description of the format \\n - `format_id` (string): Format code specified by `--format`\\n - `format_note` (string): Additional info about the format\\n - `width` (numeric): Width of the video\\n - `height` (numeric): Height of the video\\n - `resolution` (string): Textual description of width and height\\n - `tbr` (numeric): Average bitrate of audio and video in KBit/s\\n - `abr` (numeric): Average audio bitrate in KBit/s\\n - `acodec` (string): Name of the audio codec in use\\n - `asr` (numeric): Audio sampling rate in Hertz\\n - `vbr` (numeric): Average video bitrate in KBit/s\\n - `fps` (numeric): Frame rate\\n - `vcodec` (string): Name of the video codec in use\\n - `container` (string): Name of the container format\\n - `filesize` (numeric): The number of bytes, if known in advance\\n - `filesize_approx` (numeric): An estimate for the number of bytes\\n - `protocol` (string): The protocol that will be used for the actual download\\n - `extractor` (string): Name of the extractor\\n - `extractor_key` (string): Key name of the extractor\\n - `epoch` (numeric): Unix epoch when creating the file\\n - `autonumber` (numeric): Number that will be increased with each download, starting at `--autonumber-start`\\n - `playlist` (string): Name or id of the playlist that contains the video\\n - `playlist_index` (numeric): Index of the video in the playlist padded with leading zeros according to the total length of the playlist\\n - `playlist_id` (string): Playlist identifier\\n - `playlist_title` (string): Playlist title\\n - `playlist_uploader` (string): Full name of the playlist uploader\\n - `playlist_uploader_id` (string): Nickname or id of the playlist uploader\\n\\nAvailable for the video that belongs to some logical chapter or section:\\n\\n - `chapter` (string): Name or title of the chapter the video belongs to\\n - `chapter_number` (numeric): Number of the chapter the video belongs to\\n - `chapter_id` (string): Id of the chapter the video belongs to\\n\\nAvailable for the video that is an episode of some series or programme:\\n\\n - `series` (string): Title of the series or programme the video episode belongs to\\n - `season` (string): Title of the season the video episode belongs to\\n - `season_number` (numeric): Number of the season the video episode belongs to\\n - `season_id` (string): Id of the season the video episode belongs to\\n - `episode` (string): Title of the video episode\\n - `episode_number` (numeric): Number of the video episode within a season\\n - `episode_id` (string): Id of the video episode\\n\\nAvailable for the media that is a track or a part of a music album:\\n\\n - `track` (string): Title of the track\\n - `track_number` (numeric): Number of the track within an album or a disc\\n - `track_id` (string): Id of the track\\n - `artist` (string): Artist(s) of the track\\n - `genre` (string): Genre(s) of the track\\n - `album` (string): Title of the album the track belongs to\\n - `album_type` (string): Type of the album\\n - `album_artist` (string): List of all artists appeared on the album\\n - `disc_number` (numeric): Number of the disc or other physical medium the track belongs to\\n - `release_year` (numeric): Year (YYYY) when the album was released\\n\\nEach aforementioned sequence when referenced in an output template will be replaced by the actual value corresponding to the sequence name. Note that some of the sequences are not guaranteed to be present since they depend on the metadata obtained by a particular extractor. Such sequences will be replaced with `NA`.\\n\\nFor example for `-o %(title)s-%(id)s.%(ext)s` and an mp4 video with title `youtube-dl test video` and id `BaW_jenozKcj`, this will result in a `youtube-dl test video-BaW_jenozKcj.mp4` file created in the current directory.\\n\\nFor numeric sequences you can use numeric related formatting, for example, `%(view_count)05d` will result in a string with view count padded with zeros up to 5 characters, like in `00042`.\\n\\nOutput templates can also contain arbitrary hierarchical path, e.g. `-o \\'%(playlist)s/%(playlist_index)s - %(title)s.%(ext)s\\'` which will result in downloading each video in a directory corresponding to this path template. Any missing directory will be automatically created for you.\\n\\nTo use percent literals in an output template use `%%`. To output to stdout use `-o -`.\\n\\nThe current default template is `%(title)s-%(id)s.%(ext)s`.\\n\\nIn some cases, you don\\'t want special characters such as 中, spaces, or &, such as when transferring the downloaded filename to a Windows system or the filename through an 8bit-unsafe channel. In these cases, add the `--restrict-filenames` flag to get a shorter title:\\n\\n#### Output template and Windows batch files\\n\\nIf you are using an output template inside a Windows batch file then you must escape plain percent characters (`%`) by doubling, so that `-o \"%(title)s-%(id)s.%(ext)s\"` should become `-o \"%%(title)s-%%(id)s.%%(ext)s\"`. However you should not touch `%`\\'s that are not plain characters, e.g. environment variables for expansion should stay intact: `-o \"C:\\\\%HOMEPATH%\\\\Desktop\\\\%%(title)s.%%(ext)s\"`.\\n\\n#### Output template examples\\n\\nNote that on Windows you may need to use double quotes instead of single.\\n\\n```bash\\n$ youtube-dl --get-filename -o \\'%(title)s.%(ext)s\\' BaW_jenozKc\\nyoutube-dl test video \\'\\'_ä↭𝕐.mp4    # All kinds of weird characters\\n\\n$ youtube-dl --get-filename -o \\'%(title)s.%(ext)s\\' BaW_jenozKc --restrict-filenames\\nyoutube-dl_test_video_.mp4          # A simple file name\\n\\n# Download YouTube playlist videos in separate directory indexed by video order in a playlist\\n$ youtube-dl -o \\'%(playlist)s/%(playlist_index)s - %(title)s.%(ext)s\\' https://www.youtube.com/playlist?list=PLwiyx1dc3P2JR9N8gQaQN_BCvlSlap7re\\n\\n# Download all playlists of YouTube channel/user keeping each playlist in separate directory:\\n$ youtube-dl -o \\'%(uploader)s/%(playlist)s/%(playlist_index)s - %(title)s.%(ext)s\\' https://www.youtube.com/user/TheLinuxFoundation/playlists\\n\\n# Download Udemy course keeping each chapter in separate directory under MyVideos directory in your home\\n$ youtube-dl -u user -p password -o \\'~/MyVideos/%(playlist)s/%(chapter_number)s - %(chapter)s/%(title)s.%(ext)s\\' https://www.udemy.com/java-tutorial/\\n\\n# Download entire series season keeping each series and each season in separate directory under C:/MyVideos\\n$ youtube-dl -o \"C:/MyVideos/%(series)s/%(season_number)s - %(season)s/%(episode_number)s - %(episode)s.%(ext)s\" https://videomore.ru/kino_v_detalayah/5_sezon/367617\\n\\n# Stream the video being downloaded to stdout\\n$ youtube-dl -o - BaW_jenozKc\\n```\\n\\n# FORMAT SELECTION\\n\\nBy default youtube-dl tries to download the best available quality, i.e. if you want the best quality you **don\\'t need** to pass any special options, youtube-dl will guess it for you by **default**.\\n\\nBut sometimes you may want to download in a different format, for example when you are on a slow or intermittent connection. The key mechanism for achieving this is so-called *format selection* based on which you can explicitly specify desired format, select formats based on some criterion or criteria, setup precedence and much more.\\n\\nThe general syntax for format selection is `--format FORMAT` or shorter `-f FORMAT` where `FORMAT` is a *selector expression*, i.e. an expression that describes format or formats you would like to download.\\n\\n**tl;dr:** [navigate me to examples](#format-selection-examples).\\n\\nThe simplest case is requesting a specific format, for example with `-f 22` you can download the format with format code equal to 22. You can get the list of available format codes for particular video using `--list-formats` or `-F`. Note that these format codes are extractor specific. \\n\\nYou can also use a file extension (currently `3gp`, `aac`, `flv`, `m4a`, `mp3`, `mp4`, `ogg`, `wav`, `webm` are supported) to download the best quality format of a particular file extension served as a single file, e.g. `-f webm` will download the best quality format with the `webm` extension served as a single file.\\n\\nYou can also use special names to select particular edge case formats:\\n\\n - `best`: Select the best quality format represented by a single file with video and audio.\\n - `worst`: Select the worst quality format represented by a single file with video and audio.\\n - `bestvideo`: Select the best quality video-only format (e.g. DASH video). May not be available.\\n - `worstvideo`: Select the worst quality video-only format. May not be available.\\n - `bestaudio`: Select the best quality audio only-format. May not be available.\\n - `worstaudio`: Select the worst quality audio only-format. May not be available.\\n\\nFor example, to download the worst quality video-only format you can use `-f worstvideo`.\\n\\nIf you want to download multiple videos and they don\\'t have the same formats available, you can specify the order of preference using slashes. Note that slash is left-associative, i.e. formats on the left hand side are preferred, for example `-f 22/17/18` will download format 22 if it\\'s available, otherwise it will download format 17 if it\\'s available, otherwise it will download format 18 if it\\'s available, otherwise it will complain that no suitable formats are available for download.\\n\\nIf you want to download several formats of the same video use a comma as a separator, e.g. `-f 22,17,18` will download all these three formats, of course if they are available. Or a more sophisticated example combined with the precedence feature: `-f 136/137/mp4/bestvideo,140/m4a/bestaudio`.\\n\\nYou can also filter the video formats by putting a condition in brackets, as in `-f \"best[height=720]\"` (or `-f \"[filesize>10M]\"`).\\n\\nThe following numeric meta fields can be used with comparisons `<`, `<=`, `>`, `>=`, `=` (equals), `!=` (not equals):\\n\\n - `filesize`: The number of bytes, if known in advance\\n - `width`: Width of the video, if known\\n - `height`: Height of the video, if known\\n - `tbr`: Average bitrate of audio and video in KBit/s\\n - `abr`: Average audio bitrate in KBit/s\\n - `vbr`: Average video bitrate in KBit/s\\n - `asr`: Audio sampling rate in Hertz\\n - `fps`: Frame rate\\n\\nAlso filtering work for comparisons `=` (equals), `^=` (starts with), `$=` (ends with), `*=` (contains) and following string meta fields:\\n\\n - `ext`: File extension\\n - `acodec`: Name of the audio codec in use\\n - `vcodec`: Name of the video codec in use\\n - `container`: Name of the container format\\n - `protocol`: The protocol that will be used for the actual download, lower-case (`http`, `https`, `rtsp`, `rtmp`, `rtmpe`, `mms`, `f4m`, `ism`, `http_dash_segments`, `m3u8`, or `m3u8_native`)\\n - `format_id`: A short description of the format\\n\\nAny string comparison may be prefixed with negation `!` in order to produce an opposite comparison, e.g. `!*=` (does not contain).\\n\\nNote that none of the aforementioned meta fields are guaranteed to be present since this solely depends on the metadata obtained by particular extractor, i.e. the metadata offered by the video hoster.\\n\\nFormats for which the value is not known are excluded unless you put a question mark (`?`) after the operator. You can combine format filters, so `-f \"[height <=? 720][tbr>500]\"` selects up to 720p videos (or videos where the height is not known) with a bitrate of at least 500 KBit/s.\\n\\nYou can merge the video and audio of two formats into a single file using `-f <video-format>+<audio-format>` (requires ffmpeg or avconv installed), for example `-f bestvideo+bestaudio` will download the best video-only format, the best audio-only format and mux them together with ffmpeg/avconv.\\n\\nFormat selectors can also be grouped using parentheses, for example if you want to download the best mp4 and webm formats with a height lower than 480 you can use `-f \\'(mp4,webm)[height<480]\\'`.\\n\\nSince the end of April 2015 and version 2015.04.26, youtube-dl uses `-f bestvideo+bestaudio/best` as the default format selection (see [#5447](https://github.com/ytdl-org/youtube-dl/issues/5447), [#5456](https://github.com/ytdl-org/youtube-dl/issues/5456)). If ffmpeg or avconv are installed this results in downloading `bestvideo` and `bestaudio` separately and muxing them together into a single file giving the best overall quality available. Otherwise it falls back to `best` and results in downloading the best available quality served as a single file. `best` is also needed for videos that don\\'t come from YouTube because they don\\'t provide the audio and video in two different files. If you want to only download some DASH formats (for example if you are not interested in getting videos with a resolution higher than 1080p), you can add `-f bestvideo[height<=?1080]+bestaudio/best` to your configuration file. Note that if you use youtube-dl to stream to `stdout` (and most likely to pipe it to your media player then), i.e. you explicitly specify output template as `-o -`, youtube-dl still uses `-f best` format selection in order to start content delivery immediately to your player and not to wait until `bestvideo` and `bestaudio` are downloaded and muxed.\\n\\nIf you want to preserve the old format selection behavior (prior to youtube-dl 2015.04.26), i.e. you want to download the best available quality media served as a single file, you should explicitly specify your choice with `-f best`. You may want to add it to the [configuration file](#configuration) in order not to type it every time you run youtube-dl.\\n\\n#### Format selection examples\\n\\nNote that on Windows you may need to use double quotes instead of single.\\n\\n```bash\\n# Download best mp4 format available or any other best if no mp4 available\\n$ youtube-dl -f \\'bestvideo[ext=mp4]+bestaudio[ext=m4a]/best[ext=mp4]/best\\'\\n\\n# Download best format available but no better than 480p\\n$ youtube-dl -f \\'bestvideo[height<=480]+bestaudio/best[height<=480]\\'\\n\\n# Download best video only format but no bigger than 50 MB\\n$ youtube-dl -f \\'best[filesize<50M]\\'\\n\\n# Download best format available via direct link over HTTP/HTTPS protocol\\n$ youtube-dl -f \\'(bestvideo+bestaudio/best)[protocol^=http]\\'\\n\\n# Download the best video format and the best audio format without merging them\\n$ youtube-dl -f \\'bestvideo,bestaudio\\' -o \\'%(title)s.f%(format_id)s.%(ext)s\\'\\n```\\nNote that in the last example, an output template is recommended as bestvideo and bestaudio may have the same file name.\\n\\n\\n# VIDEO SELECTION\\n\\nVideos can be filtered by their upload date using the options `--date`, `--datebefore` or `--dateafter`. They accept dates in two formats:\\n\\n - Absolute dates: Dates in the format `YYYYMMDD`.\\n - Relative dates: Dates in the format `(now|today)[+-][0-9](day|week|month|year)(s)?`\\n \\nExamples:\\n\\n```bash\\n# Download only the videos uploaded in the last 6 months\\n$ youtube-dl --dateafter now-6months\\n\\n# Download only the videos uploaded on January 1, 1970\\n$ youtube-dl --date 19700101\\n\\n$ # Download only the videos uploaded in the 200x decade\\n$ youtube-dl --dateafter 20000101 --datebefore 20091231\\n```\\n\\n# FAQ\\n\\n### How do I update youtube-dl?\\n\\nIf you\\'ve followed [our manual installation instructions](https://ytdl-org.github.io/youtube-dl/download.html), you can simply run `youtube-dl -U` (or, on Linux, `sudo youtube-dl -U`).\\n\\nIf you have used pip, a simple `sudo pip install -U youtube-dl` is sufficient to update.\\n\\nIf you have installed youtube-dl using a package manager like *apt-get* or *yum*, use the standard system update mechanism to update. Note that distribution packages are often outdated. As a rule of thumb, youtube-dl releases at least once a month, and often weekly or even daily. Simply go to https://yt-dl.org to find out the current version. Unfortunately, there is nothing we youtube-dl developers can do if your distribution serves a really outdated version. You can (and should) complain to your distribution in their bugtracker or support forum.\\n\\nAs a last resort, you can also uninstall the version installed by your package manager and follow our manual installation instructions. For that, remove the distribution\\'s package, with a line like\\n\\n    sudo apt-get remove -y youtube-dl\\n\\nAfterwards, simply follow [our manual installation instructions](https://ytdl-org.github.io/youtube-dl/download.html):\\n\\n```\\nsudo wget https://yt-dl.org/downloads/latest/youtube-dl -O /usr/local/bin/youtube-dl\\nsudo chmod a+rx /usr/local/bin/youtube-dl\\nhash -r\\n```\\n\\nAgain, from then on you\\'ll be able to update with `sudo youtube-dl -U`.\\n\\n### youtube-dl is extremely slow to start on Windows\\n\\nAdd a file exclusion for `youtube-dl.exe` in Windows Defender settings.\\n\\n### I\\'m getting an error `Unable to extract OpenGraph title` on YouTube playlists\\n\\nYouTube changed their playlist format in March 2014 and later on, so you\\'ll need at least youtube-dl 2014.07.25 to download all YouTube videos.\\n\\nIf you have installed youtube-dl with a package manager, pip, setup.py or a tarball, please use that to update. Note that Ubuntu packages do not seem to get updated anymore. Since we are not affiliated with Ubuntu, there is little we can do. Feel free to [report bugs](https://bugs.launchpad.net/ubuntu/+source/youtube-dl/+filebug) to the [Ubuntu packaging people](mailto:ubuntu-motu@lists.ubuntu.com?subject=outdated%20version%20of%20youtube-dl) - all they have to do is update the package to a somewhat recent version. See above for a way to update.\\n\\n### I\\'m getting an error when trying to use output template: `error: using output template conflicts with using title, video ID or auto number`\\n\\nMake sure you are not using `-o` with any of these options `-t`, `--title`, `--id`, `-A` or `--auto-number` set in command line or in a configuration file. Remove the latter if any.\\n\\n### Do I always have to pass `-citw`?\\n\\nBy default, youtube-dl intends to have the best options (incidentally, if you have a convincing case that these should be different, [please file an issue where you explain that](https://yt-dl.org/bug)). Therefore, it is unnecessary and sometimes harmful to copy long option strings from webpages. In particular, the only option out of `-citw` that is regularly useful is `-i`.\\n\\n### Can you please put the `-b` option back?\\n\\nMost people asking this question are not aware that youtube-dl now defaults to downloading the highest available quality as reported by YouTube, which will be 1080p or 720p in some cases, so you no longer need the `-b` option. For some specific videos, maybe YouTube does not report them to be available in a specific high quality format you\\'re interested in. In that case, simply request it with the `-f` option and youtube-dl will try to download it.\\n\\n### I get HTTP error 402 when trying to download a video. What\\'s this?\\n\\nApparently YouTube requires you to pass a CAPTCHA test if you download too much. We\\'re [considering to provide a way to let you solve the CAPTCHA](https://github.com/ytdl-org/youtube-dl/issues/154), but at the moment, your best course of action is pointing a web browser to the youtube URL, solving the CAPTCHA, and restart youtube-dl.\\n\\n### Do I need any other programs?\\n\\nyoutube-dl works fine on its own on most sites. However, if you want to convert video/audio, you\\'ll need [avconv](https://libav.org/) or [ffmpeg](https://www.ffmpeg.org/). On some sites - most notably YouTube - videos can be retrieved in a higher quality format without sound. youtube-dl will detect whether avconv/ffmpeg is present and automatically pick the best option.\\n\\nVideos or video formats streamed via RTMP protocol can only be downloaded when [rtmpdump](https://rtmpdump.mplayerhq.hu/) is installed. Downloading MMS and RTSP videos requires either [mplayer](https://mplayerhq.hu/) or [mpv](https://mpv.io/) to be installed.\\n\\n### I have downloaded a video but how can I play it?\\n\\nOnce the video is fully downloaded, use any video player, such as [mpv](https://mpv.io/), [vlc](https://www.videolan.org/) or [mplayer](https://www.mplayerhq.hu/).\\n\\n### I extracted a video URL with `-g`, but it does not play on another machine / in my web browser.\\n\\nIt depends a lot on the service. In many cases, requests for the video (to download/play it) must come from the same IP address and with the same cookies and/or HTTP headers. Use the `--cookies` option to write the required cookies into a file, and advise your downloader to read cookies from that file. Some sites also require a common user agent to be used, use `--dump-user-agent` to see the one in use by youtube-dl. You can also get necessary cookies and HTTP headers from JSON output obtained with `--dump-json`.\\n\\nIt may be beneficial to use IPv6; in some cases, the restrictions are only applied to IPv4. Some services (sometimes only for a subset of videos) do not restrict the video URL by IP address, cookie, or user-agent, but these are the exception rather than the rule.\\n\\nPlease bear in mind that some URL protocols are **not** supported by browsers out of the box, including RTMP. If you are using `-g`, your own downloader must support these as well.\\n\\nIf you want to play the video on a machine that is not running youtube-dl, you can relay the video content from the machine that runs youtube-dl. You can use `-o -` to let youtube-dl stream a video to stdout, or simply allow the player to download the files written by youtube-dl in turn.\\n\\n### ERROR: no fmt_url_map or conn information found in video info\\n\\nYouTube has switched to a new video info format in July 2011 which is not supported by old versions of youtube-dl. See [above](#how-do-i-update-youtube-dl) for how to update youtube-dl.\\n\\n### ERROR: unable to download video\\n\\nYouTube requires an additional signature since September 2012 which is not supported by old versions of youtube-dl. See [above](#how-do-i-update-youtube-dl) for how to update youtube-dl.\\n\\n### Video URL contains an ampersand and I\\'m getting some strange output `[1] 2839` or `\\'v\\' is not recognized as an internal or external command`\\n\\nThat\\'s actually the output from your shell. Since ampersand is one of the special shell characters it\\'s interpreted by the shell preventing you from passing the whole URL to youtube-dl. To disable your shell from interpreting the ampersands (or any other special characters) you have to either put the whole URL in quotes or escape them with a backslash (which approach will work depends on your shell).\\n\\nFor example if your URL is https://www.youtube.com/watch?t=4&v=BaW_jenozKc you should end up with following command:\\n\\n```youtube-dl \\'https://www.youtube.com/watch?t=4&v=BaW_jenozKc\\'```\\n\\nor\\n\\n```youtube-dl https://www.youtube.com/watch?t=4\\\\&v=BaW_jenozKc```\\n\\nFor Windows you have to use the double quotes:\\n\\n```youtube-dl \"https://www.youtube.com/watch?t=4&v=BaW_jenozKc\"```\\n\\n### ExtractorError: Could not find JS function u\\'OF\\'\\n\\nIn February 2015, the new YouTube player contained a character sequence in a string that was misinterpreted by old versions of youtube-dl. See [above](#how-do-i-update-youtube-dl) for how to update youtube-dl.\\n\\n### HTTP Error 429: Too Many Requests or 402: Payment Required\\n\\nThese two error codes indicate that the service is blocking your IP address because of overuse. Usually this is a soft block meaning that you can gain access again after solving CAPTCHA. Just open a browser and solve a CAPTCHA the service suggests you and after that [pass cookies](#how-do-i-pass-cookies-to-youtube-dl) to youtube-dl. Note that if your machine has multiple external IPs then you should also pass exactly the same IP you\\'ve used for solving CAPTCHA with [`--source-address`](#network-options). Also you may need to pass a `User-Agent` HTTP header of your browser with [`--user-agent`](#workarounds).\\n\\nIf this is not the case (no CAPTCHA suggested to solve by the service) then you can contact the service and ask them to unblock your IP address, or - if you have acquired a whitelisted IP address already - use the [`--proxy` or `--source-address` options](#network-options) to select another IP address.\\n\\n### SyntaxError: Non-ASCII character\\n\\nThe error\\n\\n    File \"youtube-dl\", line 2\\n    SyntaxError: Non-ASCII character \\'\\\\x93\\' ...\\n\\nmeans you\\'re using an outdated version of Python. Please update to Python 2.6 or 2.7.\\n\\n### What is this binary file? Where has the code gone?\\n\\nSince June 2012 ([#342](https://github.com/ytdl-org/youtube-dl/issues/342)) youtube-dl is packed as an executable zipfile, simply unzip it (might need renaming to `youtube-dl.zip` first on some systems) or clone the git repository, as laid out above. If you modify the code, you can run it by executing the `__main__.py` file. To recompile the executable, run `make youtube-dl`.\\n\\n### The exe throws an error due to missing `MSVCR100.dll`\\n\\nTo run the exe you need to install first the [Microsoft Visual C++ 2010 Redistributable Package (x86)](https://www.microsoft.com/en-US/download/details.aspx?id=5555).\\n\\n### On Windows, how should I set up ffmpeg and youtube-dl? Where should I put the exe files?\\n\\nIf you put youtube-dl and ffmpeg in the same directory that you\\'re running the command from, it will work, but that\\'s rather cumbersome.\\n\\nTo make a different directory work - either for ffmpeg, or for youtube-dl, or for both - simply create the directory (say, `C:\\\\bin`, or `C:\\\\Users\\\\<User name>\\\\bin`), put all the executables directly in there, and then [set your PATH environment variable](https://www.java.com/en/download/help/path.xml) to include that directory.\\n\\nFrom then on, after restarting your shell, you will be able to access both youtube-dl and ffmpeg (and youtube-dl will be able to find ffmpeg) by simply typing `youtube-dl` or `ffmpeg`, no matter what directory you\\'re in.\\n\\n### How do I put downloads into a specific folder?\\n\\nUse the `-o` to specify an [output template](#output-template), for example `-o \"/home/user/videos/%(title)s-%(id)s.%(ext)s\"`. If you want this for all of your downloads, put the option into your [configuration file](#configuration).\\n\\n### How do I download a video starting with a `-`?\\n\\nEither prepend `https://www.youtube.com/watch?v=` or separate the ID from the options with `--`:\\n\\n    youtube-dl -- -wNyEUrxzFU\\n    youtube-dl \"https://www.youtube.com/watch?v=-wNyEUrxzFU\"\\n\\n### How do I pass cookies to youtube-dl?\\n\\nUse the `--cookies` option, for example `--cookies /path/to/cookies/file.txt`.\\n\\nIn order to extract cookies from browser use any conforming browser extension for exporting cookies. For example, [cookies.txt](https://chrome.google.com/webstore/detail/cookiestxt/njabckikapfpffapmjgojcnbfjonfjfg) (for Chrome) or [cookies.txt](https://addons.mozilla.org/en-US/firefox/addon/cookies-txt/) (for Firefox).\\n\\nNote that the cookies file must be in Mozilla/Netscape format and the first line of the cookies file must be either `# HTTP Cookie File` or `# Netscape HTTP Cookie File`. Make sure you have correct [newline format](https://en.wikipedia.org/wiki/Newline) in the cookies file and convert newlines if necessary to correspond with your OS, namely `CRLF` (`\\\\r\\\\n`) for Windows and `LF` (`\\\\n`) for Unix and Unix-like systems (Linux, macOS, etc.). `HTTP Error 400: Bad Request` when using `--cookies` is a good sign of invalid newline format.\\n\\nPassing cookies to youtube-dl is a good way to workaround login when a particular extractor does not implement it explicitly. Another use case is working around [CAPTCHA](https://en.wikipedia.org/wiki/CAPTCHA) some websites require you to solve in particular cases in order to get access (e.g. YouTube, CloudFlare).\\n\\n### How do I stream directly to media player?\\n\\nYou will first need to tell youtube-dl to stream media to stdout with `-o -`, and also tell your media player to read from stdin (it must be capable of this for streaming) and then pipe former to latter. For example, streaming to [vlc](https://www.videolan.org/) can be achieved with:\\n\\n    youtube-dl -o - \"https://www.youtube.com/watch?v=BaW_jenozKcj\" | vlc -\\n\\n### How do I download only new videos from a playlist?\\n\\nUse download-archive feature. With this feature you should initially download the complete playlist with `--download-archive /path/to/download/archive/file.txt` that will record identifiers of all the videos in a special file. Each subsequent run with the same `--download-archive` will download only new videos and skip all videos that have been downloaded before. Note that only successful downloads are recorded in the file.\\n\\nFor example, at first,\\n\\n    youtube-dl --download-archive archive.txt \"https://www.youtube.com/playlist?list=PLwiyx1dc3P2JR9N8gQaQN_BCvlSlap7re\"\\n\\nwill download the complete `PLwiyx1dc3P2JR9N8gQaQN_BCvlSlap7re` playlist and create a file `archive.txt`. Each subsequent run will only download new videos if any:\\n\\n    youtube-dl --download-archive archive.txt \"https://www.youtube.com/playlist?list=PLwiyx1dc3P2JR9N8gQaQN_BCvlSlap7re\"\\n\\n### Should I add `--hls-prefer-native` into my config?\\n\\nWhen youtube-dl detects an HLS video, it can download it either with the built-in downloader or ffmpeg. Since many HLS streams are slightly invalid and ffmpeg/youtube-dl each handle some invalid cases better than the other, there is an option to switch the downloader if needed.\\n\\nWhen youtube-dl knows that one particular downloader works better for a given website, that downloader will be picked. Otherwise, youtube-dl will pick the best downloader for general compatibility, which at the moment happens to be ffmpeg. This choice may change in future versions of youtube-dl, with improvements of the built-in downloader and/or ffmpeg.\\n\\nIn particular, the generic extractor (used when your website is not in the [list of supported sites by youtube-dl](https://ytdl-org.github.io/youtube-dl/supportedsites.html) cannot mandate one specific downloader.\\n\\nIf you put either `--hls-prefer-native` or `--hls-prefer-ffmpeg` into your configuration, a different subset of videos will fail to download correctly. Instead, it is much better to [file an issue](https://yt-dl.org/bug) or a pull request which details why the native or the ffmpeg HLS downloader is a better choice for your use case.\\n\\n### Can you add support for this anime video site, or site which shows current movies for free?\\n\\nAs a matter of policy (as well as legality), youtube-dl does not include support for services that specialize in infringing copyright. As a rule of thumb, if you cannot easily find a video that the service is quite obviously allowed to distribute (i.e. that has been uploaded by the creator, the creator\\'s distributor, or is published under a free license), the service is probably unfit for inclusion to youtube-dl.\\n\\nA note on the service that they don\\'t host the infringing content, but just link to those who do, is evidence that the service should **not** be included into youtube-dl. The same goes for any DMCA note when the whole front page of the service is filled with videos they are not allowed to distribute. A \"fair use\" note is equally unconvincing if the service shows copyright-protected videos in full without authorization.\\n\\nSupport requests for services that **do** purchase the rights to distribute their content are perfectly fine though. If in doubt, you can simply include a source that mentions the legitimate purchase of content.\\n\\n### How can I speed up work on my issue?\\n\\n(Also known as: Help, my important issue not being solved!) The youtube-dl core developer team is quite small. While we do our best to solve as many issues as possible, sometimes that can take quite a while. To speed up your issue, here\\'s what you can do:\\n\\nFirst of all, please do report the issue [at our issue tracker](https://yt-dl.org/bugs). That allows us to coordinate all efforts by users and developers, and serves as a unified point. Unfortunately, the youtube-dl project has grown too large to use personal email as an effective communication channel.\\n\\nPlease read the [bug reporting instructions](#bugs) below. A lot of bugs lack all the necessary information. If you can, offer proxy, VPN, or shell access to the youtube-dl developers. If you are able to, test the issue from multiple computers in multiple countries to exclude local censorship or misconfiguration issues.\\n\\nIf nobody is interested in solving your issue, you are welcome to take matters into your own hands and submit a pull request (or coerce/pay somebody else to do so).\\n\\nFeel free to bump the issue from time to time by writing a small comment (\"Issue is still present in youtube-dl version ...from France, but fixed from Belgium\"), but please not more than once a month. Please do not declare your issue as `important` or `urgent`.\\n\\n### How can I detect whether a given URL is supported by youtube-dl?\\n\\nFor one, have a look at the [list of supported sites](docs/supportedsites.md). Note that it can sometimes happen that the site changes its URL scheme (say, from https://example.com/video/1234567 to https://example.com/v/1234567 ) and youtube-dl reports an URL of a service in that list as unsupported. In that case, simply report a bug.\\n\\nIt is *not* possible to detect whether a URL is supported or not. That\\'s because youtube-dl contains a generic extractor which matches **all** URLs. You may be tempted to disable, exclude, or remove the generic extractor, but the generic extractor not only allows users to extract videos from lots of websites that embed a video from another service, but may also be used to extract video from a service that it\\'s hosting itself. Therefore, we neither recommend nor support disabling, excluding, or removing the generic extractor.\\n\\nIf you want to find out whether a given URL is supported, simply call youtube-dl with it. If you get no videos back, chances are the URL is either not referring to a video or unsupported. You can find out which by examining the output (if you run youtube-dl on the console) or catching an `UnsupportedError` exception if you run it from a Python program.\\n\\n# Why do I need to go through that much red tape when filing bugs?\\n\\nBefore we had the issue template, despite our extensive [bug reporting instructions](#bugs), about 80% of the issue reports we got were useless, for instance because people used ancient versions hundreds of releases old, because of simple syntactic errors (not in youtube-dl but in general shell usage), because the problem was already reported multiple times before, because people did not actually read an error message, even if it said \"please install ffmpeg\", because people did not mention the URL they were trying to download and many more simple, easy-to-avoid problems, many of whom were totally unrelated to youtube-dl.\\n\\nyoutube-dl is an open-source project manned by too few volunteers, so we\\'d rather spend time fixing bugs where we are certain none of those simple problems apply, and where we can be reasonably confident to be able to reproduce the issue without asking the reporter repeatedly. As such, the output of `youtube-dl -v YOUR_URL_HERE` is really all that\\'s required to file an issue. The issue template also guides you through some basic steps you can do, such as checking that your version of youtube-dl is current.\\n\\n# DEVELOPER INSTRUCTIONS\\n\\nMost users do not need to build youtube-dl and can [download the builds](https://ytdl-org.github.io/youtube-dl/download.html) or get them from their distribution.\\n\\nTo run youtube-dl as a developer, you don\\'t need to build anything either. Simply execute\\n\\n    python -m youtube_dl\\n\\nTo run the test, simply invoke your favorite test runner, or execute a test file directly; any of the following work:\\n\\n    python -m unittest discover\\n    python test/test_download.py\\n    nosetests\\n\\nSee item 6 of [new extractor tutorial](#adding-support-for-a-new-site) for how to run extractor specific test cases.\\n\\nIf you want to create a build of youtube-dl yourself, you\\'ll need\\n\\n* python\\n* make (only GNU make is supported)\\n* pandoc\\n* zip\\n* nosetests\\n\\n### Adding support for a new site\\n\\nIf you want to add support for a new site, first of all **make sure** this site is **not dedicated to [copyright infringement](README.md#can-you-add-support-for-this-anime-video-site-or-site-which-shows-current-movies-for-free)**. youtube-dl does **not support** such sites thus pull requests adding support for them **will be rejected**.\\n\\nAfter you have ensured this site is distributing its content legally, you can follow this quick list (assuming your service is called `yourextractor`):\\n\\n1. [Fork this repository](https://github.com/ytdl-org/youtube-dl/fork)\\n2. Check out the source code with:\\n\\n        git clone git@github.com:YOUR_GITHUB_USERNAME/youtube-dl.git\\n\\n3. Start a new git branch with\\n\\n        cd youtube-dl\\n        git checkout -b yourextractor\\n\\n4. Start with this simple template and save it to `youtube_dl/extractor/yourextractor.py`:\\n\\n    ```python\\n    # coding: utf-8\\n    from __future__ import unicode_literals\\n\\n    from .common import InfoExtractor\\n\\n\\n    class YourExtractorIE(InfoExtractor):\\n        _VALID_URL = r\\'https?://(?:www\\\\.)?yourextractor\\\\.com/watch/(?P<id>[0-9]+)\\'\\n        _TEST = {\\n            \\'url\\': \\'https://yourextractor.com/watch/42\\',\\n            \\'md5\\': \\'TODO: md5 sum of the first 10241 bytes of the video file (use --test)\\',\\n            \\'info_dict\\': {\\n                \\'id\\': \\'42\\',\\n                \\'ext\\': \\'mp4\\',\\n                \\'title\\': \\'Video title goes here\\',\\n                \\'thumbnail\\': r\\'re:^https?://.*\\\\.jpg$\\',\\n                # TODO more properties, either as:\\n                # * A value\\n                # * MD5 checksum; start the string with md5:\\n                # * A regular expression; start the string with re:\\n                # * Any Python type (for example int or float)\\n            }\\n        }\\n\\n        def _real_extract(self, url):\\n            video_id = self._match_id(url)\\n            webpage = self._download_webpage(url, video_id)\\n\\n            # TODO more code goes here, for example ...\\n            title = self._html_search_regex(r\\'<h1>(.+?)</h1>\\', webpage, \\'title\\')\\n\\n            return {\\n                \\'id\\': video_id,\\n                \\'title\\': title,\\n                \\'description\\': self._og_search_description(webpage),\\n                \\'uploader\\': self._search_regex(r\\'<div[^>]+id=\"uploader\"[^>]*>([^<]+)<\\', webpage, \\'uploader\\', fatal=False),\\n                # TODO more properties (see youtube_dl/extractor/common.py)\\n            }\\n    ```\\n5. Add an import in [`youtube_dl/extractor/extractors.py`](https://github.com/ytdl-org/youtube-dl/blob/master/youtube_dl/extractor/extractors.py).\\n6. Run `python test/test_download.py TestDownload.test_YourExtractor`. This *should fail* at first, but you can continually re-run it until you\\'re done. If you decide to add more than one test, then rename ``_TEST`` to ``_TESTS`` and make it into a list of dictionaries. The tests will then be named `TestDownload.test_YourExtractor`, `TestDownload.test_YourExtractor_1`, `TestDownload.test_YourExtractor_2`, etc. Note that tests with `only_matching` key in test\\'s dict are not counted in.\\n7. Have a look at [`youtube_dl/extractor/common.py`](https://github.com/ytdl-org/youtube-dl/blob/master/youtube_dl/extractor/common.py) for possible helper methods and a [detailed description of what your extractor should and may return](https://github.com/ytdl-org/youtube-dl/blob/7f41a598b3fba1bcab2817de64a08941200aa3c8/youtube_dl/extractor/common.py#L94-L303). Add tests and code for as many as you want.\\n8. Make sure your code follows [youtube-dl coding conventions](#youtube-dl-coding-conventions) and check the code with [flake8](https://flake8.pycqa.org/en/latest/index.html#quickstart):\\n\\n        $ flake8 youtube_dl/extractor/yourextractor.py\\n\\n9. Make sure your code works under all [Python](https://www.python.org/) versions claimed supported by youtube-dl, namely 2.6, 2.7, and 3.2+.\\n10. When the tests pass, [add](https://git-scm.com/docs/git-add) the new files and [commit](https://git-scm.com/docs/git-commit) them and [push](https://git-scm.com/docs/git-push) the result, like this:\\n\\n        $ git add youtube_dl/extractor/extractors.py\\n        $ git add youtube_dl/extractor/yourextractor.py\\n        $ git commit -m \\'[yourextractor] Add new extractor\\'\\n        $ git push origin yourextractor\\n\\n11. Finally, [create a pull request](https://help.github.com/articles/creating-a-pull-request). We\\'ll then review and merge it.\\n\\nIn any case, thank you very much for your contributions!\\n\\n## youtube-dl coding conventions\\n\\nThis section introduces a guide lines for writing idiomatic, robust and future-proof extractor code.\\n\\nExtractors are very fragile by nature since they depend on the layout of the source data provided by 3rd party media hosters out of your control and this layout tends to change. As an extractor implementer your task is not only to write code that will extract media links and metadata correctly but also to minimize dependency on the source\\'s layout and even to make the code foresee potential future changes and be ready for that. This is important because it will allow the extractor not to break on minor layout changes thus keeping old youtube-dl versions working. Even though this breakage issue is easily fixed by emitting a new version of youtube-dl with a fix incorporated, all the previous versions become broken in all repositories and distros\\' packages that may not be so prompt in fetching the update from us. Needless to say, some non rolling release distros may never receive an update at all.\\n\\n### Mandatory and optional metafields\\n\\nFor extraction to work youtube-dl relies on metadata your extractor extracts and provides to youtube-dl expressed by an [information dictionary](https://github.com/ytdl-org/youtube-dl/blob/7f41a598b3fba1bcab2817de64a08941200aa3c8/youtube_dl/extractor/common.py#L94-L303) or simply *info dict*. Only the following meta fields in the *info dict* are considered mandatory for a successful extraction process by youtube-dl:\\n\\n - `id` (media identifier)\\n - `title` (media title)\\n - `url` (media download URL) or `formats`\\n\\nIn fact only the last option is technically mandatory (i.e. if you can\\'t figure out the download location of the media the extraction does not make any sense). But by convention youtube-dl also treats `id` and `title` as mandatory. Thus the aforementioned metafields are the critical data that the extraction does not make any sense without and if any of them fail to be extracted then the extractor is considered completely broken.\\n\\n[Any field](https://github.com/ytdl-org/youtube-dl/blob/7f41a598b3fba1bcab2817de64a08941200aa3c8/youtube_dl/extractor/common.py#L188-L303) apart from the aforementioned ones are considered **optional**. That means that extraction should be **tolerant** to situations when sources for these fields can potentially be unavailable (even if they are always available at the moment) and **future-proof** in order not to break the extraction of general purpose mandatory fields.\\n\\n#### Example\\n\\nSay you have some source dictionary `meta` that you\\'ve fetched as JSON with HTTP request and it has a key `summary`:\\n\\n```python\\nmeta = self._download_json(url, video_id)\\n```\\n    \\nAssume at this point `meta`\\'s layout is:\\n\\n```python\\n{\\n    ...\\n    \"summary\": \"some fancy summary text\",\\n    ...\\n}\\n```\\n\\nAssume you want to extract `summary` and put it into the resulting info dict as `description`. Since `description` is an optional meta field you should be ready that this key may be missing from the `meta` dict, so that you should extract it like:\\n\\n```python\\ndescription = meta.get(\\'summary\\')  # correct\\n```\\n\\nand not like:\\n\\n```python\\ndescription = meta[\\'summary\\']  # incorrect\\n```\\n\\nThe latter will break extraction process with `KeyError` if `summary` disappears from `meta` at some later time but with the former approach extraction will just go ahead with `description` set to `None` which is perfectly fine (remember `None` is equivalent to the absence of data).\\n\\nSimilarly, you should pass `fatal=False` when extracting optional data from a webpage with `_search_regex`, `_html_search_regex` or similar methods, for instance:\\n\\n```python\\ndescription = self._search_regex(\\n    r\\'<span[^>]+id=\"title\"[^>]*>([^<]+)<\\',\\n    webpage, \\'description\\', fatal=False)\\n```\\n\\nWith `fatal` set to `False` if `_search_regex` fails to extract `description` it will emit a warning and continue extraction.\\n\\nYou can also pass `default=<some fallback value>`, for example:\\n\\n```python\\ndescription = self._search_regex(\\n    r\\'<span[^>]+id=\"title\"[^>]*>([^<]+)<\\',\\n    webpage, \\'description\\', default=None)\\n```\\n\\nOn failure this code will silently continue the extraction with `description` set to `None`. That is useful for metafields that may or may not be present.\\n \\n### Provide fallbacks\\n\\nWhen extracting metadata try to do so from multiple sources. For example if `title` is present in several places, try extracting from at least some of them. This makes it more future-proof in case some of the sources become unavailable.\\n\\n#### Example\\n\\nSay `meta` from the previous example has a `title` and you are about to extract it. Since `title` is a mandatory meta field you should end up with something like:\\n\\n```python\\ntitle = meta[\\'title\\']\\n```\\n\\nIf `title` disappears from `meta` in future due to some changes on the hoster\\'s side the extraction would fail since `title` is mandatory. That\\'s expected.\\n\\nAssume that you have some another source you can extract `title` from, for example `og:title` HTML meta of a `webpage`. In this case you can provide a fallback scenario:\\n\\n```python\\ntitle = meta.get(\\'title\\') or self._og_search_title(webpage)\\n```\\n\\nThis code will try to extract from `meta` first and if it fails it will try extracting `og:title` from a `webpage`.\\n\\n### Regular expressions\\n\\n#### Don\\'t capture groups you don\\'t use\\n\\nCapturing group must be an indication that it\\'s used somewhere in the code. Any group that is not used must be non capturing.\\n\\n##### Example\\n\\nDon\\'t capture id attribute name here since you can\\'t use it for anything anyway.\\n\\nCorrect:\\n\\n```python\\nr\\'(?:id|ID)=(?P<id>\\\\d+)\\'\\n```\\n\\nIncorrect:\\n```python\\nr\\'(id|ID)=(?P<id>\\\\d+)\\'\\n```\\n\\n\\n#### Make regular expressions relaxed and flexible\\n\\nWhen using regular expressions try to write them fuzzy, relaxed and flexible, skipping insignificant parts that are more likely to change, allowing both single and double quotes for quoted values and so on.\\n \\n##### Example\\n\\nSay you need to extract `title` from the following HTML code:\\n\\n```html\\n<span style=\"position: absolute; left: 910px; width: 90px; float: right; z-index: 9999;\" class=\"title\">some fancy title</span>\\n```\\n\\nThe code for that task should look similar to:\\n\\n```python\\ntitle = self._search_regex(\\n    r\\'<span[^>]+class=\"title\"[^>]*>([^<]+)\\', webpage, \\'title\\')\\n```\\n\\nOr even better:\\n\\n```python\\ntitle = self._search_regex(\\n    r\\'<span[^>]+class=([\"\\\\\\'])title\\\\1[^>]*>(?P<title>[^<]+)\\',\\n    webpage, \\'title\\', group=\\'title\\')\\n```\\n\\nNote how you tolerate potential changes in the `style` attribute\\'s value or switch from using double quotes to single for `class` attribute: \\n\\nThe code definitely should not look like:\\n\\n```python\\ntitle = self._search_regex(\\n    r\\'<span style=\"position: absolute; left: 910px; width: 90px; float: right; z-index: 9999;\" class=\"title\">(.*?)</span>\\',\\n    webpage, \\'title\\', group=\\'title\\')\\n```\\n\\n### Long lines policy\\n\\nThere is a soft limit to keep lines of code under 80 characters long. This means it should be respected if possible and if it does not make readability and code maintenance worse.\\n\\nFor example, you should **never** split long string literals like URLs or some other often copied entities over multiple lines to fit this limit:\\n\\nCorrect:\\n\\n```python\\n\\'https://www.youtube.com/watch?v=FqZTN594JQw&list=PLMYEtVRpaqY00V9W81Cwmzp6N6vZqfUKD4\\'\\n```\\n\\nIncorrect:\\n\\n```python\\n\\'https://www.youtube.com/watch?v=FqZTN594JQw&list=\\'\\n\\'PLMYEtVRpaqY00V9W81Cwmzp6N6vZqfUKD4\\'\\n```\\n\\n### Inline values\\n\\nExtracting variables is acceptable for reducing code duplication and improving readability of complex expressions. However, you should avoid extracting variables used only once and moving them to opposite parts of the extractor file, which makes reading the linear flow difficult.\\n\\n#### Example\\n\\nCorrect:\\n\\n```python\\ntitle = self._html_search_regex(r\\'<title>([^<]+)</title>\\', webpage, \\'title\\')\\n```\\n\\nIncorrect:\\n\\n```python\\nTITLE_RE = r\\'<title>([^<]+)</title>\\'\\n# ...some lines of code...\\ntitle = self._html_search_regex(TITLE_RE, webpage, \\'title\\')\\n```\\n\\n### Collapse fallbacks\\n\\nMultiple fallback values can quickly become unwieldy. Collapse multiple fallback values into a single expression via a list of patterns.\\n\\n#### Example\\n\\nGood:\\n\\n```python\\ndescription = self._html_search_meta(\\n    [\\'og:description\\', \\'description\\', \\'twitter:description\\'],\\n    webpage, \\'description\\', default=None)\\n```\\n\\nUnwieldy:\\n\\n```python\\ndescription = (\\n    self._og_search_description(webpage, default=None)\\n    or self._html_search_meta(\\'description\\', webpage, default=None)\\n    or self._html_search_meta(\\'twitter:description\\', webpage, default=None))\\n```\\n\\nMethods supporting list of patterns are: `_search_regex`, `_html_search_regex`, `_og_search_property`, `_html_search_meta`.\\n\\n### Trailing parentheses\\n\\nAlways move trailing parentheses after the last argument.\\n\\n#### Example\\n\\nCorrect:\\n\\n```python\\n    lambda x: x[\\'ResultSet\\'][\\'Result\\'][0][\\'VideoUrlSet\\'][\\'VideoUrl\\'],\\n    list)\\n```\\n\\nIncorrect:\\n\\n```python\\n    lambda x: x[\\'ResultSet\\'][\\'Result\\'][0][\\'VideoUrlSet\\'][\\'VideoUrl\\'],\\n    list,\\n)\\n```\\n\\n### Use convenience conversion and parsing functions\\n\\nWrap all extracted numeric data into safe functions from [`youtube_dl/utils.py`](https://github.com/ytdl-org/youtube-dl/blob/master/youtube_dl/utils.py): `int_or_none`, `float_or_none`. Use them for string to number conversions as well.\\n\\nUse `url_or_none` for safe URL processing.\\n\\nUse `try_get` for safe metadata extraction from parsed JSON.\\n\\nUse `unified_strdate` for uniform `upload_date` or any `YYYYMMDD` meta field extraction, `unified_timestamp` for uniform `timestamp` extraction, `parse_filesize` for `filesize` extraction, `parse_count` for count meta fields extraction, `parse_resolution`, `parse_duration` for `duration` extraction, `parse_age_limit` for `age_limit` extraction. \\n\\nExplore [`youtube_dl/utils.py`](https://github.com/ytdl-org/youtube-dl/blob/master/youtube_dl/utils.py) for more useful convenience functions.\\n\\n#### More examples\\n\\n##### Safely extract optional description from parsed JSON\\n```python\\ndescription = try_get(response, lambda x: x[\\'result\\'][\\'video\\'][0][\\'summary\\'], compat_str)\\n```\\n\\n##### Safely extract more optional metadata\\n```python\\nvideo = try_get(response, lambda x: x[\\'result\\'][\\'video\\'][0], dict) or {}\\ndescription = video.get(\\'summary\\')\\nduration = float_or_none(video.get(\\'durationMs\\'), scale=1000)\\nview_count = int_or_none(video.get(\\'views\\'))\\n```\\n\\n# EMBEDDING YOUTUBE-DL\\n\\nyoutube-dl makes the best effort to be a good command-line program, and thus should be callable from any programming language. If you encounter any problems parsing its output, feel free to [create a report](https://github.com/ytdl-org/youtube-dl/issues/new).\\n\\nFrom a Python program, you can embed youtube-dl in a more powerful fashion, like this:\\n\\n```python\\nfrom __future__ import unicode_literals\\nimport youtube_dl\\n\\nydl_opts = {}\\nwith youtube_dl.YoutubeDL(ydl_opts) as ydl:\\n    ydl.download([\\'https://www.youtube.com/watch?v=BaW_jenozKc\\'])\\n```\\n\\nMost likely, you\\'ll want to use various options. For a list of options available, have a look at [`youtube_dl/YoutubeDL.py`](https://github.com/ytdl-org/youtube-dl/blob/3e4cedf9e8cd3157df2457df7274d0c842421945/youtube_dl/YoutubeDL.py#L137-L312). For a start, if you want to intercept youtube-dl\\'s output, set a `logger` object.\\n\\nHere\\'s a more complete example of a program that outputs only errors (and a short message after the download is finished), and downloads/converts the video to an mp3 file:\\n\\n```python\\nfrom __future__ import unicode_literals\\nimport youtube_dl\\n\\n\\nclass MyLogger(object):\\n    def debug(self, msg):\\n        pass\\n\\n    def warning(self, msg):\\n        pass\\n\\n    def error(self, msg):\\n        print(msg)\\n\\n\\ndef my_hook(d):\\n    if d[\\'status\\'] == \\'finished\\':\\n        print(\\'Done downloading, now converting ...\\')\\n\\n\\nydl_opts = {\\n    \\'format\\': \\'bestaudio/best\\',\\n    \\'postprocessors\\': [{\\n        \\'key\\': \\'FFmpegExtractAudio\\',\\n        \\'preferredcodec\\': \\'mp3\\',\\n        \\'preferredquality\\': \\'192\\',\\n    }],\\n    \\'logger\\': MyLogger(),\\n    \\'progress_hooks\\': [my_hook],\\n}\\nwith youtube_dl.YoutubeDL(ydl_opts) as ydl:\\n    ydl.download([\\'https://www.youtube.com/watch?v=BaW_jenozKc\\'])\\n```\\n\\n# BUGS\\n\\nBugs and suggestions should be reported at: <https://github.com/ytdl-org/youtube-dl/issues>. Unless you were prompted to or there is another pertinent reason (e.g. GitHub fails to accept the bug report), please do not send bug reports via personal email. For discussions, join us in the IRC channel [#youtube-dl](irc://chat.freenode.net/#youtube-dl) on freenode ([webchat](https://webchat.freenode.net/?randomnick=1&channels=youtube-dl)).\\n\\n**Please include the full output of youtube-dl when run with `-v`**, i.e. **add** `-v` flag to **your command line**, copy the **whole** output and post it in the issue body wrapped in \\\\`\\\\`\\\\` for better formatting. It should look similar to this:\\n```\\n$ youtube-dl -v <your command line>\\n[debug] System config: []\\n[debug] User config: []\\n[debug] Command-line args: [u\\'-v\\', u\\'https://www.youtube.com/watch?v=BaW_jenozKcj\\']\\n[debug] Encodings: locale cp1251, fs mbcs, out cp866, pref cp1251\\n[debug] youtube-dl version 2015.12.06\\n[debug] Git HEAD: 135392e\\n[debug] Python version 2.6.6 - Windows-2003Server-5.2.3790-SP2\\n[debug] exe versions: ffmpeg N-75573-g1d0487f, ffprobe N-75573-g1d0487f, rtmpdump 2.4\\n[debug] Proxy map: {}\\n...\\n```\\n**Do not post screenshots of verbose logs; only plain text is acceptable.**\\n\\nThe output (including the first lines) contains important debugging information. Issues without the full output are often not reproducible and therefore do not get solved in short order, if ever.\\n\\nPlease re-read your issue once again to avoid a couple of common mistakes (you can and should use this as a checklist):\\n\\n### Is the description of the issue itself sufficient?\\n\\nWe often get issue reports that we cannot really decipher. While in most cases we eventually get the required information after asking back multiple times, this poses an unnecessary drain on our resources. Many contributors, including myself, are also not native speakers, so we may misread some parts.\\n\\nSo please elaborate on what feature you are requesting, or what bug you want to be fixed. Make sure that it\\'s obvious\\n\\n- What the problem is\\n- How it could be fixed\\n- How your proposed solution would look like\\n\\nIf your report is shorter than two lines, it is almost certainly missing some of these, which makes it hard for us to respond to it. We\\'re often too polite to close the issue outright, but the missing info makes misinterpretation likely. As a committer myself, I often get frustrated by these issues, since the only possible way for me to move forward on them is to ask for clarification over and over.\\n\\nFor bug reports, this means that your report should contain the *complete* output of youtube-dl when called with the `-v` flag. The error message you get for (most) bugs even says so, but you would not believe how many of our bug reports do not contain this information.\\n\\nIf your server has multiple IPs or you suspect censorship, adding `--call-home` may be a good idea to get more diagnostics. If the error is `ERROR: Unable to extract ...` and you cannot reproduce it from multiple countries, add `--dump-pages` (warning: this will yield a rather large output, redirect it to the file `log.txt` by adding `>log.txt 2>&1` to your command-line) or upload the `.dump` files you get when you add `--write-pages` [somewhere](https://gist.github.com/).\\n\\n**Site support requests must contain an example URL**. An example URL is a URL you might want to download, like `https://www.youtube.com/watch?v=BaW_jenozKc`. There should be an obvious video present. Except under very special circumstances, the main page of a video service (e.g. `https://www.youtube.com/`) is *not* an example URL.\\n\\n###  Are you using the latest version?\\n\\nBefore reporting any issue, type `youtube-dl -U`. This should report that you\\'re up-to-date. About 20% of the reports we receive are already fixed, but people are using outdated versions. This goes for feature requests as well.\\n\\n###  Is the issue already documented?\\n\\nMake sure that someone has not already opened the issue you\\'re trying to open. Search at the top of the window or browse the [GitHub Issues](https://github.com/ytdl-org/youtube-dl/search?type=Issues) of this repository. If there is an issue, feel free to write something along the lines of \"This affects me as well, with version 2015.01.01. Here is some more information on the issue: ...\". While some issues may be old, a new post into them often spurs rapid activity.\\n\\n###  Why are existing options not enough?\\n\\nBefore requesting a new feature, please have a quick peek at [the list of supported options](https://github.com/ytdl-org/youtube-dl/blob/master/README.md#options). Many feature requests are for features that actually exist already! Please, absolutely do show off your work in the issue report and detail how the existing similar options do *not* solve your problem.\\n\\n###  Is there enough context in your bug report?\\n\\nPeople want to solve problems, and often think they do us a favor by breaking down their larger problems (e.g. wanting to skip already downloaded files) to a specific request (e.g. requesting us to look whether the file exists before downloading the info page). However, what often happens is that they break down the problem into two steps: One simple, and one impossible (or extremely complicated one).\\n\\nWe are then presented with a very complicated request when the original problem could be solved far easier, e.g. by recording the downloaded video IDs in a separate file. To avoid this, you must include the greater context where it is non-obvious. In particular, every feature request that does not consist of adding support for a new site should contain a use case scenario that explains in what situation the missing feature would be useful.\\n\\n###  Does the issue involve one problem, and one problem only?\\n\\nSome of our users seem to think there is a limit of issues they can or should open. There is no limit of issues they can or should open. While it may seem appealing to be able to dump all your issues into one ticket, that means that someone who solves one of your issues cannot mark the issue as closed. Typically, reporting a bunch of issues leads to the ticket lingering since nobody wants to attack that behemoth, until someone mercifully splits the issue into multiple ones.\\n\\nIn particular, every site support request issue should only pertain to services at one site (generally under a common domain, but always using the same backend technology). Do not request support for vimeo user videos, White house podcasts, and Google Plus pages in the same issue. Also, make sure that you don\\'t post bug reports alongside feature requests. As a rule of thumb, a feature request does not include outputs of youtube-dl that are not immediately related to the feature at hand. Do not post reports of a network error alongside the request for a new video service.\\n\\n###  Is anyone going to need the feature?\\n\\nOnly post features that you (or an incapacitated friend you can personally talk to) require. Do not post features because they seem like a good idea. If they are really useful, they will be requested by someone who requires them.\\n\\n###  Is your question about youtube-dl?\\n\\nIt may sound strange, but some bug reports we receive are completely unrelated to youtube-dl and relate to a different, or even the reporter\\'s own, application. Please make sure that you are actually using youtube-dl. If you are using a UI for youtube-dl, report the bug to the maintainer of the actual application providing the UI. On the other hand, if your UI for youtube-dl fails in some way you believe is related to youtube-dl, by all means, go ahead and report the bug.\\n\\n# COPYRIGHT\\n\\nyoutube-dl is released into the public domain by the copyright holders.\\n\\nThis README file was originally written by [Daniel Bolton](https://github.com/dbbolton) and is likewise released into the public domain.\\n'"
      ]
     },
     "execution_count": 17,
     "metadata": {},
     "output_type": "execute_result"
    }
   ],
   "source": [
    "df_test.readme_contents[0]"
   ]
  },
  {
   "cell_type": "code",
   "execution_count": 33,
   "metadata": {},
   "outputs": [],
   "source": [
    "# functions\n",
    "def basic_clean(string):\n",
    "    '''\n",
    "    This function takes in a string and\n",
    "    returns the string normalized.\n",
    "    '''\n",
    "    string = unicodedata.normalize('NFKC', string)\\\n",
    "             .encode('ascii', 'ignore')\\\n",
    "             .decode('utf-8', 'ignore')\n",
    "    string = re.sub(r'[^\\w\\s]', '', string).lower()\n",
    "    string = re.sub(r'[\\n]', \"\", string)\n",
    "    string = re.sub(r'[/s./s]', \" \", string)\n",
    "\n",
    "    return string"
   ]
  },
  {
   "cell_type": "code",
   "execution_count": 34,
   "metadata": {},
   "outputs": [
    {
     "data": {
      "text/plain": [
       "0      build  tatu http travi ciorgytdlorgyoutubedl v...\n",
       "1       python  100  8w15pythoncore50cour e http gith...\n",
       "2      fla kfla k i  a lightweight w gi_ web applicat...\n",
       "3      djangodjango i  a highlevel python web framewo...\n",
       "4       the algorithm   pythongitpod readytocodehttp ...\n",
       "                             ...                        \n",
       "380     yupyup i  a java cript  chema builder for val...\n",
       "381     nodebbpublicimage logo vgbuild  tatu http tra...\n",
       "382      hellj   unix  hell command  for nodej travi ...\n",
       "383    p  a hrefhttp aureliaio target_blank    img al...\n",
       "384    p aligncenterimg width270px  rchttp githubcomr...\n",
       "Name: readme_contents, Length: 385, dtype: object"
      ]
     },
     "execution_count": 34,
     "metadata": {},
     "output_type": "execute_result"
    }
   ],
   "source": [
    "df_test.readme_contents.apply(basic_clean)"
   ]
  },
  {
   "cell_type": "code",
   "execution_count": 36,
   "metadata": {},
   "outputs": [],
   "source": [
    "short_df = pd.read_json('github_repos.json')"
   ]
  },
  {
   "cell_type": "code",
   "execution_count": null,
   "metadata": {},
   "outputs": [],
   "source": [
    "# run some regex that'll replace \\n with \"\"; \\s.\\s to get rid of all single charaters. Then run tokenize, lemmatize, and stopwords to come up with a clean column of text for explore."
   ]
  },
  {
   "cell_type": "code",
   "execution_count": 37,
   "metadata": {},
   "outputs": [
    {
     "data": {
      "text/html": [
       "<div>\n",
       "<style scoped>\n",
       "    .dataframe tbody tr th:only-of-type {\n",
       "        vertical-align: middle;\n",
       "    }\n",
       "\n",
       "    .dataframe tbody tr th {\n",
       "        vertical-align: top;\n",
       "    }\n",
       "\n",
       "    .dataframe thead th {\n",
       "        text-align: right;\n",
       "    }\n",
       "</style>\n",
       "<table border=\"1\" class=\"dataframe\">\n",
       "  <thead>\n",
       "    <tr style=\"text-align: right;\">\n",
       "      <th></th>\n",
       "      <th>language</th>\n",
       "      <th>content</th>\n",
       "    </tr>\n",
       "  </thead>\n",
       "  <tbody>\n",
       "    <tr>\n",
       "      <th>0</th>\n",
       "      <td>JavaScript</td>\n",
       "      <td>\\n\\n\\n\\n\\nBootstrap\\n\\n  Sleek, intuitive, and...</td>\n",
       "    </tr>\n",
       "    <tr>\n",
       "      <th>1</th>\n",
       "      <td>JavaScript</td>\n",
       "      <td>\\n\\n\\n\\n\\n\\n\\n\\n\\n\\n\\nSupporting Vue.js\\nVue.j...</td>\n",
       "    </tr>\n",
       "    <tr>\n",
       "      <th>2</th>\n",
       "      <td>JavaScript</td>\n",
       "      <td>\\n\\n\\n\\n\\nfreeCodeCamp.org's open-source codeb...</td>\n",
       "    </tr>\n",
       "    <tr>\n",
       "      <th>3</th>\n",
       "      <td>JavaScript</td>\n",
       "      <td>Airbnb JavaScript Style Guide() {\\nA mostly re...</td>\n",
       "    </tr>\n",
       "    <tr>\n",
       "      <th>4</th>\n",
       "      <td>JavaScript</td>\n",
       "      <td>Create React App  \\n\\nCreate React apps with n...</td>\n",
       "    </tr>\n",
       "    <tr>\n",
       "      <th>...</th>\n",
       "      <td>...</td>\n",
       "      <td>...</td>\n",
       "    </tr>\n",
       "    <tr>\n",
       "      <th>155</th>\n",
       "      <td>Java</td>\n",
       "      <td>Spring Boot Demo\\n\\n\\n\\n\\n\\n\\n\\n\\n\\n\\n\\n\\n\\n\\n...</td>\n",
       "    </tr>\n",
       "    <tr>\n",
       "      <th>156</th>\n",
       "      <td>Java</td>\n",
       "      <td>Selenium  \\n\\nSelenium is an umbrella project ...</td>\n",
       "    </tr>\n",
       "    <tr>\n",
       "      <th>157</th>\n",
       "      <td>Java</td>\n",
       "      <td>Picasso\\nA powerful image downloading and cach...</td>\n",
       "    </tr>\n",
       "    <tr>\n",
       "      <th>158</th>\n",
       "      <td>Java</td>\n",
       "      <td>EasyExcel\\n\\n\\n\\nQQ1群(已满): 662022184\\nQQ2群: 10...</td>\n",
       "    </tr>\n",
       "    <tr>\n",
       "      <th>159</th>\n",
       "      <td>Java</td>\n",
       "      <td>RxAndroid: Reactive Extensions for Android\\nAn...</td>\n",
       "    </tr>\n",
       "  </tbody>\n",
       "</table>\n",
       "<p>160 rows × 2 columns</p>\n",
       "</div>"
      ],
      "text/plain": [
       "       language                                            content\n",
       "0    JavaScript  \\n\\n\\n\\n\\nBootstrap\\n\\n  Sleek, intuitive, and...\n",
       "1    JavaScript  \\n\\n\\n\\n\\n\\n\\n\\n\\n\\n\\nSupporting Vue.js\\nVue.j...\n",
       "2    JavaScript  \\n\\n\\n\\n\\nfreeCodeCamp.org's open-source codeb...\n",
       "3    JavaScript  Airbnb JavaScript Style Guide() {\\nA mostly re...\n",
       "4    JavaScript  Create React App  \\n\\nCreate React apps with n...\n",
       "..          ...                                                ...\n",
       "155        Java  Spring Boot Demo\\n\\n\\n\\n\\n\\n\\n\\n\\n\\n\\n\\n\\n\\n\\n...\n",
       "156        Java  Selenium  \\n\\nSelenium is an umbrella project ...\n",
       "157        Java  Picasso\\nA powerful image downloading and cach...\n",
       "158        Java  EasyExcel\\n\\n\\n\\nQQ1群(已满): 662022184\\nQQ2群: 10...\n",
       "159        Java  RxAndroid: Reactive Extensions for Android\\nAn...\n",
       "\n",
       "[160 rows x 2 columns]"
      ]
     },
     "execution_count": 37,
     "metadata": {},
     "output_type": "execute_result"
    }
   ],
   "source": [
    "short_df"
   ]
  },
  {
   "cell_type": "code",
   "execution_count": 38,
   "metadata": {},
   "outputs": [],
   "source": [
    "# functions\n",
    "def basic_clean(string):\n",
    "    '''\n",
    "    This function takes in a string and\n",
    "    returns the string normalized.\n",
    "    '''\n",
    "    string = unicodedata.normalize('NFKC', string)\\\n",
    "             .encode('ascii', 'ignore')\\\n",
    "             .decode('utf-8', 'ignore')\n",
    "    string = re.sub(r'[^\\w\\s]', '', string).lower()\n",
    "    return string\n",
    "\n",
    "##############################\n",
    "\n",
    "def tokenize(string):\n",
    "    '''\n",
    "    This function takes in a string and\n",
    "    returns a tokenized string.\n",
    "    '''\n",
    "    # Create tokenizer.\n",
    "    tokenizer = nltk.tokenize.ToktokTokenizer()\n",
    "    \n",
    "    # Use tokenizer\n",
    "    string = tokenizer.tokenize(string, return_str=True)\n",
    "    \n",
    "    return string\n",
    "\n",
    "#############################\n",
    "\n",
    "def stem(string):\n",
    "    '''\n",
    "    This function takes in a string and\n",
    "    returns a string with words stemmed.\n",
    "    '''\n",
    "    # Create porter stemmer.\n",
    "    ps = nltk.porter.PorterStemmer()\n",
    "    \n",
    "    # Use the stemmer to stem each word in the list of words we created by using split.\n",
    "    stems = [ps.stem(word) for word in string.split()]\n",
    "    \n",
    "    # Join our lists of words into a string again and assign to a variable.\n",
    "    string = ' '.join(stems)\n",
    "    \n",
    "    return string\n",
    "\n",
    "#############################\n",
    "\n",
    "\n",
    "def lemmatize(string):\n",
    "    '''\n",
    "    This function takes in string for and\n",
    "    returns a string with words lemmatized.\n",
    "    '''\n",
    "    # Create the lemmatizer.\n",
    "    wnl = nltk.stem.WordNetLemmatizer()\n",
    "    \n",
    "    # Use the lemmatizer on each word in the list of words we created by using split.\n",
    "    lemmas = [wnl.lemmatize(word) for word in string.split()]\n",
    "    \n",
    "    # Join our list of words into a string again and assign to a variable.\n",
    "    string = ' '.join(lemmas)\n",
    "    \n",
    "    return string\n",
    "\n",
    "#############################\n",
    "\n",
    "\n",
    "def remove_stopwords(string, extra_words=[], exclude_words=[]):\n",
    "    '''\n",
    "    This function takes in a string, optional extra_words and exclude_words parameters\n",
    "    with default empty lists and returns a string.\n",
    "    '''\n",
    "    # Create stopword_list.\n",
    "    stopword_list = stopwords.words('english')\n",
    "    \n",
    "    # Remove 'exclude_words' from stopword_list to keep these in my text.\n",
    "    stopword_list = set(stopword_list) - set(exclude_words)\n",
    "\n",
    "    # Add in 'extra_words' to stopword_list.\n",
    "    stopword_list = stopword_list.union(set(extra_words))\n",
    "    \n",
    "    # Split words in string.\n",
    "    words = string.split()\n",
    "    \n",
    "    # Create a list of words from my string with stopwords removed and assign to variable.\n",
    "    filtered_words = [word for word in words if word not in stopword_list]\n",
    "    \n",
    "    # Join words in the list back into strings and assign to a variable.\n",
    "    string_without_stopwords = ' '.join(filtered_words)\n",
    "    \n",
    "    return string_without_stopwords\n",
    "\n",
    "###############################\n",
    "\n",
    "\n",
    "def prep_repo_data(df, column, extra_words=[], exclude_words=[]):\n",
    "    '''\n",
    "    This function take in a df and the string name for a text column with \n",
    "    option to pass lists for extra_words and exclude_words and\n",
    "    returns a df with the text article title, original text, stemmed text,\n",
    "    lemmatized text, cleaned, tokenized, & lemmatized text with stopwords removed.\n",
    "    '''\n",
    "    df['clean'] = df[column].apply(basic_clean)\\\n",
    "                            .apply(tokenize)\\\n",
    "                            .apply(remove_stopwords, \n",
    "                                   extra_words=extra_words, \n",
    "                                   exclude_words=exclude_words)\\\n",
    "                            .apply(lemmatize)\n",
    "    \n",
    "    df['stemmed'] = df[column].apply(basic_clean).apply(stem)\n",
    "    \n",
    "    df['lemmatized'] = df[column].apply(basic_clean).apply(lemmatize)\n",
    "    \n",
    "    return df[['language', column, 'stemmed', 'lemmatized', 'clean']]"
   ]
  },
  {
   "cell_type": "code",
   "execution_count": 39,
   "metadata": {},
   "outputs": [],
   "source": [
    "clean_df = prep_repo_data(short_df, 'content')"
   ]
  },
  {
   "cell_type": "code",
   "execution_count": 40,
   "metadata": {},
   "outputs": [
    {
     "data": {
      "text/html": [
       "<div>\n",
       "<style scoped>\n",
       "    .dataframe tbody tr th:only-of-type {\n",
       "        vertical-align: middle;\n",
       "    }\n",
       "\n",
       "    .dataframe tbody tr th {\n",
       "        vertical-align: top;\n",
       "    }\n",
       "\n",
       "    .dataframe thead th {\n",
       "        text-align: right;\n",
       "    }\n",
       "</style>\n",
       "<table border=\"1\" class=\"dataframe\">\n",
       "  <thead>\n",
       "    <tr style=\"text-align: right;\">\n",
       "      <th></th>\n",
       "      <th>language</th>\n",
       "      <th>content</th>\n",
       "      <th>stemmed</th>\n",
       "      <th>lemmatized</th>\n",
       "      <th>clean</th>\n",
       "    </tr>\n",
       "  </thead>\n",
       "  <tbody>\n",
       "    <tr>\n",
       "      <th>0</th>\n",
       "      <td>JavaScript</td>\n",
       "      <td>\\n\\n\\n\\n\\nBootstrap\\n\\n  Sleek, intuitive, and...</td>\n",
       "      <td>bootstrap sleek intuit and power frontend fram...</td>\n",
       "      <td>bootstrap sleek intuitive and powerful fronten...</td>\n",
       "      <td>bootstrap sleek intuitive powerful frontend fr...</td>\n",
       "    </tr>\n",
       "    <tr>\n",
       "      <th>1</th>\n",
       "      <td>JavaScript</td>\n",
       "      <td>\\n\\n\\n\\n\\n\\n\\n\\n\\n\\n\\nSupporting Vue.js\\nVue.j...</td>\n",
       "      <td>support vuej vuej is an mitlicens open sourc p...</td>\n",
       "      <td>supporting vuejs vuejs is an mitlicensed open ...</td>\n",
       "      <td>supporting vuejs vuejs mitlicensed open source...</td>\n",
       "    </tr>\n",
       "    <tr>\n",
       "      <th>2</th>\n",
       "      <td>JavaScript</td>\n",
       "      <td>\\n\\n\\n\\n\\nfreeCodeCamp.org's open-source codeb...</td>\n",
       "      <td>freecodecamporg opensourc codebas and curricul...</td>\n",
       "      <td>freecodecamporgs opensource codebase and curri...</td>\n",
       "      <td>freecodecamporgs opensource codebase curriculu...</td>\n",
       "    </tr>\n",
       "    <tr>\n",
       "      <th>3</th>\n",
       "      <td>JavaScript</td>\n",
       "      <td>Airbnb JavaScript Style Guide() {\\nA mostly re...</td>\n",
       "      <td>airbnb javascript style guid a mostli reason a...</td>\n",
       "      <td>airbnb javascript style guide a mostly reasona...</td>\n",
       "      <td>airbnb javascript style guide mostly reasonabl...</td>\n",
       "    </tr>\n",
       "    <tr>\n",
       "      <th>4</th>\n",
       "      <td>JavaScript</td>\n",
       "      <td>Create React App  \\n\\nCreate React apps with n...</td>\n",
       "      <td>creat react app creat react app with no build ...</td>\n",
       "      <td>create react app create react apps with no bui...</td>\n",
       "      <td>create react app create react apps build confi...</td>\n",
       "    </tr>\n",
       "  </tbody>\n",
       "</table>\n",
       "</div>"
      ],
      "text/plain": [
       "     language                                            content  \\\n",
       "0  JavaScript  \\n\\n\\n\\n\\nBootstrap\\n\\n  Sleek, intuitive, and...   \n",
       "1  JavaScript  \\n\\n\\n\\n\\n\\n\\n\\n\\n\\n\\nSupporting Vue.js\\nVue.j...   \n",
       "2  JavaScript  \\n\\n\\n\\n\\nfreeCodeCamp.org's open-source codeb...   \n",
       "3  JavaScript  Airbnb JavaScript Style Guide() {\\nA mostly re...   \n",
       "4  JavaScript  Create React App  \\n\\nCreate React apps with n...   \n",
       "\n",
       "                                             stemmed  \\\n",
       "0  bootstrap sleek intuit and power frontend fram...   \n",
       "1  support vuej vuej is an mitlicens open sourc p...   \n",
       "2  freecodecamporg opensourc codebas and curricul...   \n",
       "3  airbnb javascript style guid a mostli reason a...   \n",
       "4  creat react app creat react app with no build ...   \n",
       "\n",
       "                                          lemmatized  \\\n",
       "0  bootstrap sleek intuitive and powerful fronten...   \n",
       "1  supporting vuejs vuejs is an mitlicensed open ...   \n",
       "2  freecodecamporgs opensource codebase and curri...   \n",
       "3  airbnb javascript style guide a mostly reasona...   \n",
       "4  create react app create react apps with no bui...   \n",
       "\n",
       "                                               clean  \n",
       "0  bootstrap sleek intuitive powerful frontend fr...  \n",
       "1  supporting vuejs vuejs mitlicensed open source...  \n",
       "2  freecodecamporgs opensource codebase curriculu...  \n",
       "3  airbnb javascript style guide mostly reasonabl...  \n",
       "4  create react app create react apps build confi...  "
      ]
     },
     "execution_count": 40,
     "metadata": {},
     "output_type": "execute_result"
    }
   ],
   "source": [
    "clean_df.head()"
   ]
  },
  {
   "cell_type": "code",
   "execution_count": 41,
   "metadata": {},
   "outputs": [
    {
     "data": {
      "text/plain": [
       "JavaScript    70\n",
       "Java          50\n",
       "Python        40\n",
       "Name: language, dtype: int64"
      ]
     },
     "execution_count": 41,
     "metadata": {},
     "output_type": "execute_result"
    }
   ],
   "source": [
    "clean_df.language.value_counts()"
   ]
  },
  {
   "cell_type": "code",
   "execution_count": 42,
   "metadata": {},
   "outputs": [
    {
     "data": {
      "text/plain": [
       "JavaScript    70\n",
       "Python        40\n",
       "Name: language, dtype: int64"
      ]
     },
     "execution_count": 42,
     "metadata": {},
     "output_type": "execute_result"
    }
   ],
   "source": [
    "clean_df = clean_df[clean_df.language != 'Java']\n",
    "clean_df.language.value_counts()"
   ]
  },
  {
   "cell_type": "code",
   "execution_count": 43,
   "metadata": {},
   "outputs": [],
   "source": [
    "# re-using the df variable. I'll have to go back and create a new df \n",
    "\n",
    "df = clean_df.copy()"
   ]
  },
  {
   "cell_type": "code",
   "execution_count": 44,
   "metadata": {},
   "outputs": [],
   "source": [
    "# add a column that is a list of each word for each repo --> PREPARE.PY\n",
    "words = [re.sub(r'([^a-z0-9\\s]|\\s.\\s)', '', doc).split() for doc in df.clean] \n",
    "\n",
    "# column name will be words, and the column will contain lists of the words in each doc\n",
    "df = pd.concat([df, pd.DataFrame({'words': words})], axis=1)"
   ]
  },
  {
   "cell_type": "code",
   "execution_count": 46,
   "metadata": {},
   "outputs": [
    {
     "data": {
      "text/plain": [
       "file       435\n",
       "use        319\n",
       "system     241\n",
       "install    220\n",
       "using      216\n",
       "dtype: int64"
      ]
     },
     "execution_count": 46,
     "metadata": {},
     "output_type": "execute_result"
    }
   ],
   "source": [
    "# create variables to hold words that appear in each type of repo as a single string\n",
    "js_words = ' '.join(df[df.language=='JavaScript'].clean)\n",
    "py_words = ' '.join(df[df.language=='Python'].clean)\n",
    "\n",
    "js_words = re.sub(r'\\s.\\s', '', js_words)\n",
    "py_words = re.sub(r'\\s.\\s', '', py_words)\n",
    "\n",
    "js_freq = pd.Series(js_words.split()).value_counts()\n",
    "py_freq = pd.Series(py_words.split()).value_counts()\n",
    "\n",
    "py_freq.head()"
   ]
  },
  {
   "cell_type": "markdown",
   "metadata": {},
   "source": [
    "### Splitting the data"
   ]
  },
  {
   "cell_type": "code",
   "execution_count": 55,
   "metadata": {},
   "outputs": [],
   "source": [
    "# split the data --> PREPARE.PY\n",
    "from sklearn.model_selection import train_test_split\n",
    "\n",
    "train_validate, test = train_test_split(df[['language', 'clean', 'words']], \n",
    "                                        stratify=df.language, \n",
    "                                        test_size=.2, random_state = 123)\n",
    "\n",
    "train, validate = train_test_split(train_validate, \n",
    "                                   stratify=train_validate.language, \n",
    "                                   test_size=.25, random_state = 123)"
   ]
  },
  {
   "cell_type": "code",
   "execution_count": 56,
   "metadata": {},
   "outputs": [
    {
     "name": "stdout",
     "output_type": "stream",
     "text": [
      "JavaScript    42\n",
      "Python        24\n",
      "Name: language, dtype: int64\n",
      "JavaScript    14\n",
      "Python         8\n",
      "Name: language, dtype: int64\n",
      "JavaScript    14\n",
      "Python         8\n",
      "Name: language, dtype: int64\n"
     ]
    },
    {
     "data": {
      "text/html": [
       "<div>\n",
       "<style scoped>\n",
       "    .dataframe tbody tr th:only-of-type {\n",
       "        vertical-align: middle;\n",
       "    }\n",
       "\n",
       "    .dataframe tbody tr th {\n",
       "        vertical-align: top;\n",
       "    }\n",
       "\n",
       "    .dataframe thead th {\n",
       "        text-align: right;\n",
       "    }\n",
       "</style>\n",
       "<table border=\"1\" class=\"dataframe\">\n",
       "  <thead>\n",
       "    <tr style=\"text-align: right;\">\n",
       "      <th></th>\n",
       "      <th>language</th>\n",
       "      <th>clean</th>\n",
       "      <th>words</th>\n",
       "    </tr>\n",
       "  </thead>\n",
       "  <tbody>\n",
       "    <tr>\n",
       "      <th>77</th>\n",
       "      <td>Python</td>\n",
       "      <td>payload thing list useful payload bypass web a...</td>\n",
       "      <td>[payload, thing, list, useful, payload, bypass...</td>\n",
       "    </tr>\n",
       "    <tr>\n",
       "      <th>84</th>\n",
       "      <td>Python</td>\n",
       "      <td>tracking progress natural language processing ...</td>\n",
       "      <td>[tracking, progress, natural, language, proces...</td>\n",
       "    </tr>\n",
       "    <tr>\n",
       "      <th>54</th>\n",
       "      <td>JavaScript</td>\n",
       "      <td>impressjs presentation framework based power c...</td>\n",
       "      <td>[impressjs, presentation, framework, based, po...</td>\n",
       "    </tr>\n",
       "    <tr>\n",
       "      <th>45</th>\n",
       "      <td>JavaScript</td>\n",
       "      <td>english hacker script based true story xxx ok ...</td>\n",
       "      <td>[english, hacker, script, based, true, story, ...</td>\n",
       "    </tr>\n",
       "    <tr>\n",
       "      <th>20</th>\n",
       "      <td>JavaScript</td>\n",
       "      <td>simple yet flexible javascript charting design...</td>\n",
       "      <td>[simple, yet, flexible, javascript, charting, ...</td>\n",
       "    </tr>\n",
       "  </tbody>\n",
       "</table>\n",
       "</div>"
      ],
      "text/plain": [
       "      language                                              clean  \\\n",
       "77      Python  payload thing list useful payload bypass web a...   \n",
       "84      Python  tracking progress natural language processing ...   \n",
       "54  JavaScript  impressjs presentation framework based power c...   \n",
       "45  JavaScript  english hacker script based true story xxx ok ...   \n",
       "20  JavaScript  simple yet flexible javascript charting design...   \n",
       "\n",
       "                                                words  \n",
       "77  [payload, thing, list, useful, payload, bypass...  \n",
       "84  [tracking, progress, natural, language, proces...  \n",
       "54  [impressjs, presentation, framework, based, po...  \n",
       "45  [english, hacker, script, based, true, story, ...  \n",
       "20  [simple, yet, flexible, javascript, charting, ...  "
      ]
     },
     "execution_count": 56,
     "metadata": {},
     "output_type": "execute_result"
    }
   ],
   "source": [
    "print(train.language.value_counts())\n",
    "print(validate.language.value_counts())\n",
    "print(test.language.value_counts())\n",
    "train.head()"
   ]
  },
  {
   "cell_type": "markdown",
   "metadata": {},
   "source": [
    "## Explore"
   ]
  },
  {
   "cell_type": "code",
   "execution_count": 57,
   "metadata": {},
   "outputs": [
    {
     "data": {
      "text/html": [
       "<div>\n",
       "<style scoped>\n",
       "    .dataframe tbody tr th:only-of-type {\n",
       "        vertical-align: middle;\n",
       "    }\n",
       "\n",
       "    .dataframe tbody tr th {\n",
       "        vertical-align: top;\n",
       "    }\n",
       "\n",
       "    .dataframe thead th {\n",
       "        text-align: right;\n",
       "    }\n",
       "</style>\n",
       "<table border=\"1\" class=\"dataframe\">\n",
       "  <thead>\n",
       "    <tr style=\"text-align: right;\">\n",
       "      <th></th>\n",
       "      <th>language</th>\n",
       "      <th>clean</th>\n",
       "      <th>words</th>\n",
       "    </tr>\n",
       "  </thead>\n",
       "  <tbody>\n",
       "    <tr>\n",
       "      <th>77</th>\n",
       "      <td>Python</td>\n",
       "      <td>payload thing list useful payload bypass web a...</td>\n",
       "      <td>[payload, thing, list, useful, payload, bypass...</td>\n",
       "    </tr>\n",
       "    <tr>\n",
       "      <th>84</th>\n",
       "      <td>Python</td>\n",
       "      <td>tracking progress natural language processing ...</td>\n",
       "      <td>[tracking, progress, natural, language, proces...</td>\n",
       "    </tr>\n",
       "    <tr>\n",
       "      <th>54</th>\n",
       "      <td>JavaScript</td>\n",
       "      <td>impressjs presentation framework based power c...</td>\n",
       "      <td>[impressjs, presentation, framework, based, po...</td>\n",
       "    </tr>\n",
       "    <tr>\n",
       "      <th>45</th>\n",
       "      <td>JavaScript</td>\n",
       "      <td>english hacker script based true story xxx ok ...</td>\n",
       "      <td>[english, hacker, script, based, true, story, ...</td>\n",
       "    </tr>\n",
       "    <tr>\n",
       "      <th>20</th>\n",
       "      <td>JavaScript</td>\n",
       "      <td>simple yet flexible javascript charting design...</td>\n",
       "      <td>[simple, yet, flexible, javascript, charting, ...</td>\n",
       "    </tr>\n",
       "  </tbody>\n",
       "</table>\n",
       "</div>"
      ],
      "text/plain": [
       "      language                                              clean  \\\n",
       "77      Python  payload thing list useful payload bypass web a...   \n",
       "84      Python  tracking progress natural language processing ...   \n",
       "54  JavaScript  impressjs presentation framework based power c...   \n",
       "45  JavaScript  english hacker script based true story xxx ok ...   \n",
       "20  JavaScript  simple yet flexible javascript charting design...   \n",
       "\n",
       "                                                words  \n",
       "77  [payload, thing, list, useful, payload, bypass...  \n",
       "84  [tracking, progress, natural, language, proces...  \n",
       "54  [impressjs, presentation, framework, based, po...  \n",
       "45  [english, hacker, script, based, true, story, ...  \n",
       "20  [simple, yet, flexible, javascript, charting, ...  "
      ]
     },
     "execution_count": 57,
     "metadata": {},
     "output_type": "execute_result"
    }
   ],
   "source": [
    "train.head()"
   ]
  },
  {
   "cell_type": "code",
   "execution_count": 49,
   "metadata": {},
   "outputs": [
    {
     "data": {
      "text/html": [
       "<div>\n",
       "<style scoped>\n",
       "    .dataframe tbody tr th:only-of-type {\n",
       "        vertical-align: middle;\n",
       "    }\n",
       "\n",
       "    .dataframe tbody tr th {\n",
       "        vertical-align: top;\n",
       "    }\n",
       "\n",
       "    .dataframe thead th {\n",
       "        text-align: right;\n",
       "    }\n",
       "</style>\n",
       "<table border=\"1\" class=\"dataframe\">\n",
       "  <thead>\n",
       "    <tr style=\"text-align: right;\">\n",
       "      <th></th>\n",
       "      <th>n</th>\n",
       "      <th>percent</th>\n",
       "    </tr>\n",
       "  </thead>\n",
       "  <tbody>\n",
       "    <tr>\n",
       "      <th>JavaScript</th>\n",
       "      <td>42</td>\n",
       "      <td>0.636364</td>\n",
       "    </tr>\n",
       "    <tr>\n",
       "      <th>Python</th>\n",
       "      <td>24</td>\n",
       "      <td>0.363636</td>\n",
       "    </tr>\n",
       "  </tbody>\n",
       "</table>\n",
       "</div>"
      ],
      "text/plain": [
       "             n   percent\n",
       "JavaScript  42  0.636364\n",
       "Python      24  0.363636"
      ]
     },
     "execution_count": 49,
     "metadata": {},
     "output_type": "execute_result"
    }
   ],
   "source": [
    "# what's the proportion of each language in our data\n",
    "labels = pd.concat([train.language.value_counts(), # get total counts of each language\n",
    "                    train.language.value_counts(normalize=True)], axis=1) # getting the prop of each language\n",
    "labels.columns = ['n', 'percent']\n",
    "labels"
   ]
  },
  {
   "cell_type": "code",
   "execution_count": 66,
   "metadata": {},
   "outputs": [
    {
     "data": {
      "text/html": [
       "<div>\n",
       "<style scoped>\n",
       "    .dataframe tbody tr th:only-of-type {\n",
       "        vertical-align: middle;\n",
       "    }\n",
       "\n",
       "    .dataframe tbody tr th {\n",
       "        vertical-align: top;\n",
       "    }\n",
       "\n",
       "    .dataframe thead th {\n",
       "        text-align: right;\n",
       "    }\n",
       "</style>\n",
       "<table border=\"1\" class=\"dataframe\">\n",
       "  <thead>\n",
       "    <tr style=\"text-align: right;\">\n",
       "      <th></th>\n",
       "      <th>language</th>\n",
       "      <th>content</th>\n",
       "      <th>stemmed</th>\n",
       "      <th>lemmatized</th>\n",
       "      <th>clean</th>\n",
       "      <th>words</th>\n",
       "    </tr>\n",
       "  </thead>\n",
       "  <tbody>\n",
       "    <tr>\n",
       "      <th>0</th>\n",
       "      <td>JavaScript</td>\n",
       "      <td>\\n\\n\\n\\n\\nBootstrap\\n\\n  Sleek, intuitive, and...</td>\n",
       "      <td>bootstrap sleek intuit and power frontend fram...</td>\n",
       "      <td>bootstrap sleek intuitive and powerful fronten...</td>\n",
       "      <td>bootstrap sleek intuitive powerful frontend fr...</td>\n",
       "      <td>[bootstrap, sleek, intuitive, powerful, fronte...</td>\n",
       "    </tr>\n",
       "    <tr>\n",
       "      <th>1</th>\n",
       "      <td>JavaScript</td>\n",
       "      <td>\\n\\n\\n\\n\\n\\n\\n\\n\\n\\n\\nSupporting Vue.js\\nVue.j...</td>\n",
       "      <td>support vuej vuej is an mitlicens open sourc p...</td>\n",
       "      <td>supporting vuejs vuejs is an mitlicensed open ...</td>\n",
       "      <td>supporting vuejs vuejs mitlicensed open source...</td>\n",
       "      <td>[supporting, vuejs, vuejs, mitlicensed, open, ...</td>\n",
       "    </tr>\n",
       "    <tr>\n",
       "      <th>2</th>\n",
       "      <td>JavaScript</td>\n",
       "      <td>\\n\\n\\n\\n\\nfreeCodeCamp.org's open-source codeb...</td>\n",
       "      <td>freecodecamporg opensourc codebas and curricul...</td>\n",
       "      <td>freecodecamporgs opensource codebase and curri...</td>\n",
       "      <td>freecodecamporgs opensource codebase curriculu...</td>\n",
       "      <td>[freecodecamporgs, opensource, codebase, curri...</td>\n",
       "    </tr>\n",
       "    <tr>\n",
       "      <th>3</th>\n",
       "      <td>JavaScript</td>\n",
       "      <td>Airbnb JavaScript Style Guide() {\\nA mostly re...</td>\n",
       "      <td>airbnb javascript style guid a mostli reason a...</td>\n",
       "      <td>airbnb javascript style guide a mostly reasona...</td>\n",
       "      <td>airbnb javascript style guide mostly reasonabl...</td>\n",
       "      <td>[airbnb, javascript, style, guide, mostly, rea...</td>\n",
       "    </tr>\n",
       "    <tr>\n",
       "      <th>4</th>\n",
       "      <td>JavaScript</td>\n",
       "      <td>Create React App  \\n\\nCreate React apps with n...</td>\n",
       "      <td>creat react app creat react app with no build ...</td>\n",
       "      <td>create react app create react apps with no bui...</td>\n",
       "      <td>create react app create react apps build confi...</td>\n",
       "      <td>[create, react, app, create, react, apps, buil...</td>\n",
       "    </tr>\n",
       "    <tr>\n",
       "      <th>...</th>\n",
       "      <td>...</td>\n",
       "      <td>...</td>\n",
       "      <td>...</td>\n",
       "      <td>...</td>\n",
       "      <td>...</td>\n",
       "      <td>...</td>\n",
       "    </tr>\n",
       "    <tr>\n",
       "      <th>105</th>\n",
       "      <td>Python</td>\n",
       "      <td>\\n\\n\\n\\nBokeh is an interactive visualization ...</td>\n",
       "      <td>bokeh is an interact visual librari for modern...</td>\n",
       "      <td>bokeh is an interactive visualization library ...</td>\n",
       "      <td>bokeh interactive visualization library modern...</td>\n",
       "      <td>[bokeh, interactive, visualization, library, m...</td>\n",
       "    </tr>\n",
       "    <tr>\n",
       "      <th>106</th>\n",
       "      <td>Python</td>\n",
       "      <td>\\n\\nWelcome!\\nThis repository contains the sou...</td>\n",
       "      <td>welcom thi repositori contain the sourc code o...</td>\n",
       "      <td>welcome this repository contains the source co...</td>\n",
       "      <td>welcome repository contains source code cascad...</td>\n",
       "      <td>[welcome, repository, contains, source, code, ...</td>\n",
       "    </tr>\n",
       "    <tr>\n",
       "      <th>107</th>\n",
       "      <td>Python</td>\n",
       "      <td>Awesome Linux Software\\n\\n🐧 This repo is a col...</td>\n",
       "      <td>awesom linux softwar thi repo is a collect of ...</td>\n",
       "      <td>awesome linux software this repo is a collecti...</td>\n",
       "      <td>awesome linux software repo collection awesome...</td>\n",
       "      <td>[awesome, linux, software, repo, collection, a...</td>\n",
       "    </tr>\n",
       "    <tr>\n",
       "      <th>108</th>\n",
       "      <td>Python</td>\n",
       "      <td>Code Examples: \\nMastering Bitcoin\\nMastering ...</td>\n",
       "      <td>code exampl master bitcoin master bitcoin is a...</td>\n",
       "      <td>code example mastering bitcoin mastering bitco...</td>\n",
       "      <td>code example mastering bitcoin mastering bitco...</td>\n",
       "      <td>[code, example, mastering, bitcoin, mastering,...</td>\n",
       "    </tr>\n",
       "    <tr>\n",
       "      <th>109</th>\n",
       "      <td>Python</td>\n",
       "      <td>Rich\\n\\n\\n\\n\\n中文 readme • lengua española read...</td>\n",
       "      <td>rich readm lengua espaola readm rich is a pyth...</td>\n",
       "      <td>rich readme lengua espaola readme rich is a py...</td>\n",
       "      <td>rich readme lengua espaola readme rich python ...</td>\n",
       "      <td>[rich, readme, lengua, espaola, readme, rich, ...</td>\n",
       "    </tr>\n",
       "  </tbody>\n",
       "</table>\n",
       "<p>110 rows × 6 columns</p>\n",
       "</div>"
      ],
      "text/plain": [
       "       language                                            content  \\\n",
       "0    JavaScript  \\n\\n\\n\\n\\nBootstrap\\n\\n  Sleek, intuitive, and...   \n",
       "1    JavaScript  \\n\\n\\n\\n\\n\\n\\n\\n\\n\\n\\nSupporting Vue.js\\nVue.j...   \n",
       "2    JavaScript  \\n\\n\\n\\n\\nfreeCodeCamp.org's open-source codeb...   \n",
       "3    JavaScript  Airbnb JavaScript Style Guide() {\\nA mostly re...   \n",
       "4    JavaScript  Create React App  \\n\\nCreate React apps with n...   \n",
       "..          ...                                                ...   \n",
       "105      Python  \\n\\n\\n\\nBokeh is an interactive visualization ...   \n",
       "106      Python  \\n\\nWelcome!\\nThis repository contains the sou...   \n",
       "107      Python  Awesome Linux Software\\n\\n🐧 This repo is a col...   \n",
       "108      Python  Code Examples: \\nMastering Bitcoin\\nMastering ...   \n",
       "109      Python  Rich\\n\\n\\n\\n\\n中文 readme • lengua española read...   \n",
       "\n",
       "                                               stemmed  \\\n",
       "0    bootstrap sleek intuit and power frontend fram...   \n",
       "1    support vuej vuej is an mitlicens open sourc p...   \n",
       "2    freecodecamporg opensourc codebas and curricul...   \n",
       "3    airbnb javascript style guid a mostli reason a...   \n",
       "4    creat react app creat react app with no build ...   \n",
       "..                                                 ...   \n",
       "105  bokeh is an interact visual librari for modern...   \n",
       "106  welcom thi repositori contain the sourc code o...   \n",
       "107  awesom linux softwar thi repo is a collect of ...   \n",
       "108  code exampl master bitcoin master bitcoin is a...   \n",
       "109  rich readm lengua espaola readm rich is a pyth...   \n",
       "\n",
       "                                            lemmatized  \\\n",
       "0    bootstrap sleek intuitive and powerful fronten...   \n",
       "1    supporting vuejs vuejs is an mitlicensed open ...   \n",
       "2    freecodecamporgs opensource codebase and curri...   \n",
       "3    airbnb javascript style guide a mostly reasona...   \n",
       "4    create react app create react apps with no bui...   \n",
       "..                                                 ...   \n",
       "105  bokeh is an interactive visualization library ...   \n",
       "106  welcome this repository contains the source co...   \n",
       "107  awesome linux software this repo is a collecti...   \n",
       "108  code example mastering bitcoin mastering bitco...   \n",
       "109  rich readme lengua espaola readme rich is a py...   \n",
       "\n",
       "                                                 clean  \\\n",
       "0    bootstrap sleek intuitive powerful frontend fr...   \n",
       "1    supporting vuejs vuejs mitlicensed open source...   \n",
       "2    freecodecamporgs opensource codebase curriculu...   \n",
       "3    airbnb javascript style guide mostly reasonabl...   \n",
       "4    create react app create react apps build confi...   \n",
       "..                                                 ...   \n",
       "105  bokeh interactive visualization library modern...   \n",
       "106  welcome repository contains source code cascad...   \n",
       "107  awesome linux software repo collection awesome...   \n",
       "108  code example mastering bitcoin mastering bitco...   \n",
       "109  rich readme lengua espaola readme rich python ...   \n",
       "\n",
       "                                                 words  \n",
       "0    [bootstrap, sleek, intuitive, powerful, fronte...  \n",
       "1    [supporting, vuejs, vuejs, mitlicensed, open, ...  \n",
       "2    [freecodecamporgs, opensource, codebase, curri...  \n",
       "3    [airbnb, javascript, style, guide, mostly, rea...  \n",
       "4    [create, react, app, create, react, apps, buil...  \n",
       "..                                                 ...  \n",
       "105  [bokeh, interactive, visualization, library, m...  \n",
       "106  [welcome, repository, contains, source, code, ...  \n",
       "107  [awesome, linux, software, repo, collection, a...  \n",
       "108  [code, example, mastering, bitcoin, mastering,...  \n",
       "109  [rich, readme, lengua, espaola, readme, rich, ...  \n",
       "\n",
       "[110 rows x 6 columns]"
      ]
     },
     "execution_count": 66,
     "metadata": {},
     "output_type": "execute_result"
    }
   ],
   "source": [
    "df"
   ]
  },
  {
   "cell_type": "code",
   "execution_count": 105,
   "metadata": {},
   "outputs": [],
   "source": [
    "# create variables to hold words that appear in each type of repo as a single string\n",
    "js_words = ' '.join(train[train.language=='JavaScript'].clean)\n",
    "py_words = ' '.join(train[train.language=='Python'].clean)\n",
    "all_words = ' '.join(train.clean)\n",
    "\n",
    "js_words = re.sub(r'\\s.\\s', '', js_words)\n",
    "py_words = re.sub(r'\\s.\\s', '', py_words)\n",
    "all_words = re.sub(r'\\s.\\s', '', all_words)\n",
    "\n",
    "# how frequently each word appears\n",
    "js_freq = pd.Series(js_words.split()).value_counts()\n",
    "py_freq = pd.Series(py_words.split()).value_counts()\n",
    "all_words_freq = pd.Series(all_words.split()).value_counts()"
   ]
  },
  {
   "cell_type": "code",
   "execution_count": 106,
   "metadata": {},
   "outputs": [
    {
     "data": {
      "text/plain": [
       "code                         922\n",
       "source                       912\n",
       "javascript                   583\n",
       "function                     489\n",
       "const                        419\n",
       "                            ... \n",
       "datastructure                  1\n",
       "getclientdata                  1\n",
       "scholar                        1\n",
       "electronrenderer               1\n",
       "kaplankomputingjavascript      1\n",
       "Length: 11193, dtype: int64"
      ]
     },
     "execution_count": 106,
     "metadata": {},
     "output_type": "execute_result"
    }
   ],
   "source": [
    "js_freq"
   ]
  },
  {
   "cell_type": "code",
   "execution_count": 107,
   "metadata": {},
   "outputs": [
    {
     "data": {
      "text/html": [
       "<div>\n",
       "<style scoped>\n",
       "    .dataframe tbody tr th:only-of-type {\n",
       "        vertical-align: middle;\n",
       "    }\n",
       "\n",
       "    .dataframe tbody tr th {\n",
       "        vertical-align: top;\n",
       "    }\n",
       "\n",
       "    .dataframe thead th {\n",
       "        text-align: right;\n",
       "    }\n",
       "</style>\n",
       "<table border=\"1\" class=\"dataframe\">\n",
       "  <thead>\n",
       "    <tr style=\"text-align: right;\">\n",
       "      <th></th>\n",
       "      <th>python</th>\n",
       "      <th>js</th>\n",
       "      <th>all</th>\n",
       "    </tr>\n",
       "  </thead>\n",
       "  <tbody>\n",
       "    <tr>\n",
       "      <th>&amp;#9;</th>\n",
       "      <td>14</td>\n",
       "      <td>0</td>\n",
       "      <td>14</td>\n",
       "    </tr>\n",
       "    <tr>\n",
       "      <th>00</th>\n",
       "      <td>1</td>\n",
       "      <td>1</td>\n",
       "      <td>2</td>\n",
       "    </tr>\n",
       "    <tr>\n",
       "      <th>000</th>\n",
       "      <td>3</td>\n",
       "      <td>0</td>\n",
       "      <td>3</td>\n",
       "    </tr>\n",
       "    <tr>\n",
       "      <th>0000</th>\n",
       "      <td>13</td>\n",
       "      <td>0</td>\n",
       "      <td>13</td>\n",
       "    </tr>\n",
       "    <tr>\n",
       "      <th>000000</th>\n",
       "      <td>8</td>\n",
       "      <td>0</td>\n",
       "      <td>8</td>\n",
       "    </tr>\n",
       "  </tbody>\n",
       "</table>\n",
       "</div>"
      ],
      "text/plain": [
       "        python  js  all\n",
       "&#9;        14   0   14\n",
       "00           1   1    2\n",
       "000          3   0    3\n",
       "0000        13   0   13\n",
       "000000       8   0    8"
      ]
     },
     "execution_count": 107,
     "metadata": {},
     "output_type": "execute_result"
    }
   ],
   "source": [
    "word_counts = (pd.concat([py_freq, js_freq], axis=1, sort=True)\n",
    "               .set_axis(['python', 'js'], axis=1, inplace=False)\n",
    "               .fillna(0)\n",
    "               .apply(lambda s: s.astype(int))\n",
    "              )\n",
    "\n",
    "word_counts['all'] = word_counts['python'] + word_counts['js']\n",
    "word_counts.head()"
   ]
  },
  {
   "cell_type": "code",
   "execution_count": 113,
   "metadata": {},
   "outputs": [
    {
     "data": {
      "text/html": [
       "<div>\n",
       "<style scoped>\n",
       "    .dataframe tbody tr th:only-of-type {\n",
       "        vertical-align: middle;\n",
       "    }\n",
       "\n",
       "    .dataframe tbody tr th {\n",
       "        vertical-align: top;\n",
       "    }\n",
       "\n",
       "    .dataframe thead th {\n",
       "        text-align: right;\n",
       "    }\n",
       "</style>\n",
       "<table border=\"1\" class=\"dataframe\">\n",
       "  <thead>\n",
       "    <tr style=\"text-align: right;\">\n",
       "      <th></th>\n",
       "      <th>python</th>\n",
       "      <th>js</th>\n",
       "      <th>all</th>\n",
       "    </tr>\n",
       "  </thead>\n",
       "  <tbody>\n",
       "    <tr>\n",
       "      <th>file</th>\n",
       "      <td>244</td>\n",
       "      <td>302</td>\n",
       "      <td>546</td>\n",
       "    </tr>\n",
       "    <tr>\n",
       "      <th>use</th>\n",
       "      <td>237</td>\n",
       "      <td>296</td>\n",
       "      <td>533</td>\n",
       "    </tr>\n",
       "    <tr>\n",
       "      <th>return</th>\n",
       "      <td>185</td>\n",
       "      <td>208</td>\n",
       "      <td>393</td>\n",
       "    </tr>\n",
       "    <tr>\n",
       "      <th>also</th>\n",
       "      <td>164</td>\n",
       "      <td>121</td>\n",
       "      <td>285</td>\n",
       "    </tr>\n",
       "    <tr>\n",
       "      <th>def</th>\n",
       "      <td>162</td>\n",
       "      <td>0</td>\n",
       "      <td>162</td>\n",
       "    </tr>\n",
       "    <tr>\n",
       "      <th>import</th>\n",
       "      <td>162</td>\n",
       "      <td>103</td>\n",
       "      <td>265</td>\n",
       "    </tr>\n",
       "    <tr>\n",
       "      <th>system</th>\n",
       "      <td>157</td>\n",
       "      <td>163</td>\n",
       "      <td>320</td>\n",
       "    </tr>\n",
       "    <tr>\n",
       "      <th>using</th>\n",
       "      <td>157</td>\n",
       "      <td>201</td>\n",
       "      <td>358</td>\n",
       "    </tr>\n",
       "    <tr>\n",
       "      <th>code</th>\n",
       "      <td>153</td>\n",
       "      <td>922</td>\n",
       "      <td>1075</td>\n",
       "    </tr>\n",
       "    <tr>\n",
       "      <th>install</th>\n",
       "      <td>150</td>\n",
       "      <td>102</td>\n",
       "      <td>252</td>\n",
       "    </tr>\n",
       "    <tr>\n",
       "      <th>see</th>\n",
       "      <td>125</td>\n",
       "      <td>101</td>\n",
       "      <td>226</td>\n",
       "    </tr>\n",
       "    <tr>\n",
       "      <th>default</th>\n",
       "      <td>113</td>\n",
       "      <td>109</td>\n",
       "      <td>222</td>\n",
       "    </tr>\n",
       "    <tr>\n",
       "      <th>python</th>\n",
       "      <td>113</td>\n",
       "      <td>160</td>\n",
       "      <td>273</td>\n",
       "    </tr>\n",
       "    <tr>\n",
       "      <th>user</th>\n",
       "      <td>111</td>\n",
       "      <td>100</td>\n",
       "      <td>211</td>\n",
       "    </tr>\n",
       "    <tr>\n",
       "      <th>list</th>\n",
       "      <td>109</td>\n",
       "      <td>97</td>\n",
       "      <td>206</td>\n",
       "    </tr>\n",
       "    <tr>\n",
       "      <th>sudo</th>\n",
       "      <td>103</td>\n",
       "      <td>2</td>\n",
       "      <td>105</td>\n",
       "    </tr>\n",
       "    <tr>\n",
       "      <th>tqdm</th>\n",
       "      <td>97</td>\n",
       "      <td>0</td>\n",
       "      <td>97</td>\n",
       "    </tr>\n",
       "    <tr>\n",
       "      <th>version</th>\n",
       "      <td>96</td>\n",
       "      <td>90</td>\n",
       "      <td>186</td>\n",
       "    </tr>\n",
       "    <tr>\n",
       "      <th>time</th>\n",
       "      <td>94</td>\n",
       "      <td>79</td>\n",
       "      <td>173</td>\n",
       "    </tr>\n",
       "    <tr>\n",
       "      <th>run</th>\n",
       "      <td>91</td>\n",
       "      <td>93</td>\n",
       "      <td>184</td>\n",
       "    </tr>\n",
       "    <tr>\n",
       "      <th>application</th>\n",
       "      <td>91</td>\n",
       "      <td>180</td>\n",
       "      <td>271</td>\n",
       "    </tr>\n",
       "    <tr>\n",
       "      <th>set</th>\n",
       "      <td>89</td>\n",
       "      <td>81</td>\n",
       "      <td>170</td>\n",
       "    </tr>\n",
       "    <tr>\n",
       "      <th>object</th>\n",
       "      <td>88</td>\n",
       "      <td>151</td>\n",
       "      <td>239</td>\n",
       "    </tr>\n",
       "    <tr>\n",
       "      <th>example</th>\n",
       "      <td>86</td>\n",
       "      <td>96</td>\n",
       "      <td>182</td>\n",
       "    </tr>\n",
       "    <tr>\n",
       "      <th>make</th>\n",
       "      <td>86</td>\n",
       "      <td>118</td>\n",
       "      <td>204</td>\n",
       "    </tr>\n",
       "  </tbody>\n",
       "</table>\n",
       "</div>"
      ],
      "text/plain": [
       "             python   js   all\n",
       "file            244  302   546\n",
       "use             237  296   533\n",
       "return          185  208   393\n",
       "also            164  121   285\n",
       "def             162    0   162\n",
       "import          162  103   265\n",
       "system          157  163   320\n",
       "using           157  201   358\n",
       "code            153  922  1075\n",
       "install         150  102   252\n",
       "see             125  101   226\n",
       "default         113  109   222\n",
       "python          113  160   273\n",
       "user            111  100   211\n",
       "list            109   97   206\n",
       "sudo            103    2   105\n",
       "tqdm             97    0    97\n",
       "version          96   90   186\n",
       "time             94   79   173\n",
       "run              91   93   184\n",
       "application      91  180   271\n",
       "set              89   81   170\n",
       "object           88  151   239\n",
       "example          86   96   182\n",
       "make             86  118   204"
      ]
     },
     "execution_count": 113,
     "metadata": {},
     "output_type": "execute_result"
    }
   ],
   "source": [
    "word_counts.sort_values(by = 'python', ascending = False).head(25)"
   ]
  },
  {
   "cell_type": "code",
   "execution_count": 131,
   "metadata": {},
   "outputs": [],
   "source": [
    "python_only_words = word_counts[(word_counts.js == 0) & (word_counts.python >= 1)]\n",
    "# .sort_values(by = 'python', ascending = False).head(25)"
   ]
  },
  {
   "cell_type": "code",
   "execution_count": 133,
   "metadata": {},
   "outputs": [
    {
     "data": {
      "text/plain": [
       "(6652, 3)"
      ]
     },
     "execution_count": 133,
     "metadata": {},
     "output_type": "execute_result"
    }
   ],
   "source": [
    "python_only_words.shape"
   ]
  },
  {
   "cell_type": "code",
   "execution_count": 132,
   "metadata": {},
   "outputs": [
    {
     "data": {
      "text/html": [
       "<div>\n",
       "<style scoped>\n",
       "    .dataframe tbody tr th:only-of-type {\n",
       "        vertical-align: middle;\n",
       "    }\n",
       "\n",
       "    .dataframe tbody tr th {\n",
       "        vertical-align: top;\n",
       "    }\n",
       "\n",
       "    .dataframe thead th {\n",
       "        text-align: right;\n",
       "    }\n",
       "</style>\n",
       "<table border=\"1\" class=\"dataframe\">\n",
       "  <thead>\n",
       "    <tr style=\"text-align: right;\">\n",
       "      <th></th>\n",
       "      <th>python</th>\n",
       "      <th>js</th>\n",
       "      <th>all</th>\n",
       "    </tr>\n",
       "  </thead>\n",
       "  <tbody>\n",
       "    <tr>\n",
       "      <th>def</th>\n",
       "      <td>162</td>\n",
       "      <td>0</td>\n",
       "      <td>162</td>\n",
       "    </tr>\n",
       "    <tr>\n",
       "      <th>tqdm</th>\n",
       "      <td>97</td>\n",
       "      <td>0</td>\n",
       "      <td>97</td>\n",
       "    </tr>\n",
       "    <tr>\n",
       "      <th>str</th>\n",
       "      <td>60</td>\n",
       "      <td>0</td>\n",
       "      <td>60</td>\n",
       "    </tr>\n",
       "    <tr>\n",
       "      <th>airflow</th>\n",
       "      <td>47</td>\n",
       "      <td>0</td>\n",
       "      <td>47</td>\n",
       "    </tr>\n",
       "    <tr>\n",
       "      <th>pip</th>\n",
       "      <td>43</td>\n",
       "      <td>0</td>\n",
       "      <td>43</td>\n",
       "    </tr>\n",
       "    <tr>\n",
       "      <th>df</th>\n",
       "      <td>42</td>\n",
       "      <td>0</td>\n",
       "      <td>42</td>\n",
       "    </tr>\n",
       "    <tr>\n",
       "      <th>tor</th>\n",
       "      <td>39</td>\n",
       "      <td>0</td>\n",
       "      <td>39</td>\n",
       "    </tr>\n",
       "    <tr>\n",
       "      <th>celery</th>\n",
       "      <td>37</td>\n",
       "      <td>0</td>\n",
       "      <td>37</td>\n",
       "    </tr>\n",
       "    <tr>\n",
       "      <th>float</th>\n",
       "      <td>30</td>\n",
       "      <td>0</td>\n",
       "      <td>30</td>\n",
       "    </tr>\n",
       "    <tr>\n",
       "      <th>ipython</th>\n",
       "      <td>29</td>\n",
       "      <td>0</td>\n",
       "      <td>29</td>\n",
       "    </tr>\n",
       "    <tr>\n",
       "      <th>y2</th>\n",
       "      <td>27</td>\n",
       "      <td>0</td>\n",
       "      <td>27</td>\n",
       "    </tr>\n",
       "    <tr>\n",
       "      <th>iter</th>\n",
       "      <td>27</td>\n",
       "      <td>0</td>\n",
       "      <td>27</td>\n",
       "    </tr>\n",
       "    <tr>\n",
       "      <th>rfv</th>\n",
       "      <td>26</td>\n",
       "      <td>0</td>\n",
       "      <td>26</td>\n",
       "    </tr>\n",
       "    <tr>\n",
       "      <th>firmware</th>\n",
       "      <td>25</td>\n",
       "      <td>0</td>\n",
       "      <td>25</td>\n",
       "    </tr>\n",
       "    <tr>\n",
       "      <th>dict</th>\n",
       "      <td>25</td>\n",
       "      <td>0</td>\n",
       "      <td>25</td>\n",
       "    </tr>\n",
       "    <tr>\n",
       "      <th>wifi</th>\n",
       "      <td>25</td>\n",
       "      <td>0</td>\n",
       "      <td>25</td>\n",
       "    </tr>\n",
       "    <tr>\n",
       "      <th>pip3</th>\n",
       "      <td>25</td>\n",
       "      <td>0</td>\n",
       "      <td>25</td>\n",
       "    </tr>\n",
       "    <tr>\n",
       "      <th>row</th>\n",
       "      <td>23</td>\n",
       "      <td>0</td>\n",
       "      <td>23</td>\n",
       "    </tr>\n",
       "    <tr>\n",
       "      <th>santa</th>\n",
       "      <td>21</td>\n",
       "      <td>0</td>\n",
       "      <td>21</td>\n",
       "    </tr>\n",
       "    <tr>\n",
       "      <th>raised</th>\n",
       "      <td>19</td>\n",
       "      <td>0</td>\n",
       "      <td>19</td>\n",
       "    </tr>\n",
       "    <tr>\n",
       "      <th>tuple</th>\n",
       "      <td>19</td>\n",
       "      <td>0</td>\n",
       "      <td>19</td>\n",
       "    </tr>\n",
       "    <tr>\n",
       "      <th>exit</th>\n",
       "      <td>19</td>\n",
       "      <td>0</td>\n",
       "      <td>19</td>\n",
       "    </tr>\n",
       "    <tr>\n",
       "      <th>z3</th>\n",
       "      <td>19</td>\n",
       "      <td>0</td>\n",
       "      <td>19</td>\n",
       "    </tr>\n",
       "    <tr>\n",
       "      <th>filevault</th>\n",
       "      <td>19</td>\n",
       "      <td>0</td>\n",
       "      <td>19</td>\n",
       "    </tr>\n",
       "    <tr>\n",
       "      <th>counter</th>\n",
       "      <td>18</td>\n",
       "      <td>0</td>\n",
       "      <td>18</td>\n",
       "    </tr>\n",
       "  </tbody>\n",
       "</table>\n",
       "</div>"
      ],
      "text/plain": [
       "           python  js  all\n",
       "def           162   0  162\n",
       "tqdm           97   0   97\n",
       "str            60   0   60\n",
       "airflow        47   0   47\n",
       "pip            43   0   43\n",
       "df             42   0   42\n",
       "tor            39   0   39\n",
       "celery         37   0   37\n",
       "float          30   0   30\n",
       "ipython        29   0   29\n",
       "y2             27   0   27\n",
       "iter           27   0   27\n",
       "rfv            26   0   26\n",
       "firmware       25   0   25\n",
       "dict           25   0   25\n",
       "wifi           25   0   25\n",
       "pip3           25   0   25\n",
       "row            23   0   23\n",
       "santa          21   0   21\n",
       "raised         19   0   19\n",
       "tuple          19   0   19\n",
       "exit           19   0   19\n",
       "z3             19   0   19\n",
       "filevault      19   0   19\n",
       "counter        18   0   18"
      ]
     },
     "execution_count": 132,
     "metadata": {},
     "output_type": "execute_result"
    }
   ],
   "source": [
    "python_only_words.sort_values(by = 'python', ascending = False).head(25)"
   ]
  },
  {
   "cell_type": "code",
   "execution_count": 117,
   "metadata": {},
   "outputs": [
    {
     "data": {
      "text/plain": [
       "<AxesSubplot:>"
      ]
     },
     "execution_count": 117,
     "metadata": {},
     "output_type": "execute_result"
    },
    {
     "data": {
      "image/png": "[encoded data removed]",
      "text/plain": [
       "<Figure size 432x288 with 1 Axes>"
      ]
     },
     "metadata": {
      "needs_background": "light"
     },
     "output_type": "display_data"
    }
   ],
   "source": [
    "word_counts.python.sort_values(ascending = False).head().plot(kind = 'bar')"
   ]
  },
  {
   "cell_type": "code",
   "execution_count": 121,
   "metadata": {},
   "outputs": [
    {
     "data": {
      "text/plain": [
       "<AxesSubplot:>"
      ]
     },
     "execution_count": 121,
     "metadata": {},
     "output_type": "execute_result"
    },
    {
     "data": {
      "image/png": "[encoded data removed]",
      "text/plain": [
       "<Figure size 432x288 with 1 Axes>"
      ]
     },
     "metadata": {
      "needs_background": "light"
     },
     "output_type": "display_data"
    }
   ],
   "source": [
    "word_counts.sort_values(by = 'js', ascending = False).head().plot(kind = 'bar')"
   ]
  },
  {
   "cell_type": "code",
   "execution_count": null,
   "metadata": {},
   "outputs": [],
   "source": [
    "# Are there any unique words in each language?\n",
    "\n",
    "# Once I find the key words for each language, (words that only appear in python readmes are python key words) then use those words as *features* for my classification models\n",
    "\n",
    "# Another idea was to use stopwords that \n",
    "\n",
    "# Run a baseline that tests with all the features (words) per language as is, which will use the most popular word per language, then after I vectorize my words, (TD-IDF) run it on all of my features, then once I get a model (which will be a baseline).\n",
    "# Then I can have a baseline, using all the features, and then prune down to see if I can get iterate down to a better model that isn't just guessing all the words."
   ]
  },
  {
   "cell_type": "code",
   "execution_count": null,
   "metadata": {},
   "outputs": [],
   "source": []
  },
  {
   "cell_type": "code",
   "execution_count": null,
   "metadata": {},
   "outputs": [],
   "source": []
  },
  {
   "cell_type": "code",
   "execution_count": null,
   "metadata": {},
   "outputs": [],
   "source": [
    "# Take the x-splits and the y split and do a basic MVP model section."
   ]
  }
 ],
 "metadata": {
  "kernelspec": {
   "display_name": "Python 3",
   "language": "python",
   "name": "python3"
  },
  "language_info": {
   "codemirror_mode": {
    "name": "ipython",
    "version": 3
   },
   "file_extension": ".py",
   "mimetype": "text/x-python",
   "name": "python",
   "nbconvert_exporter": "python",
   "pygments_lexer": "ipython3",
   "version": "3.7.9"
  }
 },
 "nbformat": 4,
 "nbformat_minor": 4
}
